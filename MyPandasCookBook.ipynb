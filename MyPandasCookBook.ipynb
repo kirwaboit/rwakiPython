{
 "metadata": {
  "language_info": {
   "codemirror_mode": {
    "name": "ipython",
    "version": 3
   },
   "file_extension": ".py",
   "mimetype": "text/x-python",
   "name": "python",
   "nbconvert_exporter": "python",
   "pygments_lexer": "ipython3",
   "version": "3.8.5"
  },
  "orig_nbformat": 4,
  "kernelspec": {
   "name": "python3",
   "display_name": "Python 3.8.5 64-bit ('rwakiPythonEnv': conda)"
  },
  "interpreter": {
   "hash": "106f8dd8e7b9f8bf7b5c7f9387976efaa64fd1db7ebf679a5786be21993f005a"
  }
 },
 "nbformat": 4,
 "nbformat_minor": 2,
 "cells": [
  {
   "source": [
    "# Pandas Cookbook  "
   ],
   "cell_type": "markdown",
   "metadata": {}
  },
  {
   "source": [
    "## First a word on filepaths : Absolute vs Relative   \n",
    "\n",
    "- The Absolute path is the full path to some place on your computer.   \n",
    "- The Relative path is the path to some file with respect to your current working directory (PWD).    \n",
    "\n",
    "For example:-\n",
    "\n",
    "Absolute path: C:/users/admin/docs/stuff.txt  <-- use this always, don't be lazy!!!\n",
    "\n",
    "If my PWD is C:/users/admin/, then the relative path to stuff.txt would be: docs/stuff.txt  "
   ],
   "cell_type": "markdown",
   "metadata": {}
  },
  {
   "source": [
    "## Loading files"
   ],
   "cell_type": "markdown",
   "metadata": {}
  },
  {
   "cell_type": "code",
   "execution_count": 3,
   "metadata": {},
   "outputs": [
    {
     "output_type": "stream",
     "name": "stdout",
     "text": [
      "    image  brand   freq\n0       1      1   82.0\n1       2      1   96.0\n2       3      1   72.0\n3       4      1  101.0\n4       5      1   66.0\n..    ...    ...    ...\n133    19      6   25.0\n134    20      6   43.0\n135    21      6   10.0\n136    22      6   32.0\n137    23      6   15.0\n\n[138 rows x 3 columns]\n"
     ]
    }
   ],
   "source": [
    "import pandas as pd\n",
    "import xlrd\n",
    "from datetime import datetime\n",
    "\n",
    "'''Excel Files'''\n",
    "df_excel = pd.read_excel(r'C:\\Users\\Burudani\\Documents\\mainPythonFolder_v1\\SpreadsheetFiles\\Coffee_v1.xlsx',\n",
    "sheet_name='Coffee')\n",
    "# Specifying data types\n",
    "df_excel = pd.read_excel(r'C:\\Users\\Burudani\\Documents\\mainPythonFolder_v1\\SpreadsheetFiles\\Coffee_v1.xlsx',\n",
    "sheet_name='Coffee',\n",
    "dtype = {\"image\": str,\n",
    "         \"freq\": float})\n",
    "print(df_excel)\n",
    "\n",
    "'''CSV Files'''\n",
    "date_cols = ['date'] # Specifying columns to be treated as datetimes, and passing it to the pandas \n",
    "df_csv = pd.read_csv (r'C:\\Users\\Burudani\\Documents\\mainPythonFolder_v1\\SpreadsheetFiles\\climate_change.csv',parse_dates=date_cols,\n",
    "dtype={\"co2\": float,\n",
    "\"relative_temp\": float})\n"
   ]
  },
  {
   "cell_type": "code",
   "execution_count": null,
   "metadata": {},
   "outputs": [],
   "source": []
  }
 ]
}