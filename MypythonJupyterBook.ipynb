{
 "metadata": {
  "language_info": {
   "codemirror_mode": {
    "name": "ipython",
    "version": 3
   },
   "file_extension": ".py",
   "mimetype": "text/x-python",
   "name": "python",
   "nbconvert_exporter": "python",
   "pygments_lexer": "ipython3",
   "version": "3.7.7-final"
  },
  "orig_nbformat": 2,
  "kernelspec": {
   "name": "python37664bitbase68924d37ddee4d05b3ed2b2d3c0a4141",
   "display_name": "Python 3.7.6 64-bit ('base')"
  }
 },
 "nbformat": 4,
 "nbformat_minor": 2,
 "cells": [
  {
   "cell_type": "code",
   "execution_count": 3,
   "metadata": {
    "tags": []
   },
   "outputs": [
    {
     "output_type": "stream",
     "name": "stdout",
     "text": "hello world\nmy first vscode notebook\n"
    }
   ],
   "source": [
    "#Interesting!!!\n",
    "print(\"hello world\")\n",
    "print(\"my first vscode notebook\")"
   ]
  },
  {
   "cell_type": "markdown",
   "metadata": {},
   "source": [
    "# Classes"
   ]
  },
  {
   "cell_type": "code",
   "execution_count": 12,
   "metadata": {
    "tags": []
   },
   "outputs": [
    {
     "output_type": "stream",
     "name": "stdout",
     "text": "5\n10\n"
    }
   ],
   "source": [
    "class Point():\n",
    "    def getX(self):\n",
    "        return self.x\n",
    "point1 = Point()\n",
    "point2 = Point()\n",
    "\n",
    "point1.x = 5\n",
    "point2.x = 10\n",
    "\n",
    "print(point1.getX())\n",
    "print(point2.getX())\n"
   ]
  },
  {
   "cell_type": "markdown",
   "metadata": {},
   "source": [
    "#Definign the Constructor _ _init_ _  \n",
    "Its a special method"
   ]
  },
  {
   "cell_type": "code",
   "execution_count": 13,
   "metadata": {
    "tags": []
   },
   "outputs": [
    {
     "output_type": "stream",
     "name": "stdout",
     "text": "5\n1\n"
    }
   ],
   "source": [
    "class Point():\n",
    "    def __init__(self,x,y):  #self is provided by default, but the constructor needs to know what x and y are, before being able to run succesfullyin\n",
    "        self.x=x\n",
    "        self.y=y\n",
    "\n",
    "    def getX(self):\n",
    "        return self.x\n",
    "\n",
    "point1 = Point(5,10) #therefore now as we create new instance objects, there must now be at least two variables\n",
    "point2 = Point(1,2)\n",
    "\n",
    "\n",
    "\n",
    "print(point1.getX())\n",
    "print(point2.getX())\n"
   ]
  },
  {
   "cell_type": "code",
   "execution_count": null,
   "metadata": {},
   "outputs": [],
   "source": []
  }
 ]
}