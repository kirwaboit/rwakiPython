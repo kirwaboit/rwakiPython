{
 "metadata": {
  "language_info": {
   "codemirror_mode": {
    "name": "ipython",
    "version": 3
   },
   "file_extension": ".py",
   "mimetype": "text/x-python",
   "name": "python",
   "nbconvert_exporter": "python",
   "pygments_lexer": "ipython3",
   "version": "3.7.7-final"
  },
  "orig_nbformat": 2,
  "kernelspec": {
   "name": "python37664bitbase68924d37ddee4d05b3ed2b2d3c0a4141",
   "display_name": "Python 3.7.6 64-bit ('base')"
  }
 },
 "nbformat": 4,
 "nbformat_minor": 2,
 "cells": [
  {
   "cell_type": "code",
   "execution_count": 3,
   "metadata": {
    "tags": []
   },
   "outputs": [
    {
     "output_type": "stream",
     "name": "stdout",
     "text": "hello world\nmy first vscode notebook\n"
    }
   ],
   "source": [
    "#Interesting!!!\n",
    "# To run a cell use alt+Enter\n",
    "print(\"hello world\")\n",
    "print(\"my first vscode notebook\")\n"
   ]
  },
  {
   "source": [
    "# TUPLES"
   ],
   "cell_type": "markdown",
   "metadata": {}
  },
  {
   "cell_type": "markdown",
   "metadata": {},
   "source": [
    "# CLASSES"
   ]
  },
  {
   "cell_type": "code",
   "execution_count": 12,
   "metadata": {
    "tags": []
   },
   "outputs": [
    {
     "output_type": "stream",
     "name": "stdout",
     "text": "5\n10\n"
    }
   ],
   "source": [
    "class Point():\n",
    "    def getX(self):\n",
    "        return self.x\n",
    "point1 = Point()\n",
    "point2 = Point()\n",
    "\n",
    "point1.x = 5\n",
    "point2.x = 10\n",
    "\n",
    "print(point1.getX())\n",
    "print(point2.getX())\n"
   ]
  },
  {
   "cell_type": "markdown",
   "metadata": {},
   "source": [
    "#Definign the Constructor _ _init_ _  \n",
    "Its a special method"
   ]
  },
  {
   "cell_type": "code",
   "execution_count": 13,
   "metadata": {
    "tags": []
   },
   "outputs": [
    {
     "output_type": "stream",
     "name": "stdout",
     "text": "5\n1\n"
    }
   ],
   "source": [
    "class Point():\n",
    "    def __init__(self,x,y):  #self is provided by default, but the constructor needs to know what x and y are, before being able to run succesfullyin\n",
    "        self.x=x\n",
    "        self.y=y\n",
    "\n",
    "    def getX(self):\n",
    "        return self.x\n",
    "\n",
    "point1 = Point(5,10) # Instantiate an object of type Point, with two arguments\n",
    "point2 = Point(1,2)#therefore now as we create new instance objects, there must now be at least two variables\n",
    "\n",
    "# Point has been bound to an object representing the Point class,\n",
    "\n",
    "\n",
    "print(point1.getX())\n",
    "print(point2.getX())\n"
   ]
  },
  {
   "source": [
    "# Adding another Method to a class"
   ],
   "cell_type": "markdown",
   "metadata": {}
  },
  {
   "source": [
    "class Point():   #Classes start with a capital letter\n",
    "    def __init__(self,x,y):  #self is provided by default, but the constructor needs to know what x and y are, before being able to run succesfully\n",
    "        self.x=x\n",
    "        self.y=y\n",
    "\n",
    "    def getX(self):\n",
    "        return self.x\n",
    "    def getX(self):\n",
    "        return self.y\n",
    "\n",
    "point1 = Point(10,100) \n",
    "#point2 = Point(1,2)\n"
   ],
   "cell_type": "code",
   "metadata": {},
   "execution_count": 6,
   "outputs": []
  },
  {
   "source": [
    "class NumberSet():\n",
    "    def __init__(self,num1,num2):\n",
    "        self.num1 = num1\n",
    "        self.num2 = num2\n",
    " \n",
    " \n",
    "t = NumberSet(6,10) "
   ],
   "cell_type": "code",
   "metadata": {},
   "execution_count": 8,
   "outputs": []
  },
  {
   "cell_type": "code",
   "execution_count": 15,
   "metadata": {
    "tags": []
   },
   "outputs": [
    {
     "output_type": "stream",
     "name": "stdout",
     "text": "9\n"
    }
   ],
   "source": [
    "class Animal():\n",
    "    def __init__(self,arms,legs):\n",
    "        self.arms = arms\n",
    "        self.legs = legs\n",
    "\n",
    "    def limbs(self):\n",
    "        return (self.arms+self.legs)\n",
    "\n",
    "spider =Animal(5,4)\n",
    "\n",
    "spidlimbs = spider.limbs()\n",
    "print(spidlimbs)"
   ]
  },
  {
   "source": [
    "# Object as Arguements and parameters\n"
   ],
   "cell_type": "markdown",
   "metadata": {}
  },
  {
   "cell_type": "code",
   "execution_count": null,
   "metadata": {},
   "outputs": [],
   "source": [
    "'''In this first example  of using objects as arguments : a function called distance is created outside the class definition and thus cannot be considered a method, Basically its not a method because\n",
    "1.Its outside the class definition\n",
    "2.It does not use the \"dot\" notation to access it'''\n",
    "\n",
    "\n",
    "import math\n",
    "\n",
    "class Point:\n",
    "    \"\"\" Point class for representing and manipulating x,y coordinates. \"\"\"\n",
    "\n",
    "    def __init__(self, initX, initY):\n",
    "\n",
    "        self.x = initX\n",
    "        self.y = initY\n",
    "\n",
    "    def getX(self):\n",
    "        return self.x\n",
    "\n",
    "    def getY(self):\n",
    "        return self.y\n",
    "\n",
    "    def distanceFromOrigin(self):\n",
    "        return ((self.x ** 2) + (self.y ** 2)) ** 0.5\n",
    "\n",
    "def distance(point1, point2):\n",
    "    xdiff = point2.getX()-point1.getX()\n",
    "    ydiff = point2.getY()-point1.getY()\n",
    "\n",
    "    dist = math.sqrt(xdiff**2 + ydiff**2)\n",
    "    return dist\n",
    "\n",
    "p = Point(4,3)\n",
    "q = Point(0,0)\n",
    "print(distance(p,q))"
   ]
  },
  {
   "cell_type": "code",
   "execution_count": null,
   "metadata": {},
   "outputs": [],
   "source": [
    "'''In this Second example  of using objects as arguments : the function \"Distance\" is brought into the class definition and thus becomes a method. Note that it is now invoked using the \"dot\" notation. Weather to bring the function into the class definition or not, is a matter of prefference among programmers '''\n",
    "\n",
    "import math\n",
    "\n",
    "class Point:\n",
    "    \"\"\" Point class for representing and manipulating x,y coordinates. \"\"\"\n",
    "\n",
    "    def __init__(self, initX, initY):\n",
    "\n",
    "        self.x = initX\n",
    "        self.y = initY\n",
    "\n",
    "    def getX(self):\n",
    "        return self.x\n",
    "\n",
    "    def getY(self):\n",
    "        return self.y\n",
    "\n",
    "    def distanceFromOrigin(self):\n",
    "        return ((self.x ** 2) + (self.y ** 2)) ** 0.5\n",
    "\n",
    "    def distance(self, point2):\n",
    "        xdiff = point2.getX()-self.getX()\n",
    "        ydiff = point2.getY()-self.getY()\n",
    "\n",
    "        dist = math.sqrt(xdiff**2 + ydiff**2)\n",
    "        return dist\n",
    "\n",
    "p = Point(4,3)\n",
    "q = Point(0,0)\n",
    "print(p.distance(q))"
   ]
  },
  {
   "source": [
    "# Creating Instances from Data"
   ],
   "cell_type": "markdown",
   "metadata": {}
  },
  {
   "cell_type": "code",
   "execution_count": 9,
   "metadata": {},
   "outputs": [
    {
     "output_type": "stream",
     "name": "stdout",
     "text": [
      "Without using list comprehension\n[<__main__.City object at 0x000001A0D6F04408>]\n[<__main__.City object at 0x000001A0D6F04408>, <__main__.City object at 0x000001A0D6F3DC48>]\n[<__main__.City object at 0x000001A0D6F04408>, <__main__.City object at 0x000001A0D6F3DC48>, <__main__.City object at 0x000001A0D6E93A88>]\n[<__main__.City object at 0x000001A0D6F04408>, <__main__.City object at 0x000001A0D6F3DC48>, <__main__.City object at 0x000001A0D6E93A88>, <__main__.City object at 0x000001A0D6EFAE08>]\n\n\nUsing List Comprehension []\n"
     ]
    }
   ],
   "source": [
    "cityNames = ['Detroit', 'Ann Arbor', 'Pittsburgh','Mars', 'New York']\n",
    "populations = [680250,117070,304391,1683,8406000]\n",
    "states = ['MI', 'MI','PA', 'NY']\n",
    "\n",
    "city_tuples = zip(cityNames, populations, states) # zip takes list and creates a list of tuples\n",
    "\n",
    "class City:\n",
    "    def __init__(self, n,p,s):\n",
    "        self.name = n\n",
    "        self.population = p\n",
    "        self.state = s\n",
    "    def __str__(self):\n",
    "        return '{},{} (pop: {})'.format(self.name,self.state,self.population)\n",
    "\n",
    "print(\"Without using list comprehension\")\n",
    "cities = []\n",
    "for n in city_tuples:  # for every single value(every single tuple) in the city_tuples's tuple list\n",
    "    name, pop,state = n  # take a single tuple and store it in name pop and state respectfully\n",
    "    cityInstance = City(name,pop, state) # now use those values to create an instance of the City class that needs those 3 arguments and store it in the variable 'cityInstance'\n",
    "    cities.append(cityInstance)  # cities is now a list of City instances\n",
    "    print(cities)  # prints a list of the instances\n",
    "\n",
    "    \n",
    "#Zero out cities for example below\n",
    "\n",
    "cities = []\n",
    "print(\"\\n\")\n",
    "\n",
    "\n",
    "# or we can use list comprehension :-\n",
    "\n",
    "cities = [City(n,p,s) for (n,p,s) in city_tuples]\n",
    "print(\"Using List Comprehension\",cities)     # gives same result as the print statement above BUT need to comment the above code for the code below to work\n",
    "\n"
   ]
  },
  {
   "cell_type": "code",
   "execution_count": null,
   "metadata": {},
   "outputs": [],
   "source": []
  },
  {
   "source": [
    "# Object as Arguments and Parameters\n",
    "## Here we take the class we created earlier and use objects created by it as both an argument and a parameter"
   ],
   "cell_type": "markdown",
   "metadata": {}
  },
  {
   "cell_type": "code",
   "execution_count": 10,
   "metadata": {},
   "outputs": [
    {
     "output_type": "stream",
     "name": "stdout",
     "text": [
      "5.0\n Point class for representing and manipulating x,y coordinates. \n"
     ]
    }
   ],
   "source": [
    "import math\n",
    "\n",
    "class Point:\n",
    "    \"\"\" Point class for representing and manipulating x,y coordinates. \"\"\"   # a docstring describing the \"Point\" class\n",
    "\n",
    "    def __init__(self, initX, initY):  #takes two arguments : initX and initY\n",
    "\n",
    "        self.x = initX\n",
    "        self.y = initY\n",
    "\n",
    "    def getX(self):\n",
    "        return self.x\n",
    "\n",
    "    def getY(self):\n",
    "        return self.y\n",
    "\n",
    "    def distanceFromOrigin(self):\n",
    "        return ((self.x ** 2) + (self.y ** 2)) ** 0.5    #returns a float value\n",
    "\n",
    "    def distance(self, point2):\n",
    "        xdiff = point2.getX()-self.getX()\n",
    "        ydiff = point2.getY()-self.getY()\n",
    "\n",
    "        dist = math.sqrt(xdiff**2 + ydiff**2)\n",
    "        return dist\n",
    "   \n",
    "p = Point(4,3)\n",
    "q = Point(0,0)\n",
    "print(p.distance(q))  # note, that the\n",
    "\n",
    "print(Point.__doc__)   # print the docsring of point class\n",
    "\n",
    "        "
   ]
  },
  {
   "cell_type": "code",
   "execution_count": null,
   "metadata": {},
   "outputs": [],
   "source": []
  },
  {
   "cell_type": "code",
   "execution_count": null,
   "metadata": {},
   "outputs": [],
   "source": []
  },
  {
   "cell_type": "code",
   "execution_count": null,
   "metadata": {},
   "outputs": [],
   "source": []
  },
  {
   "cell_type": "code",
   "execution_count": null,
   "metadata": {},
   "outputs": [],
   "source": []
  },
  {
   "cell_type": "code",
   "execution_count": null,
   "metadata": {},
   "outputs": [],
   "source": []
  },
  {
   "cell_type": "code",
   "execution_count": null,
   "metadata": {},
   "outputs": [],
   "source": []
  },
  {
   "cell_type": "code",
   "execution_count": null,
   "metadata": {},
   "outputs": [],
   "source": []
  },
  {
   "cell_type": "code",
   "execution_count": null,
   "metadata": {},
   "outputs": [],
   "source": []
  },
  {
   "cell_type": "code",
   "execution_count": null,
   "metadata": {},
   "outputs": [],
   "source": []
  }
 ]
}