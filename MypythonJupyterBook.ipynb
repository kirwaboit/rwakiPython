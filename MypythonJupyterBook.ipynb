{
 "metadata": {
  "language_info": {
   "codemirror_mode": {
    "name": "ipython",
    "version": 3
   },
   "file_extension": ".py",
   "mimetype": "text/x-python",
   "name": "python",
   "nbconvert_exporter": "python",
   "pygments_lexer": "ipython3",
   "version": "3.8.5"
  },
  "orig_nbformat": 2,
  "kernelspec": {
   "name": "python385jvsc74a57bd0106f8dd8e7b9f8bf7b5c7f9387976efaa64fd1db7ebf679a5786be21993f005a",
   "display_name": "Python 3.8.5 64-bit ('rwakiPythonEnv': conda)"
  }
 },
 "nbformat": 4,
 "nbformat_minor": 2,
 "cells": [
  {
   "source": [
    "# Welcome to my Python CookBook\n",
    "\n",
    "## To run a cell use `ctrl+enter`  or `shift enter`\n",
    "\n"
   ],
   "cell_type": "markdown",
   "metadata": {
    "tags": []
   }
  },
  {
   "source": [],
   "cell_type": "markdown",
   "metadata": {}
  },
  {
   "source": [
    "\n",
    "## Using the windows \"tree command\"    \n",
    "NB: Using /f suffix shows the files within the folders too!!! BUT makes the tree very long!!   \n",
    "\n",
    "e.g for  C:\\Users\\Burudani\\Documents\\mainPythonFolder_v1  \n",
    "\n",
    "we type:-      \n",
    "\n",
    "`tree C:\\Users\\Burudani\\Documents\\mainPythonFolder_v1`  \n",
    "\n",
    "we get:-  \n",
    "\n",
    "```\n",
    "C:\\Users\\Burudani>tree C:\\Users\\Burudani\\Documents\\mainPythonFolder_v1\n",
    "Folder PATH listing\n",
    "Volume serial number is 00000068 4462:DDC7\n",
    "C:\\USERS\\BURUDANI\\DOCUMENTS\\MAINPYTHONFOLDER_V1\n",
    "├───.ipynb_checkpoints\n",
    "├───.vscode\n",
    "├───AWS Boto3\n",
    "├───dash-sample-apps\n",
    "├───Databases\n",
    "├───ExcelFiles\n",
    "├───MypythonPracticeFiles\n",
    "├───SalesForce\n",
    "├───Terraform\n",
    "│   ├───US-East-1\n",
    "│   │   ├───EC2\n",
    "│   │   ├───Elas\n",
    "│   │   └───VPC\n",
    "│   └───US-West-2\n",
    "└───__pycache__\n",
    "\n",
    "```\n",
    "\n",
    "\n"
   ],
   "cell_type": "markdown",
   "metadata": {}
  },
  {
   "source": [
    "using pip\n",
    "\n",
    "at cli type\n",
    "\n",
    "pip --version\n",
    "\n",
    "pip -- help\n"
   ],
   "cell_type": "markdown",
   "metadata": {}
  },
  {
   "source": [
    "# F-Strings\n",
    " -Very efficient way to combine variables(ints or strings or bools etc) and strings in print statements"
   ],
   "cell_type": "markdown",
   "metadata": {}
  },
  {
   "cell_type": "code",
   "execution_count": null,
   "metadata": {},
   "outputs": [],
   "source": [
    "var1 = 'eric'\n",
    "var2 = 23\n",
    "print(f\"Hello, {var1}. You are {var2}.\")"
   ]
  },
  {
   "cell_type": "code",
   "execution_count": null,
   "metadata": {},
   "outputs": [],
   "source": [
    "#A much nicer example of f-string using the unpacking operator(**) to unpack a dictionary\n",
    "\n",
    "person = {'name': 'Eric', 'age': 74}\n",
    "print(\"Hello, {name}. You are {age}.\".format(**person))"
   ]
  },
  {
   "source": [
    "#A much nicer example of f-string using the unpacking operator(*) to unpack a list\n",
    "\n",
    "person = ['eric','74']\n",
    "print(\"Hello, {}. You are {}.\".format(*person))\n"
   ],
   "cell_type": "code",
   "metadata": {},
   "execution_count": null,
   "outputs": []
  },
  {
   "source": [
    "## Dunder   \n",
    "- Double underscore used before and after a function or method name, example below"
   ],
   "cell_type": "markdown",
   "metadata": {}
  },
  {
   "cell_type": "code",
   "execution_count": null,
   "metadata": {},
   "outputs": [],
   "source": [
    "\n",
    "def __init__(self, parameter1: int,parameter2: str,parameter3: str ,parameter4: float ):  # init  here is reffered to as \"dunder init\"\n",
    "    self.number = parameter1  \n",
    "    self.string2 = parameter3\n",
    "    self.double = parameter4\n",
    "    self.process_data()\n",
    "\n"
   ]
  },
  {
   "source": [
    "## Docstrings  \n",
    "- They identify the function of a block of code\n"
   ],
   "cell_type": "markdown",
   "metadata": {}
  },
  {
   "cell_type": "code",
   "execution_count": null,
   "metadata": {},
   "outputs": [],
   "source": [
    "def exampleFunction():\n",
    "    '''This describes what this function or class does'''\n",
    "    return 1+1\n",
    "\n",
    "\n",
    "\n",
    "print(exampleFunction.__doc__)   # this prints the docstring of the function  or class"
   ]
  },
  {
   "source": [
    "## Help   \n",
    "- prints any helpful statements descrbing the fucntion of the code, may include examples"
   ],
   "cell_type": "markdown",
   "metadata": {}
  },
  {
   "cell_type": "code",
   "execution_count": null,
   "metadata": {},
   "outputs": [],
   "source": [
    "def exampleFunction():\n",
    "    '''This describes what this function or class does'''\n",
    "    return 1+1\n",
    "\n",
    "help(exampleFunction)"
   ]
  },
  {
   "source": [
    "# Timing your code  \n",
    " - `timeit` vs `time.time()` , use  `timeit`  \n",
    " - timeit produces time in seconds\n"
   ],
   "cell_type": "markdown",
   "metadata": {}
  },
  {
   "cell_type": "code",
   "execution_count": null,
   "metadata": {},
   "outputs": [],
   "source": [
    "from timeit import default_timer as timer\n",
    "\n",
    "def func1():\n",
    "    return 500*600\n",
    "\n",
    "def func2():\n",
    "    return (5*6)\n",
    "\n",
    "\n",
    "\n",
    "# timing the first function\n",
    "start = timer()\n",
    "func1()\n",
    "end = timer()\n",
    "print('Your first code took ', end-start , ' Seconds')\n",
    "\n",
    "\n",
    "# timing the first function\n",
    "start = timer()\n",
    "func2()\n",
    "end = timer()\n",
    "print('Your second code took ', end-start ,' Seconds')\n"
   ]
  },
  {
   "source": [
    "## Datetime Formating"
   ],
   "cell_type": "markdown",
   "metadata": {}
  },
  {
   "cell_type": "code",
   "execution_count": null,
   "metadata": {},
   "outputs": [],
   "source": [
    "from datetime import datetime , timedelta\n",
    "\n",
    "# datetime object containing current date and time\n",
    "now = datetime.now()\n",
    " \n",
    "print(\"now =\", now)\n",
    "\n",
    "# dd/mm/YY H:M:S\n",
    "dt_string1 = now.strftime(\"%d/%m/%Y %H:%M:%S\")\n",
    "dt_string2 = now.strftime(\"%d-%m-%Y %H:%M:%S\")\n",
    "\n",
    "print(\"date and time =\", dt_string2)\t\n",
    "\n",
    "\n",
    "years_to_subtract = 365  #one year\n",
    "datetime_new = now - timedelta(days = years_to_subtract)\n",
    "print(\"After subtracting years: \", datetime_new, \"\\n\")"
   ]
  },
  {
   "source": [
    "## Data Types  \n",
    "You can convert bool to int and vice versa"
   ],
   "cell_type": "markdown",
   "metadata": {}
  },
  {
   "cell_type": "code",
   "execution_count": null,
   "metadata": {},
   "outputs": [],
   "source": [
    "print(bool(1))\n",
    "print(bool(0))\n",
    "print(int(True))   #converts the bool to an integer\n",
    "print(int(False))\n"
   ]
  },
  {
   "source": [
    "## Operators"
   ],
   "cell_type": "markdown",
   "metadata": {}
  },
  {
   "cell_type": "code",
   "execution_count": null,
   "metadata": {},
   "outputs": [],
   "source": [
    "print (11/5)  # gives a float\n",
    "print(11//5)  # gives an integer result that is rounded down"
   ]
  },
  {
   "source": [
    "## Numpy\n",
    "- NumPy aims to provide an array object that is up to 50x faster than traditional Python lists.\n",
    "- NumPy is meant for creating homogeneous n-dimensional arrays (n = 1..n). Unlike Python lists, all elements of a NumPy array should be of same type.\n",
    "- NumPy uses much less memory to store data"
   ],
   "cell_type": "markdown",
   "metadata": {}
  },
  {
   "cell_type": "code",
   "execution_count": null,
   "metadata": {},
   "outputs": [],
   "source": [
    "import numpy as np\n",
    "z =  np.zeros(10)\n",
    "print(z)\n",
    "print('\\n')\n",
    "print(z.shape)\n",
    "print('\\n')\n",
    "z.shape = (10,1)\n",
    "print(z)\n",
    "y = np.ones(10)\n",
    "print('\\n')\n",
    "print(y)"
   ]
  },
  {
   "source": [
    "## Functions"
   ],
   "cell_type": "markdown",
   "metadata": {}
  },
  {
   "cell_type": "code",
   "execution_count": null,
   "metadata": {},
   "outputs": [],
   "source": [
    "# In this example a series of functions are applied to a single value\n",
    "\n",
    "def f(x):\n",
    "    return x**2\n",
    "def g(x):\n",
    "    return x**4\n",
    "def h(x):\n",
    "    return x**8\n",
    "\n",
    "\n",
    "print([func(42) for func in (f,g,h)])"
   ]
  },
  {
   "cell_type": "code",
   "execution_count": null,
   "metadata": {},
   "outputs": [],
   "source": [
    "#In this example a series of variables are applied to a single function\n",
    "#TODO simplify this function to not use the *args feature\n",
    "\n",
    "# sum of a list of integers :-\n",
    "def my_sum(x):\n",
    "     print (x**2)\n",
    "\n",
    "list1 = [3,9,12]\n",
    "\n",
    "\n",
    "print([my_sum(x) for x in list1])"
   ]
  },
  {
   "source": [
    "## Dash Colors   \n",
    "- also recognized in css    \n",
    "\n",
    "aliceblue, antiquewhite, aqua, aquamarine, azure,\n",
    "                beige, bisque, black, blanchedalmond, blue,\n",
    "                blueviolet, brown, burlywood, cadetblue,\n",
    "                chartreuse, chocolate, coral, cornflowerblue,\n",
    "                cornsilk, crimson, cyan, darkblue, darkcyan,\n",
    "                darkgoldenrod, darkgray, darkgrey, darkgreen,\n",
    "                darkkhaki, darkmagenta, darkolivegreen, darkorange,\n",
    "                darkorchid, darkred, darksalmon, darkseagreen,\n",
    "                darkslateblue, darkslategray, darkslategrey,\n",
    "                darkturquoise, darkviolet, deeppink, deepskyblue,\n",
    "                dimgray, dimgrey, dodgerblue, firebrick,\n",
    "                floralwhite, forestgreen, fuchsia, gainsboro,\n",
    "                ghostwhite, gold, goldenrod, gray, grey, green,\n",
    "                greenyellow, honeydew, hotpink, indianred, indigo,\n",
    "                ivory, khaki, lavender, lavenderblush, lawngreen,\n",
    "                lemonchiffon, lightblue, lightcoral, lightcyan,\n",
    "                lightgoldenrodyellow, lightgray, lightgrey,\n",
    "                lightgreen, lightpink, lightsalmon, lightseagreen,\n",
    "                lightskyblue, lightslategray, lightslategrey,\n",
    "                lightsteelblue, lightyellow, lime, limegreen,\n",
    "                linen, magenta, maroon, mediumaquamarine,\n",
    "                mediumblue, mediumorchid, mediumpurple,\n",
    "                mediumseagreen, mediumslateblue, mediumspringgreen,\n",
    "                mediumturquoise, mediumvioletred, midnightblue,\n",
    "                mintcream, mistyrose, moccasin, navajowhite, navy,\n",
    "                oldlace, olive, olivedrab, orange, orangered,\n",
    "                orchid, palegoldenrod, palegreen, paleturquoise,\n",
    "                palevioletred, papayawhip, peachpuff, peru, pink,\n",
    "                plum, powderblue, purple, red, rosybrown,\n",
    "                royalblue, saddlebrown, salmon, sandybrown,\n",
    "                seagreen, seashell, sienna, silver, skyblue,\n",
    "                slateblue, slategray, slategrey, snow, springgreen,\n",
    "                steelblue, tan, teal, thistle, tomato, turquoise,\n",
    "                violet, wheat, white, whitesmoke, yellow,\n",
    "                yellowgreen"
   ],
   "cell_type": "markdown",
   "metadata": {}
  },
  {
   "source": [
    "## Strings"
   ],
   "cell_type": "markdown",
   "metadata": {}
  },
  {
   "cell_type": "code",
   "execution_count": null,
   "metadata": {},
   "outputs": [],
   "source": [
    "var1 = 35\n",
    "var2 = 'jambo'\n",
    "#string .format() method to print string with variables!\n",
    "print('This is good way to combine a string and a variable e.g: {} and {} ty'.format(var1,var2))\n",
    "\n",
    "#using 'count' to see how many times a specified string occurs in a larger string\n",
    "myString = 'HeLLo, WorLd! 123'\n",
    "print(myString.count('L')) # ans will be 3\n",
    "\n",
    "s = 'python is pythonic'\n",
    "print(s.count('python')) # ans will be 2\n",
    "\n"
   ]
  },
  {
   "source": [
    "## TUPLES"
   ],
   "cell_type": "markdown",
   "metadata": {}
  },
  {
   "cell_type": "code",
   "execution_count": null,
   "metadata": {},
   "outputs": [],
   "source": [
    "'''FINAL ASSIGNMENT\n",
    "In this assignment Read data from  a text file, load it into python, \n",
    "parse through it line by line and  and if a line starts with 'From' ,\n",
    " then split it up by space, select the 5 string in the line, then split that by \n",
    " colon, then select the first part of that string then add it to a dictionary \n",
    " along with the number of times it shows up in the entire document,essentially \n",
    " creating a histogram'''\n",
    "\n",
    "counts = dict()\n",
    "#name = input(\"Enter file:\")\n",
    "#if len(name) < 1 : name = \"mbox-short.txt\"\n",
    "#handle = open(name)\n",
    "handle = open(\"mbox-short.txt\")\n",
    "for line in handle:\n",
    "    if line.startswith('From '):\n",
    "        selectedLine = line.split()\n",
    "        #print(selectedLine)\n",
    "        lineSelected = selectedLine[5]\n",
    "        hourSplit = lineSelected.split(':')\n",
    "        hourString = hourSplit[0]\n",
    "        #print(hourString)\n",
    "        counts[hourString] = counts.get(hourString, 0) + 1    # assigns a value to a dictionary\n",
    "\n",
    "#print(counts)\n",
    "#sortedString = (sorted ([(k,v)for k,v in counts.items()]))\n",
    "\n",
    "for k,v in sorted ([(k,v)for k,v in counts.items()]):\n",
    "    \n",
    "    print(k,v)\n"
   ]
  },
  {
   "cell_type": "code",
   "execution_count": null,
   "metadata": {},
   "outputs": [],
   "source": [
    "jack,jill = (1,2)\n",
    "print(jill)\n",
    "\n",
    "tupleList = [(1,2,3),(4,5,6)]\n",
    "print(tupleList)\n",
    "\n",
    "if (1,2,3) in tupleList:\n",
    "    print(True)"
   ]
  },
  {
   "source": [
    "# Dictionaries\n"
   ],
   "cell_type": "markdown",
   "metadata": {}
  },
  {
   "cell_type": "code",
   "execution_count": null,
   "metadata": {},
   "outputs": [],
   "source": [
    "# Description\n",
    "# Python dictionary method setdefault() is similar to get(), but will set dict[key]=default if key is not already in dict.\n",
    "\n",
    "nameDict = {'Name': 'Zara', 'Age': 7} # curley braces  [] () {}\n",
    "print (\"Value : %s\" %  nameDict.setdefault('Age', None) ) # age cannot be defaulted to #\"none\"  because it already has a value\n",
    "print (\"Value : %s\" %  nameDict.setdefault('Sex', None)) #sex does not exist in the dictionary, thus is created automatically\n",
    "\n",
    "nameDict['message'] = 'Welcome'  #adding new values to new keys in a dictionaries\n",
    "nameDict['Name'] = 'Thompson'\n",
    "\n",
    "\n",
    "print(nameDict)\n",
    "#NB:::: Default values in a dictionary can NEVER be changed  \n"
   ]
  },
  {
   "cell_type": "code",
   "execution_count": null,
   "metadata": {},
   "outputs": [],
   "source": [
    "exampledict = (dict(item = \"coke\",price = 8, qty = 2))\n",
    "\n",
    "print(exampledict)\n",
    "\n",
    "#creating a list of dictionaries\n",
    "\n",
    "cart = []\n",
    "cart.append(dict(item=\"Coke\", price=8, qty=2))\n",
    "cart.append(dict(item=\"Cake\", price=12, qty=1))\n",
    "cart.append(dict(item=\"Fish\", price=32, qty=4))\n",
    "\n",
    "print(\"Now printing a list of dictionaries\")\n",
    "print(cart)\n"
   ]
  },
  {
   "source": [
    "# CLASSES"
   ],
   "cell_type": "markdown",
   "metadata": {}
  },
  {
   "cell_type": "code",
   "execution_count": null,
   "metadata": {},
   "outputs": [],
   "source": [
    "class ExampleClass:\n",
    "    '''This is a good template for allowing one to practice with classes'''\n",
    "    exampleVar1 = 32  # Class variable\n",
    "    exampleVar2 = 45\n",
    "    exampleVar3 = \"IamVariable\"\n",
    "    def __init__(self, parameter1: int,parameter2: str,parameter3: str ,parameter4: float ):   # any placeholder here in this constructor is called a parameter\n",
    "        self.number = parameter1   # self.name is an instance variable\n",
    "        self.string1 = parameter2\n",
    "        self.string2 = parameter3\n",
    "        self.double = parameter4\n",
    "        self.process_data()\n",
    "\n",
    "    def process_data(self):\n",
    "        '''Multiplies the Values of the class variables with  a vlaue of the instance variable'''\n",
    "        print(self.exampleVar1*self.exampleVar2*self.number)\n",
    "\n",
    "    def __str__(self):   # if you don't put this method then an actual instance memory point of the instance will be printed when you use \"print\"\n",
    "        return 'Your values are number {} with word {} and word {} and number {}.' .format(self.number,self.string1,self.string2,self.double)  \n",
    "\n",
    "                \n",
    "#We just randomly generate some values to feed into the class, these variables are refered to as \"arguaments\" if used in a function call/method call/class call\n",
    "argument1 = 1\n",
    "argument2 = 'Hello'\n",
    "argument3 = 'world'\n",
    "argument4 = 2.0\n",
    "\n",
    "ExampleInstance = ExampleClass(argument1,argument2,argument3,argument4)\n",
    "\n",
    "\n",
    "print(ExampleInstance)  # print the string in the method  \"__str__\""
   ]
  },
  {
   "source": [
    "## Sorting using lambda"
   ],
   "cell_type": "markdown",
   "metadata": {}
  },
  {
   "cell_type": "code",
   "execution_count": null,
   "metadata": {},
   "outputs": [],
   "source": [
    "#Recal this simple sorting example using lambda\n",
    "\n",
    "L = [\"Cherry\", \"Apple\", \"Blueberry\"]\n",
    "\n",
    "print(sorted(L, key=len))\n",
    "#alternative form using lambda, if you find that easier to understand\n",
    "print(sorted(L, key= lambda x: len(x)))\n"
   ]
  },
  {
   "source": [],
   "cell_type": "markdown",
   "metadata": {}
  },
  {
   "cell_type": "code",
   "execution_count": null,
   "metadata": {},
   "outputs": [],
   "source": [
    "import sys\n",
    "print (\"This is the name of the script: \", sys.argv[0])\n",
    "print (\"Number of arguments: \", len(sys.argv))\n",
    "print (\"The arguments are: \" , str(sys.argv))\n"
   ]
  },
  {
   "cell_type": "code",
   "execution_count": null,
   "metadata": {},
   "outputs": [],
   "source": [
    "import sys\n",
    "\n",
    "#test.py arg1 arg2 arg3 =  sys.argv\n",
    "#Number of arguments: 4 arguments.\n",
    "sys.argv = ['test.py', 'arg1', 'arg2', 'arg3']\n",
    "print (\"Number of arguments:\", len(sys.argv), \"arguments\")\n",
    "print (\"Argument List:\", str(sys.argv))"
   ]
  },
  {
   "source": [
    "## Query Class Practice "
   ],
   "cell_type": "markdown",
   "metadata": {}
  },
  {
   "cell_type": "code",
   "execution_count": null,
   "metadata": {},
   "outputs": [],
   "source": [
    "from pathlib import path\n",
    "import QueryDataToFile  # custom created library to \n",
    "\n",
    "Task1 = \"example pull_v1\"\n",
    "var1 =\n",
    "class PracticeQuery:\n",
    "    '''Main class invalid'''\n",
    "    def __init__(self):\n",
    "        self.query = 'SELECT column1, column2',\n",
    "        'column3',\n",
    "        'FROM myTable'\n",
    "        self.files = {'results': str(path.cwd())+ '\\\\results.csv',\n",
    "                      'procesedFile': str(path.cwd())+ '\\\\results.csv'}\n",
    "        self.tasks = [self.query_data,self.process_data]\n",
    "\n",
    "        self.query_data()\n",
    "\n",
    "        def query_data(self):\n",
    "            '''Pull data from  database'''\n",
    "            print(\"for \",Task1 \"Pulling data from \", var1\" Database\")\n",
    "            #put data into csv file in this line\n",
    "            def process_data(self):\n",
    "                '''Process the data'''\n",
    "                1+1\n",
    "\n",
    "\n",
    "        "
   ]
  },
  {
   "cell_type": "code",
   "execution_count": null,
   "metadata": {},
   "outputs": [],
   "source": [
    "\n",
    "def square(x):\n",
    "    '''raise x to the second power'''\n",
    "    return x*x\n",
    "\n",
    "\n",
    "import test\n",
    "print('testing square function')\n",
    "test.testEqual(square(9),100)\n"
   ]
  },
  {
   "cell_type": "code",
   "execution_count": null,
   "metadata": {},
   "outputs": [],
   "source": [
    "x = \"hello\"\n",
    "\n",
    "#if condition returns True, then nothing happens:\n",
    "assert x == \"hello\"\n",
    "\n",
    "#if condition returns False, AssertionError is raised:\n",
    "assert x == \"goodbye\""
   ]
  },
  {
   "cell_type": "code",
   "execution_count": null,
   "metadata": {},
   "outputs": [],
   "source": [
    "l= [1,2,3]\n",
    "\n",
    "for item in l:\n",
    "    print('haha')"
   ]
  },
  {
   "source": [
    "# Exceptions  \n",
    "- Exceptions are often defined as being “errors” but this is not always the case. All errors in Python are dealt with using exceptions, \"but not all exceptions are errors\"."
   ],
   "cell_type": "markdown",
   "metadata": {}
  },
  {
   "cell_type": "code",
   "execution_count": null,
   "metadata": {},
   "outputs": [],
   "source": [
    "gold = {\"US\":46, \"Fiji\":1, \"Great Britain\":27, \"Cuba\":5, \"Thailand\":2, \"China\":26, \"France\":10}\n",
    "country = [\"Fiji\", \"Chile\", \"Mexico\", \"France\", \"Norway\", \"US\"]\n",
    "country_gold = []\n",
    "\n",
    "for x in country:\n",
    "    country_gold.append(gold[x])\n",
    "    country_gold.append(\"Did not get gold\")\n"
   ]
  },
  {
   "cell_type": "code",
   "execution_count": null,
   "metadata": {},
   "outputs": [],
   "source": [
    "\n",
    "sport = [\"hockey\", \"basketball\", \"soccer\", \"tennis\", \"football\", \"baseball\"]\n",
    "\n",
    "ppl_play = {\"hockey\":4, \"soccer\": 10, \"football\": 15, \"tennis\": 8}\n",
    "\n",
    "for x in sport:\n",
    "    try:\n",
    "        raise Exception\n",
    "        print(ppl_play[x])\n",
    "    except Exception as e:\n",
    "        print('This is the exception raised ', e)\n",
    "        print(1)\n",
    "\n",
    "    \n",
    "\n"
   ]
  },
  {
   "source": [
    "You can also force an exception to be printed by using  \n",
    "                raise Exception\n",
    "\n"
   ],
   "cell_type": "markdown",
   "metadata": {}
  },
  {
   "cell_type": "code",
   "execution_count": null,
   "metadata": {},
   "outputs": [],
   "source": [
    "# Import Module\n",
    "from tkinter import *\n",
    " \n",
    "# create root window\n",
    "root = Tk()\n",
    " \n",
    "# root window title and dimension\n",
    "root.title(\"Welcome to GeekForGeeks\")\n",
    "# Set geometry (widthxheight)\n",
    "root.geometry('350x200')\n",
    " \n",
    "# all widgets will be here\n",
    "# Execute Tkinter\n",
    "root.mainloop()"
   ]
  },
  {
   "cell_type": "code",
   "execution_count": null,
   "metadata": {},
   "outputs": [],
   "source": [
    "from tkinter import *\n",
    "\n",
    "master = Tk()\n",
    "Label(master, text=\"First Name\").grid(row=0)\n",
    "Label(master, text=\"Last Name\").grid(row=1)\n",
    "\n",
    "e1 = Entry(master)\n",
    "e2 = Entry(master)\n",
    "\n",
    "e1.grid(row=0, column=1)\n",
    "e2.grid(row=1, column=1)\n",
    "\n",
    "mainloop( )"
   ]
  },
  {
   "source": [
    "## Random Numbers"
   ],
   "cell_type": "markdown",
   "metadata": {}
  },
  {
   "cell_type": "code",
   "execution_count": null,
   "metadata": {},
   "outputs": [],
   "source": [
    "import random\n",
    "\n",
    "rand_number = random.randint(1, 10)\n",
    "print('Random number between 1 and 10: {}'.format(rand_number))\n",
    "\n",
    "letters = [letter for letter in 'ABCDEFGHIJKLMNOPQRSTUVWXYZ'] #creates a list out of each letter provided\n",
    "rand_letter = random.choice(letters)  # random.choice() selects a random item from a list\n",
    "print('Random letter, from the list made up of letters: {}'.format(rand_letter))\n"
   ]
  },
  {
   "source": [
    "## Class Final Project : Wheel of Fortune (To Be continued later....)"
   ],
   "cell_type": "markdown",
   "metadata": {}
  },
  {
   "cell_type": "code",
   "execution_count": null,
   "metadata": {},
   "outputs": [],
   "source": [
    "VOWEL_COST = 250\n",
    "LETTERS = 'ABCDEFGHIJKLMNOPQRSTUVWXYZ'\n",
    "VOWELS = 'AEIOU'\n",
    "\n",
    "# Write the WOFPlayer class definition (part A) here\n",
    "\n",
    "class WOFPlayer:\n",
    "'''This is a  class that controls the  '''\n",
    "    boredom_decrement = 4\n",
    "    hunger_decrement = 6\n",
    "    boredom_threshold = 5\n",
    "    hunger_threshold = 10\n",
    "    sounds = ['Mrrp']\n",
    "    def __init__(self, name = \"Kitty\", pet_type=\"cat\"):\n",
    "    self.name = name\n",
    "    self.hunger = randrange(self.hunger_threshold)\n",
    "    self.boredom = randrange(self.boredom_threshold)\n",
    "\n",
    "# Write the WOFHumanPlayer class definition (part B) here\n",
    "\n",
    "# Write the WOFComputerPlayer class definition (part C) here\n",
    "\n"
   ]
  },
  {
   "source": [
    "## Using Args\n",
    "Args are pretty much a way to pass in multiple arguments into a function"
   ],
   "cell_type": "markdown",
   "metadata": {}
  },
  {
   "cell_type": "code",
   "execution_count": null,
   "metadata": {},
   "outputs": [],
   "source": [
    "def add(datatype, *args):\n",
    " \n",
    "    # if datatype is int\n",
    "    # initialize answer as 0\n",
    "    if datatype =='int':\n",
    "        answer = 0\n",
    "         \n",
    "    # if datatype is str\n",
    "    # initialize answer as ''\n",
    "    if datatype =='str':\n",
    "        answer =''\n",
    " \n",
    "    # Traverse through the arguments\n",
    "    for x in args:\n",
    " \n",
    "        # This will do addition if the \n",
    "        # arguments are int. Or concatenation \n",
    "        # if the arguments are str\n",
    "        answer = answer + x\n",
    " \n",
    "    print(answer)"
   ]
  },
  {
   "source": [
    "## Method Overloading\n",
    "\n",
    "By Using Multiple Dispatch Decorator "
   ],
   "cell_type": "markdown",
   "metadata": {}
  },
  {
   "cell_type": "code",
   "execution_count": null,
   "metadata": {},
   "outputs": [],
   "source": [
    "from multipledispatch import dispatch\n",
    " \n",
    "#passing one parameter\n",
    "@dispatch(int,int)\n",
    "def product(first,second):\n",
    "    result = first*second\n",
    "    print(result);\n",
    " \n",
    "#passing two parameters\n",
    "@dispatch(int,int,int)\n",
    "def product(first,second,third):\n",
    "    result  = first * second * third\n",
    "    print(result);\n",
    " \n",
    "#you can also pass data type of any value as per requirement\n",
    "@dispatch(float,float,float)\n",
    "def product(first,second,third):\n",
    "    result  = first * second * third\n",
    "    print(result);\n",
    " \n",
    " \n",
    "#calling product method with 2 arguments\n",
    "product(2,3,2) #this will give output of 12\n",
    "product(2.2,3.4,2.3) # this will give output of 17.985999999999997"
   ]
  },
  {
   "source": [
    "## Map and List Comprehension\n",
    "Map: a way to attacha a function to a list  \n",
    "List Comprehension: A new way to do a for loop"
   ],
   "cell_type": "markdown",
   "metadata": {}
  },
  {
   "cell_type": "code",
   "execution_count": null,
   "metadata": {},
   "outputs": [],
   "source": [
    "txns = [1.09, 23.56, 57.84, 4.56, 6.78]\n",
    "TAX_RATE = .08\n",
    "def get_price_with_tax(txn):\n",
    "     return txn * (1 + TAX_RATE)\n",
    "final_prices = map(get_price_with_tax, txns)\n",
    "print(list(final_prices))    # the \"list\" function needs to be used to ensure that the resultant  comes out looking correct"
   ]
  },
  {
   "cell_type": "code",
   "execution_count": null,
   "metadata": {},
   "outputs": [],
   "source": [
    "# Original for loop\n",
    "\n",
    "squares = []\n",
    "for i in range(10):\n",
    "     squares.append(i * i)\n",
    "print(squares)\n",
    "\n",
    "\n",
    "# For loop with list comprehension\n",
    "\n",
    "squares = [i * i for i in range(10)]  # perform multiplication for  each value of i in rang(10) i.e ...\n",
    "#new_list = [expression for member in iterable]\n",
    "\n",
    "print(squares)\n"
   ]
  },
  {
   "source": [
    "## More List comprehension examples  \n",
    "The Syntax:-  \n",
    "newlist = [expression for item in iterable if condition == True]  \n",
    "\n"
   ],
   "cell_type": "markdown",
   "metadata": {}
  },
  {
   "cell_type": "code",
   "execution_count": null,
   "metadata": {},
   "outputs": [],
   "source": [
    "txns = [1.09, 23.56, 57.84, 4.56, 6.78]\n",
    "TAX_RATE = .08\n",
    "def get_price_with_tax(txn):\n",
    "     return txn * (1 + TAX_RATE)\n",
    "final_prices = [get_price_with_tax(i) for i in txns]\n",
    "print(final_prices)"
   ]
  },
  {
   "cell_type": "code",
   "execution_count": null,
   "metadata": {},
   "outputs": [],
   "source": [
    "'''lists top iterate through'''\n",
    "fruits = [\"apple\", \"banana\", \"cherry\", \"kiwi\", \"mango\"]\n",
    "squares = []\n",
    "\n",
    "'''Multiple List comprehension example expressions'''\n",
    "squares = [i * i for i in range(10)]                   # Multiply i by itself for every numerical value from 0-9\n",
    "newlist1 = [x for x in fruits if \"a\" in x]             # produces all fruits with 'a' in the name\n",
    "newlist2 = [x for x in fruits if x != \"apple\"]         # produce all fruits that are not apple\n",
    "newlist3 = [x for x in fruits]                         # simply re-creates the original list\n",
    "number_list = [ x for x in range(20) if x % 2 == 0]    # For every value in range 0-19, if the remainder of the value when divided by two is zero(even number), then spit that out\n",
    "num_list = [y for y in range(100) if y % 2 == 0 if y % 5 == 0] # in a range of values from 0-99 produce a a list of values that are first divisible by 2 and then out of those, the one's divisible by 5\n",
    "newlist4 = [x for x in range(10) if x < 5]             # For every value from 0-9, produce a list of values less than 5 i.e 0-4\n",
    "\n",
    " \n",
    "'''Result of the List comprehension expressions above'''\n",
    "print(squares)\n",
    "print(newlist1)\n",
    "print(newlist2)\n",
    "print(newlist3)\n",
    "print(newlist4)\n",
    "print(number_list)\n",
    "print(num_list)\n"
   ]
  },
  {
   "source": [
    "## JSON  in Python  \n",
    "It is currently agostic of any particluar programming langauge as we speak. It currently is used as a way to transport python dictionaries across different languages.There are other structures that can be tranlated back and forth from python from JSON.  \n",
    "\n",
    "                Python\t            JSON  \n",
    "                dict\t            object  \n",
    "                list,tuple\t            array    \n",
    "                str\t                    string    \n",
    "                int, long, float\t    number  \n",
    "                True\t            true  \n",
    "                False\t            false  \n",
    "                None\t            null  \n"
   ],
   "cell_type": "markdown",
   "metadata": {}
  },
  {
   "source": [
    "# Examples of a JSON Objects\n",
    "\n",
    "```\n",
    "{\n",
    "    \"people\": [\n",
    "        {\n",
    "            \"name\" : \"John Smith\",\n",
    "            \"phone\" : \"615-555-7164\",\n",
    "            \"emails\" : [\"johnsmith@bogusemail.com\",\"john.snmith@work-place.com\"],\n",
    "            \"has_license\": false\n",
    "        },\n",
    "        {\n",
    "            \"name\": \"Jane Doe\",\n",
    "            \"phone\": \"560-555-553\",\n",
    "            \"emails\": null,\n",
    "            \"has_license\": true\n",
    "        }\n",
    "    ]\n",
    "}\n",
    "```\n",
    "\n",
    "\n",
    "\n",
    "```\n",
    "{\n",
    "    \"people1\": [\n",
    "        {\n",
    "            \"name\" : \"Nikhil\",\n",
    "            \"website\" : \"gf.com\",\n",
    "            \"from\" : \"Delhi\"\n",
    "           \n",
    "        },\n",
    "        {\n",
    "            \"name\" : \"Abhinav\",\n",
    "            \"website\" : \"google.com\",\n",
    "            \"from\" : \"Mumbai\"\n",
    "        }\n",
    "    ],\n",
    "\n",
    "    \"people2\" : [\n",
    "        {\n",
    "            \"name\" : \"ansul\",\n",
    "            \"website\" : \"yahoo.com\",\n",
    "            \"from\" : \"Delaware\"\n",
    "        }\n",
    "    ]\n",
    "}\n",
    "```"
   ],
   "cell_type": "markdown",
   "metadata": {}
  },
  {
   "source": [
    "## JSON : Creating Dictionairies with JSON objects "
   ],
   "cell_type": "markdown",
   "metadata": {}
  },
  {
   "cell_type": "code",
   "execution_count": null,
   "metadata": {},
   "outputs": [],
   "source": [
    "# In this example we created a psedo-JSON object, with  a python string\n",
    "\n",
    "import json\n",
    "\n",
    "people_string = '''\n",
    "\n",
    "{\n",
    "    \"people\": [\n",
    "        {\n",
    "            \"name\" : \"John Smith\",\n",
    "            \"phone\" : \"615-555-7164\",\n",
    "            \"emails\" : [\"johnsmith@bogusemail.com\",\"john.snmith@work-place.com\"],\n",
    "            \"has_license\": false\n",
    "        },\n",
    "        {\n",
    "            \"name\": \"Jane Doe\",\n",
    "            \"phone\": \"560-555-553\",\n",
    "            \"emails\": null,\n",
    "            \"has_license\": true\n",
    "        }\n",
    "    ]\n",
    "}\n",
    "'''\n",
    "\n",
    "data = json.loads(people_string) # this parses the JSON string\n",
    "\n",
    "print(data)\n",
    "print('data type is:-')\n",
    "print(type(data))\n",
    "df = "
   ]
  },
  {
   "cell_type": "code",
   "execution_count": null,
   "metadata": {},
   "outputs": [],
   "source": [
    "## Another example\n",
    "\n",
    "ExampleJSOnOnject = '''\n",
    "{\n",
    "    \"people\": [\n",
    "        {\n",
    "            \"name\" : \"John Smith\",\n",
    "            \"phone\" : \"615-555-7164\",\n",
    "            \"emails\" : [\"johnsmith@bogusemail.com\",\"john.snmith@work-place.com\"],\n",
    "            \"has_license\": false\n",
    "        },\n",
    "        {\n",
    "            \"name\": \"Jane Doe\",\n",
    "            \"phone\": \"560-555-553\",\n",
    "            \"emails\": null,\n",
    "            \"has_license\": true\n",
    "        }\n",
    "    ]\n",
    "}\n",
    "{\n",
    "    \"people1\": [\n",
    "        {\n",
    "            \"name\" : \"Nikhil\",\n",
    "            \"website\" : \"gf.com\",\n",
    "            \"from\" : \"Delhi\"\n",
    "           \n",
    "        },\n",
    "        {\n",
    "            \"name\" : \"Abhinav\",\n",
    "            \"website\" : \"google.com\",\n",
    "            \"from\" : \"Mumbai\"\n",
    "        }\n",
    "    ],\n",
    "\n",
    "    \"people2\" : [\n",
    "        {\n",
    "            \"name\" : \"ansul\",\n",
    "            \"website\" : \"yahoo.com\",\n",
    "            \"from\" : \"Delaware\"\n",
    "        }\n",
    "    ]\n",
    "} \n",
    "'''\n",
    "data = json.loads(ExampleJSOnOnject)\n",
    "df = pd.jsom(data)\n",
    "df\n"
   ]
  },
  {
   "cell_type": "code",
   "execution_count": null,
   "metadata": {},
   "outputs": [],
   "source": [
    "## Example 3\n",
    "import pandas as pd\n",
    "import plotly.express as px\n",
    "\n",
    "url = 'http://api.open-notify.org/iss-now.json'\n",
    "\n",
    "df = pd.read_json(url)\n",
    "df['latitude'] = df.loc['latitude', 'iss_position']\n",
    "df['longitude'] = df.loc['longitude', 'iss_position']\n",
    "df.reset_index(inplace = True)\n",
    "df = df.drop(['index','message'], axis = 1)\n",
    "fig = px.scatter_geo(df,lat = 'latitude',lon = 'longitude')\n",
    "fig.show()\n"
   ]
  },
  {
   "cell_type": "code",
   "execution_count": null,
   "metadata": {},
   "outputs": [],
   "source": [
    "# In this example we instead use a JSON object that has already been created for us\n",
    "\n",
    "import json\n",
    "\n",
    "with open(r'C:\\Users\\Burudani\\Documents\\mainPythonFolder_v1\\JSON\\dictData2.json') as json_file:\n",
    "    data = json.loads(json_file.read()) # this parses the JSON string, NB need to use the .read() method\n",
    "\n",
    "    print(data)\n",
    "    print('data type is:-')\n",
    "    print(type(data))\n",
    "\n",
    "# You can also print/extract specific pieces of data from the object\n",
    "    print(\"\\nPeople1:\", data['people1'])\n",
    "    print(\"\\nPeople2:\", data['people2'])"
   ]
  },
  {
   "cell_type": "code",
   "execution_count": null,
   "metadata": {},
   "outputs": [],
   "source": [
    "import pandas as pd\n",
    "import numpy as np\n",
    "# Pass a 2D numpy array - each row is the corresponding row required in the dataframe\n",
    "\n",
    "data = np.array([[1,\"toyota\",\"corolla\",\"TOYOTA\",\"corolla\"], \n",
    "                 [2,\"honda\",\"civic\",\"lamborghini\",\"sinata\"], \n",
    "                 [1,\"hyndai\",\"accent car\",\"hyndaisera\",\"accent car\"], \n",
    "                 [1,\"nissan\",\"sentra\",\"maserati\",\"dishenco\"],\n",
    "                 [2,\"honda\",\"Odessey\",\"porshe\",\"cayane\"],\n",
    "                 [1,\"Tesla\",\"model\",\"tesla mode3\",\"tesla\"]])   # testing reversal of data\n",
    "\n",
    "#TODO try using contains and test for backward macthes\n",
    "\n",
    "# pass column names in the columns parameter \n",
    "df = pd.DataFrame(data, columns = ['year', 'make1','model1','make2','model2'])\n",
    "\n",
    "print(df)\n",
    "#df['extrcolumn'] = df['model'].str.upper()\n",
    "#dftest1 = df.loc[(df['make1'] == 'honda')]\n",
    "#dftest1 = (df.loc[(df['make1'] == 'honda')] or df.loc[(df['model1'] == df['model2'])])\n",
    "#dftest1 = df['make1'] == 'honda'\n",
    "\n",
    "print('\\n')\n",
    "\n",
    "print(df[\"model2\"].str.split(\" \", n = 1, expand = False)==(df[\"model1\"].str.split(\" \", n = 1, expand = False)))"
   ]
  },
  {
   "cell_type": "code",
   "execution_count": null,
   "metadata": {},
   "outputs": [],
   "source": [
    "\n",
    "#df = df.assign(model2='Expenses')\n",
    "\n",
    "#df.loc[:,'model2'] = str('Expenses')\n",
    "\n",
    "\n",
    "#df['model2'] = 'Expenditure'\n",
    "checkList = ['toy','hyndai']\n",
    "checkListUppercase = [x.upper() for x in checkList]\n",
    "#if(row.make1.upper() in checkListUppercase):\n",
    "\n",
    "def NameReplacer(row):\n",
    "    \n",
    "    for item in checkListUppercase:\n",
    "        if(item in row.make1.upper()):\n",
    "\n",
    "            return item\n",
    "\n",
    "\n",
    "df.loc[:, 'Transaction'] = df.apply(NameReplacer, axis = 1)\n",
    "\n",
    "df.modelchecker.fillna(value=np.nan, inplace=True)   # replaces nNone values with NaN values\n",
    "\n",
    "df['Transaction'] = df['Transaction'].fillna('Expenditure')  # this allows you to now replace the NaN values with anything you want\n",
    "#df['modelchecker'].replace(NaN, \"\", inplace=True)\n",
    "\n",
    "#df['Match_Tester'] = df.apply(lambda errorDetector : df, axis = 1)\n",
    "print(df)"
   ]
  },
  {
   "cell_type": "code",
   "execution_count": null,
   "metadata": {},
   "outputs": [],
   "source": [
    "class ModifyMyDf:\n",
    "\n",
    "\n",
    "    #def__init__(self):\n",
    "\n",
    "\n",
    "\n",
    "    def errorDetector(row):\n",
    "    \n",
    "        if ((row.year == '2') or   #CHeck if the year is equal to 2\n",
    "        (row.make1.upper() == row.make2.upper() and row.model1.upper() == row.model2.upper()) or \n",
    "        (row.make1.upper() == row.model2.upper() and row.model1.upper() == row.make2.upper())):  # check if columns match in reverse\n",
    "        #if ((row.year == '2') or (row.make1.str.upper() == row.make2.str.upper() & row.model1 in (row.model2)))   \n",
    "            return \"Match\"\n",
    "    \n",
    "        else:\n",
    "            return \"No Match\"\n",
    "\n",
    "    #if (row.year == '2' | (row.make1.str.upper() == row.make2.str.upper() & row.model1.isin(row.model2)))\n",
    "\n",
    "    #(row.make1.upper() == row.model2.upper() and row.model1.upper() == row.make2.upper())\n",
    "\n",
    "    def runMyprogram():\n",
    "        #df.loc[:, 'Match Tester'] = df.apply(errorDetector, axis = 1)\n",
    "        df['Match_Tester'] = df.apply(lambda errorDetector : df, axis = 1)\n",
    "    #df['Discounted_Price'] = df.apply(fun)\n",
    "        print(df)\n",
    "    runMyprogram()\n",
    "\n",
    "ModifyMyDf()"
   ]
  },
  {
   "cell_type": "code",
   "execution_count": null,
   "metadata": {},
   "outputs": [],
   "source": [
    "#df['extrcolumn'] = df['model'].str.upper()\n",
    "#dftest1 = df.loc[(df['make1'] == 'honda')]\n",
    "#dftest1 = (df.loc[(df['make1'] == 'honda')] or df.loc[(df['model1'] == df['model2'])])\n",
    "#dftest1 = df['make1'] == 'honda'\n",
    "dftest1 = df.query('year == \"2\" or (make1.str.upper() == make2.str.upper() and model1.isin(model2))')\n",
    "\n",
    "\n",
    "\n",
    "print('\\n')\n",
    "print(dftest1)"
   ]
  },
  {
   "cell_type": "code",
   "execution_count": null,
   "metadata": {},
   "outputs": [],
   "source": [
    "import mitosheet\n",
    "mitosheet.sheet(df)"
   ]
  },
  {
   "cell_type": "code",
   "execution_count": null,
   "metadata": {},
   "outputs": [],
   "source": []
  },
  {
   "cell_type": "code",
   "execution_count": 3,
   "metadata": {},
   "outputs": [
    {
     "output_type": "stream",
     "name": "stdout",
     "text": [
      "        Date  Amount                                        Description\n0 2021-01-05   -29.0  BANANA REPUBLIC PAYMENT 210104 447993100865817...\n1 2021-02-05   -29.0  BANANA REPUBLIC PAYMENT 210204 447993100865817...\n2 2021-03-05   -29.0  BANANA REPUBLIC PAYMENT 210304 447993100865817...\n3 2021-01-15  -391.0  CHASE CREDIT CRD AUTOPAY 210114 00000000011953...\n4 2021-02-16  -399.0  CHASE CREDIT CRD AUTOPAY 210214 00000000012059...\n          Date  Amount                                        Description  \\\n0   2021-01-05  -29.00  BANANA REPUBLIC PAYMENT 210104 447993100865817...   \n1   2021-02-05  -29.00  BANANA REPUBLIC PAYMENT 210204 447993100865817...   \n2   2021-03-05  -29.00  BANANA REPUBLIC PAYMENT 210304 447993100865817...   \n3   2021-01-15 -391.00  CHASE CREDIT CRD AUTOPAY 210114 00000000011953...   \n4   2021-02-16 -399.00  CHASE CREDIT CRD AUTOPAY 210214 00000000012059...   \n..         ...     ...                                                ...   \n299 2021-03-05   -2.99  RECURRING PAYMENT AUTHORIZED ON 03/03 APPLE.CO...   \n300 2021-01-04  -10.65  RECURRING PAYMENT AUTHORIZED ON 12/31 MICROSOF...   \n301 2021-01-04 -941.67      Sixty25 at Ridgl Payment XXXXX6541 Kirwa Boit   \n302 2021-03-01  -64.00  WELLS FARGO CARD RESERVE 210301 1001 907703057...   \n303 2021-02-03  200.00  ZELLE FROM BETH WANJIRU NGANGA ON 02/03 REF # ...   \n\n                   Transaction  \n0      BANANA REPUBLIC PAYMENT  \n1      BANANA REPUBLIC PAYMENT  \n2      BANANA REPUBLIC PAYMENT  \n3    CHASE CREDIT CRD AUTOPAY   \n4    CHASE CREDIT CRD AUTOPAY   \n..                         ...  \n299                      APPLE  \n300                EXPENDITURE  \n301                EXPENDITURE  \n302                EXPENDITURE  \n303                 ZELLE FROM  \n\n[304 rows x 4 columns]\n"
     ]
    },
    {
     "output_type": "error",
     "ename": "AttributeError",
     "evalue": "'RangeIndex' object has no attribute 'Transaction'",
     "traceback": [
      "\u001b[1;31m---------------------------------------------------------------------------\u001b[0m",
      "\u001b[1;31mAttributeError\u001b[0m                            Traceback (most recent call last)",
      "\u001b[1;32m<ipython-input-3-d66e04be4692>\u001b[0m in \u001b[0;36m<module>\u001b[1;34m\u001b[0m\n\u001b[0;32m     46\u001b[0m \u001b[1;31m#df1.groupby(['Transaction']).sum()\u001b[0m\u001b[1;33m\u001b[0m\u001b[1;33m\u001b[0m\u001b[1;33m\u001b[0m\u001b[0m\n\u001b[0;32m     47\u001b[0m \u001b[1;33m\u001b[0m\u001b[0m\n\u001b[1;32m---> 48\u001b[1;33m \u001b[0mdf1\u001b[0m\u001b[1;33m=\u001b[0m\u001b[0mdf1\u001b[0m\u001b[1;33m.\u001b[0m\u001b[0mgroupby\u001b[0m\u001b[1;33m(\u001b[0m\u001b[1;33m[\u001b[0m\u001b[1;33m(\u001b[0m\u001b[0mdf1\u001b[0m\u001b[1;33m.\u001b[0m\u001b[0mindex\u001b[0m\u001b[1;33m.\u001b[0m\u001b[0mTransaction\u001b[0m\u001b[1;33m)\u001b[0m\u001b[1;33m]\u001b[0m\u001b[1;33m)\u001b[0m\u001b[1;33m.\u001b[0m\u001b[0msum\u001b[0m\u001b[1;33m(\u001b[0m\u001b[1;33m)\u001b[0m\u001b[1;33m\u001b[0m\u001b[1;33m\u001b[0m\u001b[0m\n\u001b[0m\u001b[0;32m     49\u001b[0m \u001b[0mdf2\u001b[0m \u001b[1;33m=\u001b[0m \u001b[0mdf1\u001b[0m\u001b[1;33m.\u001b[0m\u001b[0mdrop\u001b[0m\u001b[1;33m(\u001b[0m\u001b[1;33m[\u001b[0m\u001b[1;34m'index'\u001b[0m\u001b[1;33m,\u001b[0m\u001b[1;34m'Description'\u001b[0m\u001b[1;33m]\u001b[0m\u001b[1;33m,\u001b[0m \u001b[0maxis\u001b[0m \u001b[1;33m=\u001b[0m \u001b[1;36m1\u001b[0m\u001b[1;33m)\u001b[0m\u001b[1;33m\u001b[0m\u001b[1;33m\u001b[0m\u001b[0m\n\u001b[0;32m     50\u001b[0m \u001b[1;33m\u001b[0m\u001b[0m\n",
      "\u001b[1;31mAttributeError\u001b[0m: 'RangeIndex' object has no attribute 'Transaction'"
     ]
    }
   ],
   "source": [
    "import pandas as pd\n",
    "import numpy as np\n",
    "import matplotlib\n",
    "\n",
    "#Bring in original Data sheet\n",
    "df1 = pd.read_excel(r\"C:\\Users\\Burudani\\Documents\\Finance_Trending\\Checking_Jan1st2021_March10th2021.xlsx\")  \n",
    "#df1.columns = ['Date','Amount','Description']\n",
    "print(df1.head())\n",
    "\n",
    "\n",
    "# Bring in the excell sheet that you will use to create the final column\n",
    "df2 = pd.read_excel(r\"C:\\Users\\Burudani\\Documents\\Finance_Trending\\bank_amount_guide.xlsx\") \n",
    "\n",
    "\n",
    "\n",
    "\n",
    "#df = df.assign(model2='Expenses')\n",
    "\n",
    "#df.loc[:,'model2'] = str('Expenses')\n",
    "\n",
    "\n",
    "#df['model2'] = 'Expenditure'\n",
    "checkList = [\"BANANA REPUBLIC PAYMENT\",\"CHECK\",\"DE POST PAID DET BILL PAY \",\"GEICO PREM COLL \",\"JPMorgan Chase Ext Trnsfr\",\"CHASE CREDIT CRD AUTOPAY \",\"LOCKHEED MARTIN DIR DEP\",\"MACYS PAYMENT\",\"MONEY TRANSFER\",\"NELNET LOAN\",\"NORDSTROM PAYMENT\",\"OVERDRAFT FEE\",\"PAYPAL INST XFER\",\"Amazon Digit\",\"Amazon web service\",\"Amazon Prime\",\"wal-mart\",\"tom thumb\",\"7-eleven\",\"aero café\",\"goody goody\",\"wave\",\"txtag\",\"Prime Video\",\"cash app\",\"mcdonald\",\"cortland\",\"apple\",\"35413\",\"uber eats\",\"uber\",\"netflix\",\"at&t\",\"Linux Academy\",\"medium\",\"hour fitness\",\"Zelle from\"]\n",
    "checkListUppercase = [x.upper() for x in checkList]\n",
    "#if(row.make1.upper() in checkListUppercase):\n",
    "\n",
    "def NameReplacer(row):\n",
    "    '''This Function replaces the long version of the transactional data with a short form version of it'''\n",
    "    \n",
    "    for item in checkListUppercase:\n",
    "        if(item in row.Description.upper()):\n",
    "\n",
    "            return item\n",
    "\n",
    "\n",
    "df1.loc[:, 'Transaction'] = df1.apply(NameReplacer, axis = 1)\n",
    "\n",
    "df1.Transaction.fillna(value=np.nan, inplace=True)   # replaces None values with NaN values\n",
    "\n",
    "df1['Transaction'] = df1['Transaction'].fillna('EXPENDITURE')  # this allows you to now replace the NaN values with anything you want\n",
    "#df['modelchecker'].replace(NaN, \"\", inplace=True)\n",
    "\n",
    "#df['Match_Tester'] = df.apply(lambda errorDetector : df, axis = 1)\n",
    "print(df1)\n",
    "\n",
    "#df1.groupby(['Transaction']).sum()\n",
    "\n",
    "df1=df1.groupby([(df1.index.Transaction)]).sum()\n",
    "df2 = df1.drop(['index','Description'], axis = 1)\n",
    "\n",
    "df2.to_excel(r\"C:\\Users\\Burudani\\Documents\\Finance_Trending\\Checking_Jan1st2021_March10th2021_results3.xlsx\", index = False)\n",
    "\n",
    "df1.to_csv(r\"C:\\Users\\Burudani\\Documents\\Finance_Trending\\Checking_Jan1st2021_March10th2021_results4.xlsx\")"
   ]
  },
  {
   "cell_type": "code",
   "execution_count": null,
   "metadata": {},
   "outputs": [],
   "source": [
    "import pandas as pd\n",
    "import plotly.express as px\n",
    "\n",
    "# data\n",
    "df = pd.DataFrame({'A': {0: 34, 1: 34, 2: 34, 3: 34, 4: 56, 5: 56, 6: 78},\n",
    "                     'B': {0: 34, 1: 223, 2: 56, 3: 86, 4: 86, 5: 43, 6: 34},\n",
    "                     'C': {0: -12, 1: -12, 2: -12, 3: -12, 4: -12, 5: -12, 6: -12}})\n",
    "\n",
    "colors = px.colors.qualitative.T10\n",
    "\n",
    "# plotly\n",
    "fig = px.bar(df, \n",
    "             x = df.index,\n",
    "             y = [c for c in df.columns],\n",
    "             template = 'plotly_dark',\n",
    "             color_discrete_sequence = colors,\n",
    "             title = 'Stacked bar chart using px.bar()', \n",
    "             )\n",
    "\n",
    "fig.show()\n",
    "print('hello world')"
   ]
  },
  {
   "cell_type": "code",
   "execution_count": null,
   "metadata": {},
   "outputs": [],
   "source": [
    "# imports\n",
    "import plotly\n",
    "import cufflinks as cf\n",
    "from plotly.offline import download_plotlyjs, init_notebook_mode, plot, iplot\n",
    "import pandas as pd\n",
    "import numpy as np\n",
    "\n",
    "# setup\n",
    "init_notebook_mode(connected=True)\n",
    "np.random.seed(123)\n",
    "cf.set_config_file(theme='pearl')\n",
    "\n",
    "# qtconsole for debugging\n",
    "#%qtconsole --style vim #src# https://qtconsole.readthedocs.io/en/stable/\n",
    "\n",
    "# Random data using cufflinks\n",
    "df = cf.datagen.lines()\n",
    "df = df[['UUN.XY', 'MJF.XV', 'XBB.AO']].head(50)\n",
    "df=np.abs(df)\n",
    "\n",
    "# make figure\n",
    "fig = df.iplot(asFigure=True, kind='bar', barmode = 'stack',\n",
    "               xTitle='Dates',yTitle='Returns',title='Returns')\n",
    "\n",
    "# plot figure\n",
    "iplot(fig)"
   ]
  },
  {
   "cell_type": "code",
   "execution_count": null,
   "metadata": {},
   "outputs": [],
   "source": [
    "data = [['Ravi',21,67],['Kiran',24,61],['Anita',18,46],['Smita',20,78],['Sunil',17,90]]\n",
    "df = pd.DataFrame(data,columns = ['name','age','marks'],dtype = float)\n",
    "trace = go.Bar(x = df.name, y = df.marks)\n",
    "fig = go.Figure(data = [trace])\n",
    "iplot(fig)"
   ]
  },
  {
   "cell_type": "code",
   "execution_count": null,
   "metadata": {},
   "outputs": [],
   "source": [
    "data = [['Ravi',21,67],['Kiran',24,61],['Anita',18,46],['Smita',20,78],['Sunil',17,90]]\n",
    "df = pd.DataFrame(data,columns = ['name','age','marks'],dtype = float)\n",
    "df.iplot(kind = 'bar', x = 'name', y = 'marks')"
   ]
  },
  {
   "cell_type": "code",
   "execution_count": null,
   "metadata": {},
   "outputs": [],
   "source": [
    "def addSummary(row):\r\n",
    "  \r\n",
    "    if ((row.description  == '2') \r\n",
    "    \r\n",
    "        return \"Match\"\r\n",
    "  \r\n",
    "    else:\r\n",
    "        return \"No Match\""
   ]
  },
  {
   "cell_type": "code",
   "execution_count": null,
   "metadata": {},
   "outputs": [],
   "source": [
    "# sum_integers_list.py\n",
    "def my_sum(my_integers):\n",
    "    result = 0\n",
    "    for x in my_integers:\n",
    "        result += x\n",
    "    return result\n",
    "\n",
    "list_of_integers = [1, 2, 3]\n",
    "print(my_sum(list_of_integers))"
   ]
  },
  {
   "cell_type": "code",
   "execution_count": null,
   "metadata": {},
   "outputs": [],
   "source": [
    "# sum_integers_args.py\n",
    "def my_sum(*args):\n",
    "    result = 0\n",
    "    # Iterating over the Python args tuple\n",
    "    for x in args:\n",
    "        result += x\n",
    "    return result\n",
    "\n",
    "print(my_sum(1, 2, 3))"
   ]
  },
  {
   "source": [
    "## The  \"*args\" oprator allows you to enter an undetermined number of arguments to the funtion  \n",
    "The star(*) is known as the unpacking operator (*)  \n",
    "\n",
    "-Use cases adding a list of numbers which changes dynamically each time the function is called"
   ],
   "cell_type": "markdown",
   "metadata": {}
  },
  {
   "cell_type": "code",
   "execution_count": null,
   "metadata": {},
   "outputs": [],
   "source": [
    "# sum of a list of integers :-\n",
    "def my_sum(*args):\n",
    "    result = 0\n",
    "    for x in args:\n",
    "        result += x\n",
    "    return result\n",
    "\n",
    "list1 = [1, 2, 3]\n",
    "list2 = [4, 5]\n",
    "list3 = [6, 7, 8, 9]\n",
    "\n",
    "print(my_sum(*list1, *list2, *list3))"
   ]
  },
  {
   "source": [
    "## The \"**kwargs\" oprator allows you to enter an undetermined number of \"keyword/named\" arguments to the funtion"
   ],
   "cell_type": "markdown",
   "metadata": {}
  },
  {
   "cell_type": "code",
   "execution_count": null,
   "metadata": {},
   "outputs": [],
   "source": [
    "# concatenate.py\n",
    "def concatenate(**kwargs):\n",
    "    result = \"\"\n",
    "    # Iterating over the Python kwargs dictionary\n",
    "    for arg in kwargs.values():\n",
    "        result += arg\n",
    "    return result\n",
    "\n",
    "print(concatenate(a=\"Real\", b=\"Python\", c=\"Is\", d=\"Great\", e=\"!\"))"
   ]
  },
  {
   "source": [
    "## Generators *Advanced*\n",
    "- They are special functions that do not store contents in memory\n",
    "- Useful for optimizing the processing of large data sets\n",
    "- Instead of loading a file to memory it opens up the file then iterates while performing calculations then returns a results\n",
    "\n"
   ],
   "cell_type": "markdown",
   "metadata": {}
  },
  {
   "cell_type": "code",
   "execution_count": null,
   "metadata": {},
   "outputs": [],
   "source": [
    "def csv_reader(file_name):\n",
    "    for row in open(file_name, \"r\"):\n",
    "        yield row "
   ]
  },
  {
   "cell_type": "code",
   "execution_count": null,
   "metadata": {},
   "outputs": [],
   "source": [
    "string1 = 'hector'\n",
    "string2 = 'HECTOR'\n",
    "\n",
    "if (string1.upper() == string2.upper()):\n",
    "     print('they are the same')\n",
    "     string1=string1.upper()\n",
    "     print(string1)\n",
    "else:\n",
    "    print('they are not the same')\n"
   ]
  },
  {
   "cell_type": "code",
   "execution_count": null,
   "metadata": {},
   "outputs": [],
   "source": [
    "import pandas as pd\n",
    "\n",
    "df = pd.read_csv (r\"C:\\Users\\Burudani\\Documents\\peopleData.csv\")\n",
    "print (df)"
   ]
  },
  {
   "cell_type": "code",
   "execution_count": null,
   "metadata": {},
   "outputs": [],
   "source": [
    "for index, row in df.iterrows():\n",
    "    print(row['firstname1'], row['lastname1'])"
   ]
  },
  {
   "source": [
    "## Argeparse  \n",
    "\n",
    "A python module for allowing your program to recieve arguemnts in the command line. The argparse module makes it easy to write user-friendly command-line interfaces. Think Linux command line\n"
   ],
   "cell_type": "markdown",
   "metadata": {}
  },
  {
   "cell_type": "code",
   "execution_count": null,
   "metadata": {},
   "outputs": [],
   "source": [
    "from tkinter import *\n",
    "\n",
    "root = Tk()\n",
    "frame = Frame(root)\n",
    "frame.pack()\n",
    "\n",
    "bottomframe = Frame(root)\n",
    "bottomframe.pack( side = BOTTOM )\n",
    "\n",
    "redbutton = Button(frame, text=\"Red\", fg=\"red\")\n",
    "redbutton.pack( side = LEFT)\n",
    "\n",
    "greenbutton = Button(frame, text=\"Brown\", fg=\"brown\")\n",
    "greenbutton.pack( side = LEFT )\n",
    "\n",
    "bluebutton = Button(frame, text=\"Blue\", fg=\"blue\")\n",
    "bluebutton.pack( side = LEFT )\n",
    "\n",
    "blackbutton = Button(bottomframe, text=\"Black\", fg=\"black\")\n",
    "blackbutton.pack( side = BOTTOM)\n",
    "\n",
    "root.mainloop()"
   ]
  },
  {
   "cell_type": "code",
   "execution_count": null,
   "metadata": {},
   "outputs": [],
   "source": []
  }
 ]
}