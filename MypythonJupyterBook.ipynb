{
 "metadata": {
  "language_info": {
   "codemirror_mode": {
    "name": "ipython",
    "version": 3
   },
   "file_extension": ".py",
   "mimetype": "text/x-python",
   "name": "python",
   "nbconvert_exporter": "python",
   "pygments_lexer": "ipython3",
   "version": "3.7.7-final"
  },
  "orig_nbformat": 2,
  "kernelspec": {
   "name": "python3",
   "display_name": "Python 3",
   "language": "python"
  }
 },
 "nbformat": 4,
 "nbformat_minor": 2,
 "cells": [
  {
   "source": [
    "# Welcome to my Python CookBook\n",
    "\n",
    "## To run a cell use alt+Enter  , or shift enter, works for code too\n",
    "\n",
    "\n"
   ],
   "cell_type": "markdown",
   "metadata": {
    "tags": []
   }
  },
  {
   "source": [
    "using pip\n",
    "\n",
    "at cli type\n",
    "\n",
    "pip --version\n",
    "\n",
    "pip -- help\n"
   ],
   "cell_type": "markdown",
   "metadata": {}
  },
  {
   "source": [
    "## Strings"
   ],
   "cell_type": "markdown",
   "metadata": {}
  },
  {
   "cell_type": "code",
   "execution_count": 2,
   "metadata": {},
   "outputs": [
    {
     "output_type": "stream",
     "name": "stdout",
     "text": [
      "This is good way to combine a string and a variable e.g: 35 and jambo ty\n3\n2\n"
     ]
    }
   ],
   "source": [
    "var1 = 35\n",
    "var2 = 'jambo'\n",
    "#string .format() method to print string with variables!\n",
    "print('This is good way to combine a string and a variable e.g: {} and {} ty'.format(var1,var2))\n",
    "\n",
    "#using 'count' to see how many times a specified string occurs in a larger string\n",
    "myString = 'HeLLo, WorLd! 123'\n",
    "print(myString.count('L')) # ans will be 3\n",
    "\n",
    "s = 'python is pythonic'\n",
    "print(s.count('python')) # ans will be 2\n",
    "\n"
   ]
  },
  {
   "source": [
    "## TUPLES"
   ],
   "cell_type": "markdown",
   "metadata": {}
  },
  {
   "cell_type": "code",
   "execution_count": null,
   "metadata": {},
   "outputs": [],
   "source": [
    "'''FINAL ASSIGNMENT\n",
    "In this assignment Read data from  a text file, load it into python, \n",
    "parse through it line by line and  and if a line starts with 'From' ,\n",
    " then split it up by space, select the 5 string in the line, then split that by \n",
    " colon, then select the first part of that string then add it to a dictionary \n",
    " along with the number of times it shows up in the entire document,essentially \n",
    " creating a histogram'''\n",
    "\n",
    "counts = dict()\n",
    "#name = input(\"Enter file:\")\n",
    "#if len(name) < 1 : name = \"mbox-short.txt\"\n",
    "#handle = open(name)\n",
    "handle = open(\"mbox-short.txt\")\n",
    "for line in handle:\n",
    "    if line.startswith('From '):\n",
    "        selectedLine = line.split()\n",
    "        #print(selectedLine)\n",
    "        lineSelected = selectedLine[5]\n",
    "        hourSplit = lineSelected.split(':')\n",
    "        hourString = hourSplit[0]\n",
    "        #print(hourString)\n",
    "        counts[hourString] = counts.get(hourString, 0) + 1    # assigns a value to a dictionary\n",
    "\n",
    "#print(counts)\n",
    "#sortedString = (sorted ([(k,v)for k,v in counts.items()]))\n",
    "\n",
    "for k,v in sorted ([(k,v)for k,v in counts.items()]):\n",
    "    \n",
    "    print(k,v)\n"
   ]
  },
  {
   "source": [
    "# Dictionaries\n"
   ],
   "cell_type": "markdown",
   "metadata": {}
  },
  {
   "cell_type": "code",
   "execution_count": null,
   "metadata": {},
   "outputs": [],
   "source": [
    "# Description\n",
    "# Python dictionary method setdefault() is similar to get(), but will set dict[key]=default if key is not already in dict.\n",
    "\n",
    "nameDict = {'Name': 'Zara', 'Age': 7} # curley braces  [] () {}\n",
    "print (\"Value : %s\" %  nameDict.setdefault('Age', None) ) # age cannot be defaulted to #\"none\"  because it already has a value\n",
    "print (\"Value : %s\" %  nameDict.setdefault('Sex', None)) #sex does not exist in the dictionary, thus is created automatically\n",
    "\n",
    "nameDict['message'] = 'Welcome'  #adding new values to new keys in a dictionaries\n",
    "nameDict['Name'] = 'zaria'\n",
    "\n",
    "\n",
    "print(nameDict)\n",
    "#NB:::: Default values in a dictionary can NEVER be changed  \n"
   ]
  },
  {
   "source": [
    "# CLASSES"
   ],
   "cell_type": "markdown",
   "metadata": {}
  },
  {
   "cell_type": "code",
   "execution_count": null,
   "metadata": {},
   "outputs": [],
   "source": [
    "#Creating an empty class\n",
    "\n",
    "class Employee\n",
    "    pass"
   ]
  },
  {
   "cell_type": "code",
   "execution_count": null,
   "metadata": {
    "tags": []
   },
   "outputs": [],
   "source": [
    "class Point():\n",
    "    def getX(self):\n",
    "        return self.x\n",
    "point1 = Point()\n",
    "point2 = Point()\n",
    "\n",
    "point1.x = 5\n",
    "point2.x = 10\n",
    "\n",
    "print(point1.getX())\n",
    "print(point2.getX())\n"
   ]
  },
  {
   "cell_type": "markdown",
   "metadata": {},
   "source": [
    "#Definign the Constructor _ _init_ _  \n",
    "Its a special method"
   ]
  },
  {
   "cell_type": "code",
   "execution_count": null,
   "metadata": {
    "tags": []
   },
   "outputs": [],
   "source": [
    "class Point():\n",
    "    def __init__(self,x,y):  #self is provided by default, but the constructor needs to know what x and y are, before being able to run succesfullyin\n",
    "        self.x=x\n",
    "        self.y=y\n",
    "\n",
    "    def getX(self):\n",
    "        return self.x\n",
    "\n",
    "point1 = Point(5,10) # Instantiate an object of type Point, with two arguments\n",
    "point2 = Point(1,2) #therefore now as we create new instance objects, there must now be at least two variables\n",
    "\n",
    "# Point has been bound to an object representing the Point class,\n",
    "\n",
    "\n",
    "print(point1.getX())\n",
    "print(point2.getX())\n"
   ]
  },
  {
   "source": [
    "# Adding another Method to a class"
   ],
   "cell_type": "markdown",
   "metadata": {}
  },
  {
   "source": [
    "class Point():   #Classes start with a capital letter\n",
    "    def __init__(self,x,y):  #self is provided by default, but the constructor needs to know what x and y are, before being able to run succesfully\n",
    "        self.x=x\n",
    "        self.y=y\n",
    "\n",
    "    def getX(self):\n",
    "        return self.x\n",
    "    def getX(self):\n",
    "        return self.y\n",
    "\n",
    "point1 = Point(10,100) \n",
    "#point2 = Point(1,2)\n"
   ],
   "cell_type": "code",
   "metadata": {},
   "execution_count": null,
   "outputs": []
  },
  {
   "source": [
    "class NumberSet():\n",
    "    def __init__(self,num1,num2):\n",
    "        self.num1 = num1\n",
    "        self.num2 = num2\n",
    " \n",
    " \n",
    "t = NumberSet(6,10) "
   ],
   "cell_type": "code",
   "metadata": {},
   "execution_count": null,
   "outputs": []
  },
  {
   "cell_type": "code",
   "execution_count": null,
   "metadata": {
    "tags": []
   },
   "outputs": [],
   "source": [
    "class Animal():\n",
    "    def __init__(self,arms,legs):\n",
    "        self.arms = arms\n",
    "        self.legs = legs\n",
    "\n",
    "    def limbs(self):\n",
    "        return (self.arms+self.legs)\n",
    "\n",
    "spider =Animal(5,4)\n",
    "\n",
    "spidlimbs = spider.limbs()\n",
    "print(spidlimbs)"
   ]
  },
  {
   "source": [
    "# Object as Arguements and parameters\n"
   ],
   "cell_type": "markdown",
   "metadata": {}
  },
  {
   "cell_type": "code",
   "execution_count": null,
   "metadata": {},
   "outputs": [],
   "source": [
    "'''In this first example  of using objects as arguments : a function called distance is created outside the class definition and thus cannot be considered a method, Basically its not a method because\n",
    "1.Its outside the class definition\n",
    "2.It does not use the \"dot\" notation to access it'''\n",
    "\n",
    "\n",
    "import math\n",
    "\n",
    "class Point:\n",
    "    \"\"\" Point class for representing and manipulating x,y coordinates. \"\"\"\n",
    "\n",
    "    def __init__(self, initX, initY):\n",
    "\n",
    "        self.x = initX\n",
    "        self.y = initY\n",
    "\n",
    "    def getX(self):\n",
    "        return self.x\n",
    "\n",
    "    def getY(self):\n",
    "        return self.y\n",
    "\n",
    "    def distanceFromOrigin(self):\n",
    "        return ((self.x ** 2) + (self.y ** 2)) ** 0.5\n",
    "\n",
    "def distance(point1, point2):\n",
    "    xdiff = point2.getX()-point1.getX()\n",
    "    ydiff = point2.getY()-point1.getY()\n",
    "\n",
    "    dist = math.sqrt(xdiff**2 + ydiff**2)\n",
    "    return dist\n",
    "\n",
    "p = Point(4,3)\n",
    "q = Point(0,0)\n",
    "print(distance(p,q))"
   ]
  },
  {
   "cell_type": "code",
   "execution_count": null,
   "metadata": {},
   "outputs": [],
   "source": [
    "'''In this Second example  of using objects as arguments : the function \"Distance\" is brought into the class definition and thus becomes a method. Note that it is now invoked using the \"dot\" notation. Weather to bring the function into the class definition or not, is a matter of prefference among programmers '''\n",
    "\n",
    "import math\n",
    "\n",
    "class Point:\n",
    "    \"\"\" Point class for representing and manipulating x,y coordinates. \"\"\"\n",
    "\n",
    "    def __init__(self, initX, initY):\n",
    "\n",
    "        self.x = initX\n",
    "        self.y = initY\n",
    "\n",
    "    def getX(self):\n",
    "        return self.x\n",
    "\n",
    "    def getY(self):\n",
    "        return self.y\n",
    "\n",
    "    def distanceFromOrigin(self):\n",
    "        return ((self.x ** 2) + (self.y ** 2)) ** 0.5\n",
    "\n",
    "    def distance(self, point2):\n",
    "        xdiff = point2.getX()-self.getX()\n",
    "        ydiff = point2.getY()-self.getY()\n",
    "\n",
    "        dist = math.sqrt(xdiff**2 + ydiff**2)\n",
    "        return dist\n",
    "\n",
    "p = Point(4,3)\n",
    "q = Point(0,0)\n",
    "print(p.distance(q))"
   ]
  },
  {
   "source": [
    "# Creating Instances from Data"
   ],
   "cell_type": "markdown",
   "metadata": {}
  },
  {
   "cell_type": "code",
   "execution_count": null,
   "metadata": {},
   "outputs": [],
   "source": [
    "cityNames = ['Detroit', 'Ann Arbor', 'Pittsburgh','Mars', 'New York']\n",
    "populations = [680250,117070,304391,1683,8406000]\n",
    "states = ['MI', 'MI','PA', 'NY']\n",
    "\n",
    "city_tuples = zip(cityNames, populations, states) # zip takes list and creates a list of tuples\n",
    "\n",
    "class City:\n",
    "    def __init__(self, n,p,s):\n",
    "        self.name = n\n",
    "        self.population = p\n",
    "        self.state = s\n",
    "    def __str__(self):\n",
    "        return '{},{} (pop: {})'.format(self.name,self.state,self.population)\n",
    "\n",
    "print(\"Without using list comprehension\")\n",
    "cities = []\n",
    "for n in city_tuples:  # for every single value(every single tuple) in the city_tuples's tuple list\n",
    "    name, pop,state = n  # take a single tuple and store it in name pop and state respectfully\n",
    "    cityInstance = City(name,pop, state) # now use those values to create an instance of the City class that needs those 3 arguments and store it in the variable 'cityInstance'\n",
    "    cities.append(cityInstance)  # cities is now a list of City instances\n",
    "    print(cities)  # prints a list of the instances\n",
    "\n",
    "    \n",
    "#Zero out cities for example below\n",
    "\n",
    "cities = []\n",
    "print(\"\\n\")\n",
    "\n",
    "\n",
    "# or we can use list comprehension :-\n",
    "\n",
    "cities = [City(n,p,s) for (n,p,s) in city_tuples]\n",
    "print(\"Using List Comprehension\",cities)     # gives same result as the print statement above BUT need to comment the above code for the code below to work\n",
    "\n"
   ]
  },
  {
   "cell_type": "code",
   "execution_count": null,
   "metadata": {},
   "outputs": [],
   "source": []
  },
  {
   "source": [
    "# Object as Arguments and Parameters\n",
    "## Here we take the class we created earlier and use objects created by it as both an argument and a parameter"
   ],
   "cell_type": "markdown",
   "metadata": {}
  },
  {
   "cell_type": "code",
   "execution_count": null,
   "metadata": {},
   "outputs": [],
   "source": [
    "import math   # import the math module\n",
    "\n",
    "class Point:     # all classes start with a capital letter\n",
    "    \"\"\" Point class for representing and manipulating x,y coordinates. \"\"\"   # a docstring describing the \"Point\" class\n",
    "\n",
    "    \n",
    "    var1 = 29    # this is a \"class variable\"\n",
    "    def __init__(self, initX, initY):  #Notice there are 3 parameters here in this constructor: \"self\", \"initX\" and \"initY\". When a new instance of the point class is created, you have to provide 2 arguments to be passed into the two parameters above  \n",
    "\n",
    "        self.x = initX  #self.x and self.y are called \"instance variables\"\n",
    "        self.y = initY\n",
    "\n",
    "    def getX(self):\n",
    "        return self.x\n",
    "\n",
    "    def getY(self):\n",
    "        return self.y\n",
    "\n",
    "    def distanceFromOrigin(self):\n",
    "        return ((self.x ** 2) + (self.y ** 2)) ** 0.5    #returns a float value\n",
    "\n",
    "    def distance(self, point2):\n",
    "        xdiff = point2.getX()-self.getX()\n",
    "        ydiff = point2.getY()-self.getY()\n",
    "\n",
    "        dist = math.sqrt(xdiff**2 + ydiff**2)\n",
    "        return dist\n",
    "   \n",
    "p = Point(4,3) # here we pass 4 and 3 as arguments to the newly created instance \"p\"\n",
    "q = Point(0,0)\n",
    "print(p.distance(q))  # here we are seeing the distance method of instance \"P\" using the \"q\" instance as an argument\n",
    "\n",
    "print(Point.__doc__)   # print the docstring of point class\n",
    "\n",
    "        "
   ]
  },
  {
   "cell_type": "code",
   "execution_count": null,
   "metadata": {},
   "outputs": [],
   "source": [
    "name = ['mama', 'papa']\n",
    "for i in name:\n",
    "    i.upper()\n",
    "print(name)"
   ]
  },
  {
   "source": [
    "## Converting an object to a string"
   ],
   "cell_type": "markdown",
   "metadata": {}
  },
  {
   "cell_type": "code",
   "execution_count": null,
   "metadata": {},
   "outputs": [],
   "source": [
    "class Point:   # all classes start with a capital letter\n",
    "    \"\"\" Point class for representing and manipulating x,y coordinates. \"\"\"   # a docstring describing the \"Point\" class\n",
    "\n",
    "    \n",
    "    var1 = 29    # this is a \"class variable\"\n",
    "    def __init__(self, initX, initY):  #Notice there are 3 parameters here in this constructor: \"self\", \"initX\" and \"initY\". When a new instance of the point class is created, you have to provide 2 arguments to be passed into the two parameters above  \n",
    "\n",
    "        self.x = initX  #self.x and self.y are called \"instance variables\"\n",
    "        self.y = initY\n",
    "\n",
    "    def getX(self):     #notice how the methods all have \"self\" as the first and default parameter\n",
    "        return self.x\n",
    "\n",
    "    def getY(self):\n",
    "        return self.y\n",
    "\n",
    "    def distanceFromOrigin(self):\n",
    "        return ((self.x ** 2) + (self.y ** 2)) ** 0.5    #returns a float value\n",
    "\n",
    "    def __str__(self):              # This method returns a result when we convert the point instance to a string e.g when we call \"print(p)\" its gives us descriptive data on the newly created instances e.g the arguments of the instance\n",
    "        return 'Point ({}, {})'. format( self.x,self.y)  # here we return a formatted string where we pass in the values respectfully \n",
    "\n",
    "p=Point(7,6)\n",
    "p2=Point(8,5)\n",
    "\n",
    "print(Point.__doc__)  # print the dc strign describing the class\n",
    "print(p,p2)  # now that we have created the string method, when this is called, we know see the details of the instances of \"p\" and \"p2\"\n",
    "\n"
   ]
  },
  {
   "cell_type": "code",
   "execution_count": null,
   "metadata": {},
   "outputs": [],
   "source": [
    "class Cereal:\n",
    "    \"\"\" Ceral class for representing and manipulating x,y coordinates. \"\"\"\n",
    "    def __init__(self, str1, str2, int1): \n",
    "\n",
    "        self.name = str1  #self.x and self.y are called \"instance variables\"\n",
    "        self.brand = str2\n",
    "        self.fiber = int1\n",
    "\n",
    "    def __str__(self):\n",
    "        return ' {} cereal is produced by {} and has {} grams of fiber in every serving! '. format( self.name,self.brand,self.fiber)  \n",
    "\n",
    "c1 = Cereal(\"Corn Flakes\",\"Kellogg's\",2)\n",
    "c2 = Cereal(\"Honey Nut Cheerios\",\"General Mills\",3)\n",
    "\n",
    "print(c1,'\\n',c2)\n"
   ]
  },
  {
   "source": [
    "## Special  Methods : Adding and Subtracting instances"
   ],
   "cell_type": "markdown",
   "metadata": {}
  },
  {
   "cell_type": "code",
   "execution_count": null,
   "metadata": {},
   "outputs": [],
   "source": [
    "### In this Example, new special methods such as the str method above are introduced. The methods are used to demonstrate  more examples of the instaces as arguments"
   ]
  },
  {
   "cell_type": "code",
   "execution_count": null,
   "metadata": {},
   "outputs": [],
   "source": [
    "class Point:   # all classes start with a capital letter\n",
    "    \"\"\" Point class for representing and manipulating x,y coordinates. \"\"\"   # a docstring describing the \"Point\" class\n",
    "\n",
    "    \n",
    "    var1 = 29    # this is a \"class variable\"\n",
    "    def __init__(self, initX, initY):  #Notice there are 3 parameters here in this \"init\" constructor: \"self\", \"initX\" and \"initY\". When a new instance of the point class is created, you have to provide 2 arguments to be passed into the two parameters above  \n",
    "\n",
    "        self.x = initX  #self.x and self.y are called \"instance variables\"\n",
    "        self.y = initY\n",
    "\n",
    "    def __str__(self):              # This method returns a result when we convert the point instance to a string e.g when we call \"print(p)\" its gives us descriptive data on the newly created instances e.g the arguments of the instance\n",
    "        return 'Point ({}, {})'. format( self.x,self.y)   \n",
    "\n",
    "    def __add__(self, otherPoint):             \n",
    "        return Point(self.x + otherPoint.x,\n",
    "        self.y + otherPoint.y) \n",
    "\n",
    "    def __sub__(self, otherPoint):             \n",
    "        return Point(self.x - otherPoint.x,\n",
    "        self.y - otherPoint.y) \n",
    "\n",
    "#To demonstrate this \n",
    "\n",
    "p1 = Point (-5, 10)\n",
    "p2 = Point (15, 20)\n",
    "\n",
    "print(p1)\n",
    "print(p2)\n",
    "\n",
    "print(p1+p2)\n",
    "print(p1-p2)"
   ]
  },
  {
   "source": [
    "## Instances as Return Values\n",
    "The code below will return a new instance point that is halfway between the two points"
   ],
   "cell_type": "markdown",
   "metadata": {}
  },
  {
   "cell_type": "code",
   "execution_count": null,
   "metadata": {},
   "outputs": [],
   "source": [
    "class Point:\n",
    "    def __init__(self, initX, initY):\n",
    "        self.x = initX\n",
    "        self.y = initY\n",
    "    def halfway(self, target):\n",
    "        mx = (self.x + target.x)/2  # i.e take the x instance variable of the first instance and add it to the x instance variable of the second instance then divide by 2\n",
    "        my = (self.y +target.y)/2\n",
    "        return Point(mx,my)\n",
    "    def __str__(self):  # if you don't put this method then an actual instance memory point of the instance will be printed when you use \"print\"\n",
    "        return 'x = {}, y = {}' .format(self.x, self.y)  # this is known as F-strings\n",
    "\n",
    "\n",
    "p = Point(3,4)\n",
    "q = Point(5,12)\n",
    "mid = p.halfway(q)\n",
    "print(mid)\n",
    "\n"
   ]
  },
  {
   "source": [
    "## Sorting Lists of Instances"
   ],
   "cell_type": "markdown",
   "metadata": {}
  },
  {
   "cell_type": "code",
   "execution_count": null,
   "metadata": {},
   "outputs": [],
   "source": [
    "class Fruit:\n",
    "    \"\"\" Fruit class for representing and sorting fruits by price \"\"\"\n",
    "    def __init__(self, name,price): \n",
    "\n",
    "        self.name = name  # \"instance variables\"\n",
    "        self.price = name\n",
    "    \n",
    "    def sort_priority(self):\n",
    "        return self.price\n",
    "\n",
    "\n",
    "L = [\n",
    "    Fruit('Cherry',10),\n",
    "    Fruit('Apple',5),\n",
    "    Fruit('Blueberry',20)\n",
    "]\n",
    "\n",
    "\n",
    "for f in sorted(L, key = Fruit.sort_priority):\n",
    "    print(f.name)\n",
    "\n",
    "# Or you can do the above like this using lambda:-\n",
    "#for f in sorted (L, key = lambda x: x.sort_priority()):\n",
    "#    print(f.name)"
   ]
  },
  {
   "cell_type": "code",
   "execution_count": null,
   "metadata": {},
   "outputs": [],
   "source": [
    "#Recal this simple sorting example using lambda\n",
    "\n",
    "L = [\"Cherry\", \"Apple\", \"Blueberry\"]\n",
    "\n",
    "print(sorted(L, key=len))\n",
    "#alternative form using lambda, if you find that easier to understand\n",
    "print(sorted(L, key= lambda x: len(x)))\n"
   ]
  },
  {
   "cell_type": "code",
   "execution_count": null,
   "metadata": {},
   "outputs": [],
   "source": [
    "\n",
    "\n",
    "class Fruit():\n",
    "    '''Class for Sorting Instances'''\n",
    "    def __init__(self, name, price):\n",
    "        self.name = name\n",
    "        self.price = price\n",
    "\n",
    "L = [Fruit(\"Cherry\", 10), Fruit(\"Apple\", 5), Fruit(\"Blueberry\", 20)]\n",
    "for f in sorted(L, key=lambda x: x.price):\n",
    "    print(f.name)\n"
   ]
  },
  {
   "source": [
    "## Sorting example for instances"
   ],
   "cell_type": "markdown",
   "metadata": {}
  },
  {
   "cell_type": "code",
   "execution_count": null,
   "metadata": {},
   "outputs": [],
   "source": [
    "\n",
    "\n",
    "class Fruit():\n",
    "    def __init__(self, name, price):\n",
    "        self.name = name\n",
    "        self.price = price\n",
    "\n",
    "    def sort_priority(self):\n",
    "        return self.price\n",
    "\n",
    "L = [Fruit(\"Cherry\", 10), Fruit(\"Apple\", 5), Fruit(\"Blueberry\", 20)]\n",
    "print(\"-----sorted by price, referencing a class method-----\")\n",
    "for f in sorted(L, key=Fruit.sort_priority):\n",
    "    print(f.name)\n",
    "\n",
    "print(\"---- one more way to do the same thing-----\")\n",
    "for f in sorted(L, key=lambda x: x.sort_priority()):\n",
    "    print(f.name)\n"
   ]
  },
  {
   "source": [],
   "cell_type": "markdown",
   "metadata": {}
  },
  {
   "source": [
    "## Tamagotchi Game  \n",
    "**First, let’s start with a class Pet. Each instance of the class will be one electronic pet for the user to take care of. Each instance will have a current state, consisting of three instance variables:**\n",
    "- hunger, an integer\n",
    "\n",
    "- boredom, an integer\n",
    "\n",
    "- sounds, a list of strings, each a word that the pet has been taught to say\n",
    "\n",
    "<span style=\"color:blue\">some *blue* text</span>. \n",
    "\n",
    "In the __init__ method, hunger and boredom are initialized to random values between 0 and the threshold for being hungry or bored. The sounds instance variable is initialized to be a copy of the class variable with the same name. The reason we make a copy of the list is that we will perform destructive operations (appending new sounds to the list). If we didn’t make a copy, then those destructive operations would affect the list that the class variable points to, and thus teaching a sound to any of the pets would teach it to all instances of the class!\n",
    "\n",
    "There is a clock_tick method which just increments the boredom and hunger instance variables, simulating the idea that as time passes, the pet gets more bored and hungry.\n",
    "\n",
    "The __str__ method produces a string representation of the pet’s current state, notably whether it is bored or hungry or whether it is happy. It’s bored if the boredom instance variable is larger than the threshold, which is set as a class variable.\n",
    "\n",
    "To relieve boredom, the pet owner can either teach the pet a new word, using the teach() method, or interact with the pet, using the hi() method. In response to teach(), the pet adds the new word to its list of words. In response to the hi() method, it prints out one of the words it knows, randomly picking one from its list of known words. Both hi() and teach() cause an invocation of the reduce_boredom() method. It decrements the boredom state by an amount that it reads from the class variable boredom_decrement. The boredom state can never go below 0.\n",
    "\n",
    "To relieve hunger, we call the feed() method.\n"
   ],
   "cell_type": "markdown",
   "metadata": {}
  },
  {
   "cell_type": "code",
   "execution_count": null,
   "metadata": {},
   "outputs": [],
   "source": [
    "from random import randrange\n",
    "\n",
    "class Pet():\n",
    "    boredom_decrement = 4\n",
    "    hunger_decrement = 6\n",
    "    boredom_threshold = 5\n",
    "    hunger_threshold = 10\n",
    "    sounds = ['Mrrp']\n",
    "    def __init__(self, name = \"Kitty\"):\n",
    "        self.name = name\n",
    "        self.hunger = randrange(self.hunger_threshold)\n",
    "        self.boredom = randrange(self.boredom_threshold)\n",
    "        self.sounds = self.sounds[:]  # copy the class attribute, so that when we make changes to it, we won't affect the other Pets in the class\n",
    "\n",
    "    def clock_tick(self):\n",
    "        self.boredom += 1\n",
    "        self.hunger += 1\n",
    "\n",
    "    def mood(self):\n",
    "        if self.hunger <= self.hunger_threshold and self.boredom <= self.boredom_threshold:\n",
    "            return \"happy\"\n",
    "        elif self.hunger > self.hunger_threshold:\n",
    "            return \"hungry\"\n",
    "        else:\n",
    "            return \"bored\"\n",
    "\n",
    "    def __str__(self):\n",
    "        state = \"     I'm \" + self.name + \". \"\n",
    "        state += \" I feel \" + self.mood() + \". \"\n",
    "        # state += \"Hunger {} Boredom {} Words {}\".format(self.hunger, self.boredom, self.sounds)\n",
    "        return state\n",
    "\n",
    "    def hi(self):\n",
    "        print(self.sounds[randrange(len(self.sounds))])\n",
    "        self.reduce_boredom()\n",
    "\n",
    "    def teach(self, word):\n",
    "        self.sounds.append(word)\n",
    "        self.reduce_boredom()\n",
    "\n",
    "    def feed(self):\n",
    "        self.reduce_hunger()\n",
    "\n",
    "    def reduce_hunger(self):\n",
    "        self.hunger = max(0, self.hunger - self.hunger_decrement)\n",
    "\n",
    "    def reduce_boredom(self):\n",
    "        self.boredom = max(0, self.boredom - self.boredom_decrement)\n",
    "\n",
    "\n",
    "# Now to initialize a new pet !\n",
    "\n",
    "p1 = Pet(\"Fido\")\n",
    "print(p1)\n",
    "for i in range(10):\n",
    "    p1.clock_tick()\n",
    "    print(p1)\n",
    "p1.feed()\n",
    "p1.hi()\n",
    "p1.teach(\"Boo\")\n",
    "for i in range(10):\n",
    "    p1.hi()\n",
    "print(p1)\n",
    "\n"
   ]
  },
  {
   "cell_type": "code",
   "execution_count": null,
   "metadata": {},
   "outputs": [],
   "source": [
    "class Bike():\n",
    "    '''This class produces a bike and its corresponding color and price'''\n",
    "    def __init__(self,color,price):\n",
    "        self.color = color\n",
    "        self.price = price\n",
    "\n",
    "\n",
    "testOne = Bike('blue',89.99)\n",
    "testTwo = Bike('purple', 25.0)"
   ]
  },
  {
   "cell_type": "code",
   "execution_count": null,
   "metadata": {},
   "outputs": [],
   "source": [
    "class AppleBasket():\n",
    "    '''This class populates an apple basket with appoles of specified color and price'''\n",
    "    def __init__(self,apple_color,apple_quantity):\n",
    "        self.apple_color = apple_color\n",
    "        self.apple_quantity = apple_quantity\n",
    "    def increase(self):\n",
    "        self.apple_quantity = self.apple_quantity+1\n",
    "    def __str__(self):  # if you don't put this method then an actual instance memory point of the instance will be printed when you use \"print\"\n",
    "        return 'A basket of {} {} apples.' .format(self.apple_quantity, self.apple_color)  "
   ]
  },
  {
   "cell_type": "code",
   "execution_count": null,
   "metadata": {},
   "outputs": [],
   "source": [
    "class BankAccount():\n",
    "    '''This class creates a bank account for a named person along with a dollar amount'''\n",
    "    def __init__(self,name,amt):\n",
    "        self.name = name \n",
    "        self.amt = amt\n",
    "    def __str__(self):  \n",
    "        return 'Your account, {}, has {} dollars.' .format(self.name, self.amt)  \n",
    "\n",
    "\n",
    "t1 = BankAccount('Bob',100)\n",
    "print(t1)"
   ]
  },
  {
   "source": [
    "### In the Example Below we add conditions for both cats and dogs.As you will notice, its very confusing because we are not using inheritance to describe both the cat and the dog as pets"
   ],
   "cell_type": "markdown",
   "metadata": {}
  },
  {
   "cell_type": "code",
   "execution_count": null,
   "metadata": {},
   "outputs": [],
   "source": [
    "from random import randrange\n",
    "\n",
    "class Pet():\n",
    "    boredom_decrement = 4\n",
    "    hunger_decrement = 6\n",
    "    boredom_threshold = 5\n",
    "    hunger_threshold = 10\n",
    "    sounds = ['Mrrp']\n",
    "    def __init__(self, name = \"Kitty\", pet_type=\"cat\"):\n",
    "        self.name = name\n",
    "        self.hunger = randrange(self.hunger_threshold)\n",
    "        self.boredom = randrange(self.boredom_threshold)\n",
    "        self.sounds = self.sounds[:]  # copy the class attribute, so that when we make changes to it, we won't affect the other Pets in the class\n",
    "        self.pet_type = pet_type\n",
    "\n",
    "    def clock_tick(self):\n",
    "        self.boredom += 1\n",
    "        self.hunger += 1\n",
    "\n",
    "    def mood(self):\n",
    "        if self.hunger <= self.hunger_threshold and self.boredom <= self.boredom_threshold:\n",
    "            if self.pet_type == \"dog\": # if the pet is a dog, it will express its mood in different ways from a cat or any other type of animal\n",
    "                return \"happy\"\n",
    "            elif self.pet_type == \"cat\":\n",
    "                return \"happy, probably\"\n",
    "            else:\n",
    "                return \"HAPPY\"\n",
    "        elif self.hunger > self.hunger_threshold:\n",
    "            if self.pet_type == \"dog\": # same for hunger -- dogs and cats will express their hunger a little bit differently in this version of the class definition\n",
    "                return \"hungry, arf\"\n",
    "            elif self.pet_type == \"cat\":\n",
    "                return \"hungry, meeeeow\"\n",
    "            else:\n",
    "                return \"hungry\"\n",
    "        else:\n",
    "            return \"bored\"\n",
    "\n",
    "    def __str__(self):\n",
    "        state = \"     I'm \" + self.name + \". \"+ \" I feel \" + self.mood() + \". \"\n",
    "        #state += \" I feel \" + self.mood() + \". \"\n",
    "        return state\n",
    "\n",
    "    def hi(self):\n",
    "        print(self.sounds[randrange(len(self.sounds))])\n",
    "        self.reduce_boredom()\n",
    "\n",
    "    def teach(self, word):\n",
    "        self.sounds.append(word)\n",
    "        self.reduce_boredom()\n",
    "\n",
    "    def feed(self):\n",
    "        self.reduce_hunger()\n",
    "\n",
    "    def reduce_hunger(self):\n",
    "        self.hunger = max(0, self.hunger - self.hunger_decrement)\n",
    "\n",
    "    def reduce_boredom(self):\n",
    "        self.boredom = max(0, self.boredom - self.boredom_decrement)\n",
    "\n",
    "\n",
    "\n",
    "\n",
    "mynewPet = Pet()\n",
    "\n",
    "\n",
    "\n",
    "print(mynewPet)\n",
    "\n",
    "\n",
    "for i in range(55):\n",
    "    mynewPet.clock_tick()\n",
    "    \n",
    "for i in range(55):\n",
    "    mynewPet.reduce_boredom()\n",
    "\n",
    "print(mynewPet)"
   ]
  },
  {
   "cell_type": "code",
   "execution_count": null,
   "metadata": {},
   "outputs": [],
   "source": [
    "#NB this code will result in an error\n",
    "new_cat = Cheshire(\"Pumpkin”)\n",
    "class Siamese(Cat):\n",
    "  def song(self):\n",
    "    print(\"We are Siamese if you please. We are Siamese if you don’t please.\")\n",
    "another_cat = Siamese(\"Lady\")\n",
    "new_cat.song()\n",
    "\n",
    "# The above code will result in an error because  You cannot invoke methods defined in the Siamese class on an instance of the Cheshire class. Both are subclasses of Cat, but Cheshire is not a subclass of Siamese, so it doesn't inherit its methods."
   ]
  },
  {
   "source": [
    "### superClass, is the class which the subClass inherits from\n"
   ],
   "cell_type": "markdown",
   "metadata": {}
  },
  {
   "cell_type": "code",
   "execution_count": null,
   "metadata": {},
   "outputs": [],
   "source": [
    "class Pokemon(object):\n",
    "    attack = 12\n",
    "    defense = 10\n",
    "    health = 15\n",
    "    p_type = \"Normal\"\n",
    "\n",
    "    def __init__(self, name, level = 5):\n",
    "        self.name = name\n",
    "        self.level = level\n",
    "\n",
    "    def train(self):\n",
    "        self.update()\n",
    "        self.attack_up()\n",
    "        self.defense_up()\n",
    "        self.health_up()\n",
    "        self.level = self.level + 1\n",
    "        if self.level%self.evolve == 0:\n",
    "            return self.level, \"Evolved!\"\n",
    "        else:\n",
    "            return self.level\n",
    "\n",
    "    def attack_up(self):\n",
    "        self.attack = self.attack + self.attack_boost\n",
    "        return self.attack\n",
    "\n",
    "    def defense_up(self):\n",
    "        self.defense = self.defense + self.defense_boost\n",
    "        return self.defense\n",
    "\n",
    "    def health_up(self):\n",
    "        self.health = self.health + self.health_boost\n",
    "        return self.health\n",
    "\n",
    "    def update(self):\n",
    "        self.health_boost = 5\n",
    "        self.attack_boost = 3\n",
    "        self.defense_boost = 2\n",
    "        self.evolve = 10\n",
    "\n",
    "    def __str__(self):\n",
    "        self.update()\n",
    "        return \"Pokemon name: {}, Type: {}, Level: {}\".format(self.name, self.p_type, self.level)\n",
    "\n",
    "class Grass_Pokemon(Pokemon):\n",
    "    attack = 15\n",
    "    defense = 14\n",
    "    health = 12\n",
    "\n",
    "    def update(self):\n",
    "        self.health_boost = 6\n",
    "        self.attack_boost = 2\n",
    "        self.defense_boost = 3\n",
    "        self.evolve = 12\n",
    "\n",
    "    def moves(self):\n",
    "        self.p_moves = [\"razor leaf\", \"synthesis\", \"petal dance\"]\n",
    "    \n",
    "    def action(self):\n",
    "        return \"{} knows a lot of different moves!\".format(self.name)\n",
    "\n",
    "\n",
    "p1=Grass_Pokemon('Belle')\n",
    "\n",
    "\n"
   ]
  },
  {
   "cell_type": "code",
   "execution_count": null,
   "metadata": {},
   "outputs": [],
   "source": [
    "\n",
    "#consider the two pets below and understand this code!!!\n",
    "\n",
    "\n",
    "from random import randrange\n",
    "\n",
    "# Here's the original Pet class\n",
    "class Pet():\n",
    "    boredom_decrement = 4\n",
    "    hunger_decrement = 6\n",
    "    boredom_threshold = 5\n",
    "    hunger_threshold = 10\n",
    "    sounds = ['Mrrp']\n",
    "    def __init__(self, name = \"Kitty\"):\n",
    "        self.name = name\n",
    "        self.hunger = randrange(self.hunger_threshold)\n",
    "        self.boredom = randrange(self.boredom_threshold)\n",
    "        self.sounds = self.sounds[:]  # copy the class attribute, so that when we make changes to it, we won't affect the other Pets in the class\n",
    "\n",
    "    def clock_tick(self):\n",
    "        self.boredom += 1\n",
    "        self.hunger += 1\n",
    "\n",
    "    def mood(self):\n",
    "        if self.hunger <= self.hunger_threshold and self.boredom <= self.boredom_threshold:\n",
    "            return \"happy\"\n",
    "        elif self.hunger > self.hunger_threshold:\n",
    "            return \"hungry\"\n",
    "        else:\n",
    "            return \"bored\"\n",
    "\n",
    "    def __str__(self):\n",
    "        state = \"     I'm \" + self.name + \". \"\n",
    "        state += \" I feel \" + self.mood() + \". \"\n",
    "        # state += \"Hunger %d Boredom %d Words %s\" % (self.hunger, self.boredom, self.sounds)\n",
    "        return state\n",
    "\n",
    "    def hi(self):\n",
    "        print(self.sounds[randrange(len(self.sounds))])\n",
    "        self.reduce_boredom()\n",
    "\n",
    "    def teach(self, word):\n",
    "        self.sounds.append(word)\n",
    "        self.reduce_boredom()\n",
    "\n",
    "    def feed(self):\n",
    "        self.reduce_hunger()\n",
    "\n",
    "    def reduce_hunger(self):\n",
    "        self.hunger = max(0, self.hunger - self.hunger_decrement)\n",
    "\n",
    "    def reduce_boredom(self):\n",
    "        self.boredom = max(0, self.boredom - self.boredom_decrement)\n",
    "\n",
    "\n",
    "class Cat(Pet):\n",
    "    sounds = ['Meow']\n",
    "\n",
    "    def mood(self):\n",
    "        if self.hunger > self.hunger_threshold:\n",
    "            return \"hungry\"\n",
    "        if self.boredom <2:\n",
    "            return \"grumpy; leave me alone\"\n",
    "        elif self.boredom > self.boredom_threshold:\n",
    "            return \"bored\"\n",
    "        elif randrange(2) == 0:\n",
    "            return \"randomly annoyed\"\n",
    "        else:\n",
    "            return \"happy\"\n",
    "\n",
    "class Dog(Pet):\n",
    "    sounds = ['Woof', 'Ruff']\n",
    "\n",
    "    def mood(self):\n",
    "        if (self.hunger > self.hunger_threshold) and (self.boredom > self.boredom_threshold):\n",
    "            return \"bored and hungry\"\n",
    "        else:\n",
    "            return \"happy\"\n",
    "\n",
    "c1 = Cat(\"Fluffy\")\n",
    "d1 = Dog(\"Astro\")\n",
    "\n",
    "c1.boredom = 1\n",
    "print(c1.mood())\n",
    "c1.boredom = 3\n",
    "for i in range(10):\n",
    "    print(c1.mood())\n",
    "print(d1.mood())\n"
   ]
  },
  {
   "cell_type": "code",
   "execution_count": null,
   "metadata": {},
   "outputs": [],
   "source": [
    "import sys\n",
    "print (\"This is the name of the script: \", sys.argv[0])\n",
    "print (\"Number of arguments: \", len(sys.argv))\n",
    "print (\"The arguments are: \" , str(sys.argv))\n"
   ]
  },
  {
   "cell_type": "code",
   "execution_count": null,
   "metadata": {},
   "outputs": [],
   "source": [
    "import sys\n",
    "\n",
    "#test.py arg1 arg2 arg3 =  sys.argv\n",
    "#Number of arguments: 4 arguments.\n",
    "sys.argv = ['test.py', 'arg1', 'arg2', 'arg3']\n",
    "print (\"Number of arguments:\", len(sys.argv), \"arguments\")\n",
    "print (\"Argument List:\", str(sys.argv))"
   ]
  },
  {
   "source": [
    "## Full Tamagochi Game:"
   ],
   "cell_type": "markdown",
   "metadata": {}
  },
  {
   "cell_type": "code",
   "execution_count": null,
   "metadata": {},
   "outputs": [],
   "source": [
    "import sys\n",
    "sys.setExecutionLimit(60000)\n",
    "from random import randrange\n",
    "\n",
    "class Pet(object):\n",
    "    boredom_decrement = 4\n",
    "    hunger_decrement = 6\n",
    "    boredom_threshold = 5\n",
    "    hunger_threshold = 10\n",
    "    sounds = ['Mrrp']\n",
    "    def __init__(self, name = \"Kitty\"):\n",
    "        self.name = name\n",
    "        self.hunger = randrange(self.hunger_threshold)\n",
    "        self.boredom = randrange(self.boredom_threshold)\n",
    "        self.sounds = self.sounds[:]  # copy the class attribute, so that when we make changes to it, we won't affect the other Pets in the class\n",
    "\n",
    "    def clock_tick(self):\n",
    "        self.boredom += 1\n",
    "        self.hunger += 1\n",
    "\n",
    "    def mood(self):\n",
    "        if self.hunger <= self.hunger_threshold and self.boredom <= self.boredom_threshold:\n",
    "            return \"happy\"\n",
    "        elif self.hunger > self.hunger_threshold:\n",
    "            return \"hungry\"\n",
    "        else:\n",
    "            return \"bored\"\n",
    "\n",
    "    def __str__(self):\n",
    "        state = \"     I'm \" + self.name + \". \"\n",
    "        state += \" I feel \" + self.mood() + \". \"\n",
    "        # state += \"Hunger %d Boredom %d Words %s\" % (self.hunger, self.boredom, self.sounds)\n",
    "        return state\n",
    "\n",
    "    def hi(self):\n",
    "        print(self.sounds[randrange(len(self.sounds))])\n",
    "        self.update_boredom()\n",
    "\n",
    "    def teach(self, word):\n",
    "        self.sounds.append(word)\n",
    "        self.update_boredom()\n",
    "\n",
    "    def feed(self):\n",
    "        self.update_hunger()\n",
    "\n",
    "    def update_hunger(self):\n",
    "        self.hunger = max(0, self.hunger - self.hunger_decrement)\n",
    "\n",
    "    def update_boredom(self):\n",
    "        self.boredom = max(0, self.boredom - self.boredom_decrement)\n",
    "\n",
    "class Cat(Pet):\n",
    "    sounds = ['Meow']\n",
    "\n",
    "    def mood(self):\n",
    "        if self.hunger > self.hunger_threshold:\n",
    "            return \"hungry\"\n",
    "        if self.boredom <2:\n",
    "            return \"grumpy; leave me alone\"\n",
    "        elif self.boredom > self.boredom_threshold:\n",
    "            return \"bored\"\n",
    "        elif randrange(2) == 0:\n",
    "            return \"randomly annoyed\"\n",
    "        else:\n",
    "            return \"happy\"\n",
    "\n",
    "class Dog(Pet):\n",
    "    sounds = ['Woof', 'Ruff']\n",
    "\n",
    "    def mood(self):\n",
    "        if (self.hunger > self.hunger_threshold) and (self.boredom > self.boredom_threshold):\n",
    "            return \"bored and hungry\"\n",
    "        else:\n",
    "            return \"happy\"\n",
    "\n",
    "    def feed(self):\n",
    "        Pet.feed(self)\n",
    "        print(\"Arf! Thanks!\")\n",
    "\n",
    "class Bird(Pet):\n",
    "    sounds = [\"chirp\"]\n",
    "    def __init__(self, name=\"Kitty\", chirp_number=2):\n",
    "        Pet.__init__(self, name) # call the parent class's constructor\n",
    "        # basically, call the SUPER -- the parent version -- of the constructor, with all the parameters that it needs.\n",
    "        self.chirp_number = chirp_number # now, also assign the new instance variable\n",
    "\n",
    "    def hi(self):\n",
    "        for i in range(self.chirp_number):\n",
    "            print(self.sounds[randrange(len(self.sounds))])\n",
    "        self.update_boredom()\n",
    "\n",
    "class Lab(Dog):\n",
    "    def fetch(self):\n",
    "        return \"I found the tennis ball!\"\n",
    "\n",
    "    def hi(self):\n",
    "        print(self.fetch())\n",
    "        print(self.sounds[randrange(len(self.sounds))])\n",
    "\n",
    "class Poodle(Dog):\n",
    "    def dance(self):\n",
    "        return \"Dancin' in circles like poodles do.\"\n",
    "\n",
    "    def hi(self):\n",
    "        print(self.dance())\n",
    "        Dog.hi(self)\n",
    "\n",
    "def whichone(petlist, name):\n",
    "    for pet in petlist:\n",
    "        if pet.name == name:\n",
    "            return pet\n",
    "    return None # no pet matched\n",
    "\n",
    "pet_types = {'dog': Dog, 'lab': Lab, 'poodle': Poodle, 'cat': Cat, 'bird': Bird}\n",
    "def whichtype(adopt_type=\"general pet\"):\n",
    "    return pet_types.get(adopt_type.lower(), Pet)\n",
    "\n",
    "def play():\n",
    "    animals = []\n",
    "\n",
    "    option = \"\"\n",
    "    base_prompt = \"\"\"\n",
    "        Quit\n",
    "        Adopt <petname_with_no_spaces> <pet_type - choose dog, cat, lab, poodle, bird, or another unknown pet type>\n",
    "        Greet <petname>\n",
    "        Teach <petname> <word>\n",
    "        Feed <petname>\n",
    "\n",
    "        Choice: \"\"\"\n",
    "    feedback = \"\"\n",
    "    while True:\n",
    "        action = input(feedback + \"\\n\" + base_prompt)\n",
    "        feedback = \"\"\n",
    "        words = action.split()\n",
    "        if len(words) > 0:\n",
    "            command = words[0]\n",
    "        else:\n",
    "            command = None\n",
    "        if command == \"Quit\":\n",
    "            print(\"Exiting...\")\n",
    "            return\n",
    "        elif command == \"Adopt\" and len(words) > 1:\n",
    "            if whichone(animals, words[1]):\n",
    "                feedback += \"You already have a pet with that name\\n\"\n",
    "            else:\n",
    "                # figure out which class it should be\n",
    "                if len(words) > 2:\n",
    "                    Cl = whichtype(words[2])\n",
    "                else:\n",
    "                    Cl = Pet\n",
    "                # Make an instance of that class and append it\n",
    "                animals.append(Cl(words[1]))\n",
    "        elif command == \"Greet\" and len(words) > 1:\n",
    "            pet = whichone(animals, words[1])\n",
    "            if not pet:\n",
    "                feedback += \"I didn't recognize that pet name. Please try again.\\n\"\n",
    "                print()\n",
    "            else:\n",
    "                pet.hi()\n",
    "        elif command == \"Teach\" and len(words) > 2:\n",
    "            pet = whichone(animals, words[1])\n",
    "            if not pet:\n",
    "                feedback += \"I didn't recognize that pet name. Please try again.\"\n",
    "            else:\n",
    "                pet.teach(words[2])\n",
    "        elif command == \"Feed\" and len(words) > 1:\n",
    "            pet = whichone(animals, words[1])\n",
    "            if not pet:\n",
    "                feedback += \"I didn't recognize that pet name. Please try again.\"\n",
    "            else:\n",
    "                pet.feed()\n",
    "        else:\n",
    "            feedback+= \"I didn't understand that. Please try again.\"\n",
    "\n",
    "        for pet in animals:\n",
    "            pet.clock_tick()\n",
    "            feedback += \"\\n\" + pet.__str__()\n",
    "\n",
    "play()\n"
   ]
  },
  {
   "source": [
    "## Query Class Practice "
   ],
   "cell_type": "markdown",
   "metadata": {}
  },
  {
   "cell_type": "code",
   "execution_count": null,
   "metadata": {},
   "outputs": [],
   "source": [
    "from pathlib import path\n",
    "import QueryDataToFile  # custom created library to \n",
    "\n",
    "Task1 = \"example pull_v1\"\n",
    "var1 =\n",
    "class PracticeQuery:\n",
    "    '''Main class invalid'''\n",
    "    def __init__(self):\n",
    "        self.query = 'SELECT column1, column2',\n",
    "        'column3',\n",
    "        'FROM myTable'\n",
    "        self.files = {'results': str(path.cwd())+ '\\\\results.csv',\n",
    "                      'procesedFile': str(path.cwd())+ '\\\\results.csv'}\n",
    "        self.tasks = [self.query_data,self.process_data]\n",
    "\n",
    "        self.query_data()\n",
    "\n",
    "        def query_data(self):\n",
    "            '''Pull data from  database'''\n",
    "            print(\"for \",Task1 \"Pulling data from \", var1\" Database\")\n",
    "            #put data into csv file in this line\n",
    "            def process_data(self):\n",
    "                '''Process the data'''\n",
    "                1+1\n",
    "\n",
    "\n",
    "        "
   ]
  },
  {
   "cell_type": "code",
   "execution_count": null,
   "metadata": {},
   "outputs": [],
   "source": [
    "\n",
    "def square(x):\n",
    "    '''raise x to the second power'''\n",
    "    return x*x\n",
    "\n",
    "\n",
    "import test\n",
    "print('testing square function')\n",
    "test.testEqual(square(9),100)\n"
   ]
  },
  {
   "cell_type": "code",
   "execution_count": null,
   "metadata": {},
   "outputs": [],
   "source": [
    "x = \"hello\"\n",
    "\n",
    "#if condition returns True, then nothing happens:\n",
    "assert x == \"hello\"\n",
    "\n",
    "#if condition returns False, AssertionError is raised:\n",
    "assert x == \"goodbye\""
   ]
  },
  {
   "cell_type": "code",
   "execution_count": null,
   "metadata": {},
   "outputs": [],
   "source": [
    "l= [1,2,3]\n",
    "\n",
    "for item in l:\n",
    "    print('haha')"
   ]
  },
  {
   "source": [
    "# Exceptions  \n",
    "- Exceptions are often defined as being “errors” but this is not always the case. All errors in Python are dealt with using exceptions, \"but not all exceptions are errors\"."
   ],
   "cell_type": "markdown",
   "metadata": {}
  },
  {
   "cell_type": "code",
   "execution_count": null,
   "metadata": {},
   "outputs": [],
   "source": [
    "gold = {\"US\":46, \"Fiji\":1, \"Great Britain\":27, \"Cuba\":5, \"Thailand\":2, \"China\":26, \"France\":10}\n",
    "country = [\"Fiji\", \"Chile\", \"Mexico\", \"France\", \"Norway\", \"US\"]\n",
    "country_gold = []\n",
    "\n",
    "for x in country:\n",
    "    country_gold.append(gold[x])\n",
    "    country_gold.append(\"Did not get gold\")\n"
   ]
  },
  {
   "cell_type": "code",
   "execution_count": null,
   "metadata": {},
   "outputs": [],
   "source": [
    "\n",
    "sport = [\"hockey\", \"basketball\", \"soccer\", \"tennis\", \"football\", \"baseball\"]\n",
    "\n",
    "ppl_play = {\"hockey\":4, \"soccer\": 10, \"football\": 15, \"tennis\": 8}\n",
    "\n",
    "for x in sport:\n",
    "    try:\n",
    "        raise Exception\n",
    "        print(ppl_play[x])\n",
    "    except Exception as e:\n",
    "        print('This is the exception raised ', e)\n",
    "        print(1)\n",
    "\n",
    "    \n",
    "\n"
   ]
  },
  {
   "source": [
    "You can also force an exception to be printed by using  \n",
    "                raise Exception\n",
    "\n"
   ],
   "cell_type": "markdown",
   "metadata": {}
  },
  {
   "cell_type": "code",
   "execution_count": null,
   "metadata": {},
   "outputs": [],
   "source": [
    "# Import Module\n",
    "from tkinter import *\n",
    " \n",
    "# create root window\n",
    "root = Tk()\n",
    " \n",
    "# root window title and dimension\n",
    "root.title(\"Welcome to GeekForGeeks\")\n",
    "# Set geometry (widthxheight)\n",
    "root.geometry('350x200')\n",
    " \n",
    "# all widgets will be here\n",
    "# Execute Tkinter\n",
    "root.mainloop()"
   ]
  },
  {
   "cell_type": "code",
   "execution_count": null,
   "metadata": {},
   "outputs": [],
   "source": [
    "from tkinter import *\n",
    "\n",
    "master = Tk()\n",
    "Label(master, text=\"First Name\").grid(row=0)\n",
    "Label(master, text=\"Last Name\").grid(row=1)\n",
    "\n",
    "e1 = Entry(master)\n",
    "e2 = Entry(master)\n",
    "\n",
    "e1.grid(row=0, column=1)\n",
    "e2.grid(row=1, column=1)\n",
    "\n",
    "mainloop( )"
   ]
  },
  {
   "source": [
    "## Random Numbers"
   ],
   "cell_type": "markdown",
   "metadata": {}
  },
  {
   "cell_type": "code",
   "execution_count": null,
   "metadata": {},
   "outputs": [],
   "source": [
    "import random\n",
    "\n",
    "rand_number = random.randint(1, 10)\n",
    "print('Random number between 1 and 10: {}'.format(rand_number))\n",
    "\n",
    "letters = [letter for letter in 'ABCDEFGHIJKLMNOPQRSTUVWXYZ'] #creates a list out of each letter provided\n",
    "rand_letter = random.choice(letters)  # random.choice() selects a random item from a list\n",
    "print('Random letter, from the list made up of letters: {}'.format(rand_letter))\n"
   ]
  },
  {
   "source": [
    "## Class Final Project : Wheel of Fortune (To Be continued later....)"
   ],
   "cell_type": "markdown",
   "metadata": {}
  },
  {
   "cell_type": "code",
   "execution_count": null,
   "metadata": {},
   "outputs": [],
   "source": [
    "VOWEL_COST = 250\n",
    "LETTERS = 'ABCDEFGHIJKLMNOPQRSTUVWXYZ'\n",
    "VOWELS = 'AEIOU'\n",
    "\n",
    "# Write the WOFPlayer class definition (part A) here\n",
    "\n",
    "class WOFPlayer:\n",
    "'''This is a  class that controls the  '''\n",
    "    boredom_decrement = 4\n",
    "    hunger_decrement = 6\n",
    "    boredom_threshold = 5\n",
    "    hunger_threshold = 10\n",
    "    sounds = ['Mrrp']\n",
    "    def __init__(self, name = \"Kitty\", pet_type=\"cat\"):\n",
    "    self.name = name\n",
    "    self.hunger = randrange(self.hunger_threshold)\n",
    "    self.boredom = randrange(self.boredom_threshold)\n",
    "\n",
    "# Write the WOFHumanPlayer class definition (part B) here\n",
    "\n",
    "# Write the WOFComputerPlayer class definition (part C) here\n",
    "\n"
   ]
  },
  {
   "source": [
    "## Using Args\n",
    "Args are pretty much a way to pass in multiple arguments into a function"
   ],
   "cell_type": "markdown",
   "metadata": {}
  },
  {
   "cell_type": "code",
   "execution_count": null,
   "metadata": {},
   "outputs": [],
   "source": [
    "def add(datatype, *args):\n",
    " \n",
    "    # if datatype is int\n",
    "    # initialize answer as 0\n",
    "    if datatype =='int':\n",
    "        answer = 0\n",
    "         \n",
    "    # if datatype is str\n",
    "    # initialize answer as ''\n",
    "    if datatype =='str':\n",
    "        answer =''\n",
    " \n",
    "    # Traverse through the arguments\n",
    "    for x in args:\n",
    " \n",
    "        # This will do addition if the \n",
    "        # arguments are int. Or concatenation \n",
    "        # if the arguments are str\n",
    "        answer = answer + x\n",
    " \n",
    "    print(answer)"
   ]
  },
  {
   "source": [
    "## Method Overloading\n",
    "\n",
    "By Using Multiple Dispatch Decorator "
   ],
   "cell_type": "markdown",
   "metadata": {}
  },
  {
   "cell_type": "code",
   "execution_count": 1,
   "metadata": {},
   "outputs": [
    {
     "output_type": "stream",
     "name": "stdout",
     "text": [
      "12\n17.204\n"
     ]
    }
   ],
   "source": [
    "from multipledispatch import dispatch\n",
    " \n",
    "#passing one parameter\n",
    "@dispatch(int,int)\n",
    "def product(first,second):\n",
    "    result = first*second\n",
    "    print(result);\n",
    " \n",
    "#passing two parameters\n",
    "@dispatch(int,int,int)\n",
    "def product(first,second,third):\n",
    "    result  = first * second * third\n",
    "    print(result);\n",
    " \n",
    "#you can also pass data type of any value as per requirement\n",
    "@dispatch(float,float,float)\n",
    "def product(first,second,third):\n",
    "    result  = first * second * third\n",
    "    print(result);\n",
    " \n",
    " \n",
    "#calling product method with 2 arguments\n",
    "product(2,3,2) #this will give output of 12\n",
    "product(2.2,3.4,2.3) # this will give output of 17.985999999999997"
   ]
  },
  {
   "source": [
    "## Map and List Comprehension\n",
    "Map: a way to attacha a function to a list  \n",
    "List Comprehension: A new way to do a for loop"
   ],
   "cell_type": "markdown",
   "metadata": {}
  },
  {
   "cell_type": "code",
   "execution_count": 7,
   "metadata": {},
   "outputs": [
    {
     "output_type": "stream",
     "name": "stdout",
     "text": [
      "[1.1772000000000002, 25.4448, 62.467200000000005, 4.9248, 7.322400000000001]\n"
     ]
    }
   ],
   "source": [
    "txns = [1.09, 23.56, 57.84, 4.56, 6.78]\n",
    "TAX_RATE = .08\n",
    "def get_price_with_tax(txn):\n",
    "     return txn * (1 + TAX_RATE)\n",
    "final_prices = map(get_price_with_tax, txns)\n",
    "print(list(final_prices))    # the \"list\" function needs to be used to ensure that the resultant  comes out looking correct"
   ]
  },
  {
   "cell_type": "code",
   "execution_count": 9,
   "metadata": {},
   "outputs": [
    {
     "output_type": "stream",
     "name": "stdout",
     "text": [
      "[0, 1, 4, 9, 16, 25, 36, 49, 64, 81]\n[0, 1, 4, 9, 16, 25, 36, 49, 64, 81]\n"
     ]
    }
   ],
   "source": [
    "# Original for loop\n",
    "\n",
    "squares = []\n",
    "for i in range(10):\n",
    "     squares.append(i * i)\n",
    "print(squares)\n",
    "\n",
    "\n",
    "# For loop with list comprehension\n",
    "\n",
    "squares = [i * i for i in range(10)]  # perform multiplication for  each value of i in rang(10) i.e ...\n",
    "#new_list = [expression for member in iterable]\n",
    "\n",
    "print(squares)\n"
   ]
  },
  {
   "source": [
    "## More List comprehension examples  \n",
    "The Syntax:-  \n",
    "newlist = [expression for item in iterable if condition == True]  \n",
    "\n"
   ],
   "cell_type": "markdown",
   "metadata": {}
  },
  {
   "cell_type": "code",
   "execution_count": 10,
   "metadata": {},
   "outputs": [
    {
     "output_type": "execute_result",
     "data": {
      "text/plain": [
       "[1.1772000000000002, 25.4448, 62.467200000000005, 4.9248, 7.322400000000001]"
      ]
     },
     "metadata": {},
     "execution_count": 10
    }
   ],
   "source": [
    "txns = [1.09, 23.56, 57.84, 4.56, 6.78]\n",
    "TAX_RATE = .08\n",
    "def get_price_with_tax(txn):\n",
    "     return txn * (1 + TAX_RATE)\n",
    "final_prices = [get_price_with_tax(i) for i in txns]\n",
    "print(final_prices)"
   ]
  },
  {
   "cell_type": "code",
   "execution_count": 1,
   "metadata": {},
   "outputs": [
    {
     "output_type": "stream",
     "name": "stdout",
     "text": [
      "[0, 1, 4, 9, 16, 25, 36, 49, 64, 81]\n['apple', 'banana', 'mango']\n['banana', 'cherry', 'kiwi', 'mango']\n['apple', 'banana', 'cherry', 'kiwi', 'mango']\n[0, 1, 2, 3, 4]\n[0, 2, 4, 6, 8, 10, 12, 14, 16, 18]\n[0, 10, 20, 30, 40, 50, 60, 70, 80, 90]\n"
     ]
    }
   ],
   "source": [
    "'''lists top iterate through'''\n",
    "fruits = [\"apple\", \"banana\", \"cherry\", \"kiwi\", \"mango\"]\n",
    "squares = []\n",
    "\n",
    "'''Multiple List comprehension example expressions'''\n",
    "squares = [i * i for i in range(10)]                   # Multiply i by itself for every numerical value from 0-9\n",
    "newlist1 = [x for x in fruits if \"a\" in x]             # produces all fruits with 'a' in the name\n",
    "newlist2 = [x for x in fruits if x != \"apple\"]         # produce all fruits that are not apple\n",
    "newlist3 = [x for x in fruits]                         # simply re-creates the original list\n",
    "number_list = [ x for x in range(20) if x % 2 == 0]    # For every value in range 0-19, if the remainder of the value when divided by two is zero(even number), then spit that out\n",
    "num_list = [y for y in range(100) if y % 2 == 0 if y % 5 == 0] # in a range of values from 0-99 produce a a list of values that are first divisible by 2 and then out of those, the one's divisible by 5\n",
    "newlist4 = [x for x in range(10) if x < 5]             # For every value from 0-9, produce a list of values less than 5 i.e 0-4\n",
    "\n",
    " \n",
    "'''Result of the List comprehension expressions above'''\n",
    "print(squares)\n",
    "print(newlist1)\n",
    "print(newlist2)\n",
    "print(newlist3)\n",
    "print(newlist4)\n",
    "print(number_list)\n",
    "print(num_list)\n"
   ]
  },
  {
   "source": [
    "## JSON  in Python  \n",
    "It is currently agostic of any particluar programming langauge as we speak. It currently is used as a way to transport python dictionaries across different languages.There are other structures that can be tranlated back and forth from python from JSON.  \n",
    "\n",
    "                Python\t            JSON  \n",
    "                dict\t            object  \n",
    "                list,tuple\t            array    \n",
    "                str\t                    string    \n",
    "                int, long, float\t    number  \n",
    "                True\t            true  \n",
    "                False\t            false  \n",
    "                None\t            null  \n"
   ],
   "cell_type": "markdown",
   "metadata": {}
  },
  {
   "cell_type": "code",
   "execution_count": 5,
   "metadata": {},
   "outputs": [
    {
     "output_type": "stream",
     "name": "stdout",
     "text": [
      "{'people': [{'name': 'John Smith', 'phone': '615-555-7164', 'emails': ['johnsmith@bogusemail.com', 'john.snmith@work-place.com'], 'has_license': False}, {'name': 'Jane Doe', 'phone': '560-555-553', 'emails': None, 'has_license': True}]}\ndata type is:-\n<class 'dict'>\n"
     ]
    }
   ],
   "source": [
    "import json\n",
    "\n",
    "people_string = '''\n",
    "\n",
    "{\n",
    "    \"people\": [\n",
    "        {\n",
    "            \"name\" : \"John Smith\",\n",
    "            \"phone\" : \"615-555-7164\",\n",
    "            \"emails\" : [\"johnsmith@bogusemail.com\",\"john.snmith@work-place.com\"],\n",
    "            \"has_license\": false\n",
    "        },\n",
    "        {\n",
    "            \"name\": \"Jane Doe\",\n",
    "            \"phone\": \"560-555-553\",\n",
    "            \"emails\": null,\n",
    "            \"has_license\": true\n",
    "        }\n",
    "    ]\n",
    "}\n",
    "'''\n",
    "\n",
    "data = json.loads(people_string)\n",
    "\n",
    "print(data)\n",
    "print('data type is:-')\n",
    "print(type(data))"
   ]
  },
  {
   "cell_type": "code",
   "execution_count": null,
   "metadata": {},
   "outputs": [],
   "source": []
  }
 ]
}