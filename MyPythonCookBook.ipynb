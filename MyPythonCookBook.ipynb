{
 "cells": [
  {
   "cell_type": "markdown",
   "source": [
    "# Welcome to My Python CookBook\n",
    "\n",
    "## To run a cell use `ctrl+enter`  or `shift enter`\n",
    "\n"
   ],
   "metadata": {
    "tags": []
   }
  },
  {
   "cell_type": "markdown",
   "source": [
    "\n",
    "## Using the windows \"tree command\"    \n",
    "NB: Using /f suffix shows the files within the folders too!!! BUT makes the tree very long!!   \n",
    "\n",
    "e.g for  C:\\Users\\Burudani\\Documents\\mainPythonFolder_v1  \n",
    "\n",
    "we type:-      \n",
    "\n",
    "`tree C:\\Users\\Burudani\\Documents\\mainPythonFolder_v1`  \n",
    "\n",
    "we get:-  \n",
    "\n",
    "```\n",
    "C:\\Users\\Burudani>tree C:\\Users\\Burudani\\Documents\\mainPythonFolder_v1\n",
    "Folder PATH listing\n",
    "Volume serial number is 00000068 4462:DDC7\n",
    "C:\\USERS\\BURUDANI\\DOCUMENTS\\MAINPYTHONFOLDER_V1\n",
    "├───.ipynb_checkpoints\n",
    "├───.vscode\n",
    "├───AWS Boto3\n",
    "├───dash-sample-apps\n",
    "├───Databases\n",
    "├───ExcelFiles\n",
    "├───MypythonPracticeFiles\n",
    "├───SalesForce\n",
    "├───Terraform\n",
    "│   ├───US-East-1\n",
    "│   │   ├───EC2\n",
    "│   │   ├───Elas\n",
    "│   │   └───VPC\n",
    "│   └───US-West-2\n",
    "└───__pycache__\n",
    "\n",
    "```\n",
    "\n",
    "\n"
   ],
   "metadata": {}
  },
  {
   "cell_type": "markdown",
   "source": [
    "using pip\n",
    "\n",
    "at cli type\n",
    "\n",
    "pip --version\n",
    "\n",
    "pip -- help\n"
   ],
   "metadata": {}
  },
  {
   "cell_type": "markdown",
   "source": [
    "## Strings"
   ],
   "metadata": {}
  },
  {
   "cell_type": "code",
   "execution_count": null,
   "source": [
    "var1 = 35\r\n",
    "var2 = 'jambo'\r\n",
    "#string .format() method to print string with variables!\r\n",
    "print('This is good way to combine a string and a variable e.g: {} and {} ty'.format(var1,var2))\r\n",
    "\r\n",
    "#using 'count' to see how many times a specified string occurs in a larger string\r\n",
    "myString = 'HeLLo, WorLd! 123'\r\n",
    "print(myString.count('L')) # ans will be 3\r\n",
    "\r\n",
    "s = 'python is pythonic'\r\n",
    "print(s.count('python')) # ans will be 2"
   ],
   "outputs": [],
   "metadata": {}
  },
  {
   "cell_type": "markdown",
   "source": [
    "## F-Strings\n",
    " -Very efficient way to combine variables(ints or strings or bools etc) and strings in print statements"
   ],
   "metadata": {}
  },
  {
   "cell_type": "code",
   "execution_count": null,
   "source": [
    "name = 'eric'\r\n",
    "age = 23\r\n",
    "print(f\"Hello, {name}. You are {age}.\")"
   ],
   "outputs": [],
   "metadata": {}
  },
  {
   "cell_type": "markdown",
   "source": [
    "- Below is a <ins>much</ins> nicer example of f-string using the unpacking operator(**) to unpack a dictionary.In this example the variables are given names and are thus identified , which adds to readability\r\n",
    "\r\n",
    "- I like this method as it allows less typing , you don't have to repeat putting in variables, and it's much more explicit\r\n",
    "\r\n",
    "- NB:This method is preffered , because yo can very easily convert a JSON object to a dictionary , and use it immediately which makes it easier to  import values, i.e adds to code porability in case you need to obtain or store values from a database\r\n"
   ],
   "metadata": {}
  },
  {
   "cell_type": "code",
   "execution_count": 1,
   "source": [
    "\r\n",
    "person = {\r\n",
    "'name': 'Eric', \r\n",
    "'age': 74\r\n",
    "}\r\n",
    "print(\"Hello, {name}. You are {age}.\".format(**person))"
   ],
   "outputs": [
    {
     "output_type": "stream",
     "name": "stdout",
     "text": [
      "Hello, Eric. You are 74.\n"
     ]
    }
   ],
   "metadata": {}
  },
  {
   "cell_type": "code",
   "execution_count": null,
   "source": [
    "#Another nicer example of f-string using the unpacking operator(*) to unpack a list, However in this example, \r\n",
    "# we don't idemtify the variables and thus the variable list is considered \"dumb\"\r\n",
    "\r\n",
    "person = ['eric','74']\r\n",
    "print(\"Hello, {}. You are {}.\".format(*person))\r\n"
   ],
   "outputs": [],
   "metadata": {}
  },
  {
   "cell_type": "markdown",
   "source": [
    "## Writting to a file\r\n",
    "\r\n",
    "- Here is a link to the section on writting a config file [See Lists here](##Lists)\r\n",
    "- This style handles both the opening and the closing of the file \r\n",
    "- this can be also used to write configuration files with special information , like key-value pairs"
   ],
   "metadata": {}
  },
  {
   "cell_type": "code",
   "execution_count": 4,
   "source": [
    "with open(file=r'C:\\Users\\Burudani\\Documents\\mainPythonFolder_v1\\TextFiles\\exampleTextFile.txt', mode='w+') as f:\r\n",
    "    f.write(\"This is some sample text\")\r\n",
    "\r\n",
    "# running this multiple times just overwrittes the text"
   ],
   "outputs": [],
   "metadata": {}
  },
  {
   "cell_type": "markdown",
   "source": [
    "## Writting a config file e.g an ini file\r\n",
    "<a id='Writting a config file'></a>\r\n",
    "\r\n",
    "- More on configparser  [More on configparser](https://zetcode.com/python/configparser/)  "
   ],
   "metadata": {}
  },
  {
   "cell_type": "code",
   "execution_count": null,
   "source": [
    "from configparser import ConfigParser\r\n",
    "\r\n",
    "# Initialize the Parser.\r\n",
    "config = ConfigParser()\r\n",
    "\r\n",
    "# Add the Section.\r\n",
    "config.add_section('Title of config file')\r\n",
    "\r\n",
    "# Set the Values.\r\n",
    "config.set('graph_api', 'client_id', '5025e394-54fb-4024-807d-c7bcf77cb9c8')\r\n",
    "config.set('graph_api', 'client_secret', '603d564c-6773-4bed-adea-9171d3f85643')\r\n",
    "config.set('graph_api', 'redirect_uri', 'https://localhost/graph_login')\r\n",
    "\r\n",
    "# Write the file, here you can also specify the extension of the file.\r\n",
    "with open(file=r'C:\\Users\\Burudani\\Documents\\mainPythonFolder_v1\\myExampleConfigFile.ini', mode='w+') as f:\r\n",
    "    config.write(f)\r\n",
    "\r\n",
    "\r\n"
   ],
   "outputs": [],
   "metadata": {}
  },
  {
   "cell_type": "markdown",
   "source": [
    "## Lists\r\n",
    "<a id='##Lists'></a>"
   ],
   "metadata": {}
  },
  {
   "cell_type": "code",
   "execution_count": 3,
   "source": [
    "newList = [1,2,3,4,5]\r\n",
    "worList = ['james','brown','Harding']\r\n",
    "fruitList = [\"pear\",\"apple\",\"strawberry\",\"banana\",\"orange\"]\r\n",
    "\r\n",
    "#Quick way to sort lists alphabetically\r\n",
    "for f in sorted(fruitList):\r\n",
    "    print(f)\r\n",
    "print('\\n')\r\n",
    "#quick way to print a list as a column\r\n",
    "print(*worList, sep='\\n') # the '*' is called the unpacking operator and is demonstrated in detail, in it's section below"
   ],
   "outputs": [
    {
     "output_type": "stream",
     "name": "stdout",
     "text": [
      "apple\n",
      "banana\n",
      "orange\n",
      "pear\n",
      "strawberry\n",
      "\n",
      "\n",
      "james\n",
      "brown\n",
      "Harding\n"
     ]
    }
   ],
   "metadata": {}
  },
  {
   "cell_type": "markdown",
   "source": [
    "## Dunder   \n",
    "- Double underscore used before and after a function or method name, example below"
   ],
   "metadata": {}
  },
  {
   "cell_type": "code",
   "execution_count": 1,
   "source": [
    "\r\n",
    "def __init__(self, parameter1: int,parameter2: str,parameter3: str ,parameter4: float ):  # init  here is reffered to as \"dunder init\"\r\n",
    "    self.number = parameter1  \r\n",
    "    self.string2 = parameter3\r\n",
    "    self.double = parameter4\r\n",
    "    self.process_data()\r\n",
    "\r\n",
    "# Also in this example\r\n"
   ],
   "outputs": [],
   "metadata": {}
  },
  {
   "cell_type": "markdown",
   "source": [
    "## Docstrings  \n",
    "- They identify the function of a block of code\n"
   ],
   "metadata": {}
  },
  {
   "cell_type": "code",
   "execution_count": null,
   "source": [
    "def exampleFunction():\r\n",
    "    '''This describes what this function or class does'''\r\n",
    "    return 1+1\r\n",
    "\r\n",
    "\r\n",
    "\r\n",
    "print(exampleFunction.__doc__)   # this prints the docstring of the function  or class"
   ],
   "outputs": [],
   "metadata": {}
  },
  {
   "cell_type": "markdown",
   "source": [
    "## Help   \n",
    "- prints any helpful statements descrbing the fucntion of the code, may include examples"
   ],
   "metadata": {}
  },
  {
   "cell_type": "code",
   "execution_count": null,
   "source": [
    "def exampleFunction():\r\n",
    "    '''This describes what this function or class does'''\r\n",
    "    return 1+1\r\n",
    "\r\n",
    "help(exampleFunction)"
   ],
   "outputs": [],
   "metadata": {}
  },
  {
   "cell_type": "markdown",
   "source": [
    "# Timing your code  \n",
    " - `timeit` vs `time.time()` , use  `timeit`  \n",
    " - timeit produces time in seconds\n"
   ],
   "metadata": {}
  },
  {
   "cell_type": "code",
   "execution_count": null,
   "source": [
    "from timeit import default_timer as timer\r\n",
    "\r\n",
    "def func1():\r\n",
    "    return 500*600\r\n",
    "\r\n",
    "def func2():\r\n",
    "    return (5*6)\r\n",
    "\r\n",
    "\r\n",
    "\r\n",
    "# timing the first function\r\n",
    "start = timer()\r\n",
    "func1()\r\n",
    "end = timer()\r\n",
    "print('Your first code took ', end-start , ' Seconds')\r\n",
    "\r\n",
    "\r\n",
    "# timing the first function\r\n",
    "start = timer()\r\n",
    "func2()\r\n",
    "end = timer()\r\n",
    "print('Your second code took ', end-start ,' Seconds')\r\n"
   ],
   "outputs": [],
   "metadata": {}
  },
  {
   "cell_type": "markdown",
   "source": [
    "## Datetime Formating"
   ],
   "metadata": {}
  },
  {
   "cell_type": "code",
   "execution_count": 2,
   "source": [
    "from datetime import datetime , timedelta\r\n",
    "\r\n",
    "# datetime object containing current date and time\r\n",
    "now = datetime.now()\r\n",
    " \r\n",
    "print(\"now =\", now)\r\n",
    "\r\n",
    "# dd/mm/YY H:M:S\r\n",
    "dt_string1 = now.strftime(\"%d/%m/%Y %H:%M:%S\")\r\n",
    "dt_string2 = now.strftime(\"%d-%m-%Y %H:%M:%S\")\r\n",
    "\r\n",
    "print(\"date and time =\", dt_string2)\t\r\n",
    "\r\n",
    "\r\n",
    "years_to_subtract = 365  #one year\r\n",
    "datetime_new = now - timedelta(days = years_to_subtract)\r\n",
    "print(\"After subtracting years: \", datetime_new, \"\\n\")"
   ],
   "outputs": [
    {
     "output_type": "stream",
     "name": "stdout",
     "text": [
      "now = 2021-06-12 06:05:32.643413\n",
      "date and time = 12-06-2021 06:05:32\n",
      "After subtracting years:  2020-06-12 06:05:32.643413 \n",
      "\n"
     ]
    }
   ],
   "metadata": {}
  },
  {
   "cell_type": "markdown",
   "source": [
    "## Data Types  \n",
    "You can convert bool to int and vice versa"
   ],
   "metadata": {}
  },
  {
   "cell_type": "code",
   "execution_count": 3,
   "source": [
    "print(bool(1))\r\n",
    "print(bool(0))\r\n",
    "print(int(True))   #converts the bool to an integer\r\n",
    "print(int(False))\r\n"
   ],
   "outputs": [
    {
     "output_type": "stream",
     "name": "stdout",
     "text": [
      "True\n",
      "False\n",
      "1\n",
      "0\n"
     ]
    }
   ],
   "metadata": {}
  },
  {
   "cell_type": "markdown",
   "source": [
    "## Operators"
   ],
   "metadata": {}
  },
  {
   "cell_type": "code",
   "execution_count": null,
   "source": [
    "print (11/5)  # gives a float\r\n",
    "print(11//5)  # gives an integer result that is rounded down"
   ],
   "outputs": [],
   "metadata": {}
  },
  {
   "cell_type": "markdown",
   "source": [
    "## Numpy\n",
    "- NumPy aims to provide an array object that is up to 50x faster than traditional Python lists.\n",
    "- NumPy is meant for creating homogeneous n-dimensional arrays (n = 1..n). Unlike Python lists, all elements of a NumPy array should be of same type.\n",
    "- NumPy uses much less memory to store data"
   ],
   "metadata": {}
  },
  {
   "cell_type": "code",
   "execution_count": null,
   "source": [
    "import numpy as np\r\n",
    "z =  np.zeros(10)\r\n",
    "print(z)\r\n",
    "print('\\n')\r\n",
    "print(z.shape)\r\n",
    "print('\\n')\r\n",
    "z.shape = (10,1)\r\n",
    "print(z)\r\n",
    "y = np.ones(10)\r\n",
    "print('\\n')\r\n",
    "print(y)"
   ],
   "outputs": [],
   "metadata": {}
  },
  {
   "cell_type": "markdown",
   "source": [
    "## Functions"
   ],
   "metadata": {}
  },
  {
   "cell_type": "code",
   "execution_count": null,
   "source": [
    "# In this example a series of functions are applied to a single value/variable\n",
    "\n",
    "def f(x):\n",
    "    return x**2\n",
    "def g(x):\n",
    "    return x**4\n",
    "def h(x):\n",
    "    return x**8\n",
    "\n",
    "\n",
    "print([func(42) for func in (f,g,h)])"
   ],
   "outputs": [],
   "metadata": {}
  },
  {
   "cell_type": "code",
   "execution_count": null,
   "source": [
    "#In this example a series of variables are applied to a single function\n",
    "#TODO simplify this function to not use the *args feature\n",
    "\n",
    "# sum of a list of integers :-\n",
    "def my_sum(x):\n",
    "     print (x**2)\n",
    "\n",
    "list1 = [3,9,12]\n",
    "\n",
    "\n",
    "print([my_sum(x) for x in list1])"
   ],
   "outputs": [],
   "metadata": {}
  },
  {
   "cell_type": "code",
   "execution_count": null,
   "source": [
    "\r\n",
    "\r\n"
   ],
   "outputs": [],
   "metadata": {}
  },
  {
   "cell_type": "markdown",
   "source": [
    "## Dash Colors   \n",
    "- also recognized in css    \n",
    "\n",
    "aliceblue, antiquewhite, aqua, aquamarine, azure,\n",
    "                beige, bisque, black, blanchedalmond, blue,\n",
    "                blueviolet, brown, burlywood, cadetblue,\n",
    "                chartreuse, chocolate, coral, cornflowerblue,\n",
    "                cornsilk, crimson, cyan, darkblue, darkcyan,\n",
    "                darkgoldenrod, darkgray, darkgrey, darkgreen,\n",
    "                darkkhaki, darkmagenta, darkolivegreen, darkorange,\n",
    "                darkorchid, darkred, darksalmon, darkseagreen,\n",
    "                darkslateblue, darkslategray, darkslategrey,\n",
    "                darkturquoise, darkviolet, deeppink, deepskyblue,\n",
    "                dimgray, dimgrey, dodgerblue, firebrick,\n",
    "                floralwhite, forestgreen, fuchsia, gainsboro,\n",
    "                ghostwhite, gold, goldenrod, gray, grey, green,\n",
    "                greenyellow, honeydew, hotpink, indianred, indigo,\n",
    "                ivory, khaki, lavender, lavenderblush, lawngreen,\n",
    "                lemonchiffon, lightblue, lightcoral, lightcyan,\n",
    "                lightgoldenrodyellow, lightgray, lightgrey,\n",
    "                lightgreen, lightpink, lightsalmon, lightseagreen,\n",
    "                lightskyblue, lightslategray, lightslategrey,\n",
    "                lightsteelblue, lightyellow, lime, limegreen,\n",
    "                linen, magenta, maroon, mediumaquamarine,\n",
    "                mediumblue, mediumorchid, mediumpurple,\n",
    "                mediumseagreen, mediumslateblue, mediumspringgreen,\n",
    "                mediumturquoise, mediumvioletred, midnightblue,\n",
    "                mintcream, mistyrose, moccasin, navajowhite, navy,\n",
    "                oldlace, olive, olivedrab, orange, orangered,\n",
    "                orchid, palegoldenrod, palegreen, paleturquoise,\n",
    "                palevioletred, papayawhip, peachpuff, peru, pink,\n",
    "                plum, powderblue, purple, red, rosybrown,\n",
    "                royalblue, saddlebrown, salmon, sandybrown,\n",
    "                seagreen, seashell, sienna, silver, skyblue,\n",
    "                slateblue, slategray, slategrey, snow, springgreen,\n",
    "                steelblue, tan, teal, thistle, tomato, turquoise,\n",
    "                violet, wheat, white, whitesmoke, yellow,\n",
    "                yellowgreen"
   ],
   "metadata": {}
  },
  {
   "cell_type": "markdown",
   "source": [
    "## TUPLES"
   ],
   "metadata": {}
  },
  {
   "cell_type": "code",
   "execution_count": 4,
   "source": [
    "'''FINAL ASSIGNMENT\r\n",
    "In this assignment Read data from  a text file, load it into python, \r\n",
    "parse through it line by line and  and if a line starts with 'From' ,\r\n",
    " then split it up by space, select the 5 string in the line, then split that by \r\n",
    " colon, then select the first part of that string then add it to a dictionary \r\n",
    " along with the number of times it shows up in the entire document,essentially \r\n",
    " creating a histogram'''\r\n",
    "\r\n",
    "counts = dict()\r\n",
    "#name = input(\"Enter file:\")\r\n",
    "#if len(name) < 1 : name = \"mbox-short.txt\"\r\n",
    "#handle = open(name)\r\n",
    "handle = open(\"mbox-short.txt\")\r\n",
    "for line in handle:\r\n",
    "    if line.startswith('From '):\r\n",
    "        selectedLine = line.split()\r\n",
    "        #print(selectedLine)\r\n",
    "        lineSelected = selectedLine[5]\r\n",
    "        hourSplit = lineSelected.split(':')\r\n",
    "        hourString = hourSplit[0]\r\n",
    "        #print(hourString)\r\n",
    "        counts[hourString] = counts.get(hourString, 0) + 1    # assigns a value to a dictionary\r\n",
    "\r\n",
    "#print(counts)\r\n",
    "#sortedString = (sorted ([(k,v)for k,v in counts.items()]))\r\n",
    "\r\n",
    "for k,v in sorted ([(k,v)for k,v in counts.items()]):\r\n",
    "    \r\n",
    "    print(k,v)\r\n"
   ],
   "outputs": [
    {
     "output_type": "stream",
     "name": "stdout",
     "text": [
      "04 3\n",
      "06 1\n",
      "07 1\n",
      "09 2\n",
      "10 3\n",
      "11 6\n",
      "14 1\n",
      "15 2\n",
      "16 4\n",
      "17 2\n",
      "18 1\n",
      "19 1\n"
     ]
    }
   ],
   "metadata": {}
  },
  {
   "cell_type": "code",
   "execution_count": 5,
   "source": [
    "jack,jill = (1,2)\r\n",
    "print(jill)\r\n",
    "\r\n",
    "tupleList = [(1,2,3),(4,5,6)]\r\n",
    "print(tupleList)\r\n",
    "\r\n",
    "if (1,2,3) in tupleList:\r\n",
    "    print(True)"
   ],
   "outputs": [
    {
     "output_type": "stream",
     "name": "stdout",
     "text": [
      "2\n",
      "[(1, 2, 3), (4, 5, 6)]\n",
      "True\n"
     ]
    }
   ],
   "metadata": {}
  },
  {
   "cell_type": "markdown",
   "source": [
    "# Dictionaries\n"
   ],
   "metadata": {}
  },
  {
   "cell_type": "code",
   "execution_count": null,
   "source": [
    "# Description\n",
    "# Python dictionary method setdefault() is similar to get(), but will set dict[key]=default if key is not already in dict.\n",
    "\n",
    "nameDict = {'Name': 'Zara', 'Age': 7} # curley braces  [] () {}\n",
    "print (\"Value : %s\" %  nameDict.setdefault('Age', None) ) # age cannot be defaulted to #\"none\"  because it already has a value\n",
    "print (\"Value : %s\" %  nameDict.setdefault('Sex', None)) #sex does not exist in the dictionary, thus is created automatically\n",
    "\n",
    "nameDict['message'] = 'Welcome'  #adding new values to new keys in a dictionaries\n",
    "nameDict['Name'] = 'Thompson'\n",
    "\n",
    "\n",
    "print(nameDict)\n",
    "#NB:::: Default values in a dictionary can NEVER be changed  \n"
   ],
   "outputs": [],
   "metadata": {}
  },
  {
   "cell_type": "code",
   "execution_count": null,
   "source": [
    "exampledict = (dict(item = \"coke\",price = 8, qty = 2))\n",
    "\n",
    "print(exampledict)\n",
    "\n",
    "#creating a list of dictionaries\n",
    "\n",
    "cart = []\n",
    "cart.append(dict(item=\"Coke\", price=8, qty=2))\n",
    "cart.append(dict(item=\"Cake\", price=12, qty=1))\n",
    "cart.append(dict(item=\"Fish\", price=32, qty=4))\n",
    "\n",
    "print(\"Now printing a list of dictionaries\")\n",
    "print(cart)\n"
   ],
   "outputs": [],
   "metadata": {}
  },
  {
   "cell_type": "markdown",
   "source": [
    "# CLASSES"
   ],
   "metadata": {}
  },
  {
   "cell_type": "code",
   "execution_count": null,
   "source": [
    "class ExampleClass:\r\n",
    "    '''This is a good template for allowing one to practice with classes'''\r\n",
    "    exampleVar1 = 32  # Class variable\r\n",
    "    exampleVar2 = 45\r\n",
    "    exampleVar3 = \"IamVariable\"\r\n",
    "    def __init__(self, parameter1: int,parameter2: str,parameter3: str ,parameter4: float ):   # any placeholder here in this constructor is called a parameter\r\n",
    "        self.number = parameter1   # self.name is an instance variable\r\n",
    "        self.string1 = parameter2\r\n",
    "        self.string2 = parameter3\r\n",
    "        self.double = parameter4\r\n",
    "        self.process_data()\r\n",
    "\r\n",
    "    def process_data(self):\r\n",
    "        '''Multiplies the Values of the class variables with  a vlaue of the instance variable'''\r\n",
    "        print(self.exampleVar1*self.exampleVar2*self.number)\r\n",
    "\r\n",
    "    def __str__(self):   # if you don't put this method then an actual instance memory point of the instance will be printed when you use \"print\"\r\n",
    "        return 'Your values are number {} with word {} and word {} and number {}.' .format(self.number,self.string1,self.string2,self.double)  \r\n",
    "\r\n",
    "                \r\n",
    "#We just randomly generate some values to feed into the class, these variables are refered to as \"arguaments\" if used in a function call/method call/class call\r\n",
    "argument1 = 1\r\n",
    "argument2 = 'Hello'\r\n",
    "argument3 = 'world'\r\n",
    "argument4 = 2.0\r\n",
    "\r\n",
    "ExampleInstance = ExampleClass(argument1,argument2,argument3,argument4)\r\n",
    "\r\n",
    "\r\n",
    "print(ExampleInstance)  # print the string in the method  \"__str__\""
   ],
   "outputs": [],
   "metadata": {}
  },
  {
   "cell_type": "markdown",
   "source": [
    "## Sorting using lambda"
   ],
   "metadata": {}
  },
  {
   "cell_type": "code",
   "execution_count": null,
   "source": [
    "#Recal this simple sorting example using lambda\r\n",
    "\r\n",
    "L = [\"Cherry\", \"Apple\", \"Blueberry\"]\r\n",
    "\r\n",
    "print(sorted(L, key=len))\r\n",
    "#alternative form using lambda, if you find that easier to understand\r\n",
    "print(sorted(L, key= lambda x: len(x)))\r\n"
   ],
   "outputs": [],
   "metadata": {}
  },
  {
   "cell_type": "markdown",
   "source": [],
   "metadata": {}
  },
  {
   "cell_type": "code",
   "execution_count": null,
   "source": [
    "import sys\r\n",
    "print (\"This is the name of the script: \", sys.argv[0])\r\n",
    "print (\"Number of arguments: \", len(sys.argv))\r\n",
    "print (\"The arguments are: \" , str(sys.argv))\r\n"
   ],
   "outputs": [],
   "metadata": {}
  },
  {
   "cell_type": "code",
   "execution_count": null,
   "source": [
    "import sys\n",
    "\n",
    "#test.py arg1 arg2 arg3 =  sys.argv\n",
    "#Number of arguments: 4 arguments.\n",
    "sys.argv = ['test.py', 'arg1', 'arg2', 'arg3']\n",
    "print (\"Number of arguments:\", len(sys.argv), \"arguments\")\n",
    "print (\"Argument List:\", str(sys.argv))"
   ],
   "outputs": [],
   "metadata": {}
  },
  {
   "cell_type": "markdown",
   "source": [
    "## Query Class Practice "
   ],
   "metadata": {}
  },
  {
   "cell_type": "code",
   "execution_count": null,
   "source": [
    "from pathlib import path\n",
    "import QueryDataToFile  # custom created library to \n",
    "\n",
    "Task1 = \"example pull_v1\"\n",
    "var1 =\n",
    "class PracticeQuery:\n",
    "    '''Main class invalid'''\n",
    "    def __init__(self):\n",
    "        self.query = 'SELECT column1, column2',\n",
    "        'column3',\n",
    "        'FROM myTable'\n",
    "        self.files = {'results': str(path.cwd())+ '\\\\results.csv',\n",
    "                      'procesedFile': str(path.cwd())+ '\\\\results.csv'}\n",
    "        self.tasks = [self.query_data,self.process_data]\n",
    "\n",
    "        self.query_data()\n",
    "\n",
    "        def query_data(self):\n",
    "            '''Pull data from  database'''\n",
    "            print(\"for \",Task1 \"Pulling data from \", var1\" Database\")\n",
    "            #put data into csv file in this line\n",
    "            def process_data(self):\n",
    "                '''Process the data'''\n",
    "                1+1\n",
    "\n",
    "\n",
    "        "
   ],
   "outputs": [],
   "metadata": {}
  },
  {
   "cell_type": "code",
   "execution_count": null,
   "source": [
    "\n",
    "def square(x):\n",
    "    '''raise x to the second power'''\n",
    "    return x*x\n",
    "\n",
    "\n",
    "import test\n",
    "print('testing square function')\n",
    "test.testEqual(square(9),100)\n"
   ],
   "outputs": [],
   "metadata": {}
  },
  {
   "cell_type": "code",
   "execution_count": null,
   "source": [
    "x = \"hello\"\n",
    "\n",
    "#if condition returns True, then nothing happens:\n",
    "assert x == \"hello\"\n",
    "\n",
    "#if condition returns False, AssertionError is raised:\n",
    "assert x == \"goodbye\""
   ],
   "outputs": [],
   "metadata": {}
  },
  {
   "cell_type": "code",
   "execution_count": null,
   "source": [
    "l= [1,2,3]\n",
    "\n",
    "for item in l:\n",
    "    print('haha')"
   ],
   "outputs": [],
   "metadata": {}
  },
  {
   "cell_type": "markdown",
   "source": [
    "# Exceptions  \n",
    "- Exceptions are often defined as being “errors” but this is not always the case. All errors in Python are dealt with using exceptions, \"but not all exceptions are errors\"."
   ],
   "metadata": {}
  },
  {
   "cell_type": "code",
   "execution_count": null,
   "source": [
    "gold = {\"US\":46, \"Fiji\":1, \"Great Britain\":27, \"Cuba\":5, \"Thailand\":2, \"China\":26, \"France\":10}\n",
    "country = [\"Fiji\", \"Chile\", \"Mexico\", \"France\", \"Norway\", \"US\"]\n",
    "country_gold = []\n",
    "\n",
    "for x in country:\n",
    "    country_gold.append(gold[x])\n",
    "    country_gold.append(\"Did not get gold\")\n"
   ],
   "outputs": [],
   "metadata": {}
  },
  {
   "cell_type": "code",
   "execution_count": null,
   "source": [
    "\n",
    "sport = [\"hockey\", \"basketball\", \"soccer\", \"tennis\", \"football\", \"baseball\"]\n",
    "\n",
    "ppl_play = {\"hockey\":4, \"soccer\": 10, \"football\": 15, \"tennis\": 8}\n",
    "\n",
    "for x in sport:\n",
    "    try:\n",
    "        raise Exception\n",
    "        print(ppl_play[x])\n",
    "    except Exception as e:\n",
    "        print('This is the exception raised ', e)\n",
    "        print(1)\n",
    "\n",
    "    \n",
    "\n"
   ],
   "outputs": [],
   "metadata": {}
  },
  {
   "cell_type": "markdown",
   "source": [
    "You can also force an exception to be printed by using  \n",
    "                raise Exception\n",
    "\n"
   ],
   "metadata": {}
  },
  {
   "cell_type": "code",
   "execution_count": 6,
   "source": [
    "# Import Module\n",
    "from tkinter import *\n",
    " \n",
    "# create root window\n",
    "root = Tk()\n",
    " \n",
    "# root window title and dimension\n",
    "root.title(\"Welcome to GeekForGeeks\")\n",
    "# Set geometry (widthxheight)\n",
    "root.geometry('350x200')\n",
    " \n",
    "# all widgets will be here\n",
    "# Execute Tkinter\n",
    "root.mainloop()"
   ],
   "outputs": [],
   "metadata": {}
  },
  {
   "cell_type": "code",
   "execution_count": 7,
   "source": [
    "from tkinter import *\n",
    "\n",
    "master = Tk()\n",
    "Label(master, text=\"First Name\").grid(row=0)\n",
    "Label(master, text=\"Last Name\").grid(row=1)\n",
    "\n",
    "e1 = Entry(master)\n",
    "e2 = Entry(master)\n",
    "\n",
    "e1.grid(row=0, column=1)\n",
    "e2.grid(row=1, column=1)\n",
    "\n",
    "mainloop( )"
   ],
   "outputs": [],
   "metadata": {}
  },
  {
   "cell_type": "markdown",
   "source": [
    "## Random Numbers"
   ],
   "metadata": {}
  },
  {
   "cell_type": "code",
   "execution_count": null,
   "source": [
    "import random\r\n",
    "\r\n",
    "rand_number = random.randint(1, 10)\r\n",
    "print('Random number between 1 and 10: {}'.format(rand_number))\r\n",
    "\r\n",
    "letters = [letter for letter in 'ABCDEFGHIJKLMNOPQRSTUVWXYZ'] #creates a list out of each letter provided\r\n",
    "rand_letter = random.choice(letters)  # random.choice() selects a random item from a list\r\n",
    "print('Random letter, from the list made up of letters: {}'.format(rand_letter))\r\n"
   ],
   "outputs": [],
   "metadata": {}
  },
  {
   "cell_type": "markdown",
   "source": [
    "## Class Final Project : Wheel of Fortune (To Be continued later....)"
   ],
   "metadata": {}
  },
  {
   "cell_type": "code",
   "execution_count": null,
   "source": [
    "VOWEL_COST = 250\r\n",
    "LETTERS = 'ABCDEFGHIJKLMNOPQRSTUVWXYZ'\r\n",
    "VOWELS = 'AEIOU'\r\n",
    "\r\n",
    "# Write the WOFPlayer class definition (part A) here\r\n",
    "\r\n",
    "class WOFPlayer:\r\n",
    "'''This is a  class that controls the  '''\r\n",
    "    boredom_decrement = 4\r\n",
    "    hunger_decrement = 6\r\n",
    "    boredom_threshold = 5\r\n",
    "    hunger_threshold = 10\r\n",
    "    sounds = ['Mrrp']\r\n",
    "    def __init__(self, name = \"Kitty\", pet_type=\"cat\"):\r\n",
    "    self.name = name\r\n",
    "    self.hunger = randrange(self.hunger_threshold)\r\n",
    "    self.boredom = randrange(self.boredom_threshold)\r\n",
    "\r\n",
    "# Write the WOFHumanPlayer class definition (part B) here\r\n",
    "\r\n",
    "# Write the WOFComputerPlayer class definition (part C) here\r\n",
    "\r\n"
   ],
   "outputs": [],
   "metadata": {}
  },
  {
   "cell_type": "markdown",
   "source": [
    "## Using Args\n",
    "Args are pretty much a way to pass in multiple arguments into a function"
   ],
   "metadata": {}
  },
  {
   "cell_type": "code",
   "execution_count": null,
   "source": [
    "def add(datatype, *args):\r\n",
    " \r\n",
    "    # if datatype is int\r\n",
    "    # initialize answer as 0\r\n",
    "    if datatype =='int':\r\n",
    "        answer = 0\r\n",
    "         \r\n",
    "    # if datatype is str\r\n",
    "    # initialize answer as ''\r\n",
    "    if datatype =='str':\r\n",
    "        answer =''\r\n",
    " \r\n",
    "    # Traverse through the arguments\r\n",
    "    for x in args:\r\n",
    " \r\n",
    "        # This will do addition if the \r\n",
    "        # arguments are int. Or concatenation \r\n",
    "        # if the arguments are str\r\n",
    "        answer = answer + x\r\n",
    " \r\n",
    "    print(answer)"
   ],
   "outputs": [],
   "metadata": {}
  },
  {
   "cell_type": "markdown",
   "source": [
    "## Method Overloading\n",
    "\n",
    "By Using Multiple Dispatch Decorator "
   ],
   "metadata": {}
  },
  {
   "cell_type": "code",
   "execution_count": null,
   "source": [
    "from multipledispatch import dispatch\r\n",
    " \r\n",
    "#passing one parameter\r\n",
    "@dispatch(int,int)\r\n",
    "def product(first,second):\r\n",
    "    result = first*second\r\n",
    "    print(result);\r\n",
    " \r\n",
    "#passing two parameters\r\n",
    "@dispatch(int,int,int)\r\n",
    "def product(first,second,third):\r\n",
    "    result  = first * second * third\r\n",
    "    print(result);\r\n",
    " \r\n",
    "#you can also pass data type of any value as per requirement\r\n",
    "@dispatch(float,float,float)\r\n",
    "def product(first,second,third):\r\n",
    "    result  = first * second * third\r\n",
    "    print(result);\r\n",
    " \r\n",
    " \r\n",
    "#calling product method with 2 arguments\r\n",
    "product(2,3,2) #this will give output of 12\r\n",
    "product(2.2,3.4,2.3) # this will give output of 17.985999999999997"
   ],
   "outputs": [],
   "metadata": {}
  },
  {
   "cell_type": "markdown",
   "source": [
    "## Map and List Comprehension\n",
    "Map: a way to attacha a function to a list  \n",
    "List Comprehension: A new way to do a for loop"
   ],
   "metadata": {}
  },
  {
   "cell_type": "code",
   "execution_count": 8,
   "source": [
    "txns = [1.09, 23.56, 57.84, 4.56, 6.78]\r\n",
    "TAX_RATE = .08\r\n",
    "def get_price_with_tax(txn):\r\n",
    "     return txn * (1 + TAX_RATE)\r\n",
    "final_prices = map(get_price_with_tax, txns)\r\n",
    "print(list(final_prices))    # the \"list\" function needs to be used to ensure that the resultant  comes out looking correct"
   ],
   "outputs": [
    {
     "output_type": "stream",
     "name": "stdout",
     "text": [
      "[1.1772000000000002, 25.4448, 62.467200000000005, 4.9248, 7.322400000000001]\n"
     ]
    }
   ],
   "metadata": {}
  },
  {
   "cell_type": "code",
   "execution_count": null,
   "source": [
    "# Original for loop\r\n",
    "\r\n",
    "squares = []\r\n",
    "for i in range(10):\r\n",
    "     squares.append(i * i)\r\n",
    "print(squares)\r\n",
    "\r\n",
    "\r\n",
    "# For loop with list comprehension\r\n",
    "\r\n",
    "squares = [i * i for i in range(10)]  # perform multiplication for  each value of i in rang(10) i.e ...\r\n",
    "#new_list = [expression for member in iterable]\r\n",
    "\r\n",
    "print(squares)\r\n"
   ],
   "outputs": [],
   "metadata": {}
  },
  {
   "cell_type": "markdown",
   "source": [
    "## More List comprehension examples  \n",
    "The Syntax:-  \n",
    "newlist = [expression for item in iterable if condition == True]  \n",
    "\n"
   ],
   "metadata": {}
  },
  {
   "cell_type": "code",
   "execution_count": null,
   "source": [
    "txns = [1.09, 23.56, 57.84, 4.56, 6.78]\r\n",
    "TAX_RATE = .08\r\n",
    "def get_price_with_tax(txn):\r\n",
    "     return txn * (1 + TAX_RATE)\r\n",
    "final_prices = [get_price_with_tax(i) for i in txns]\r\n",
    "print(final_prices)"
   ],
   "outputs": [],
   "metadata": {}
  },
  {
   "cell_type": "code",
   "execution_count": null,
   "source": [
    "'''lists top iterate through'''\r\n",
    "fruits = [\"apple\", \"banana\", \"cherry\", \"kiwi\", \"mango\"]\r\n",
    "squares = []\r\n",
    "\r\n",
    "'''Multiple List comprehension example expressions'''\r\n",
    "squares = [i * i for i in range(10)]                   # Multiply i by itself for every numerical value from 0-9\r\n",
    "newlist1 = [x for x in fruits if \"a\" in x]             # produces all fruits with 'a' in the name\r\n",
    "newlist2 = [x for x in fruits if x != \"apple\"]         # produce all fruits that are not apple\r\n",
    "newlist3 = [x for x in fruits]                         # simply re-creates the original list\r\n",
    "number_list = [ x for x in range(20) if x % 2 == 0]    # For every value in range 0-19, if the remainder of the value when divided by two is zero(even number), then spit that out\r\n",
    "num_list = [y for y in range(100) if y % 2 == 0 if y % 5 == 0] # in a range of values from 0-99 produce a a list of values that are first divisible by 2 and then out of those, the one's divisible by 5\r\n",
    "newlist4 = [x for x in range(10) if x < 5]             # For every value from 0-9, produce a list of values less than 5 i.e 0-4\r\n",
    "\r\n",
    " \r\n",
    "'''Result of the List comprehension expressions above'''\r\n",
    "print(squares)\r\n",
    "print(newlist1)\r\n",
    "print(newlist2)\r\n",
    "print(newlist3)\r\n",
    "print(newlist4)\r\n",
    "print(number_list)\r\n",
    "print(num_list)\r\n"
   ],
   "outputs": [],
   "metadata": {}
  },
  {
   "cell_type": "markdown",
   "source": [
    "## JSON  in Python  \n",
    "It is currently agostic of any particluar programming langauge as we speak. It currently is used as a way to transport python dictionaries across different languages.There are other structures that can be tranlated back and forth from python from JSON.  \n",
    "\n",
    "                Python\t            JSON  \n",
    "                dict\t            object  \n",
    "                list,tuple\t            array    \n",
    "                str\t                    string    \n",
    "                int, long, float\t    number  \n",
    "                True\t            true  \n",
    "                False\t            false  \n",
    "                None\t            null  \n"
   ],
   "metadata": {}
  },
  {
   "cell_type": "markdown",
   "source": [
    "# Examples of a JSON Objects\n",
    "\n",
    "```\n",
    "{\n",
    "    \"people\": [\n",
    "        {\n",
    "            \"name\" : \"John Smith\",\n",
    "            \"phone\" : \"615-555-7164\",\n",
    "            \"emails\" : [\"johnsmith@bogusemail.com\",\"john.snmith@work-place.com\"],\n",
    "            \"has_license\": false\n",
    "        },\n",
    "        {\n",
    "            \"name\": \"Jane Doe\",\n",
    "            \"phone\": \"560-555-553\",\n",
    "            \"emails\": null,\n",
    "            \"has_license\": true\n",
    "        }\n",
    "    ]\n",
    "}\n",
    "```\n",
    "\n",
    "\n",
    "\n",
    "```\n",
    "{\n",
    "    \"people1\": [\n",
    "        {\n",
    "            \"name\" : \"Nikhil\",\n",
    "            \"website\" : \"gf.com\",\n",
    "            \"from\" : \"Delhi\"\n",
    "           \n",
    "        },\n",
    "        {\n",
    "            \"name\" : \"Abhinav\",\n",
    "            \"website\" : \"google.com\",\n",
    "            \"from\" : \"Mumbai\"\n",
    "        }\n",
    "    ],\n",
    "\n",
    "    \"people2\" : [\n",
    "        {\n",
    "            \"name\" : \"ansul\",\n",
    "            \"website\" : \"yahoo.com\",\n",
    "            \"from\" : \"Delaware\"\n",
    "        }\n",
    "    ]\n",
    "}\n",
    "```"
   ],
   "metadata": {}
  },
  {
   "cell_type": "markdown",
   "source": [
    "## JSON : Creating Dictionairies with JSON objects "
   ],
   "metadata": {}
  },
  {
   "cell_type": "code",
   "execution_count": null,
   "source": [
    "# In this example we created a psedo-JSON object, with  a python string\n",
    "\n",
    "import json\n",
    "\n",
    "people_string = '''\n",
    "\n",
    "{\n",
    "    \"people\": [\n",
    "        {\n",
    "            \"name\" : \"John Smith\",\n",
    "            \"phone\" : \"615-555-7164\",\n",
    "            \"emails\" : [\"johnsmith@bogusemail.com\",\"john.snmith@work-place.com\"],\n",
    "            \"has_license\": false\n",
    "        },\n",
    "        {\n",
    "            \"name\": \"Jane Doe\",\n",
    "            \"phone\": \"560-555-553\",\n",
    "            \"emails\": null,\n",
    "            \"has_license\": true\n",
    "        }\n",
    "    ]\n",
    "}\n",
    "'''\n",
    "\n",
    "data = json.loads(people_string) # this parses the JSON string\n",
    "\n",
    "print(data)\n",
    "print('data type is:-')\n",
    "print(type(data))\n",
    "df = "
   ],
   "outputs": [],
   "metadata": {}
  },
  {
   "cell_type": "code",
   "execution_count": null,
   "source": [
    "## Another example\n",
    "\n",
    "ExampleJSOnOnject = '''\n",
    "{\n",
    "    \"people\": [\n",
    "        {\n",
    "            \"name\" : \"John Smith\",\n",
    "            \"phone\" : \"615-555-7164\",\n",
    "            \"emails\" : [\"johnsmith@bogusemail.com\",\"john.snmith@work-place.com\"],\n",
    "            \"has_license\": false\n",
    "        },\n",
    "        {\n",
    "            \"name\": \"Jane Doe\",\n",
    "            \"phone\": \"560-555-553\",\n",
    "            \"emails\": null,\n",
    "            \"has_license\": true\n",
    "        }\n",
    "    ]\n",
    "}\n",
    "{\n",
    "    \"people1\": [\n",
    "        {\n",
    "            \"name\" : \"Nikhil\",\n",
    "            \"website\" : \"gf.com\",\n",
    "            \"from\" : \"Delhi\"\n",
    "           \n",
    "        },\n",
    "        {\n",
    "            \"name\" : \"Abhinav\",\n",
    "            \"website\" : \"google.com\",\n",
    "            \"from\" : \"Mumbai\"\n",
    "        }\n",
    "    ],\n",
    "\n",
    "    \"people2\" : [\n",
    "        {\n",
    "            \"name\" : \"ansul\",\n",
    "            \"website\" : \"yahoo.com\",\n",
    "            \"from\" : \"Delaware\"\n",
    "        }\n",
    "    ]\n",
    "} \n",
    "'''\n",
    "data = json.loads(ExampleJSOnOnject)\n",
    "df = pd.jsom(data)\n",
    "df\n"
   ],
   "outputs": [],
   "metadata": {}
  },
  {
   "cell_type": "code",
   "execution_count": 9,
   "source": [
    "## Example 3\n",
    "import pandas as pd\n",
    "import plotly.express as px\n",
    "\n",
    "url = 'http://api.open-notify.org/iss-now.json'\n",
    "\n",
    "df = pd.read_json(url)\n",
    "df['latitude'] = df.loc['latitude', 'iss_position']\n",
    "df['longitude'] = df.loc['longitude', 'iss_position']\n",
    "df.reset_index(inplace = True)\n",
    "df = df.drop(['index','message'], axis = 1)\n",
    "fig = px.scatter_geo(df,lat = 'latitude',lon = 'longitude')\n",
    "fig.show()\n"
   ],
   "outputs": [
    {
     "output_type": "display_data",
     "data": {
      "application/vnd.plotly.v1+json": {
       "config": {
        "plotlyServerURL": "https://plot.ly"
       },
       "data": [
        {
         "geo": "geo",
         "hovertemplate": "latitude=%{lat}<br>longitude=%{lon}<extra></extra>",
         "lat": [
          -6.9517,
          -6.9517
         ],
         "legendgroup": "",
         "lon": [
          -92.6272,
          -92.6272
         ],
         "marker": {
          "color": "#636efa",
          "symbol": "circle"
         },
         "mode": "markers",
         "name": "",
         "showlegend": false,
         "type": "scattergeo"
        }
       ],
       "layout": {
        "geo": {
         "center": {},
         "domain": {
          "x": [
           0,
           1
          ],
          "y": [
           0,
           1
          ]
         }
        },
        "legend": {
         "tracegroupgap": 0
        },
        "margin": {
         "t": 60
        },
        "template": {
         "data": {
          "bar": [
           {
            "error_x": {
             "color": "#2a3f5f"
            },
            "error_y": {
             "color": "#2a3f5f"
            },
            "marker": {
             "line": {
              "color": "#E5ECF6",
              "width": 0.5
             }
            },
            "type": "bar"
           }
          ],
          "barpolar": [
           {
            "marker": {
             "line": {
              "color": "#E5ECF6",
              "width": 0.5
             }
            },
            "type": "barpolar"
           }
          ],
          "carpet": [
           {
            "aaxis": {
             "endlinecolor": "#2a3f5f",
             "gridcolor": "white",
             "linecolor": "white",
             "minorgridcolor": "white",
             "startlinecolor": "#2a3f5f"
            },
            "baxis": {
             "endlinecolor": "#2a3f5f",
             "gridcolor": "white",
             "linecolor": "white",
             "minorgridcolor": "white",
             "startlinecolor": "#2a3f5f"
            },
            "type": "carpet"
           }
          ],
          "choropleth": [
           {
            "colorbar": {
             "outlinewidth": 0,
             "ticks": ""
            },
            "type": "choropleth"
           }
          ],
          "contour": [
           {
            "colorbar": {
             "outlinewidth": 0,
             "ticks": ""
            },
            "colorscale": [
             [
              0,
              "#0d0887"
             ],
             [
              0.1111111111111111,
              "#46039f"
             ],
             [
              0.2222222222222222,
              "#7201a8"
             ],
             [
              0.3333333333333333,
              "#9c179e"
             ],
             [
              0.4444444444444444,
              "#bd3786"
             ],
             [
              0.5555555555555556,
              "#d8576b"
             ],
             [
              0.6666666666666666,
              "#ed7953"
             ],
             [
              0.7777777777777778,
              "#fb9f3a"
             ],
             [
              0.8888888888888888,
              "#fdca26"
             ],
             [
              1,
              "#f0f921"
             ]
            ],
            "type": "contour"
           }
          ],
          "contourcarpet": [
           {
            "colorbar": {
             "outlinewidth": 0,
             "ticks": ""
            },
            "type": "contourcarpet"
           }
          ],
          "heatmap": [
           {
            "colorbar": {
             "outlinewidth": 0,
             "ticks": ""
            },
            "colorscale": [
             [
              0,
              "#0d0887"
             ],
             [
              0.1111111111111111,
              "#46039f"
             ],
             [
              0.2222222222222222,
              "#7201a8"
             ],
             [
              0.3333333333333333,
              "#9c179e"
             ],
             [
              0.4444444444444444,
              "#bd3786"
             ],
             [
              0.5555555555555556,
              "#d8576b"
             ],
             [
              0.6666666666666666,
              "#ed7953"
             ],
             [
              0.7777777777777778,
              "#fb9f3a"
             ],
             [
              0.8888888888888888,
              "#fdca26"
             ],
             [
              1,
              "#f0f921"
             ]
            ],
            "type": "heatmap"
           }
          ],
          "heatmapgl": [
           {
            "colorbar": {
             "outlinewidth": 0,
             "ticks": ""
            },
            "colorscale": [
             [
              0,
              "#0d0887"
             ],
             [
              0.1111111111111111,
              "#46039f"
             ],
             [
              0.2222222222222222,
              "#7201a8"
             ],
             [
              0.3333333333333333,
              "#9c179e"
             ],
             [
              0.4444444444444444,
              "#bd3786"
             ],
             [
              0.5555555555555556,
              "#d8576b"
             ],
             [
              0.6666666666666666,
              "#ed7953"
             ],
             [
              0.7777777777777778,
              "#fb9f3a"
             ],
             [
              0.8888888888888888,
              "#fdca26"
             ],
             [
              1,
              "#f0f921"
             ]
            ],
            "type": "heatmapgl"
           }
          ],
          "histogram": [
           {
            "marker": {
             "colorbar": {
              "outlinewidth": 0,
              "ticks": ""
             }
            },
            "type": "histogram"
           }
          ],
          "histogram2d": [
           {
            "colorbar": {
             "outlinewidth": 0,
             "ticks": ""
            },
            "colorscale": [
             [
              0,
              "#0d0887"
             ],
             [
              0.1111111111111111,
              "#46039f"
             ],
             [
              0.2222222222222222,
              "#7201a8"
             ],
             [
              0.3333333333333333,
              "#9c179e"
             ],
             [
              0.4444444444444444,
              "#bd3786"
             ],
             [
              0.5555555555555556,
              "#d8576b"
             ],
             [
              0.6666666666666666,
              "#ed7953"
             ],
             [
              0.7777777777777778,
              "#fb9f3a"
             ],
             [
              0.8888888888888888,
              "#fdca26"
             ],
             [
              1,
              "#f0f921"
             ]
            ],
            "type": "histogram2d"
           }
          ],
          "histogram2dcontour": [
           {
            "colorbar": {
             "outlinewidth": 0,
             "ticks": ""
            },
            "colorscale": [
             [
              0,
              "#0d0887"
             ],
             [
              0.1111111111111111,
              "#46039f"
             ],
             [
              0.2222222222222222,
              "#7201a8"
             ],
             [
              0.3333333333333333,
              "#9c179e"
             ],
             [
              0.4444444444444444,
              "#bd3786"
             ],
             [
              0.5555555555555556,
              "#d8576b"
             ],
             [
              0.6666666666666666,
              "#ed7953"
             ],
             [
              0.7777777777777778,
              "#fb9f3a"
             ],
             [
              0.8888888888888888,
              "#fdca26"
             ],
             [
              1,
              "#f0f921"
             ]
            ],
            "type": "histogram2dcontour"
           }
          ],
          "mesh3d": [
           {
            "colorbar": {
             "outlinewidth": 0,
             "ticks": ""
            },
            "type": "mesh3d"
           }
          ],
          "parcoords": [
           {
            "line": {
             "colorbar": {
              "outlinewidth": 0,
              "ticks": ""
             }
            },
            "type": "parcoords"
           }
          ],
          "pie": [
           {
            "automargin": true,
            "type": "pie"
           }
          ],
          "scatter": [
           {
            "marker": {
             "colorbar": {
              "outlinewidth": 0,
              "ticks": ""
             }
            },
            "type": "scatter"
           }
          ],
          "scatter3d": [
           {
            "line": {
             "colorbar": {
              "outlinewidth": 0,
              "ticks": ""
             }
            },
            "marker": {
             "colorbar": {
              "outlinewidth": 0,
              "ticks": ""
             }
            },
            "type": "scatter3d"
           }
          ],
          "scattercarpet": [
           {
            "marker": {
             "colorbar": {
              "outlinewidth": 0,
              "ticks": ""
             }
            },
            "type": "scattercarpet"
           }
          ],
          "scattergeo": [
           {
            "marker": {
             "colorbar": {
              "outlinewidth": 0,
              "ticks": ""
             }
            },
            "type": "scattergeo"
           }
          ],
          "scattergl": [
           {
            "marker": {
             "colorbar": {
              "outlinewidth": 0,
              "ticks": ""
             }
            },
            "type": "scattergl"
           }
          ],
          "scattermapbox": [
           {
            "marker": {
             "colorbar": {
              "outlinewidth": 0,
              "ticks": ""
             }
            },
            "type": "scattermapbox"
           }
          ],
          "scatterpolar": [
           {
            "marker": {
             "colorbar": {
              "outlinewidth": 0,
              "ticks": ""
             }
            },
            "type": "scatterpolar"
           }
          ],
          "scatterpolargl": [
           {
            "marker": {
             "colorbar": {
              "outlinewidth": 0,
              "ticks": ""
             }
            },
            "type": "scatterpolargl"
           }
          ],
          "scatterternary": [
           {
            "marker": {
             "colorbar": {
              "outlinewidth": 0,
              "ticks": ""
             }
            },
            "type": "scatterternary"
           }
          ],
          "surface": [
           {
            "colorbar": {
             "outlinewidth": 0,
             "ticks": ""
            },
            "colorscale": [
             [
              0,
              "#0d0887"
             ],
             [
              0.1111111111111111,
              "#46039f"
             ],
             [
              0.2222222222222222,
              "#7201a8"
             ],
             [
              0.3333333333333333,
              "#9c179e"
             ],
             [
              0.4444444444444444,
              "#bd3786"
             ],
             [
              0.5555555555555556,
              "#d8576b"
             ],
             [
              0.6666666666666666,
              "#ed7953"
             ],
             [
              0.7777777777777778,
              "#fb9f3a"
             ],
             [
              0.8888888888888888,
              "#fdca26"
             ],
             [
              1,
              "#f0f921"
             ]
            ],
            "type": "surface"
           }
          ],
          "table": [
           {
            "cells": {
             "fill": {
              "color": "#EBF0F8"
             },
             "line": {
              "color": "white"
             }
            },
            "header": {
             "fill": {
              "color": "#C8D4E3"
             },
             "line": {
              "color": "white"
             }
            },
            "type": "table"
           }
          ]
         },
         "layout": {
          "annotationdefaults": {
           "arrowcolor": "#2a3f5f",
           "arrowhead": 0,
           "arrowwidth": 1
          },
          "autotypenumbers": "strict",
          "coloraxis": {
           "colorbar": {
            "outlinewidth": 0,
            "ticks": ""
           }
          },
          "colorscale": {
           "diverging": [
            [
             0,
             "#8e0152"
            ],
            [
             0.1,
             "#c51b7d"
            ],
            [
             0.2,
             "#de77ae"
            ],
            [
             0.3,
             "#f1b6da"
            ],
            [
             0.4,
             "#fde0ef"
            ],
            [
             0.5,
             "#f7f7f7"
            ],
            [
             0.6,
             "#e6f5d0"
            ],
            [
             0.7,
             "#b8e186"
            ],
            [
             0.8,
             "#7fbc41"
            ],
            [
             0.9,
             "#4d9221"
            ],
            [
             1,
             "#276419"
            ]
           ],
           "sequential": [
            [
             0,
             "#0d0887"
            ],
            [
             0.1111111111111111,
             "#46039f"
            ],
            [
             0.2222222222222222,
             "#7201a8"
            ],
            [
             0.3333333333333333,
             "#9c179e"
            ],
            [
             0.4444444444444444,
             "#bd3786"
            ],
            [
             0.5555555555555556,
             "#d8576b"
            ],
            [
             0.6666666666666666,
             "#ed7953"
            ],
            [
             0.7777777777777778,
             "#fb9f3a"
            ],
            [
             0.8888888888888888,
             "#fdca26"
            ],
            [
             1,
             "#f0f921"
            ]
           ],
           "sequentialminus": [
            [
             0,
             "#0d0887"
            ],
            [
             0.1111111111111111,
             "#46039f"
            ],
            [
             0.2222222222222222,
             "#7201a8"
            ],
            [
             0.3333333333333333,
             "#9c179e"
            ],
            [
             0.4444444444444444,
             "#bd3786"
            ],
            [
             0.5555555555555556,
             "#d8576b"
            ],
            [
             0.6666666666666666,
             "#ed7953"
            ],
            [
             0.7777777777777778,
             "#fb9f3a"
            ],
            [
             0.8888888888888888,
             "#fdca26"
            ],
            [
             1,
             "#f0f921"
            ]
           ]
          },
          "colorway": [
           "#636efa",
           "#EF553B",
           "#00cc96",
           "#ab63fa",
           "#FFA15A",
           "#19d3f3",
           "#FF6692",
           "#B6E880",
           "#FF97FF",
           "#FECB52"
          ],
          "font": {
           "color": "#2a3f5f"
          },
          "geo": {
           "bgcolor": "white",
           "lakecolor": "white",
           "landcolor": "#E5ECF6",
           "showlakes": true,
           "showland": true,
           "subunitcolor": "white"
          },
          "hoverlabel": {
           "align": "left"
          },
          "hovermode": "closest",
          "mapbox": {
           "style": "light"
          },
          "paper_bgcolor": "white",
          "plot_bgcolor": "#E5ECF6",
          "polar": {
           "angularaxis": {
            "gridcolor": "white",
            "linecolor": "white",
            "ticks": ""
           },
           "bgcolor": "#E5ECF6",
           "radialaxis": {
            "gridcolor": "white",
            "linecolor": "white",
            "ticks": ""
           }
          },
          "scene": {
           "xaxis": {
            "backgroundcolor": "#E5ECF6",
            "gridcolor": "white",
            "gridwidth": 2,
            "linecolor": "white",
            "showbackground": true,
            "ticks": "",
            "zerolinecolor": "white"
           },
           "yaxis": {
            "backgroundcolor": "#E5ECF6",
            "gridcolor": "white",
            "gridwidth": 2,
            "linecolor": "white",
            "showbackground": true,
            "ticks": "",
            "zerolinecolor": "white"
           },
           "zaxis": {
            "backgroundcolor": "#E5ECF6",
            "gridcolor": "white",
            "gridwidth": 2,
            "linecolor": "white",
            "showbackground": true,
            "ticks": "",
            "zerolinecolor": "white"
           }
          },
          "shapedefaults": {
           "line": {
            "color": "#2a3f5f"
           }
          },
          "ternary": {
           "aaxis": {
            "gridcolor": "white",
            "linecolor": "white",
            "ticks": ""
           },
           "baxis": {
            "gridcolor": "white",
            "linecolor": "white",
            "ticks": ""
           },
           "bgcolor": "#E5ECF6",
           "caxis": {
            "gridcolor": "white",
            "linecolor": "white",
            "ticks": ""
           }
          },
          "title": {
           "x": 0.05
          },
          "xaxis": {
           "automargin": true,
           "gridcolor": "white",
           "linecolor": "white",
           "ticks": "",
           "title": {
            "standoff": 15
           },
           "zerolinecolor": "white",
           "zerolinewidth": 2
          },
          "yaxis": {
           "automargin": true,
           "gridcolor": "white",
           "linecolor": "white",
           "ticks": "",
           "title": {
            "standoff": 15
           },
           "zerolinecolor": "white",
           "zerolinewidth": 2
          }
         }
        }
       }
      }
     },
     "metadata": {}
    }
   ],
   "metadata": {}
  },
  {
   "cell_type": "code",
   "execution_count": null,
   "source": [
    "# In this example we instead use a JSON object that has already been created for us\r\n",
    "\r\n",
    "import json\r\n",
    "\r\n",
    "with open(r'C:\\Users\\Burudani\\Documents\\mainPythonFolder_v1\\JSON\\dictData2.json') as json_file:\r\n",
    "    data = json.loads(json_file.read()) # this parses the JSON string, NB need to use the .read() method\r\n",
    "\r\n",
    "    print(data)\r\n",
    "    print('data type is:-')\r\n",
    "    print(type(data))\r\n",
    "\r\n",
    "# You can also print/extract specific pieces of data from the object\r\n",
    "    print(\"\\nPeople1:\", data['people1'])\r\n",
    "    print(\"\\nPeople2:\", data['people2'])"
   ],
   "outputs": [],
   "metadata": {}
  },
  {
   "cell_type": "code",
   "execution_count": null,
   "source": [
    "import pandas as pd\r\n",
    "import numpy as np\r\n",
    "# Pass a 2D numpy array - each row is the corresponding row required in the dataframe\r\n",
    "\r\n",
    "data = np.array([[1,\"toyota\",\"corolla\",\"TOYOTA\",\"corolla\"], \r\n",
    "                 [2,\"honda\",\"civic\",\"lamborghini\",\"sinata\"], \r\n",
    "                 [1,\"hyndai\",\"accent car\",\"hyndaisera\",\"accent car\"], \r\n",
    "                 [1,\"nissan\",\"sentra\",\"maserati\",\"dishenco\"],\r\n",
    "                 [2,\"honda\",\"Odessey\",\"porshe\",\"cayane\"],\r\n",
    "                 [1,\"Tesla\",\"model\",\"tesla mode3\",\"tesla\"]])   # testing reversal of data\r\n",
    "\r\n",
    "#TODO try using contains and test for backward macthes\r\n",
    "\r\n",
    "# pass column names in the columns parameter \r\n",
    "df = pd.DataFrame(data, columns = ['year', 'make1','model1','make2','model2'])\r\n",
    "\r\n",
    "print(df)\r\n",
    "#df['extrcolumn'] = df['model'].str.upper()\r\n",
    "#dftest1 = df.loc[(df['make1'] == 'honda')]\r\n",
    "#dftest1 = (df.loc[(df['make1'] == 'honda')] or df.loc[(df['model1'] == df['model2'])])\r\n",
    "#dftest1 = df['make1'] == 'honda'\r\n",
    "\r\n",
    "print('\\n')\r\n",
    "\r\n",
    "print(df[\"model2\"].str.split(\" \", n = 1, expand = False)==(df[\"model1\"].str.split(\" \", n = 1, expand = False)))"
   ],
   "outputs": [],
   "metadata": {}
  },
  {
   "cell_type": "code",
   "execution_count": null,
   "source": [
    "\r\n",
    "#df = df.assign(model2='Expenses')\r\n",
    "\r\n",
    "#df.loc[:,'model2'] = str('Expenses')\r\n",
    "\r\n",
    "\r\n",
    "#df['model2'] = 'Expenditure'\r\n",
    "checkList = ['toy','hyndai']\r\n",
    "checkListUppercase = [x.upper() for x in checkList]\r\n",
    "#if(row.make1.upper() in checkListUppercase):\r\n",
    "\r\n",
    "def NameReplacer(row):\r\n",
    "    \r\n",
    "    for item in checkListUppercase:\r\n",
    "        if(item in row.make1.upper()):\r\n",
    "\r\n",
    "            return item\r\n",
    "\r\n",
    "\r\n",
    "df.loc[:, 'Transaction'] = df.apply(NameReplacer, axis = 1)\r\n",
    "\r\n",
    "df.modelchecker.fillna(value=np.nan, inplace=True)   # replaces nNone values with NaN values\r\n",
    "\r\n",
    "df['Transaction'] = df['Transaction'].fillna('Expenditure')  # this allows you to now replace the NaN values with anything you want\r\n",
    "#df['modelchecker'].replace(NaN, \"\", inplace=True)\r\n",
    "\r\n",
    "#df['Match_Tester'] = df.apply(lambda errorDetector : df, axis = 1)\r\n",
    "print(df)"
   ],
   "outputs": [],
   "metadata": {}
  },
  {
   "cell_type": "code",
   "execution_count": null,
   "source": [
    "class ModifyMyDf:\r\n",
    "\r\n",
    "\r\n",
    "    #def__init__(self):\r\n",
    "\r\n",
    "\r\n",
    "\r\n",
    "    def errorDetector(row):\r\n",
    "    \r\n",
    "        if ((row.year == '2') or   #CHeck if the year is equal to 2\r\n",
    "        (row.make1.upper() == row.make2.upper() and row.model1.upper() == row.model2.upper()) or \r\n",
    "        (row.make1.upper() == row.model2.upper() and row.model1.upper() == row.make2.upper())):  # check if columns match in reverse\r\n",
    "        #if ((row.year == '2') or (row.make1.str.upper() == row.make2.str.upper() & row.model1 in (row.model2)))   \r\n",
    "            return \"Match\"\r\n",
    "    \r\n",
    "        else:\r\n",
    "            return \"No Match\"\r\n",
    "\r\n",
    "    #if (row.year == '2' | (row.make1.str.upper() == row.make2.str.upper() & row.model1.isin(row.model2)))\r\n",
    "\r\n",
    "    #(row.make1.upper() == row.model2.upper() and row.model1.upper() == row.make2.upper())\r\n",
    "\r\n",
    "    def runMyprogram():\r\n",
    "        #df.loc[:, 'Match Tester'] = df.apply(errorDetector, axis = 1)\r\n",
    "        df['Match_Tester'] = df.apply(lambda errorDetector : df, axis = 1)\r\n",
    "    #df['Discounted_Price'] = df.apply(fun)\r\n",
    "        print(df)\r\n",
    "    runMyprogram()\r\n",
    "\r\n",
    "ModifyMyDf()"
   ],
   "outputs": [],
   "metadata": {}
  },
  {
   "cell_type": "code",
   "execution_count": null,
   "source": [
    "#df['extrcolumn'] = df['model'].str.upper()\r\n",
    "#dftest1 = df.loc[(df['make1'] == 'honda')]\r\n",
    "#dftest1 = (df.loc[(df['make1'] == 'honda')] or df.loc[(df['model1'] == df['model2'])])\r\n",
    "#dftest1 = df['make1'] == 'honda'\r\n",
    "dftest1 = df.query('year == \"2\" or (make1.str.upper() == make2.str.upper() and model1.isin(model2))')\r\n",
    "\r\n",
    "\r\n",
    "\r\n",
    "print('\\n')\r\n",
    "print(dftest1)"
   ],
   "outputs": [],
   "metadata": {}
  },
  {
   "cell_type": "code",
   "execution_count": null,
   "source": [
    "import mitosheet\r\n",
    "mitosheet.sheet(df)"
   ],
   "outputs": [],
   "metadata": {}
  },
  {
   "cell_type": "code",
   "execution_count": null,
   "source": [],
   "outputs": [],
   "metadata": {}
  },
  {
   "cell_type": "code",
   "execution_count": 3,
   "source": [
    "import pandas as pd\r\n",
    "import numpy as np\r\n",
    "import matplotlib\r\n",
    "\r\n",
    "#Bring in original Data sheet\r\n",
    "df1 = pd.read_excel(r\"C:\\Users\\Burudani\\Documents\\Finance_Trending\\Checking_Jan1st2021_March10th2021.xlsx\")  \r\n",
    "#df1.columns = ['Date','Amount','Description']\r\n",
    "print(df1.head())\r\n",
    "\r\n",
    "\r\n",
    "# Bring in the excell sheet that you will use to create the final column\r\n",
    "df2 = pd.read_excel(r\"C:\\Users\\Burudani\\Documents\\Finance_Trending\\bank_amount_guide.xlsx\") \r\n",
    "\r\n",
    "\r\n",
    "\r\n",
    "\r\n",
    "#df = df.assign(model2='Expenses')\r\n",
    "\r\n",
    "#df.loc[:,'model2'] = str('Expenses')\r\n",
    "\r\n",
    "\r\n",
    "#df['model2'] = 'Expenditure'\r\n",
    "checkList = [\"BANANA REPUBLIC PAYMENT\",\"CHECK\",\"DE POST PAID DET BILL PAY \",\"GEICO PREM COLL \",\"JPMorgan Chase Ext Trnsfr\",\"CHASE CREDIT CRD AUTOPAY \",\"LOCKHEED MARTIN DIR DEP\",\"MACYS PAYMENT\",\"MONEY TRANSFER\",\"NELNET LOAN\",\"NORDSTROM PAYMENT\",\"OVERDRAFT FEE\",\"PAYPAL INST XFER\",\"Amazon Digit\",\"Amazon web service\",\"Amazon Prime\",\"wal-mart\",\"tom thumb\",\"7-eleven\",\"aero café\",\"goody goody\",\"wave\",\"txtag\",\"Prime Video\",\"cash app\",\"mcdonald\",\"cortland\",\"apple\",\"35413\",\"uber eats\",\"uber\",\"netflix\",\"at&t\",\"Linux Academy\",\"medium\",\"hour fitness\",\"Zelle from\"]\r\n",
    "checkListUppercase = [x.upper() for x in checkList]\r\n",
    "#if(row.make1.upper() in checkListUppercase):\r\n",
    "\r\n",
    "def NameReplacer(row):\r\n",
    "    '''This Function replaces the long version of the transactional data with a short form version of it'''\r\n",
    "    \r\n",
    "    for item in checkListUppercase:\r\n",
    "        if(item in row.Description.upper()):\r\n",
    "\r\n",
    "            return item\r\n",
    "\r\n",
    "\r\n",
    "df1.loc[:, 'Transaction'] = df1.apply(NameReplacer, axis = 1)\r\n",
    "\r\n",
    "df1.Transaction.fillna(value=np.nan, inplace=True)   # replaces None values with NaN values\r\n",
    "\r\n",
    "df1['Transaction'] = df1['Transaction'].fillna('EXPENDITURE')  # this allows you to now replace the NaN values with anything you want\r\n",
    "#df['modelchecker'].replace(NaN, \"\", inplace=True)\r\n",
    "\r\n",
    "#df['Match_Tester'] = df.apply(lambda errorDetector : df, axis = 1)\r\n",
    "print(df1)\r\n",
    "\r\n",
    "#df1.groupby(['Transaction']).sum()\r\n",
    "\r\n",
    "df1=df1.groupby([(df1.index.Transaction)]).sum()\r\n",
    "df2 = df1.drop(['index','Description'], axis = 1)\r\n",
    "\r\n",
    "df2.to_excel(r\"C:\\Users\\Burudani\\Documents\\Finance_Trending\\Checking_Jan1st2021_March10th2021_results3.xlsx\", index = False)\r\n",
    "\r\n",
    "df1.to_csv(r\"C:\\Users\\Burudani\\Documents\\Finance_Trending\\Checking_Jan1st2021_March10th2021_results4.xlsx\")"
   ],
   "outputs": [
    {
     "output_type": "stream",
     "name": "stdout",
     "text": [
      "        Date  Amount                                        Description\n",
      "0 2021-01-05   -29.0  BANANA REPUBLIC PAYMENT 210104 447993100865817...\n",
      "1 2021-02-05   -29.0  BANANA REPUBLIC PAYMENT 210204 447993100865817...\n",
      "2 2021-03-05   -29.0  BANANA REPUBLIC PAYMENT 210304 447993100865817...\n",
      "3 2021-01-15  -391.0  CHASE CREDIT CRD AUTOPAY 210114 00000000011953...\n",
      "4 2021-02-16  -399.0  CHASE CREDIT CRD AUTOPAY 210214 00000000012059...\n",
      "          Date  Amount                                        Description  \\\n",
      "0   2021-01-05  -29.00  BANANA REPUBLIC PAYMENT 210104 447993100865817...   \n",
      "1   2021-02-05  -29.00  BANANA REPUBLIC PAYMENT 210204 447993100865817...   \n",
      "2   2021-03-05  -29.00  BANANA REPUBLIC PAYMENT 210304 447993100865817...   \n",
      "3   2021-01-15 -391.00  CHASE CREDIT CRD AUTOPAY 210114 00000000011953...   \n",
      "4   2021-02-16 -399.00  CHASE CREDIT CRD AUTOPAY 210214 00000000012059...   \n",
      "..         ...     ...                                                ...   \n",
      "299 2021-03-05   -2.99  RECURRING PAYMENT AUTHORIZED ON 03/03 APPLE.CO...   \n",
      "300 2021-01-04  -10.65  RECURRING PAYMENT AUTHORIZED ON 12/31 MICROSOF...   \n",
      "301 2021-01-04 -941.67      Sixty25 at Ridgl Payment XXXXX6541 Kirwa Boit   \n",
      "302 2021-03-01  -64.00  WELLS FARGO CARD RESERVE 210301 1001 907703057...   \n",
      "303 2021-02-03  200.00  ZELLE FROM BETH WANJIRU NGANGA ON 02/03 REF # ...   \n",
      "\n",
      "                   Transaction  \n",
      "0      BANANA REPUBLIC PAYMENT  \n",
      "1      BANANA REPUBLIC PAYMENT  \n",
      "2      BANANA REPUBLIC PAYMENT  \n",
      "3    CHASE CREDIT CRD AUTOPAY   \n",
      "4    CHASE CREDIT CRD AUTOPAY   \n",
      "..                         ...  \n",
      "299                      APPLE  \n",
      "300                EXPENDITURE  \n",
      "301                EXPENDITURE  \n",
      "302                EXPENDITURE  \n",
      "303                 ZELLE FROM  \n",
      "\n",
      "[304 rows x 4 columns]\n"
     ]
    },
    {
     "output_type": "error",
     "ename": "AttributeError",
     "evalue": "'RangeIndex' object has no attribute 'Transaction'",
     "traceback": [
      "\u001b[1;31m---------------------------------------------------------------------------\u001b[0m",
      "\u001b[1;31mAttributeError\u001b[0m                            Traceback (most recent call last)",
      "\u001b[1;32m<ipython-input-3-d66e04be4692>\u001b[0m in \u001b[0;36m<module>\u001b[1;34m\u001b[0m\n\u001b[0;32m     46\u001b[0m \u001b[1;31m#df1.groupby(['Transaction']).sum()\u001b[0m\u001b[1;33m\u001b[0m\u001b[1;33m\u001b[0m\u001b[1;33m\u001b[0m\u001b[0m\n\u001b[0;32m     47\u001b[0m \u001b[1;33m\u001b[0m\u001b[0m\n\u001b[1;32m---> 48\u001b[1;33m \u001b[0mdf1\u001b[0m\u001b[1;33m=\u001b[0m\u001b[0mdf1\u001b[0m\u001b[1;33m.\u001b[0m\u001b[0mgroupby\u001b[0m\u001b[1;33m(\u001b[0m\u001b[1;33m[\u001b[0m\u001b[1;33m(\u001b[0m\u001b[0mdf1\u001b[0m\u001b[1;33m.\u001b[0m\u001b[0mindex\u001b[0m\u001b[1;33m.\u001b[0m\u001b[0mTransaction\u001b[0m\u001b[1;33m)\u001b[0m\u001b[1;33m]\u001b[0m\u001b[1;33m)\u001b[0m\u001b[1;33m.\u001b[0m\u001b[0msum\u001b[0m\u001b[1;33m(\u001b[0m\u001b[1;33m)\u001b[0m\u001b[1;33m\u001b[0m\u001b[1;33m\u001b[0m\u001b[0m\n\u001b[0m\u001b[0;32m     49\u001b[0m \u001b[0mdf2\u001b[0m \u001b[1;33m=\u001b[0m \u001b[0mdf1\u001b[0m\u001b[1;33m.\u001b[0m\u001b[0mdrop\u001b[0m\u001b[1;33m(\u001b[0m\u001b[1;33m[\u001b[0m\u001b[1;34m'index'\u001b[0m\u001b[1;33m,\u001b[0m\u001b[1;34m'Description'\u001b[0m\u001b[1;33m]\u001b[0m\u001b[1;33m,\u001b[0m \u001b[0maxis\u001b[0m \u001b[1;33m=\u001b[0m \u001b[1;36m1\u001b[0m\u001b[1;33m)\u001b[0m\u001b[1;33m\u001b[0m\u001b[1;33m\u001b[0m\u001b[0m\n\u001b[0;32m     50\u001b[0m \u001b[1;33m\u001b[0m\u001b[0m\n",
      "\u001b[1;31mAttributeError\u001b[0m: 'RangeIndex' object has no attribute 'Transaction'"
     ]
    }
   ],
   "metadata": {}
  },
  {
   "cell_type": "code",
   "execution_count": 4,
   "source": [
    "import pandas as pd\r\n",
    "import plotly.express as px\r\n",
    "\r\n",
    "# data\r\n",
    "df = pd.DataFrame({'A': {0: 34, 1: 34, 2: 34, 3: 34, 4: 56, 5: 56, 6: 78},\r\n",
    "                     'B': {0: 34, 1: 223, 2: 56, 3: 86, 4: 86, 5: 43, 6: 34},\r\n",
    "                     'C': {0: -12, 1: -12, 2: -12, 3: -12, 4: -12, 5: -12, 6: -12}})\r\n",
    "\r\n",
    "colors = px.colors.qualitative.T10\r\n",
    "\r\n",
    "# plotly\r\n",
    "fig = px.bar(df, \r\n",
    "             x = df.index,\r\n",
    "             y = [c for c in df.columns],\r\n",
    "             template = 'plotly_dark',\r\n",
    "             color_discrete_sequence = colors,\r\n",
    "             title = 'Stacked bar chart using px.bar()', \r\n",
    "             )\r\n",
    "\r\n",
    "fig.show()\r\n",
    "print('hello world')"
   ],
   "outputs": [
    {
     "output_type": "display_data",
     "data": {
      "application/vnd.plotly.v1+json": {
       "config": {
        "plotlyServerURL": "https://plot.ly"
       },
       "data": [
        {
         "alignmentgroup": "True",
         "hovertemplate": "variable=A<br>index=%{x}<br>value=%{y}<extra></extra>",
         "legendgroup": "A",
         "marker": {
          "color": "#4C78A8"
         },
         "name": "A",
         "offsetgroup": "A",
         "orientation": "v",
         "showlegend": true,
         "textposition": "auto",
         "type": "bar",
         "x": [
          0,
          1,
          2,
          3,
          4,
          5,
          6
         ],
         "xaxis": "x",
         "y": [
          34,
          34,
          34,
          34,
          56,
          56,
          78
         ],
         "yaxis": "y"
        },
        {
         "alignmentgroup": "True",
         "hovertemplate": "variable=B<br>index=%{x}<br>value=%{y}<extra></extra>",
         "legendgroup": "B",
         "marker": {
          "color": "#F58518"
         },
         "name": "B",
         "offsetgroup": "B",
         "orientation": "v",
         "showlegend": true,
         "textposition": "auto",
         "type": "bar",
         "x": [
          0,
          1,
          2,
          3,
          4,
          5,
          6
         ],
         "xaxis": "x",
         "y": [
          34,
          223,
          56,
          86,
          86,
          43,
          34
         ],
         "yaxis": "y"
        },
        {
         "alignmentgroup": "True",
         "hovertemplate": "variable=C<br>index=%{x}<br>value=%{y}<extra></extra>",
         "legendgroup": "C",
         "marker": {
          "color": "#E45756"
         },
         "name": "C",
         "offsetgroup": "C",
         "orientation": "v",
         "showlegend": true,
         "textposition": "auto",
         "type": "bar",
         "x": [
          0,
          1,
          2,
          3,
          4,
          5,
          6
         ],
         "xaxis": "x",
         "y": [
          -12,
          -12,
          -12,
          -12,
          -12,
          -12,
          -12
         ],
         "yaxis": "y"
        }
       ],
       "layout": {
        "barmode": "relative",
        "legend": {
         "title": {
          "text": "variable"
         },
         "tracegroupgap": 0
        },
        "template": {
         "data": {
          "bar": [
           {
            "error_x": {
             "color": "#f2f5fa"
            },
            "error_y": {
             "color": "#f2f5fa"
            },
            "marker": {
             "line": {
              "color": "rgb(17,17,17)",
              "width": 0.5
             }
            },
            "type": "bar"
           }
          ],
          "barpolar": [
           {
            "marker": {
             "line": {
              "color": "rgb(17,17,17)",
              "width": 0.5
             }
            },
            "type": "barpolar"
           }
          ],
          "carpet": [
           {
            "aaxis": {
             "endlinecolor": "#A2B1C6",
             "gridcolor": "#506784",
             "linecolor": "#506784",
             "minorgridcolor": "#506784",
             "startlinecolor": "#A2B1C6"
            },
            "baxis": {
             "endlinecolor": "#A2B1C6",
             "gridcolor": "#506784",
             "linecolor": "#506784",
             "minorgridcolor": "#506784",
             "startlinecolor": "#A2B1C6"
            },
            "type": "carpet"
           }
          ],
          "choropleth": [
           {
            "colorbar": {
             "outlinewidth": 0,
             "ticks": ""
            },
            "type": "choropleth"
           }
          ],
          "contour": [
           {
            "colorbar": {
             "outlinewidth": 0,
             "ticks": ""
            },
            "colorscale": [
             [
              0,
              "#0d0887"
             ],
             [
              0.1111111111111111,
              "#46039f"
             ],
             [
              0.2222222222222222,
              "#7201a8"
             ],
             [
              0.3333333333333333,
              "#9c179e"
             ],
             [
              0.4444444444444444,
              "#bd3786"
             ],
             [
              0.5555555555555556,
              "#d8576b"
             ],
             [
              0.6666666666666666,
              "#ed7953"
             ],
             [
              0.7777777777777778,
              "#fb9f3a"
             ],
             [
              0.8888888888888888,
              "#fdca26"
             ],
             [
              1,
              "#f0f921"
             ]
            ],
            "type": "contour"
           }
          ],
          "contourcarpet": [
           {
            "colorbar": {
             "outlinewidth": 0,
             "ticks": ""
            },
            "type": "contourcarpet"
           }
          ],
          "heatmap": [
           {
            "colorbar": {
             "outlinewidth": 0,
             "ticks": ""
            },
            "colorscale": [
             [
              0,
              "#0d0887"
             ],
             [
              0.1111111111111111,
              "#46039f"
             ],
             [
              0.2222222222222222,
              "#7201a8"
             ],
             [
              0.3333333333333333,
              "#9c179e"
             ],
             [
              0.4444444444444444,
              "#bd3786"
             ],
             [
              0.5555555555555556,
              "#d8576b"
             ],
             [
              0.6666666666666666,
              "#ed7953"
             ],
             [
              0.7777777777777778,
              "#fb9f3a"
             ],
             [
              0.8888888888888888,
              "#fdca26"
             ],
             [
              1,
              "#f0f921"
             ]
            ],
            "type": "heatmap"
           }
          ],
          "heatmapgl": [
           {
            "colorbar": {
             "outlinewidth": 0,
             "ticks": ""
            },
            "colorscale": [
             [
              0,
              "#0d0887"
             ],
             [
              0.1111111111111111,
              "#46039f"
             ],
             [
              0.2222222222222222,
              "#7201a8"
             ],
             [
              0.3333333333333333,
              "#9c179e"
             ],
             [
              0.4444444444444444,
              "#bd3786"
             ],
             [
              0.5555555555555556,
              "#d8576b"
             ],
             [
              0.6666666666666666,
              "#ed7953"
             ],
             [
              0.7777777777777778,
              "#fb9f3a"
             ],
             [
              0.8888888888888888,
              "#fdca26"
             ],
             [
              1,
              "#f0f921"
             ]
            ],
            "type": "heatmapgl"
           }
          ],
          "histogram": [
           {
            "marker": {
             "colorbar": {
              "outlinewidth": 0,
              "ticks": ""
             }
            },
            "type": "histogram"
           }
          ],
          "histogram2d": [
           {
            "colorbar": {
             "outlinewidth": 0,
             "ticks": ""
            },
            "colorscale": [
             [
              0,
              "#0d0887"
             ],
             [
              0.1111111111111111,
              "#46039f"
             ],
             [
              0.2222222222222222,
              "#7201a8"
             ],
             [
              0.3333333333333333,
              "#9c179e"
             ],
             [
              0.4444444444444444,
              "#bd3786"
             ],
             [
              0.5555555555555556,
              "#d8576b"
             ],
             [
              0.6666666666666666,
              "#ed7953"
             ],
             [
              0.7777777777777778,
              "#fb9f3a"
             ],
             [
              0.8888888888888888,
              "#fdca26"
             ],
             [
              1,
              "#f0f921"
             ]
            ],
            "type": "histogram2d"
           }
          ],
          "histogram2dcontour": [
           {
            "colorbar": {
             "outlinewidth": 0,
             "ticks": ""
            },
            "colorscale": [
             [
              0,
              "#0d0887"
             ],
             [
              0.1111111111111111,
              "#46039f"
             ],
             [
              0.2222222222222222,
              "#7201a8"
             ],
             [
              0.3333333333333333,
              "#9c179e"
             ],
             [
              0.4444444444444444,
              "#bd3786"
             ],
             [
              0.5555555555555556,
              "#d8576b"
             ],
             [
              0.6666666666666666,
              "#ed7953"
             ],
             [
              0.7777777777777778,
              "#fb9f3a"
             ],
             [
              0.8888888888888888,
              "#fdca26"
             ],
             [
              1,
              "#f0f921"
             ]
            ],
            "type": "histogram2dcontour"
           }
          ],
          "mesh3d": [
           {
            "colorbar": {
             "outlinewidth": 0,
             "ticks": ""
            },
            "type": "mesh3d"
           }
          ],
          "parcoords": [
           {
            "line": {
             "colorbar": {
              "outlinewidth": 0,
              "ticks": ""
             }
            },
            "type": "parcoords"
           }
          ],
          "pie": [
           {
            "automargin": true,
            "type": "pie"
           }
          ],
          "scatter": [
           {
            "marker": {
             "line": {
              "color": "#283442"
             }
            },
            "type": "scatter"
           }
          ],
          "scatter3d": [
           {
            "line": {
             "colorbar": {
              "outlinewidth": 0,
              "ticks": ""
             }
            },
            "marker": {
             "colorbar": {
              "outlinewidth": 0,
              "ticks": ""
             }
            },
            "type": "scatter3d"
           }
          ],
          "scattercarpet": [
           {
            "marker": {
             "colorbar": {
              "outlinewidth": 0,
              "ticks": ""
             }
            },
            "type": "scattercarpet"
           }
          ],
          "scattergeo": [
           {
            "marker": {
             "colorbar": {
              "outlinewidth": 0,
              "ticks": ""
             }
            },
            "type": "scattergeo"
           }
          ],
          "scattergl": [
           {
            "marker": {
             "line": {
              "color": "#283442"
             }
            },
            "type": "scattergl"
           }
          ],
          "scattermapbox": [
           {
            "marker": {
             "colorbar": {
              "outlinewidth": 0,
              "ticks": ""
             }
            },
            "type": "scattermapbox"
           }
          ],
          "scatterpolar": [
           {
            "marker": {
             "colorbar": {
              "outlinewidth": 0,
              "ticks": ""
             }
            },
            "type": "scatterpolar"
           }
          ],
          "scatterpolargl": [
           {
            "marker": {
             "colorbar": {
              "outlinewidth": 0,
              "ticks": ""
             }
            },
            "type": "scatterpolargl"
           }
          ],
          "scatterternary": [
           {
            "marker": {
             "colorbar": {
              "outlinewidth": 0,
              "ticks": ""
             }
            },
            "type": "scatterternary"
           }
          ],
          "surface": [
           {
            "colorbar": {
             "outlinewidth": 0,
             "ticks": ""
            },
            "colorscale": [
             [
              0,
              "#0d0887"
             ],
             [
              0.1111111111111111,
              "#46039f"
             ],
             [
              0.2222222222222222,
              "#7201a8"
             ],
             [
              0.3333333333333333,
              "#9c179e"
             ],
             [
              0.4444444444444444,
              "#bd3786"
             ],
             [
              0.5555555555555556,
              "#d8576b"
             ],
             [
              0.6666666666666666,
              "#ed7953"
             ],
             [
              0.7777777777777778,
              "#fb9f3a"
             ],
             [
              0.8888888888888888,
              "#fdca26"
             ],
             [
              1,
              "#f0f921"
             ]
            ],
            "type": "surface"
           }
          ],
          "table": [
           {
            "cells": {
             "fill": {
              "color": "#506784"
             },
             "line": {
              "color": "rgb(17,17,17)"
             }
            },
            "header": {
             "fill": {
              "color": "#2a3f5f"
             },
             "line": {
              "color": "rgb(17,17,17)"
             }
            },
            "type": "table"
           }
          ]
         },
         "layout": {
          "annotationdefaults": {
           "arrowcolor": "#f2f5fa",
           "arrowhead": 0,
           "arrowwidth": 1
          },
          "autotypenumbers": "strict",
          "coloraxis": {
           "colorbar": {
            "outlinewidth": 0,
            "ticks": ""
           }
          },
          "colorscale": {
           "diverging": [
            [
             0,
             "#8e0152"
            ],
            [
             0.1,
             "#c51b7d"
            ],
            [
             0.2,
             "#de77ae"
            ],
            [
             0.3,
             "#f1b6da"
            ],
            [
             0.4,
             "#fde0ef"
            ],
            [
             0.5,
             "#f7f7f7"
            ],
            [
             0.6,
             "#e6f5d0"
            ],
            [
             0.7,
             "#b8e186"
            ],
            [
             0.8,
             "#7fbc41"
            ],
            [
             0.9,
             "#4d9221"
            ],
            [
             1,
             "#276419"
            ]
           ],
           "sequential": [
            [
             0,
             "#0d0887"
            ],
            [
             0.1111111111111111,
             "#46039f"
            ],
            [
             0.2222222222222222,
             "#7201a8"
            ],
            [
             0.3333333333333333,
             "#9c179e"
            ],
            [
             0.4444444444444444,
             "#bd3786"
            ],
            [
             0.5555555555555556,
             "#d8576b"
            ],
            [
             0.6666666666666666,
             "#ed7953"
            ],
            [
             0.7777777777777778,
             "#fb9f3a"
            ],
            [
             0.8888888888888888,
             "#fdca26"
            ],
            [
             1,
             "#f0f921"
            ]
           ],
           "sequentialminus": [
            [
             0,
             "#0d0887"
            ],
            [
             0.1111111111111111,
             "#46039f"
            ],
            [
             0.2222222222222222,
             "#7201a8"
            ],
            [
             0.3333333333333333,
             "#9c179e"
            ],
            [
             0.4444444444444444,
             "#bd3786"
            ],
            [
             0.5555555555555556,
             "#d8576b"
            ],
            [
             0.6666666666666666,
             "#ed7953"
            ],
            [
             0.7777777777777778,
             "#fb9f3a"
            ],
            [
             0.8888888888888888,
             "#fdca26"
            ],
            [
             1,
             "#f0f921"
            ]
           ]
          },
          "colorway": [
           "#636efa",
           "#EF553B",
           "#00cc96",
           "#ab63fa",
           "#FFA15A",
           "#19d3f3",
           "#FF6692",
           "#B6E880",
           "#FF97FF",
           "#FECB52"
          ],
          "font": {
           "color": "#f2f5fa"
          },
          "geo": {
           "bgcolor": "rgb(17,17,17)",
           "lakecolor": "rgb(17,17,17)",
           "landcolor": "rgb(17,17,17)",
           "showlakes": true,
           "showland": true,
           "subunitcolor": "#506784"
          },
          "hoverlabel": {
           "align": "left"
          },
          "hovermode": "closest",
          "mapbox": {
           "style": "dark"
          },
          "paper_bgcolor": "rgb(17,17,17)",
          "plot_bgcolor": "rgb(17,17,17)",
          "polar": {
           "angularaxis": {
            "gridcolor": "#506784",
            "linecolor": "#506784",
            "ticks": ""
           },
           "bgcolor": "rgb(17,17,17)",
           "radialaxis": {
            "gridcolor": "#506784",
            "linecolor": "#506784",
            "ticks": ""
           }
          },
          "scene": {
           "xaxis": {
            "backgroundcolor": "rgb(17,17,17)",
            "gridcolor": "#506784",
            "gridwidth": 2,
            "linecolor": "#506784",
            "showbackground": true,
            "ticks": "",
            "zerolinecolor": "#C8D4E3"
           },
           "yaxis": {
            "backgroundcolor": "rgb(17,17,17)",
            "gridcolor": "#506784",
            "gridwidth": 2,
            "linecolor": "#506784",
            "showbackground": true,
            "ticks": "",
            "zerolinecolor": "#C8D4E3"
           },
           "zaxis": {
            "backgroundcolor": "rgb(17,17,17)",
            "gridcolor": "#506784",
            "gridwidth": 2,
            "linecolor": "#506784",
            "showbackground": true,
            "ticks": "",
            "zerolinecolor": "#C8D4E3"
           }
          },
          "shapedefaults": {
           "line": {
            "color": "#f2f5fa"
           }
          },
          "sliderdefaults": {
           "bgcolor": "#C8D4E3",
           "bordercolor": "rgb(17,17,17)",
           "borderwidth": 1,
           "tickwidth": 0
          },
          "ternary": {
           "aaxis": {
            "gridcolor": "#506784",
            "linecolor": "#506784",
            "ticks": ""
           },
           "baxis": {
            "gridcolor": "#506784",
            "linecolor": "#506784",
            "ticks": ""
           },
           "bgcolor": "rgb(17,17,17)",
           "caxis": {
            "gridcolor": "#506784",
            "linecolor": "#506784",
            "ticks": ""
           }
          },
          "title": {
           "x": 0.05
          },
          "updatemenudefaults": {
           "bgcolor": "#506784",
           "borderwidth": 0
          },
          "xaxis": {
           "automargin": true,
           "gridcolor": "#283442",
           "linecolor": "#506784",
           "ticks": "",
           "title": {
            "standoff": 15
           },
           "zerolinecolor": "#283442",
           "zerolinewidth": 2
          },
          "yaxis": {
           "automargin": true,
           "gridcolor": "#283442",
           "linecolor": "#506784",
           "ticks": "",
           "title": {
            "standoff": 15
           },
           "zerolinecolor": "#283442",
           "zerolinewidth": 2
          }
         }
        },
        "title": {
         "text": "Stacked bar chart using px.bar()"
        },
        "xaxis": {
         "anchor": "y",
         "domain": [
          0,
          1
         ],
         "title": {
          "text": "index"
         }
        },
        "yaxis": {
         "anchor": "x",
         "domain": [
          0,
          1
         ],
         "title": {
          "text": "value"
         }
        }
       }
      }
     },
     "metadata": {}
    },
    {
     "output_type": "stream",
     "name": "stdout",
     "text": [
      "hello world\n"
     ]
    }
   ],
   "metadata": {}
  },
  {
   "cell_type": "code",
   "execution_count": null,
   "source": [
    "# imports\r\n",
    "import plotly\r\n",
    "import cufflinks as cf\r\n",
    "from plotly.offline import download_plotlyjs, init_notebook_mode, plot, iplot\r\n",
    "import pandas as pd\r\n",
    "import numpy as np\r\n",
    "\r\n",
    "# setup\r\n",
    "init_notebook_mode(connected=True)\r\n",
    "np.random.seed(123)\r\n",
    "cf.set_config_file(theme='pearl')\r\n",
    "\r\n",
    "# qtconsole for debugging\r\n",
    "#%qtconsole --style vim #src# https://qtconsole.readthedocs.io/en/stable/\r\n",
    "\r\n",
    "# Random data using cufflinks\r\n",
    "df = cf.datagen.lines()\r\n",
    "df = df[['UUN.XY', 'MJF.XV', 'XBB.AO']].head(50)\r\n",
    "df=np.abs(df)\r\n",
    "\r\n",
    "# make figure\r\n",
    "fig = df.iplot(asFigure=True, kind='bar', barmode = 'stack',\r\n",
    "               xTitle='Dates',yTitle='Returns',title='Returns')\r\n",
    "\r\n",
    "# plot figure\r\n",
    "iplot(fig)"
   ],
   "outputs": [],
   "metadata": {}
  },
  {
   "cell_type": "code",
   "execution_count": null,
   "source": [
    "data = [['Ravi',21,67],['Kiran',24,61],['Anita',18,46],['Smita',20,78],['Sunil',17,90]]\r\n",
    "df = pd.DataFrame(data,columns = ['name','age','marks'],dtype = float)\r\n",
    "trace = go.Bar(x = df.name, y = df.marks)\r\n",
    "fig = go.Figure(data = [trace])\r\n",
    "iplot(fig)"
   ],
   "outputs": [],
   "metadata": {}
  },
  {
   "cell_type": "code",
   "execution_count": null,
   "source": [
    "data = [['Ravi',21,67],['Kiran',24,61],['Anita',18,46],['Smita',20,78],['Sunil',17,90]]\n",
    "df = pd.DataFrame(data,columns = ['name','age','marks'],dtype = float)\n",
    "df.iplot(kind = 'bar', x = 'name', y = 'marks')"
   ],
   "outputs": [],
   "metadata": {}
  },
  {
   "cell_type": "code",
   "execution_count": null,
   "source": [
    "def addSummary(row):\r\n",
    "  \r\n",
    "    if ((row.description  == '2') \r\n",
    "    \r\n",
    "        return \"Match\"\r\n",
    "  \r\n",
    "    else:\r\n",
    "        return \"No Match\""
   ],
   "outputs": [],
   "metadata": {}
  },
  {
   "cell_type": "code",
   "execution_count": null,
   "source": [
    "# sum_integers_list.py\n",
    "def my_sum(my_integers):\n",
    "    result = 0\n",
    "    for x in my_integers:\n",
    "        result += x\n",
    "    return result\n",
    "\n",
    "list_of_integers = [1, 2, 3]\n",
    "print(my_sum(list_of_integers))"
   ],
   "outputs": [],
   "metadata": {}
  },
  {
   "cell_type": "code",
   "execution_count": null,
   "source": [
    "# sum_integers_args.py\n",
    "def my_sum(*args):\n",
    "    result = 0\n",
    "    # Iterating over the Python args tuple\n",
    "    for x in args:\n",
    "        result += x\n",
    "    return result\n",
    "\n",
    "print(my_sum(1, 2, 3))"
   ],
   "outputs": [],
   "metadata": {}
  },
  {
   "cell_type": "markdown",
   "source": [
    "## The  \"*args\" oprator allows you to enter an undetermined number of arguments to the funtion  \n",
    "The star(*) is known as the unpacking operator (*)  \n",
    "\n",
    "-Use cases adding a list of numbers which changes dynamically each time the function is called"
   ],
   "metadata": {}
  },
  {
   "cell_type": "code",
   "execution_count": null,
   "source": [
    "# sum of a list of integers :-\n",
    "def my_sum(*args):\n",
    "    result = 0\n",
    "    for x in args:\n",
    "        result += x\n",
    "    return result\n",
    "\n",
    "list1 = [1, 2, 3]\n",
    "list2 = [4, 5]\n",
    "list3 = [6, 7, 8, 9]\n",
    "\n",
    "print(my_sum(*list1, *list2, *list3))"
   ],
   "outputs": [],
   "metadata": {}
  },
  {
   "cell_type": "markdown",
   "source": [
    "## The \"**kwargs\" oprator allows you to enter an undetermined number of \"keyword/named\" arguments to the funtion"
   ],
   "metadata": {}
  },
  {
   "cell_type": "code",
   "execution_count": null,
   "source": [
    "# concatenate.py\n",
    "def concatenate(**kwargs):\n",
    "    result = \"\"\n",
    "    # Iterating over the Python kwargs dictionary\n",
    "    for arg in kwargs.values():\n",
    "        result += arg\n",
    "    return result\n",
    "\n",
    "print(concatenate(a=\"Real\", b=\"Python\", c=\"Is\", d=\"Great\", e=\"!\"))"
   ],
   "outputs": [],
   "metadata": {}
  },
  {
   "cell_type": "markdown",
   "source": [
    "## Generators *Advanced*\n",
    "- They are special functions that do not store contents in memory\n",
    "- Useful for optimizing the processing of large data sets\n",
    "- Instead of loading a file to memory it opens up the file then iterates while performing calculations then returns a results\n",
    "\n"
   ],
   "metadata": {}
  },
  {
   "cell_type": "code",
   "execution_count": null,
   "source": [
    "def csv_reader(file_name):\n",
    "    for row in open(file_name, \"r\"):\n",
    "        yield row "
   ],
   "outputs": [],
   "metadata": {}
  },
  {
   "cell_type": "code",
   "execution_count": 2,
   "source": [
    "string1 = 'hector'\n",
    "string2 = 'HECTOR'\n",
    "\n",
    "if (string1.upper() == string2.upper()):\n",
    "     print('they are the same')\n",
    "     string1=string1.upper()\n",
    "     print(string1)\n",
    "else:\n",
    "    print('they are not the same')\n"
   ],
   "outputs": [
    {
     "output_type": "stream",
     "name": "stdout",
     "text": [
      "they are the same\n",
      "HECTOR\n"
     ]
    }
   ],
   "metadata": {}
  },
  {
   "cell_type": "code",
   "execution_count": null,
   "source": [
    "import pandas as pd\n",
    "\n",
    "df = pd.read_csv (r\"C:\\Users\\Burudani\\Documents\\peopleData.csv\")\n",
    "print (df)"
   ],
   "outputs": [],
   "metadata": {}
  },
  {
   "cell_type": "code",
   "execution_count": null,
   "source": [
    "for index, row in df.iterrows():\n",
    "    print(row['firstname1'], row['lastname1'])"
   ],
   "outputs": [],
   "metadata": {}
  },
  {
   "cell_type": "markdown",
   "source": [
    "## Argeparse  \n",
    "\n",
    "A python module for allowing your program to recieve arguemnts in the command line. The argparse module makes it easy to write user-friendly command-line interfaces. Think Linux command line\n"
   ],
   "metadata": {}
  },
  {
   "cell_type": "code",
   "execution_count": 1,
   "source": [
    "from tkinter import *\n",
    "\n",
    "root = Tk()\n",
    "frame = Frame(root)\n",
    "frame.pack()\n",
    "\n",
    "bottomframe = Frame(root)\n",
    "bottomframe.pack( side = BOTTOM )\n",
    "\n",
    "redbutton = Button(frame, text=\"Red\", fg=\"red\")\n",
    "redbutton.pack( side = LEFT)\n",
    "\n",
    "greenbutton = Button(frame, text=\"Brown\", fg=\"brown\")\n",
    "greenbutton.pack( side = LEFT )\n",
    "\n",
    "bluebutton = Button(frame, text=\"Blue\", fg=\"blue\")\n",
    "bluebutton.pack( side = LEFT )\n",
    "\n",
    "blackbutton = Button(bottomframe, text=\"Black\", fg=\"black\")\n",
    "blackbutton.pack( side = BOTTOM)\n",
    "\n",
    "root.mainloop()"
   ],
   "outputs": [],
   "metadata": {}
  },
  {
   "cell_type": "code",
   "execution_count": null,
   "source": [],
   "outputs": [],
   "metadata": {}
  }
 ],
 "metadata": {
  "interpreter": {
   "hash": "106f8dd8e7b9f8bf7b5c7f9387976efaa64fd1db7ebf679a5786be21993f005a"
  },
  "kernelspec": {
   "display_name": "Python 3.8.5 64-bit ('rwakiPythonEnv': conda)",
   "name": "python3"
  },
  "language_info": {
   "codemirror_mode": {
    "name": "ipython",
    "version": 3
   },
   "file_extension": ".py",
   "mimetype": "text/x-python",
   "name": "python",
   "nbconvert_exporter": "python",
   "pygments_lexer": "ipython3",
   "version": "3.8.5"
  },
  "orig_nbformat": 2
 },
 "nbformat": 4,
 "nbformat_minor": 2
}