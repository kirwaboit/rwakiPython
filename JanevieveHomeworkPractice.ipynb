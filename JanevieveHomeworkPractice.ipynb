{
 "metadata": {
  "language_info": {
   "codemirror_mode": {
    "name": "ipython",
    "version": 3
   },
   "file_extension": ".py",
   "mimetype": "text/x-python",
   "name": "python",
   "nbconvert_exporter": "python",
   "pygments_lexer": "ipython3",
   "version": "3.7.7-final"
  },
  "orig_nbformat": 2,
  "kernelspec": {
   "name": "python37664bitbase68924d37ddee4d05b3ed2b2d3c0a4141",
   "display_name": "Python 3.7.6 64-bit ('base')"
  }
 },
 "nbformat": 4,
 "nbformat_minor": 2,
 "cells": [
  {
   "source": [
    "\n",
    "# Python Advance Exercise \n",
    "1. Create list object with following student names.\n",
    "\n",
    "\tjohn, kelly, dave, mary, frank, nancy, paul,paul,kelly\n",
    "\n",
    "\ta. Write the code to reverse the list in python  \n",
    "\tb. Write code to remove duplicate items from the list  \n",
    "\tc.  Sort the names in ascending order  \n",
    "\td. You will learn Variables, data types, data structures\n",
    "\n"
   ],
   "cell_type": "markdown",
   "metadata": {}
  },
  {
   "cell_type": "code",
   "execution_count": 17,
   "metadata": {},
   "outputs": [
    {
     "output_type": "stream",
     "name": "stdout",
     "text": [
      "['kelly', 'paul', 'paul', 'nancy', 'frank', 'mary', 'dave', 'kelly', 'john']\n"
     ]
    }
   ],
   "source": [
    "#Creating a List of strings\n",
    "emptylist = ['']\n",
    "nameList = ['kirwa'] \n",
    "kirwaBoit = 1*3\n",
    "janevieveString = ''\n",
    "employeeName = 'james'\n",
    "employeeCar = 'Hyundai'\n",
    "\n",
    "studentNameList = ['john','kelly','dave', 'mary', 'frank',\"nancy\",'paul','paul', 'kelly'] \n",
    "studentNameList.reverse()\n",
    "\n",
    "print(studentNameList)"
   ]
  },
  {
   "cell_type": "code",
   "execution_count": null,
   "metadata": {},
   "outputs": [],
   "source": [
    "#Removing Duplicates\n",
    "\n",
    "res = [] \n",
    "for i in test_list: \n",
    "    if i not in res: \n",
    "        res.append(i)"
   ]
  },
  {
   "cell_type": "code",
   "execution_count": null,
   "metadata": {},
   "outputs": [],
   "source": []
  }
 ]
}