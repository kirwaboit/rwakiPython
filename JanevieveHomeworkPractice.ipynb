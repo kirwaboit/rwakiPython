{
 "cells": [
  {
   "cell_type": "markdown",
   "metadata": {},
   "source": [
    "\n",
    "# Python Advance Exercise \n",
    "1. Create list object with following student names.\n",
    "\n",
    "\tjohn, kelly, dave, mary, frank, nancy, paul,paul,kelly\n",
    "\n",
    "\ta. Write the code to reverse the list in python  \n",
    "\tb. Write code to remove duplicate items from the list  \n",
    "\tc.  Sort the names in ascending order  \n",
    "\td. You will learn Variables, data types, data structures  \n",
    "\n",
    "\t**Two important Programmig principles**  \n",
    "\tDRY : Do not Repeat yourself    \n",
    "\tBetter to be explicit then implicit  \n",
    "\n",
    "\n",
    "\n"
   ]
  },
  {
   "cell_type": "code",
   "execution_count": null,
   "metadata": {},
   "outputs": [],
   "source": [
    "\n",
    "''' 1 A.Creating a List of strings'''\n",
    "\n",
    "emptylist = ['']   #whitespace  \n",
    "nameList = ['kirwa boit'] #string\n",
    "kirwaBoit = 1*3\n",
    "janevieveString = ''\n",
    "employeeName = 'james'\n",
    "employeeCar = 'Hyundai'\n",
    "\n",
    "studentNameList = ['john','kelly','dave', 'mary','frank','nancy','paul','paul', 'kelly'] \n",
    "studentNameList.reverse()\n",
    "\n",
    "print(studentNameList)\n"
   ]
  },
  {
   "cell_type": "code",
   "execution_count": null,
   "metadata": {},
   "outputs": [],
   "source": [
    "''' 1 B.Removing Duplicates'''\n",
    "\n",
    "\n",
    "newStudentList = []  #this is going to  \n",
    "for item in studentNameList: \n",
    "    if item not in newStudentList: \n",
    "        newStudentList.append(item)\n",
    "\n",
    "print(newStudentList)\n"
   ]
  },
  {
   "cell_type": "code",
   "execution_count": null,
   "metadata": {},
   "outputs": [],
   "source": [
    "''' 1 C.Sort the names in ascending order'''\n",
    "\n",
    "\n",
    "print(newStudentList.sort())\n"
   ]
  },
  {
   "cell_type": "code",
   "execution_count": null,
   "metadata": {},
   "outputs": [],
   "source": [
    "print('hello world')"
   ]
  },
  {
   "cell_type": "code",
   "execution_count": null,
   "metadata": {},
   "outputs": [],
   "source": []
  }
 ],
 "metadata": {
  "interpreter": {
   "hash": "c225d010e607a5aa4d5c6f8c848ef71dd47b2097ec89d5a77c1d95e23b47e124"
  },
  "kernelspec": {
   "display_name": "Python 3.7.7 64-bit ('base': conda)",
   "name": "python3"
  },
  "language_info": {
   "name": "python",
   "version": ""
  },
  "orig_nbformat": 2
 },
 "nbformat": 4,
 "nbformat_minor": 2
}