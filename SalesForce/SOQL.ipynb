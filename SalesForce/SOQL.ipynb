{
 "metadata": {
  "language_info": {
   "codemirror_mode": {
    "name": "ipython",
    "version": 3
   },
   "file_extension": ".py",
   "mimetype": "text/x-python",
   "name": "python",
   "nbconvert_exporter": "python",
   "pygments_lexer": "ipython3",
   "version": 3
  },
  "orig_nbformat": 2
 },
 "nbformat": 4,
 "nbformat_minor": 2,
 "cells": [
  {
   "source": [
    "# SalesForce\n",
    "\n",
    "- Salesforce is a leading CRM (Customer Relationship Management) software which is served form cloud. It has more than 800 applications to support various features like generating new leads, acquiring new leads,    increasing sales and closing the deals. It is designed to manage the organization's data focused on customer and sales details. It also offers features to customize its inbuilt data structures and GUI to suit     the specific needs of a business. More recently, it has started offering the IOT (internet of things) connectivity to the CRM platform.\n",
    "\n",
    "## Database details\n",
    "- The Salesforce Platform stores data in relational tables\n",
    "- These **relational tables** are roughly referred to as API Objects or only **objects** in Salesforce. There are three kinds of Salesforce objects.\n",
    "    - **Standard Objects** − The objects already created for you by the Salesforce platform.\n",
    "    - **Custom Objects** − These are the objects created by you based on your business processes.\n",
    "- Therfore, coming from a regular SQL background, to convert to SOQL terms we use :-\n",
    "    - Tables = Objects\n",
    "    - Columns = Fields\n",
    "    - Rows =  Records\n",
    "- The various objects and their relationships of a Salesforce application can be easily viewed using the **Schema builder**\n",
    "\n",
    "\n",
    "## SOQL: Salesforce Object Query Language\n",
    "- SOQL similar to SOSL: Salesforce Object Search Language\n",
    "- SOQL is used to construct powerful query strings, but can only search one object at a time\n",
    "- SOSL is used to construct test searches and can be used to search mutliple objects at a timerr \n",
    "- Schema builder shows the relationship between objects\n",
    "\n"
   ],
   "cell_type": "markdown",
   "metadata": {}
  }
 ]
}