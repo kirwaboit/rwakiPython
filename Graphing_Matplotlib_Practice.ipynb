{
 "cells": [
  {
   "cell_type": "markdown",
   "metadata": {},
   "source": [
    "# Matplotlib Cookbook  \n",
    "- In this firt part we practice using  the pyplot\n",
    "- plt.subplots() is a function that returns a tuple containing a figure and axes object(s).\n",
    "- Thus when using fig, ax = plt.subplots() you unpack this tuple into the variables fig and ax.   \n",
    "\n",
    "- The **Independent variable** belongs on the x-axis (horizontal line) of the graph    \n",
    "- The **Dependent variable** belongs on the y-axis (vertical line)   \n",
    "- The x and y axes cross at a point referred to as the origin, where the coordinates are (0,0). \n",
    "- In graphs with only positive values for x and y, the origin is in the lower left corner."
   ]
  },
  {
   "cell_type": "markdown",
   "metadata": {},
   "source": [
    "## Resources\n",
    "\n",
    "-Style guide sheet https://matplotlib.org/stable/gallery/style_sheets/style_sheets_reference.html "
   ]
  },
  {
   "cell_type": "code",
   "execution_count": null,
   "metadata": {},
   "outputs": [],
   "source": [
    "import pandas as pd\n",
    "from datetime import datetime\n",
    "import matplotlib.pyplot as plt  \n",
    "#Working with DataCamp Course\n",
    "#loading data from CSV\n",
    "df_Seattle_weather = pd.read_csv (r'C:\\Users\\Burudani\\Documents\\mainPythonFolder_v1\\SpreadsheetFiles\\seattle_weather.csv')\n",
    "df_austin_weather = pd.read_csv (r'C:\\Users\\Burudani\\Documents\\mainPythonFolder_v1\\SpreadsheetFiles\\austin_weather.csv')\n",
    "\n",
    "date_cols = ['date_cc'] # Specifying columns to be treated as datetimes, and passing it to the pandas \n",
    "df_climate_change = pd.read_csv (r'C:\\Users\\Burudani\\Documents\\mainPythonFolder_v1\\SpreadsheetFiles\\climate_change.csv',parse_dates=date_cols,\n",
    "dtype={\"co2\": float,\n",
    "\"relative_temp\": float})\n"
   ]
  },
  {
   "cell_type": "markdown",
   "metadata": {},
   "source": [
    "## Setting index column  \n",
    "- If you MUST set the index column ,it is reccomended to use the \"in place\" parameter\n"
   ]
  },
  {
   "cell_type": "code",
   "execution_count": null,
   "metadata": {},
   "outputs": [],
   "source": [
    "# e.g\n",
    "\n",
    "df_climate_change.set_index('date_cc',inplace=True)"
   ]
  },
  {
   "cell_type": "code",
   "execution_count": null,
   "metadata": {},
   "outputs": [],
   "source": [
    "# Plotting a blank chart\n",
    "import matplotlib.pyplot as plt  \n",
    "fig, ax = plt.subplots()\n",
    "#The x-axis stuff is in the first list , while the y-axis stuff is in the second\n",
    "ax.plot([1, 2, 3, 4], [1, 4, 15, 16], marker =\"v\", linestyle = None, color = \"r\")\n",
    "ax.set_xlabel(\"Time (months)\")\n",
    "ax.set_ylabel(\"Average tempreture (Farenheit degrees)\")\n",
    "ax.set_title(\"Weather in Seattle\")\n",
    "plt.show()\n"
   ]
  },
  {
   "cell_type": "markdown",
   "metadata": {},
   "source": [
    "## Utilizing small Multiples, i.e multiple smaller plots"
   ]
  },
  {
   "cell_type": "code",
   "execution_count": null,
   "metadata": {},
   "outputs": [],
   "source": [
    "# Still working with the same data set above\n",
    "# showing a subplot with 3 rows and 2 colums\n",
    "fig, ax = plt.subplots(1,2)\n",
    "plt.show()\n",
    "\n",
    "#ax.plot([1, 2, 3, 4], [1, 4, 15, 16], marker =\"v\", linestyle = \"--\", color = \"r\")"
   ]
  },
  {
   "cell_type": "code",
   "execution_count": null,
   "metadata": {},
   "outputs": [],
   "source": [
    "# now to place my diagram in a specific plot place\n",
    "import matplotlib.pyplot as plt  \n",
    "fig, ax = plt.subplots(3,2)  # Plot 3 rows and 2 columns\n",
    "ax[0,0].plot([1, 2, 3, 4], [1, 4, 15, 16], marker =\"v\", linestyle = \"--\", color = \"r\") # placing sublot in the first subchat/subplot\n",
    "plt.show()\n"
   ]
  },
  {
   "cell_type": "code",
   "execution_count": null,
   "metadata": {},
   "outputs": [],
   "source": [
    "# using a one dimensional array of charts\n",
    "\n",
    "import matplotlib.pyplot as plt  \n",
    "fig, ax = plt.subplots(2,1, sharey = True, sharex = True) # now both charts have the same range of y-axis values , same for the x-axis\n",
    "ax[0].plot([1, 2, 3, 4], [1, 4, 15, 16], marker =\"v\", linestyle = \"--\", color = \"r\") # since it's one dimensional you only need to give one value for the position\n",
    "ax[0].plot([3, 4, 5, 6], [2, 6, 17, 18], marker =\"v\", linestyle = \"-\", color = \"b\") \n",
    "ax[1].plot([3, 4, 5, 6], [2, 6, 17, 18], marker =\"v\", linestyle = \"-\", color = \"g\") \n",
    "\n",
    "ax[0].set_ylabel(\"Average temp\")\n",
    "ax[1].set_ylabel(\"Average temp\")\n",
    "ax[1].set_xlabel(\"Time (months)\")\n",
    "\n",
    "ax[0].set_title(\"Weather in Seattle\")\n",
    "plt.show()\n"
   ]
  },
  {
   "cell_type": "markdown",
   "metadata": {},
   "source": [
    "## Another alternate way to create plots"
   ]
  },
  {
   "cell_type": "code",
   "execution_count": null,
   "metadata": {},
   "outputs": [],
   "source": [
    "import matplotlib.pyplot as plt \n",
    "\n",
    "#the x-axis stuff is in the first list , while the y-axis stuff is second\n",
    "\n",
    "plt.subplot(2,1,2)\n",
    "plt.title('Multi-Chart Example')\n",
    "plt.plot([1, 2, 3, 4], [1, 4, 15, 16], marker =\"v\")\n",
    "plt.ylabel('y-axis values')\n",
    "plt.xlabel('elapsed time')\n",
    "\n",
    "\n",
    "\n",
    "plt.subplot(2,1,1)\n",
    "plt.title('Multi-Chart Example _2')\n",
    "plt.plot([1, 2, 3, 4], [1, 4, 9, 16], marker =\"v\" )\n",
    "plt.ylabel('y-axis values')\n",
    "plt.xlabel('x-axis values')\n",
    "plt.show() \n",
    "\n"
   ]
  },
  {
   "cell_type": "markdown",
   "metadata": {},
   "source": [
    "## Plotting time-series data "
   ]
  },
  {
   "cell_type": "code",
   "execution_count": null,
   "metadata": {
    "tags": []
   },
   "outputs": [],
   "source": [
    "\n",
    "import matplotlib.pyplot as plt  \n",
    "import pandas as pd\n",
    "\n",
    "#import the dataframe and designate the data types:-\n",
    "date_cols = ['date_cc'] # Specifying columns to be treated as  a datetime datatype in the pandas dataframe\n",
    "df_climate_change = pd.read_csv (r'C:\\Users\\Burudani\\Documents\\mainPythonFolder_v1\\SpreadsheetFiles\\climate_change.csv',parse_dates=date_cols,\n",
    "dtype={\"co2\": float,\n",
    "\"relative_temp\": float})\n",
    "\n",
    "fig, ax = plt.subplots()\n",
    "#myDataFrame.set_index('column_name')\n",
    "df_climate_change.set_index('date_cc',inplace=True)\n",
    "print(df_climate_change.index.name)\n",
    "\n",
    "#print([x for x in df_climate_change.index])\n",
    "# print(df_climate_change.index)\n",
    "# ax plots x-axis then y-axis\n",
    "ax.plot(df_climate_change.index, df_climate_change['co2'], marker =None, linestyle = None, color = \"b\")\n",
    "ax.set_xlabel('Time')\n",
    "ax.set_ylabel('Co2 (ppm)')\n",
    "plt.show()"
   ]
  },
  {
   "cell_type": "code",
   "execution_count": null,
   "metadata": {},
   "outputs": [],
   "source": [
    "# alternative experiement\n",
    "\n",
    "import matplotlib.pyplot as plt  \n",
    "import pandas as pd\n",
    "\n",
    "#import the dataframe and designate the data types:-\n",
    "date_cols = ['date_cc'] # Specifying columns to be treated as  a datetime datatype in the pandas dataframe\n",
    "df_climate_change = pd.read_csv (r'C:\\Users\\Burudani\\Documents\\mainPythonFolder_v1\\SpreadsheetFiles\\climate_change.csv',parse_dates=date_cols,\n",
    "dtype={\"co2\": float,\n",
    "\"relative_temp\": float})\n",
    "\n",
    "fig, ax = plt.subplots()\n",
    "#myDataFrame.set_index('column_name')\n",
    "df_climate_change.set_index('date_cc', inplace = True )\n",
    "# ax plots x-axis then y-axis\n",
    "ax.plot(df_climate_change.index, df_climate_change['co2'], marker =None, linestyle = None, color = \"b\")\n",
    "ax.set_xlabel('Time')\n",
    "ax.set_ylabel('Co2 (ppm)')\n",
    "plt.show()"
   ]
  },
  {
   "cell_type": "markdown",
   "metadata": {},
   "source": [
    "## Slicing into the data"
   ]
  },
  {
   "cell_type": "code",
   "execution_count": null,
   "metadata": {},
   "outputs": [],
   "source": [
    "'''SETUP'''\n",
    "import pandas as pd\n",
    "import matplotlib.pyplot as plt \n",
    "from datetime import datetime \n",
    "#import the dataframe and designate the data types:-\n",
    "date_cols = ['date_cc'] # Specifying columns to be treated as  a datetime datatype in the pandas dataframe\n",
    "dtypes = [datetime, float,float] \n",
    "df_climate_change = pd.read_csv (r'C:\\Users\\Burudani\\Documents\\mainPythonFolder_v1\\SpreadsheetFiles\\climate_change.csv',\n",
    "parse_dates=date_cols,\n",
    "dtype={\"co2\": float,\n",
    "\"relative_temp\": float})\n",
    "\n",
    "for col in df_climate_change.columns:\n",
    "    print(col)\n",
    "print(df_climate_change['date_cc'].dtypes)\n",
    "\n",
    "'''QUERY'''\n",
    "#Setting a slicer/filter for a range of time\n",
    "#df_climate_change.set_index(['date_cc'])\n",
    "#sixties =  df_climate_change.loc[\"1960-01-01\",\"1969-12-31\"]\n",
    "#sixties =  df_climate_change[df_climate_change.date_cc.between('1960-01-01', '1969-12-31')]\n",
    "df_climate_change.set_index('date_cc', inplace = True )\n",
    "sixties =  df_climate_change['1960-01-01': '1969-12-31']\n",
    "\n",
    "fig, ax = plt.subplots()\n",
    "\n",
    "print( 'this is the df',sixties)\n",
    "\n",
    "#df_climate_change.set_index('date_cc')\n",
    "# ax plots x-axis folowed by y-axis\n",
    "ax.plot(sixties.index, sixties['co2'], marker =None, linestyle = None, color = \"b\")\n",
    "ax.set_xlabel('Time')\n",
    "ax.set_ylabel('Co2 (ppm)')\n",
    "#plt.xticks('date_cc')\n",
    "plt.show()\n"
   ]
  },
  {
   "cell_type": "code",
   "execution_count": null,
   "metadata": {},
   "outputs": [],
   "source": [
    "#Exercise 1\n",
    "\n",
    "import pandas as pd\n",
    "\n",
    "\n",
    "# Read the data from file using read_csv\n",
    "climate_change = pd.read_csv('climate_change.csv',parse_dates = ['date'],index_col = 'date')"
   ]
  },
  {
   "cell_type": "code",
   "execution_count": null,
   "metadata": {},
   "outputs": [],
   "source": [
    "import matplotlib.pyplot as plt\n",
    "import pandas as pd\n",
    "\n",
    "climate_change = pd.read_csv(r'C:\\Users\\Burudani\\Documents\\mainPythonFolder_v1\\SpreadsheetFiles\\climate_change.csv',parse_dates = ['date_cc'],index_col = 'date_cc')\n",
    "fig, ax = plt.subplots()\n",
    "\n",
    "# Add the time-series for \"relative_temp\" to the plot\n",
    "ax.plot(climate_change.index,climate_change['relative_temp'], marker =None, linestyle = None, color = \"b\")\n",
    "\n",
    "# Set the x-axis label\n",
    "ax.set_xlabel('Time')\n",
    "# Set the y-axis label\n",
    "ax.set_ylabel('Relative temperature (Celsius)')\n",
    "# Show the figure\n",
    "plt.show()"
   ]
  },
  {
   "cell_type": "code",
   "execution_count": null,
   "metadata": {},
   "outputs": [],
   "source": [
    "import matplotlib.pyplot as plt\n",
    "import pandas as pd\n",
    "\n",
    "climate_change = pd.read_csv(r'C:\\Users\\Burudani\\Documents\\mainPythonFolder_v1\\SpreadsheetFiles\\climate_change.csv',parse_dates = ['date_cc'])\n",
    "fig, ax = plt.subplots()\n",
    "\n",
    "# Add the time-series for \"relative_temp\" to the plot\n",
    "ax.plot(climate_change['date_cc'],climate_change['relative_temp'], marker =None, linestyle = None, color = \"b\")\n",
    "\n",
    "# Set the x-axis label\n",
    "ax.set_xlabel('Time')\n",
    "# Set the y-axis label\n",
    "ax.set_ylabel('Relative temperature (Celsius)')\n",
    "# Show the figure\n",
    "plt.show()"
   ]
  },
  {
   "cell_type": "code",
   "execution_count": null,
   "metadata": {},
   "outputs": [],
   "source": [
    "# Answer for Q2 : Plot time-series data\n",
    "# NB Reffrence to the dataframe is relative and not absolute\n",
    "\n",
    "import matplotlib.pyplot as plt\n",
    "fig, ax = plt.subplots()\n",
    "\n",
    "# Add the time-series for \"relative_temp\" to the plot\n",
    "ax.plot(climate_change.index,climate_change['relative_temp'], marker =None, linestyle = None, color = \"b\")\n",
    "\n",
    "# Set the x-axis label\n",
    "ax.set_xlabel('Time')\n",
    "# Set the y-axis label\n",
    "ax.set_ylabel('Relative temperature (Celsius)')\n",
    "# Show the figure\n",
    "plt.show()"
   ]
  },
  {
   "cell_type": "code",
   "execution_count": null,
   "metadata": {},
   "outputs": [],
   "source": [
    "#Plotting time series with diff variables\n",
    "\n",
    "import matplotlib.pyplot as plt\n",
    "import pandas as pd\n",
    "\n",
    "climate_change = pd.read_csv(r'C:\\Users\\Burudani\\Documents\\mainPythonFolder_v1\\SpreadsheetFiles\\climate_change.csv',parse_dates = ['date_cc'])\n",
    "fig, ax = plt.subplots()\n",
    "\n",
    "# Add the time-series for \"relative_temp\" to the plot\n",
    "ax.plot(climate_change['date_cc'],climate_change['co2'], marker =None, linestyle = None, color = \"b\")\n",
    "\n",
    "\n",
    "# Set the x-axis label\n",
    "ax.set_xlabel('Time')\n",
    "# Set the y-axis label\n",
    "ax.set_ylabel('CO2 (ppm)',color='blue')\n",
    "ax.tick_params('y', colors='blue')\n",
    "\n",
    "\n",
    "# create a twin axis, that has a diff y axis but same x-axis\n",
    "ax2 = ax.twinx()\n",
    "ax2.plot(climate_change['date_cc'],climate_change['relative_temp'], marker =None, linestyle = None, color = \"r\")\n",
    "# set  new y-label for this chart\n",
    "ax2.set_ylabel('Relative temperature (Celsius)', color='red')\n",
    "ax2.tick_params('y', colors='red')\n",
    "\n",
    "\n",
    "\n",
    "# Show the figure\n",
    "plt.show()"
   ]
  },
  {
   "cell_type": "markdown",
   "metadata": {},
   "source": [
    "## A function that can be customized to plot timeseries data"
   ]
  },
  {
   "cell_type": "code",
   "execution_count": null,
   "metadata": {},
   "outputs": [],
   "source": [
    "\n",
    "# For exercise\n",
    "import matplotlib.pyplot as plt\n",
    "import pandas as pd\n",
    "\n",
    "climate_change = pd.read_csv(r'C:\\Users\\Burudani\\Documents\\mainPythonFolder_v1\\SpreadsheetFiles\\climate_change.csv',parse_dates = ['date_cc'])\n",
    "\n",
    "def plot_timeseries(axes,x, y, color, xlabel, ylabel):\n",
    "    axes.plot(x, y, color=color)  \n",
    "    axes.set_xlabel(xlabel)  \n",
    "    axes.set_ylabel(ylabel, color=color)  \n",
    "    axes.tick_params('y', colors=color)\n",
    "   \n",
    "# Example Use:-\n",
    "\n",
    "xaxis = climate_change['date_cc']\n",
    "yaxis = climate_change['co2']\n",
    "color = 'blue'\n",
    "xlabel ='Time'\n",
    "ylabel ='CO2 (ppm)'\n",
    "\n",
    "\n",
    "\n",
    "plt.style.use('ggplot')\n",
    "fig, ax = plt.subplots()\n",
    "plot_timeseries(ax, climate_change.index, climate_change['co2'],'blue','Time (years)', 'CO2 levels')\n",
    "#plot_timeseries(xaxis,yaxis,color, xlabel, ylabel)\n",
    "plt.show()"
   ]
  },
  {
   "cell_type": "code",
   "execution_count": null,
   "metadata": {},
   "outputs": [],
   "source": [
    "# Much more efficient presentation of the function\r\n",
    "\r\n",
    "import matplotlib.pyplot as plt\r\n",
    "import pandas as pd\r\n",
    "\r\n",
    "climate_change = pd.read_csv(r'C:\\Users\\Burudani\\Documents\\mainPythonFolder_v1\\SpreadsheetFiles\\climate_change.csv',parse_dates = ['date_cc'])\r\n",
    "\r\n",
    "def plot_timeseries(x, y, color, xlabel, ylabel):\r\n",
    "    ax.plot(x, y, color=color)  \r\n",
    "    ax.set_xlabel(xlabel)  \r\n",
    "    ax.set_ylabel(ylabel, color=color)  \r\n",
    "    ax.tick_params('y', colors=color)\r\n",
    "   \r\n",
    "# Example Use:-\r\n",
    "\r\n",
    "xaxis = climate_change['date_cc']\r\n",
    "yaxis = climate_change['co2']\r\n",
    "color = 'blue'\r\n",
    "xlabel ='Time'\r\n",
    "ylabel ='CO2 (ppm)'\r\n",
    "\r\n",
    "\r\n",
    "\r\n",
    "plt.style.use('ggplot')\r\n",
    "fig, ax = plt.subplots()\r\n",
    "# plot_timeseries(ax, climate_change['date_cc'], climate_change['co2'],'blue', 'Time', 'CO2 (ppm)')\r\n",
    "plot_timeseries(xaxis,yaxis,color, xlabel, ylabel)\r\n",
    "plt.show()"
   ]
  },
  {
   "cell_type": "code",
   "execution_count": null,
   "metadata": {},
   "outputs": [],
   "source": [
    "# Exercise: Plotting two variables\n",
    "\n",
    "import matplotlib.pyplot as plt\n",
    "\n",
    "# Initalize a Figure and Axes\n",
    "fig, ax = plt.subplots()\n",
    "\n",
    "# Plot the CO2 variable in blue\n",
    "ax.plot(climate_change.index,climate_change['co2'], color = \"b\")\n",
    "\n",
    "# Create a twin Axes that shares the x-axis\n",
    "ax2 = ax.twinx()\n",
    "\n",
    "# Plot the relative temperature in red\n",
    "ax2.plot(climate_change.index,climate_change['relative_temp'], color = \"r\")\n",
    "\n",
    "plt.show()"
   ]
  },
  {
   "cell_type": "code",
   "execution_count": null,
   "metadata": {},
   "outputs": [],
   "source": [
    "# Annotating time-series data, Using real data\r\n",
    "\r\n",
    "import matplotlib.pyplot as plt\r\n",
    "import pandas as pd\r\n",
    "#from datetime import datetime\r\n",
    "\r\n",
    "climate_change = pd.read_csv(r'C:\\Users\\Burudani\\Documents\\mainPythonFolder_v1\\SpreadsheetFiles\\climate_change.csv',parse_dates = ['date_cc'],index_col = 'date_cc')\r\n",
    "\r\n",
    "def plot_timeseries(axes,x, y, color, xlabel, ylabel):\r\n",
    "    axes.plot(x, y, color=color)  \r\n",
    "    axes.set_xlabel(xlabel)  \r\n",
    "    axes.set_ylabel(ylabel, color=color)  \r\n",
    "    axes.tick_params('y', colors=color)\r\n",
    "\r\n",
    "fig, ax = plt.subplots()\r\n",
    "plot_timeseries(ax, climate_change.index, climate_change['co2'],'blue', 'Time', 'CO2 (ppm)')\r\n",
    "\r\n",
    "ax2 = ax.twinx()\r\n",
    "plot_timeseries(ax2, climate_change.index,climate_change['relative_temp'],'red','Time','Relative temperature (Celsius)') \r\n",
    "\r\n",
    "#Annotation part : here we first of all initialize a timestamp object that we can use for pandas to recorgnize and allow access to a point in the x-axis\r\n",
    "ts = pd.Timestamp(year = 2015,  month = 10, day = 6) # create a timestamp object that refers to  '2015-10-06'\r\n",
    "ts_label = pd.Timestamp(year = 2008,  month = 10, day = 6) # create a timestamp object that refers to  '2015-10-06'\r\n",
    "# Print the Timestamp object, just to test and see how it looks like , for the date 2015-10-06 that we shall use for our x-axis value\r\n",
    "print(ts.date())\r\n",
    "\r\n",
    "ax2.annotate(\">1 degree\",\r\n",
    "#xy=(pd.TimeStamp(\"2015-10-06\"), 1),\r\n",
    "xy=(ts.date(), 1),\r\n",
    "xytext=(ts_label.date(), -0.2),\r\n",
    "arrowprops={\"arrowstyle\":\"->\", \"color\":\"gray\"})\r\n",
    "plt.show()\r\n"
   ]
  },
  {
   "cell_type": "code",
   "execution_count": null,
   "metadata": {},
   "outputs": [],
   "source": [
    "# importing pandas as pd\n",
    "import pandas as pd\n",
    "  \n",
    "# Create the Timestamp object\n",
    "# ts = pd.Timestamp(year = 2015,  month = 10, day = 6,\n",
    "#            hour = 10, second = 49, tz = 'US/Central')\n",
    "ts = pd.Timestamp(year = 2015,  month = 10, day = 6)\n",
    "  \n",
    "# Print the Timestamp object\n",
    "print(ts.date())"
   ]
  },
  {
   "cell_type": "code",
   "execution_count": null,
   "metadata": {},
   "outputs": [],
   "source": [
    "climate_change.loc[[\"2015-10-06\"]]\n",
    "#climate_change[\"date_cc\"] >\"2015-10-06\""
   ]
  },
  {
   "cell_type": "code",
   "execution_count": null,
   "metadata": {},
   "outputs": [],
   "source": [
    "print(climate_change.loc[[\"date_cc\"] = \"2015-10-06\",[\"co2\"]])\n"
   ]
  },
  {
   "cell_type": "markdown",
   "metadata": {},
   "source": [
    "## Qualitative comparisons : bar-charts"
   ]
  },
  {
   "cell_type": "code",
   "execution_count": 2,
   "metadata": {},
   "outputs": [
    {
     "data": {
      "image/png": "[encoded data removed]",
      "text/plain": [
       "<Figure size 432x288 with 1 Axes>"
      ]
     },
     "metadata": {
      "needs_background": "light"
     },
     "output_type": "display_data"
    }
   ],
   "source": [
    "\r\n",
    "\r\n",
    "import matplotlib.pyplot as plt\r\n",
    "import pandas as pd\r\n",
    "\r\n",
    "\r\n",
    "medals = pd.read_csv(r'C:\\Users\\Burudani\\Documents\\mainPythonFolder_v1\\SpreadsheetFiles\\medals_by_country_2016.csv',index_col = 0)\r\n",
    "\r\n",
    "fig, ax = plt.subplots()\r\n",
    "ax.bar(medals.index,medals['Gold'], color = \"r\") # using bar instead of plot this time\r\n",
    "ax.set_xticks(medals.index)\r\n",
    "ax.set_xticklabels(medals.index, rotation=90)\r\n",
    "ax.set_ylabel(\"Number of medals\")\r\n",
    "plt.show()"
   ]
  }
 ],
 "metadata": {
  "interpreter": {
   "hash": "106f8dd8e7b9f8bf7b5c7f9387976efaa64fd1db7ebf679a5786be21993f005a"
  },
  "kernelspec": {
   "display_name": "Python 3.8.5 64-bit ('rwakiPythonEnv': conda)",
   "name": "python3"
  },
  "language_info": {
   "codemirror_mode": {
    "name": "ipython",
    "version": 3
   },
   "file_extension": ".py",
   "mimetype": "text/x-python",
   "name": "python",
   "nbconvert_exporter": "python",
   "pygments_lexer": "ipython3",
   "version": "3.8.5"
  },
  "orig_nbformat": 2
 },
 "nbformat": 4,
 "nbformat_minor": 2
}