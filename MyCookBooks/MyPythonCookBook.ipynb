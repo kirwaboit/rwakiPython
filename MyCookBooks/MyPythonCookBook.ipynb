{
 "cells": [
  {
   "cell_type": "markdown",
   "source": [
    "# Welcome to My Python CookBook\n",
    "\n",
    "## To run a cell use `ctrl+enter`  or `shift enter`  \n",
    "To use spell checker plugin use either:-  \n",
    "- ctrl+.  \n",
    "- click the lighbulb to see options  \n",
    "\n",
    "\n"
   ],
   "metadata": {
    "tags": []
   }
  },
  {
   "cell_type": "markdown",
   "source": [
    "\n",
    "## Using the windows \"tree command\"    \n",
    "NB: Using /f suffix shows the files within the folders too!!! BUT makes the tree very long!!   \n",
    "\n",
    "e.g for  C:\\Users\\Burudani\\Documents\\mainPythonFolder_v1  \n",
    "\n",
    "we type:-      \n",
    "\n",
    "`tree C:\\Users\\Burudani\\Documents\\mainPythonFolder_v1`  \n",
    "\n",
    "we get:-  \n",
    "\n",
    "```\n",
    "C:\\Users\\Burudani>tree C:\\Users\\Burudani\\Documents\\mainPythonFolder_v1\n",
    "Folder PATH listing\n",
    "Volume serial number is 00000068 4462:DDC7\n",
    "C:\\USERS\\BURUDANI\\DOCUMENTS\\MAINPYTHONFOLDER_V1\n",
    "├───.ipynb_checkpoints\n",
    "├───.vscode\n",
    "├───AWS Boto3\n",
    "├───dash-sample-apps\n",
    "├───Databases\n",
    "├───ExcelFiles\n",
    "├───MypythonPracticeFiles\n",
    "├───SalesForce\n",
    "├───Terraform\n",
    "│   ├───US-East-1\n",
    "│   │   ├───EC2\n",
    "│   │   ├───Elas\n",
    "│   │   └───VPC\n",
    "│   └───US-West-2\n",
    "└───__pycache__\n",
    "\n",
    "```\n",
    "\n",
    "\n"
   ],
   "metadata": {}
  },
  {
   "cell_type": "markdown",
   "source": [
    "using pip\n",
    "\n",
    "at cli type\n",
    "\n",
    "pip --version\n",
    "\n",
    "pip -- help\n"
   ],
   "metadata": {}
  },
  {
   "cell_type": "markdown",
   "source": [
    "## The Zen of Python"
   ],
   "metadata": {}
  },
  {
   "cell_type": "code",
   "execution_count": 1,
   "source": [
    "import this"
   ],
   "outputs": [
    {
     "output_type": "stream",
     "name": "stdout",
     "text": [
      "The Zen of Python, by Tim Peters\n",
      "\n",
      "Beautiful is better than ugly.\n",
      "Explicit is better than implicit.\n",
      "Simple is better than complex.\n",
      "Complex is better than complicated.\n",
      "Flat is better than nested.\n",
      "Sparse is better than dense.\n",
      "Readability counts.\n",
      "Special cases aren't special enough to break the rules.\n",
      "Although practicality beats purity.\n",
      "Errors should never pass silently.\n",
      "Unless explicitly silenced.\n",
      "In the face of ambiguity, refuse the temptation to guess.\n",
      "There should be one-- and preferably only one --obvious way to do it.\n",
      "Although that way may not be obvious at first unless you're Dutch.\n",
      "Now is better than never.\n",
      "Although never is often better than *right* now.\n",
      "If the implementation is hard to explain, it's a bad idea.\n",
      "If the implementation is easy to explain, it may be a good idea.\n",
      "Namespaces are one honking great idea -- let's do more of those!\n"
     ]
    }
   ],
   "metadata": {}
  },
  {
   "cell_type": "markdown",
   "source": [
    "## Strings"
   ],
   "metadata": {}
  },
  {
   "cell_type": "code",
   "execution_count": 2,
   "source": [
    "var1 = 35\r\n",
    "var2 = 'jambo'\r\n",
    "#string .format() method to print string with variables!\r\n",
    "print('This is good way to combine a string and a variable e.g: {} and {} ty'.format(var1,var2))\r\n",
    "\r\n",
    "#using 'count' to see how many times a specified string occurs in a larger string\r\n",
    "myString = 'HeLLo, WorLd! 123'\r\n",
    "print(myString.count('L')) # ans will be 3\r\n",
    "\r\n",
    "s = 'python is pythonic'\r\n",
    "print(s.count('python')) # ans will be 2"
   ],
   "outputs": [
    {
     "output_type": "stream",
     "name": "stdout",
     "text": [
      "This is good way to combine a string and a variable e.g: 35 and jambo ty\n",
      "3\n",
      "2\n"
     ]
    }
   ],
   "metadata": {}
  },
  {
   "cell_type": "markdown",
   "source": [
    "## F-Strings\n",
    " -Very efficient way to combine variables(ints or strings or bools etc) and strings in print statements"
   ],
   "metadata": {}
  },
  {
   "cell_type": "code",
   "execution_count": null,
   "source": [
    "name = 'eric'\r\n",
    "age = 23\r\n",
    "print(f\"Hello, {name}. You are {age}.\")"
   ],
   "outputs": [],
   "metadata": {}
  },
  {
   "cell_type": "markdown",
   "source": [
    "- Below is a <ins>much</ins> nicer example of f-string using the unpacking operator(**) to unpack a dictionary.In this example the variables are given names and are thus identified , which adds to readability\n",
    "\n",
    "- I like this method as it allows less typing , you don't have to repeat putting in variables, and it's much more explicit\n",
    "\n",
    "- NB:This method is preffered , because yo can very easily convert a JSON object to a dictionary , and use it immediately which makes it easier to  import values, i.e adds to code porability in case you need to obtain or store values from a database.\n"
   ],
   "metadata": {}
  },
  {
   "cell_type": "code",
   "execution_count": null,
   "source": [
    "\r\n",
    "person = {\r\n",
    "'name': 'Uncle David', \r\n",
    "'age': 56\r\n",
    "}\r\n",
    "print(\"Hello, {name}. You are {age}.\".format(**person))\r\n",
    "print(\"Hello, {name}. You are {age}.\".format(**person))\r\n",
    "print(\"Hello, {name}. You are {age}.\".format(**person))\r\n",
    "\r\n",
    "#TODO  Print from a nested dictionary or nested jsons, gogl e how to print these clearly"
   ],
   "outputs": [],
   "metadata": {}
  },
  {
   "cell_type": "code",
   "execution_count": null,
   "source": [
    "#Another nicer example of f-string using the unpacking operator(*) to unpack a list, However in this example, \r\n",
    "# we don't idemtify the variables and thus the variable list is considered \"dumb\"\r\n",
    "\r\n",
    "person = ['eric','74']\r\n",
    "print(\"Hello, {}. You are {}.\".format(*person))\r\n"
   ],
   "outputs": [],
   "metadata": {}
  },
  {
   "cell_type": "markdown",
   "source": [
    "## Writting to a file\n",
    "\n",
    "- Here is a link to the section on writting a config file [See Lists here](##Lists)\n",
    "- This style handles both the opening and the closing of the file \n",
    "- this can be also used to write configuration files with special information , like key-value pairs"
   ],
   "metadata": {}
  },
  {
   "cell_type": "code",
   "execution_count": null,
   "source": [
    "with open(file=r'C:\\Users\\Burudani\\Documents\\mainPythonFolder_v1\\TextFiles\\exampleTextFile.txt', mode='w+') as f:\r\n",
    "    f.write(\"This is some sample text\")\r\n",
    "\r\n",
    "# running this multiple times just overwrittes the text"
   ],
   "outputs": [],
   "metadata": {}
  },
  {
   "cell_type": "markdown",
   "source": [
    "## Writting a config file e.g an ini file\n",
    "<a id='Writting a config file'></a>\n",
    "\n",
    "- More on configparser  [More on configparser](https://zetcode.com/python/configparser/)  "
   ],
   "metadata": {}
  },
  {
   "cell_type": "code",
   "execution_count": null,
   "source": [
    "from configparser import ConfigParser\r\n",
    "\r\n",
    "# Initialize the Parser.\r\n",
    "config = ConfigParser()\r\n",
    "\r\n",
    "# Add the Section.\r\n",
    "config.add_section('Title of config file')\r\n",
    "\r\n",
    "# Set the Values.\r\n",
    "config.set('graph_api', 'client_id', '5025e394-54fb-4024-807d-c7bcf77cb9c8')\r\n",
    "config.set('graph_api', 'client_secret', '603d564c-6773-4bed-adea-9171d3f85643')\r\n",
    "config.set('graph_api', 'redirect_uri', 'https://localhost/graph_login')\r\n",
    "\r\n",
    "# Write the file, here you can also specify the extension of the file.\r\n",
    "with open(file=r'C:\\Users\\Burudani\\Documents\\mainPythonFolder_v1\\myExampleConfigFile.ini', mode='w+') as f:\r\n",
    "    config.write(f)\r\n",
    "\r\n",
    "\r\n"
   ],
   "outputs": [],
   "metadata": {}
  },
  {
   "cell_type": "markdown",
   "source": [
    "## Lists\n",
    "<a id='##Lists'></a>"
   ],
   "metadata": {}
  },
  {
   "cell_type": "code",
   "execution_count": null,
   "source": [
    "newList = [1,2,3,4,5]\r\n",
    "worList = ['james','brown','Harding']\r\n",
    "fruitList = [\"pear\",\"apple\",\"strawberry\",\"banana\",\"orange\"]\r\n",
    "\r\n",
    "#Quick way to sort lists alphabetically\r\n",
    "for f in sorted(fruitList):\r\n",
    "    print(f)\r\n",
    "print('\\n')\r\n",
    "#quick way to print a list as a column\r\n",
    "print(*worList, sep='\\n') # the '*' is called the unpacking operator and is demonstrated in detail, in it's section below"
   ],
   "outputs": [],
   "metadata": {}
  },
  {
   "cell_type": "markdown",
   "source": [
    "## Dunder   \n",
    "- Double underscore used before and after a function or method name, example below"
   ],
   "metadata": {}
  },
  {
   "cell_type": "code",
   "execution_count": null,
   "source": [
    "\r\n",
    "def __init__(self, parameter1: int,parameter2: str,parameter3: str ,parameter4: float ):  # init  here is reffered to as \"dunder init\"\r\n",
    "    self.number = parameter1  \r\n",
    "    self.string2 = parameter3\r\n",
    "    self.double = parameter4\r\n",
    "    self.process_data()\r\n",
    "\r\n",
    "if __name__ == '__main__':  # this is known as \"dunder main\"\r\n",
    "    functionA()\r\n",
    "    functionB()"
   ],
   "outputs": [],
   "metadata": {}
  },
  {
   "cell_type": "markdown",
   "source": [
    "## Docstrings  \n",
    "- They identify the function of a block of code\n"
   ],
   "metadata": {}
  },
  {
   "cell_type": "code",
   "execution_count": null,
   "source": [
    "def exampleFunction():\r\n",
    "    '''This describes what this function or class does'''\r\n",
    "    return 1+1\r\n",
    "\r\n",
    "\r\n",
    "\r\n",
    "print(exampleFunction.__doc__)   # this prints the docstring of the function  or class"
   ],
   "outputs": [],
   "metadata": {}
  },
  {
   "cell_type": "markdown",
   "source": [
    "## Help   \n",
    "- prints any helpful statements descrbing the fucntion of the code, may include examples"
   ],
   "metadata": {}
  },
  {
   "cell_type": "code",
   "execution_count": null,
   "source": [
    "def exampleFunction():\r\n",
    "    '''This describes what this function or class does'''\r\n",
    "    return 1+1\r\n",
    "\r\n",
    "help(exampleFunction)"
   ],
   "outputs": [],
   "metadata": {}
  },
  {
   "cell_type": "markdown",
   "source": [
    "# Timing your code  \n",
    " - `timeit` vs `time.time()` , use  `timeit`  \n",
    " - timeit produces time in seconds\n"
   ],
   "metadata": {}
  },
  {
   "cell_type": "code",
   "execution_count": null,
   "source": [
    "from timeit import default_timer as timer\r\n",
    "\r\n",
    "def func1():\r\n",
    "    return 500*600\r\n",
    "\r\n",
    "def func2():\r\n",
    "    return (5*6)\r\n",
    "\r\n",
    "\r\n",
    "\r\n",
    "# timing the first function\r\n",
    "start = timer()\r\n",
    "func1()\r\n",
    "end = timer()\r\n",
    "print('Your first code took ', end-start , ' Seconds')\r\n",
    "\r\n",
    "\r\n",
    "# timing the first function\r\n",
    "start = timer()\r\n",
    "func2()\r\n",
    "end = timer()\r\n",
    "print('Your second code took ', end-start ,' Seconds')\r\n"
   ],
   "outputs": [],
   "metadata": {}
  },
  {
   "cell_type": "markdown",
   "source": [
    "## Datetime Formating"
   ],
   "metadata": {}
  },
  {
   "cell_type": "code",
   "execution_count": null,
   "source": [
    "from datetime import datetime , timedelta\r\n",
    "\r\n",
    "#TODO more examples on time delta\r\n",
    "\r\n",
    "# datetime object containing current date and time\r\n",
    "now = datetime.now()\r\n",
    " \r\n",
    "print(\"now =\", now)\r\n",
    "\r\n",
    "# dd/mm/YY H:M:S\r\n",
    "dt_string1 = now.strftime(\"%d/%m/%Y %H:%M:%S\")\r\n",
    "dt_string2 = now.strftime(\"%d-%m-%Y %H:%M:%S\")\r\n",
    "\r\n",
    "print(\"date and time =\", dt_string2)\t\r\n",
    "\r\n",
    "\r\n",
    "years_to_subtract = 365  #one year\r\n",
    "datetime_new = now - timedelta(days = years_to_subtract)\r\n",
    "print(\"After subtracting years: \", datetime_new, \"\\n\")"
   ],
   "outputs": [],
   "metadata": {}
  },
  {
   "cell_type": "markdown",
   "source": [
    "## Data Types  \n",
    "You can convert bool to int and vice versa"
   ],
   "metadata": {}
  },
  {
   "cell_type": "code",
   "execution_count": null,
   "source": [
    "print(bool(1))\r\n",
    "print(bool(0))\r\n",
    "print(int(True))   #converts the bool to an integer\r\n",
    "print(int(False))\r\n"
   ],
   "outputs": [],
   "metadata": {}
  },
  {
   "cell_type": "code",
   "execution_count": null,
   "source": [
    "# More boolean tests\r\n",
    "3.0>3 #False\r\n",
    "3.0<3 #False as well, just because the other condition is false...does not make this one true\r\n",
    "\r\n",
    "3==3.0  #True"
   ],
   "outputs": [],
   "metadata": {}
  },
  {
   "cell_type": "markdown",
   "source": [
    "## Operators"
   ],
   "metadata": {}
  },
  {
   "cell_type": "code",
   "execution_count": null,
   "source": [
    "print (11/5)  # gives a float\r\n",
    "print(11//5)  # gives an integer result that is rounded down"
   ],
   "outputs": [],
   "metadata": {}
  },
  {
   "cell_type": "markdown",
   "source": [
    "## Numpy\n",
    "- NumPy aims to provide an array object that is up to 50x faster than traditional Python lists.\n",
    "- NumPy is meant for creating homogeneous n-dimensional arrays (n = 1..n). Unlike Python lists, all elements of a NumPy array should be of same type.\n",
    "- NumPy uses much less memory to store data"
   ],
   "metadata": {}
  },
  {
   "cell_type": "code",
   "execution_count": null,
   "source": [
    "import numpy as np\r\n",
    "z =  np.zeros(10)\r\n",
    "print(z)\r\n",
    "print('\\n')\r\n",
    "print(z.shape)\r\n",
    "print('\\n')\r\n",
    "z.shape = (10,1)\r\n",
    "print(z)\r\n",
    "y = np.ones(10)\r\n",
    "print('\\n')\r\n",
    "print(y)"
   ],
   "outputs": [],
   "metadata": {}
  },
  {
   "cell_type": "markdown",
   "source": [
    "## Functions"
   ],
   "metadata": {}
  },
  {
   "cell_type": "code",
   "execution_count": null,
   "source": [
    "# In this example a series of functions are applied to a single value/variable\r\n",
    "\r\n",
    "def f(x):\r\n",
    "    return x**2\r\n",
    "def g(x):\r\n",
    "    return x**4\r\n",
    "def h(x):\r\n",
    "    return x**8\r\n",
    "\r\n",
    "\r\n",
    "print([func(42) for func in (f,g,h)])"
   ],
   "outputs": [],
   "metadata": {}
  },
  {
   "cell_type": "code",
   "execution_count": null,
   "source": [
    "#In this example a series of variables are applied to a single function\r\n",
    "#TODO simplify this function to not use the *args feature\r\n",
    "\r\n",
    "# sum of a list of integers :-\r\n",
    "def my_sum(x):\r\n",
    "     print (x**2)\r\n",
    "\r\n",
    "list1 = [3,9,12]\r\n",
    "\r\n",
    "\r\n",
    "print([my_sum(x) for x in list1])"
   ],
   "outputs": [],
   "metadata": {}
  },
  {
   "cell_type": "code",
   "execution_count": null,
   "source": [
    "\r\n",
    "\r\n"
   ],
   "outputs": [],
   "metadata": {}
  },
  {
   "cell_type": "markdown",
   "source": [
    "## Dash Colors   \n",
    "- also recognized in css    \n",
    "\n",
    "aliceblue, antiquewhite, aqua, aquamarine, azure,\n",
    "                beige, bisque, black, blanchedalmond, blue,\n",
    "                blueviolet, brown, burlywood, cadetblue,\n",
    "                chartreuse, chocolate, coral, cornflowerblue,\n",
    "                cornsilk, crimson, cyan, darkblue, darkcyan,\n",
    "                darkgoldenrod, darkgray, darkgrey, darkgreen,\n",
    "                darkkhaki, darkmagenta, darkolivegreen, darkorange,\n",
    "                darkorchid, darkred, darksalmon, darkseagreen,\n",
    "                darkslateblue, darkslategray, darkslategrey,\n",
    "                darkturquoise, darkviolet, deeppink, deepskyblue,\n",
    "                dimgray, dimgrey, dodgerblue, firebrick,\n",
    "                floralwhite, forestgreen, fuchsia, gainsboro,\n",
    "                ghostwhite, gold, goldenrod, gray, grey, green,\n",
    "                greenyellow, honeydew, hotpink, indianred, indigo,\n",
    "                ivory, khaki, lavender, lavenderblush, lawngreen,\n",
    "                lemonchiffon, lightblue, lightcoral, lightcyan,\n",
    "                lightgoldenrodyellow, lightgray, lightgrey,\n",
    "                lightgreen, lightpink, lightsalmon, lightseagreen,\n",
    "                lightskyblue, lightslategray, lightslategrey,\n",
    "                lightsteelblue, lightyellow, lime, limegreen,\n",
    "                linen, magenta, maroon, mediumaquamarine,\n",
    "                mediumblue, mediumorchid, mediumpurple,\n",
    "                mediumseagreen, mediumslateblue, mediumspringgreen,\n",
    "                mediumturquoise, mediumvioletred, midnightblue,\n",
    "                mintcream, mistyrose, moccasin, navajowhite, navy,\n",
    "                oldlace, olive, olivedrab, orange, orangered,\n",
    "                orchid, palegoldenrod, palegreen, paleturquoise,\n",
    "                palevioletred, papayawhip, peachpuff, peru, pink,\n",
    "                plum, powderblue, purple, red, rosybrown,\n",
    "                royalblue, saddlebrown, salmon, sandybrown,\n",
    "                seagreen, seashell, sienna, silver, skyblue,\n",
    "                slateblue, slategray, slategrey, snow, springgreen,\n",
    "                steelblue, tan, teal, thistle, tomato, turquoise,\n",
    "                violet, wheat, white, whitesmoke, yellow,\n",
    "                yellowgreen"
   ],
   "metadata": {}
  },
  {
   "cell_type": "markdown",
   "source": [
    "## TUPLES"
   ],
   "metadata": {}
  },
  {
   "cell_type": "code",
   "execution_count": null,
   "source": [
    "'''FINAL ASSIGNMENT\r\n",
    "In this assignment Read data from  a text file, load it into python, \r\n",
    "parse through it line by line and  and if a line starts with 'From' ,\r\n",
    " then split it up by space, select the 5 string in the line, then split that by \r\n",
    " colon, then select the first part of that string then add it to a dictionary \r\n",
    " along with the number of times it shows up in the entire document,essentially \r\n",
    " creating a histogram'''\r\n",
    "\r\n",
    "counts = dict()\r\n",
    "#name = input(\"Enter file:\")\r\n",
    "#if len(name) < 1 : name = \"mbox-short.txt\"\r\n",
    "#handle = open(name)\r\n",
    "handle = open(\"mbox-short.txt\")\r\n",
    "for line in handle:\r\n",
    "    if line.startswith('From '):\r\n",
    "        selectedLine = line.split()\r\n",
    "        #print(selectedLine)\r\n",
    "        lineSelected = selectedLine[5]\r\n",
    "        hourSplit = lineSelected.split(':')\r\n",
    "        hourString = hourSplit[0]\r\n",
    "        #print(hourString)\r\n",
    "        counts[hourString] = counts.get(hourString, 0) + 1    # assigns a value to a dictionary\r\n",
    "\r\n",
    "#print(counts)\r\n",
    "#sortedString = (sorted ([(k,v)for k,v in counts.items()]))\r\n",
    "\r\n",
    "for k,v in sorted ([(k,v)for k,v in counts.items()]):\r\n",
    "    \r\n",
    "    print(k,v)\r\n"
   ],
   "outputs": [],
   "metadata": {}
  },
  {
   "cell_type": "code",
   "execution_count": null,
   "source": [
    "jack,jill = (1,2)\r\n",
    "print(jill)\r\n",
    "\r\n",
    "tupleList = [(1,2,3),(4,5,6)]\r\n",
    "print(tupleList)\r\n",
    "\r\n",
    "if (1,2,3) in tupleList:\r\n",
    "    print(True)"
   ],
   "outputs": [],
   "metadata": {}
  },
  {
   "cell_type": "markdown",
   "source": [
    "# Dictionaries\n"
   ],
   "metadata": {}
  },
  {
   "cell_type": "code",
   "execution_count": null,
   "source": [
    "\r\n",
    "'''Regular Dictionaries'''\r\n",
    "# Python dictionary method setdefault() is similar to get(), but will set dict[key]=default if key is not already in dict.\r\n",
    "\r\n",
    "nameDict = {'Name': 'Zara', 'Age': 7} # curley braces  [] () {}\r\n",
    "print (\"Value : %s\" %  nameDict.setdefault('Age', None) ) # age cannot be defaulted to #\"none\"  because it already has a value\r\n",
    "print (\"Value : %s\" %  nameDict.setdefault('Sex', None)) #sex does not exist in the dictionary, thus is created automatically\r\n",
    "\r\n",
    "nameDict['message'] = 'Welcome'  #adding new values to new keys in a dictionaries\r\n",
    "nameDict['Name'] = 'Thompson'\r\n",
    "\r\n",
    "\r\n",
    "print(nameDict)\r\n",
    "#NB:::: Default values in a dictionary can NEVER be changed  \r\n"
   ],
   "outputs": [],
   "metadata": {}
  },
  {
   "cell_type": "code",
   "execution_count": null,
   "source": [
    "exampledict = (dict(item = \"coke\",price = 8, qty = 2))\r\n",
    "\r\n",
    "print(exampledict)\r\n",
    "\r\n",
    "#creating a list of dictionaries\r\n",
    "\r\n",
    "cart = []\r\n",
    "cart.append(dict(item=\"Coke\", price=8, qty=2))\r\n",
    "cart.append(dict(item=\"Cake\", price=12, qty=1))\r\n",
    "cart.append(dict(item=\"Fish\", price=32, qty=4))\r\n",
    "\r\n",
    "print(\"Now printing a list of dictionaries\")\r\n",
    "print(cart)\r\n"
   ],
   "outputs": [],
   "metadata": {}
  },
  {
   "cell_type": "code",
   "execution_count": null,
   "source": [
    "'''Nested Dictionaries'''\r\n",
    "import json \r\n",
    "\r\n",
    "people = {1: {'name': 'John', 'age': '27', 'sex': 'Male'},\r\n",
    "          2: {'name': 'Marie', 'age': '22', 'sex': 'Female'}}\r\n",
    "\r\n",
    "#Actually looks like this:-\r\n",
    "'''\r\n",
    "{\r\n",
    "    \"1\": {\r\n",
    "        \"age\": \"27\",\r\n",
    "        \"name\": \"John\",\r\n",
    "        \"sex\": \"Male\"\r\n",
    "    },\r\n",
    "    \"2\": {\r\n",
    "        \"age\": \"22\",\r\n",
    "        \"name\": \"Marie\",\r\n",
    "        \"sex\": \"Female\"\r\n",
    "    }\r\n",
    "}\r\n",
    "\r\n",
    "'''\r\n",
    "#print(people)\r\n",
    "#print(people[1]['name'])  # prints John from Above\r\n",
    "\r\n",
    "print(json.dumps(people,sort_keys=True,default=str,indent=4))\r\n",
    "\r\n",
    "#sometimes\r\n",
    "\r\n",
    "\r\n",
    "# there is a way to prgrammatically iterate through all the dictionary keys and print all available values\r\n",
    "# add box brackets to the print statments so that they look like :-\r\n",
    "# response['Reservations'][3]['Instances'][0]['ImageId']"
   ],
   "outputs": [],
   "metadata": {}
  },
  {
   "cell_type": "markdown",
   "source": [
    "# CLASSES"
   ],
   "metadata": {}
  },
  {
   "cell_type": "code",
   "execution_count": null,
   "source": [
    "class ExampleClass:\r\n",
    "    '''This is a good template for allowing one to practice with classes'''\r\n",
    "    exampleVar1 = 32  # Class variable\r\n",
    "    exampleVar2 = 45\r\n",
    "    exampleVar3 = \"IamVariable\"\r\n",
    "    def __init__(self, parameter1: int,parameter2: str,parameter3: str ,parameter4: float ):   # any placeholder here in this constructor is called a parameter\r\n",
    "        self.number = parameter1   # self.name is an instance variable\r\n",
    "        self.string1 = parameter2\r\n",
    "        self.string2 = parameter3\r\n",
    "        self.double = parameter4\r\n",
    "        self.process_data()\r\n",
    "\r\n",
    "    def process_data(self):\r\n",
    "        '''Multiplies the Values of the class variables with  a vlaue of the instance variable'''\r\n",
    "        print(self.exampleVar1*self.exampleVar2*self.number)\r\n",
    "\r\n",
    "    def __str__(self):   # if you don't put this method then an actual instance memory point of the instance will be printed when you use \"print\"\r\n",
    "        return 'Your values are number {} with word {} and word {} and number {}.' .format(self.number,self.string1,self.string2,self.double)  \r\n",
    "\r\n",
    "                \r\n",
    "#We just randomly generate some values to feed into the class, these variables are refered to as \"arguaments\" if used in a function call/method call/class call\r\n",
    "argument1 = 1\r\n",
    "argument2 = 'Hello'\r\n",
    "argument3 = 'world'\r\n",
    "argument4 = 2.0\r\n",
    "\r\n",
    "ExampleInstance = ExampleClass(argument1,argument2,argument3,argument4)\r\n",
    "\r\n",
    "\r\n",
    "print(ExampleInstance)  # print the string in the method  \"__str__\""
   ],
   "outputs": [],
   "metadata": {}
  },
  {
   "cell_type": "markdown",
   "source": [
    "## Sorting using lambda"
   ],
   "metadata": {}
  },
  {
   "cell_type": "code",
   "execution_count": null,
   "source": [
    "#Recal this simple sorting example using lambda\r\n",
    "\r\n",
    "L = [\"Cherry\", \"Apple\", \"Blueberry\"]\r\n",
    "\r\n",
    "print(sorted(L, key=len))\r\n",
    "#alternative form using lambda, if you find that easier to understand\r\n",
    "print(sorted(L, key= lambda x: len(x)))\r\n"
   ],
   "outputs": [],
   "metadata": {}
  },
  {
   "cell_type": "markdown",
   "source": [],
   "metadata": {}
  },
  {
   "cell_type": "code",
   "execution_count": null,
   "source": [
    "import sys\r\n",
    "print (\"This is the name of the script: \", sys.argv[0])\r\n",
    "print (\"Number of arguments: \", len(sys.argv))\r\n",
    "print (\"The arguments are: \" , str(sys.argv))\r\n"
   ],
   "outputs": [],
   "metadata": {}
  },
  {
   "cell_type": "code",
   "execution_count": null,
   "source": [
    "import sys\n",
    "\n",
    "#test.py arg1 arg2 arg3 =  sys.argv\n",
    "#Number of arguments: 4 arguments.\n",
    "sys.argv = ['test.py', 'arg1', 'arg2', 'arg3']\n",
    "print (\"Number of arguments:\", len(sys.argv), \"arguments\")\n",
    "print (\"Argument List:\", str(sys.argv))"
   ],
   "outputs": [],
   "metadata": {}
  },
  {
   "cell_type": "markdown",
   "source": [
    "## Query Class Practice "
   ],
   "metadata": {}
  },
  {
   "cell_type": "code",
   "execution_count": null,
   "source": [
    "from pathlib import path\r\n",
    "import QueryDataToFile  # custom created library to \r\n",
    "\r\n",
    "Task1 = \"example pull_v1\"\r\n",
    "var1 =\r\n",
    "class PracticeQuery:\r\n",
    "    '''Main class invalid'''\r\n",
    "    def __init__(self):\r\n",
    "        self.query = 'SELECT column1, column2',\r\n",
    "        'column3',\r\n",
    "        'FROM myTable'\r\n",
    "        self.files = {'results': str(path.cwd())+ '\\\\results.csv',\r\n",
    "                      'procesedFile': str(path.cwd())+ '\\\\results.csv'}\r\n",
    "        self.tasks = [self.query_data,self.process_data]\r\n",
    "\r\n",
    "        self.query_data()\r\n",
    "\r\n",
    "        def query_data(self):\r\n",
    "            '''Pull data from  database'''\r\n",
    "            print(\"for \",Task1 \"Pulling data from \", var1\" Database\")\r\n",
    "            #put data into csv file in this line\r\n",
    "            def process_data(self):\r\n",
    "                '''Process the data'''\r\n",
    "                1+1\r\n",
    "\r\n",
    "\r\n",
    "        "
   ],
   "outputs": [],
   "metadata": {}
  },
  {
   "cell_type": "code",
   "execution_count": null,
   "source": [
    "\r\n",
    "def square(x):\r\n",
    "    '''raise x to the second power'''\r\n",
    "    return x*x\r\n",
    "\r\n",
    "\r\n",
    "import test\r\n",
    "print('testing square function')\r\n",
    "test.testEqual(square(9),100)\r\n"
   ],
   "outputs": [],
   "metadata": {}
  },
  {
   "cell_type": "code",
   "execution_count": null,
   "source": [
    "x = \"hello\"\r\n",
    "\r\n",
    "#if condition returns True, then nothing happens:\r\n",
    "assert x == \"hello\"\r\n",
    "\r\n",
    "#if condition returns False, AssertionError is raised:\r\n",
    "assert x == \"goodbye\""
   ],
   "outputs": [],
   "metadata": {}
  },
  {
   "cell_type": "code",
   "execution_count": null,
   "source": [
    "l= [1,2,3]\r\n",
    "\r\n",
    "for item in l:\r\n",
    "    print('haha')"
   ],
   "outputs": [],
   "metadata": {}
  },
  {
   "cell_type": "markdown",
   "source": [
    "## REGEX :Regular Expressions"
   ],
   "metadata": {}
  },
  {
   "cell_type": "code",
   "execution_count": null,
   "source": [
    "'j{1,3}'  # Match 1 to 3 values of j"
   ],
   "outputs": [],
   "metadata": {}
  },
  {
   "cell_type": "markdown",
   "source": [
    "## Exceptions  \r\n",
    "- Exceptions are often defined as being “errors” but this is not always the case. All errors in Python are dealt with using exceptions, \"but not all exceptions are errors\"."
   ],
   "metadata": {}
  },
  {
   "cell_type": "code",
   "execution_count": null,
   "source": [
    "x = 10\r\n",
    "if x > 5:\r\n",
    "    raise Exception('x should not exceed 5. The value of x was: {}'.format(x))"
   ],
   "outputs": [],
   "metadata": {}
  },
  {
   "cell_type": "markdown",
   "source": [
    "## Assertions vs Exceptions\r\n",
    "- Assertions are intended to be used solely as a means of detecting programming errors, aka bugs. By contrast, an exception can indicate other kinds of error or \"exceptional\" condition; e.g. invalid user input, missing files, heap full and so on.  "
   ],
   "metadata": {}
  },
  {
   "cell_type": "code",
   "execution_count": null,
   "source": [
    "gold = {\"US\":46, \"Fiji\":1, \"Great Britain\":27, \"Cuba\":5, \"Thailand\":2, \"China\":26, \"France\":10}\r\n",
    "country = [\"Fiji\", \"Chile\", \"Mexico\", \"France\", \"Norway\", \"US\"]\r\n",
    "country_gold = []\r\n",
    "\r\n",
    "for x in country:\r\n",
    "    country_gold.append(gold[x])\r\n",
    "    country_gold.append(\"Did not get gold\")\r\n"
   ],
   "outputs": [],
   "metadata": {}
  },
  {
   "cell_type": "code",
   "execution_count": null,
   "source": [
    "\r\n",
    "sport = [\"hockey\", \"basketball\", \"soccer\", \"tennis\", \"football\", \"baseball\"]\r\n",
    "\r\n",
    "ppl_play = {\"hockey\":4, \"soccer\": 10, \"football\": 15, \"tennis\": 8}\r\n",
    "\r\n",
    "for x in sport:\r\n",
    "    try:\r\n",
    "        raise Exception\r\n",
    "        print(ppl_play[x])\r\n",
    "    except Exception as e:\r\n",
    "        print('This is the exception raised ', e)\r\n",
    "        print(1)\r\n",
    "\r\n",
    "    \r\n",
    "\r\n"
   ],
   "outputs": [],
   "metadata": {}
  },
  {
   "cell_type": "markdown",
   "source": [
    "You can also force an exception to be printed by using  \n",
    "                raise Exception\n",
    "\n"
   ],
   "metadata": {}
  },
  {
   "cell_type": "code",
   "execution_count": null,
   "source": [
    "# Import Module\r\n",
    "from tkinter import *\r\n",
    " \r\n",
    "# create root window\r\n",
    "root = Tk()\r\n",
    " \r\n",
    "# root window title and dimension\r\n",
    "root.title(\"Welcome to GeekForGeeks\")\r\n",
    "# Set geometry (widthxheight)\r\n",
    "root.geometry('350x200')\r\n",
    " \r\n",
    "# all widgets will be here\r\n",
    "# Execute Tkinter\r\n",
    "root.mainloop()"
   ],
   "outputs": [],
   "metadata": {}
  },
  {
   "cell_type": "code",
   "execution_count": null,
   "source": [
    "from tkinter import *\r\n",
    "\r\n",
    "master = Tk()\r\n",
    "Label(master, text=\"First Name\").grid(row=0)\r\n",
    "Label(master, text=\"Last Name\").grid(row=1)\r\n",
    "\r\n",
    "e1 = Entry(master)\r\n",
    "e2 = Entry(master)\r\n",
    "\r\n",
    "e1.grid(row=0, column=1)\r\n",
    "e2.grid(row=1, column=1)\r\n",
    "\r\n",
    "mainloop( )"
   ],
   "outputs": [],
   "metadata": {}
  },
  {
   "cell_type": "markdown",
   "source": [
    "## Random Numbers"
   ],
   "metadata": {}
  },
  {
   "cell_type": "code",
   "execution_count": null,
   "source": [
    "import random\r\n",
    "\r\n",
    "rand_number = random.randint(1, 10)\r\n",
    "print('Random number between 1 and 10: {}'.format(rand_number))\r\n",
    "\r\n",
    "letters = [letter for letter in 'ABCDEFGHIJKLMNOPQRSTUVWXYZ'] #creates a list out of each letter provided\r\n",
    "rand_letter = random.choice(letters)  # random.choice() selects a random item from a list\r\n",
    "print('Random letter, from the list made up of letters: {}'.format(rand_letter))\r\n"
   ],
   "outputs": [],
   "metadata": {}
  },
  {
   "cell_type": "markdown",
   "source": [
    "## Class Final Project : Wheel of Fortune (To Be continued later....)"
   ],
   "metadata": {}
  },
  {
   "cell_type": "code",
   "execution_count": null,
   "source": [
    "VOWEL_COST = 250\r\n",
    "LETTERS = 'ABCDEFGHIJKLMNOPQRSTUVWXYZ'\r\n",
    "VOWELS = 'AEIOU'\r\n",
    "\r\n",
    "# Write the WOFPlayer class definition (part A) here\r\n",
    "\r\n",
    "class WOFPlayer:\r\n",
    "'''This is a  class that controls the  '''\r\n",
    "    boredom_decrement = 4\r\n",
    "    hunger_decrement = 6\r\n",
    "    boredom_threshold = 5\r\n",
    "    hunger_threshold = 10\r\n",
    "    sounds = ['Mrrp']\r\n",
    "    def __init__(self, name = \"Kitty\", pet_type=\"cat\"):\r\n",
    "    self.name = name\r\n",
    "    self.hunger = randrange(self.hunger_threshold)\r\n",
    "    self.boredom = randrange(self.boredom_threshold)\r\n",
    "\r\n",
    "# Write the WOFHumanPlayer class definition (part B) here\r\n",
    "\r\n",
    "# Write the WOFComputerPlayer class definition (part C) here\r\n",
    "\r\n"
   ],
   "outputs": [],
   "metadata": {}
  },
  {
   "cell_type": "markdown",
   "source": [
    "## Using Args\n",
    "Args are pretty much a way to pass in multiple arguments into a function"
   ],
   "metadata": {}
  },
  {
   "cell_type": "code",
   "execution_count": null,
   "source": [
    "def add(datatype, *args):\r\n",
    " \r\n",
    "    # if datatype is int\r\n",
    "    # initialize answer as 0\r\n",
    "    if datatype =='int':\r\n",
    "        answer = 0\r\n",
    "         \r\n",
    "    # if datatype is str\r\n",
    "    # initialize answer as ''\r\n",
    "    if datatype =='str':\r\n",
    "        answer =''\r\n",
    " \r\n",
    "    # Traverse through the arguments\r\n",
    "    for x in args:\r\n",
    " \r\n",
    "        # This will do addition if the \r\n",
    "        # arguments are int. Or concatenation \r\n",
    "        # if the arguments are str\r\n",
    "        answer = answer + x\r\n",
    " \r\n",
    "    print(answer)"
   ],
   "outputs": [],
   "metadata": {}
  },
  {
   "cell_type": "markdown",
   "source": [
    "## Method Overloading\n",
    "\n",
    "By Using Multiple Dispatch Decorator "
   ],
   "metadata": {}
  },
  {
   "cell_type": "code",
   "execution_count": null,
   "source": [
    "from multipledispatch import dispatch\r\n",
    " \r\n",
    "#passing one parameter\r\n",
    "@dispatch(int,int)\r\n",
    "def product(first,second):\r\n",
    "    result = first*second\r\n",
    "    print(result);\r\n",
    " \r\n",
    "#passing two parameters\r\n",
    "@dispatch(int,int,int)\r\n",
    "def product(first,second,third):\r\n",
    "    result  = first * second * third\r\n",
    "    print(result);\r\n",
    " \r\n",
    "#you can also pass data type of any value as per requirement\r\n",
    "@dispatch(float,float,float)\r\n",
    "def product(first,second,third):\r\n",
    "    result  = first * second * third\r\n",
    "    print(result);\r\n",
    " \r\n",
    " \r\n",
    "#calling product method with 2 arguments\r\n",
    "product(2,3,2) #this will give output of 12\r\n",
    "product(2.2,3.4,2.3) # this will give output of 17.985999999999997"
   ],
   "outputs": [],
   "metadata": {}
  },
  {
   "cell_type": "markdown",
   "source": [
    "## Map and List Comprehension\n",
    "Map: a way to attacha a function to a list  \n",
    "List Comprehension: A new way to do a for loop"
   ],
   "metadata": {}
  },
  {
   "cell_type": "code",
   "execution_count": null,
   "source": [
    "txns = [1.09, 23.56, 57.84, 4.56, 6.78]\r\n",
    "TAX_RATE = .08\r\n",
    "def get_price_with_tax(txn):\r\n",
    "     return txn * (1 + TAX_RATE)\r\n",
    "final_prices = map(get_price_with_tax, txns)\r\n",
    "print(list(final_prices))    # the \"list\" function needs to be used to ensure that the resultant  comes out looking correct"
   ],
   "outputs": [],
   "metadata": {}
  },
  {
   "cell_type": "code",
   "execution_count": null,
   "source": [
    "# Original for loop\r\n",
    "\r\n",
    "squares = []\r\n",
    "for i in range(10):\r\n",
    "     squares.append(i * i)\r\n",
    "print(squares)\r\n",
    "\r\n",
    "\r\n",
    "# For loop with list comprehension\r\n",
    "\r\n",
    "squares = [i * i for i in range(10)]  # perform multiplication for  each value of i in rang(10) i.e ...\r\n",
    "#new_list = [expression for member in iterable]\r\n",
    "\r\n",
    "print(squares)\r\n"
   ],
   "outputs": [],
   "metadata": {}
  },
  {
   "cell_type": "markdown",
   "source": [
    "## More List comprehension examples  \n",
    "The Syntax:-  \n",
    "newlist = [expression for item in iterable if condition == True]  \n",
    "\n"
   ],
   "metadata": {}
  },
  {
   "cell_type": "code",
   "execution_count": null,
   "source": [
    "txns = [1.09, 23.56, 57.84, 4.56, 6.78]\r\n",
    "TAX_RATE = .08\r\n",
    "def get_price_with_tax(txn):\r\n",
    "     return txn * (1 + TAX_RATE)\r\n",
    "final_prices = [get_price_with_tax(i) for i in txns]\r\n",
    "print(final_prices)"
   ],
   "outputs": [],
   "metadata": {}
  },
  {
   "cell_type": "code",
   "execution_count": null,
   "source": [
    "'''lists top iterate through'''\r\n",
    "fruits = [\"apple\", \"banana\", \"cherry\", \"kiwi\", \"mango\"]\r\n",
    "squares = []\r\n",
    "\r\n",
    "'''Multiple List comprehension example expressions'''\r\n",
    "squares = [i * i for i in range(10)]                   # Multiply i by itself for every numerical value from 0-9\r\n",
    "newlist1 = [x for x in fruits if \"a\" in x]             # produces all fruits with 'a' in the name\r\n",
    "newlist2 = [x for x in fruits if x != \"apple\"]         # produce all fruits that are not apple\r\n",
    "newlist3 = [x for x in fruits]                         # simply re-creates the original list\r\n",
    "number_list = [ x for x in range(20) if x % 2 == 0]    # For every value in range 0-19, if the remainder of the value when divided by two is zero(even number), then spit that out\r\n",
    "num_list = [y for y in range(100) if y % 2 == 0 if y % 5 == 0] # in a range of values from 0-99 produce a a list of values that are first divisible by 2 and then out of those, the one's divisible by 5\r\n",
    "newlist4 = [x for x in range(10) if x < 5]             # For every value from 0-9, produce a list of values less than 5 i.e 0-4\r\n",
    "\r\n",
    " \r\n",
    "'''Result of the List comprehension expressions above'''\r\n",
    "print(squares)\r\n",
    "print(newlist1)\r\n",
    "print(newlist2)\r\n",
    "print(newlist3)\r\n",
    "print(newlist4)\r\n",
    "print(number_list)\r\n",
    "print(num_list)\r\n"
   ],
   "outputs": [],
   "metadata": {}
  },
  {
   "cell_type": "markdown",
   "source": [
    "## JSON  in Python  \n",
    "It is currently agostic of any particluar programming langauge as we speak. It currently is used as a way to transport python dictionaries across different languages.There are other structures that can be tranlated back and forth from python from JSON.  \n",
    "\n",
    "                Python\t            JSON  \n",
    "                dict\t            object  \n",
    "                list,tuple\t            array    \n",
    "                str\t                    string    \n",
    "                int, long, float\t    number  \n",
    "                True\t            true  \n",
    "                False\t            false  \n",
    "                None\t            null  \n"
   ],
   "metadata": {}
  },
  {
   "cell_type": "markdown",
   "source": [
    "# Examples of a JSON Objects\n",
    "\n",
    "```\n",
    "{\n",
    "    \"people\": [\n",
    "        {\n",
    "            \"name\" : \"John Smith\",\n",
    "            \"phone\" : \"615-555-7164\",\n",
    "            \"emails\" : [\"johnsmith@bogusemail.com\",\"john.snmith@work-place.com\"],\n",
    "            \"has_license\": false\n",
    "        },\n",
    "        {\n",
    "            \"name\": \"Jane Doe\",\n",
    "            \"phone\": \"560-555-553\",\n",
    "            \"emails\": null,\n",
    "            \"has_license\": true\n",
    "        }\n",
    "    ]\n",
    "}\n",
    "```\n",
    "\n",
    "\n",
    "\n",
    "```\n",
    "{\n",
    "    \"people1\": [\n",
    "        {\n",
    "            \"name\" : \"Nikhil\",\n",
    "            \"website\" : \"gf.com\",\n",
    "            \"from\" : \"Delhi\"\n",
    "           \n",
    "        },\n",
    "        {\n",
    "            \"name\" : \"Abhinav\",\n",
    "            \"website\" : \"google.com\",\n",
    "            \"from\" : \"Mumbai\"\n",
    "        }\n",
    "    ],\n",
    "\n",
    "    \"people2\" : [\n",
    "        {\n",
    "            \"name\" : \"ansul\",\n",
    "            \"website\" : \"yahoo.com\",\n",
    "            \"from\" : \"Delaware\"\n",
    "        }\n",
    "    ]\n",
    "}\n",
    "```"
   ],
   "metadata": {}
  },
  {
   "cell_type": "markdown",
   "source": [
    "## JSON : Creating Dictionairies with JSON objects "
   ],
   "metadata": {}
  },
  {
   "cell_type": "code",
   "execution_count": null,
   "source": [
    "# In this example we created a psedo-JSON object, with  a python string\r\n",
    "\r\n",
    "import json\r\n",
    "\r\n",
    "people_string = '''\r\n",
    "\r\n",
    "{\r\n",
    "    \"people\": [\r\n",
    "        {\r\n",
    "            \"name\" : \"John Smith\",\r\n",
    "            \"phone\" : \"615-555-7164\",\r\n",
    "            \"emails\" : [\"johnsmith@bogusemail.com\",\"john.snmith@work-place.com\"],\r\n",
    "            \"has_license\": false\r\n",
    "        },\r\n",
    "        {\r\n",
    "            \"name\": \"Jane Doe\",\r\n",
    "            \"phone\": \"560-555-553\",\r\n",
    "            \"emails\": null,\r\n",
    "            \"has_license\": true\r\n",
    "        }\r\n",
    "    ]\r\n",
    "}\r\n",
    "'''\r\n",
    "\r\n",
    "data = json.loads(people_string) # this parses the JSON string into a dictionary\r\n",
    "\r\n",
    "print(data)\r\n",
    "print('data type is:-')\r\n",
    "print(type(data))\r\n",
    "\r\n",
    "#priting the dictionary :-\r\n",
    "\r\n",
    "print(json.dumps(data,sort_keys=True,default=str,indent=4))"
   ],
   "outputs": [],
   "metadata": {}
  },
  {
   "cell_type": "code",
   "execution_count": null,
   "source": [
    "## Another example\r\n",
    "import pandas as pd\r\n",
    "import json\r\n",
    "\r\n",
    "ExampleJSOnOnject = '''\r\n",
    "{\r\n",
    "    \"people0\": [\r\n",
    "        {\r\n",
    "            \"name\" : \"John Smith\",\r\n",
    "            \"phone\" : \"615-555-7164\",\r\n",
    "            \"emails\" : [\"johnsmith@bogusemail.com\",\"john.snmith@work-place.com\"],\r\n",
    "            \"has_license\": false\r\n",
    "        },\r\n",
    "        {\r\n",
    "            \"name\": \"Jane Doe\",\r\n",
    "            \"phone\": \"560-555-553\",\r\n",
    "            \"emails\": null,\r\n",
    "            \"has_license\": true\r\n",
    "        }\r\n",
    "    ],\r\n",
    "\r\n",
    "\r\n",
    "    \"people1\": [\r\n",
    "        {\r\n",
    "            \"name\" : \"Nikhil\",\r\n",
    "            \"website\" : \"gf.com\",\r\n",
    "            \"from\" : \"Delhi\"\r\n",
    "           \r\n",
    "        },\r\n",
    "        {\r\n",
    "            \"name\" : \"Abhinav\",\r\n",
    "            \"website\" : \"google.com\",\r\n",
    "            \"from\" : \"Mumbai\"\r\n",
    "        }\r\n",
    "    ],\r\n",
    "\r\n",
    "    \"people2\" : [\r\n",
    "        {\r\n",
    "            \"name\" : \"ansul\",\r\n",
    "            \"website\" : \"yahoo.com\",\r\n",
    "            \"from\" : \"Delaware\"\r\n",
    "        }\r\n",
    "    ]\r\n",
    "} \r\n",
    "'''\r\n",
    "data = json.loads(ExampleJSOnOnject)\r\n",
    "df = pd.(data)\r\n",
    "df\r\n"
   ],
   "outputs": [],
   "metadata": {}
  },
  {
   "cell_type": "code",
   "execution_count": null,
   "source": [
    "## Example 3\r\n",
    "import pandas as pd\r\n",
    "import plotly.express as px\r\n",
    "\r\n",
    "url = 'http://api.open-notify.org/iss-now.json'\r\n",
    "\r\n",
    "df = pd.read_json(url)\r\n",
    "df['latitude'] = df.loc['latitude', 'iss_position']\r\n",
    "df['longitude'] = df.loc['longitude', 'iss_position']\r\n",
    "df.reset_index(inplace = True)\r\n",
    "df = df.drop(['index','message'], axis = 1)\r\n",
    "fig = px.scatter_geo(df,lat = 'latitude',lon = 'longitude')\r\n",
    "fig.show()\r\n"
   ],
   "outputs": [],
   "metadata": {}
  },
  {
   "cell_type": "code",
   "execution_count": null,
   "source": [
    "# In this example we instead use a JSON object that has already been created for us\r\n",
    "\r\n",
    "import json\r\n",
    "\r\n",
    "with open(r'C:\\Users\\Burudani\\Documents\\mainPythonFolder_v1\\JSON\\dictData2.json') as json_file:\r\n",
    "    data = json.loads(json_file.read()) # this parses the JSON string, NB need to use the .read() method\r\n",
    "\r\n",
    "    print(data)\r\n",
    "    print('data type is:-')\r\n",
    "    print(type(data))\r\n",
    "\r\n",
    "# You can also print/extract specific pieces of data from the object\r\n",
    "    print(\"\\nPeople1:\", data['people1'])\r\n",
    "    print(\"\\nPeople2:\", data['people2'])"
   ],
   "outputs": [],
   "metadata": {}
  },
  {
   "cell_type": "code",
   "execution_count": null,
   "source": [
    "import pandas as pd\r\n",
    "import numpy as np\r\n",
    "# Pass a 2D numpy array - each row is the corresponding row required in the dataframe\r\n",
    "\r\n",
    "data = np.array([[1,\"toyota\",\"corolla\",\"TOYOTA\",\"corolla\"], \r\n",
    "                 [2,\"honda\",\"civic\",\"lamborghini\",\"sinata\"], \r\n",
    "                 [1,\"hyndai\",\"accent car\",\"hyndaisera\",\"accent car\"], \r\n",
    "                 [1,\"nissan\",\"sentra\",\"maserati\",\"dishenco\"],\r\n",
    "                 [2,\"honda\",\"Odessey\",\"porshe\",\"cayane\"],\r\n",
    "                 [1,\"Tesla\",\"model\",\"tesla mode3\",\"tesla\"]])   # testing reversal of data\r\n",
    "\r\n",
    "#TODO try using contains and test for backward macthes\r\n",
    "\r\n",
    "# pass column names in the columns parameter \r\n",
    "df = pd.DataFrame(data, columns = ['year', 'make1','model1','make2','model2'])\r\n",
    "\r\n",
    "print(df)\r\n",
    "#df['extrcolumn'] = df['model'].str.upper()\r\n",
    "#dftest1 = df.loc[(df['make1'] == 'honda')]\r\n",
    "#dftest1 = (df.loc[(df['make1'] == 'honda')] or df.loc[(df['model1'] == df['model2'])])\r\n",
    "#dftest1 = df['make1'] == 'honda'\r\n",
    "\r\n",
    "print('\\n')\r\n",
    "\r\n",
    "print(df[\"model2\"].str.split(\" \", n = 1, expand = False)==(df[\"model1\"].str.split(\" \", n = 1, expand = False)))"
   ],
   "outputs": [],
   "metadata": {}
  },
  {
   "cell_type": "code",
   "execution_count": null,
   "source": [
    "\r\n",
    "#df = df.assign(model2='Expenses')\r\n",
    "\r\n",
    "#df.loc[:,'model2'] = str('Expenses')\r\n",
    "\r\n",
    "\r\n",
    "#df['model2'] = 'Expenditure'\r\n",
    "checkList = ['toy','hyndai']\r\n",
    "checkListUppercase = [x.upper() for x in checkList]\r\n",
    "#if(row.make1.upper() in checkListUppercase):\r\n",
    "\r\n",
    "def NameReplacer(row):\r\n",
    "    \r\n",
    "    for item in checkListUppercase:\r\n",
    "        if(item in row.make1.upper()):\r\n",
    "\r\n",
    "            return item\r\n",
    "\r\n",
    "\r\n",
    "df.loc[:, 'Transaction'] = df.apply(NameReplacer, axis = 1)\r\n",
    "\r\n",
    "df.modelchecker.fillna(value=np.nan, inplace=True)   # replaces nNone values with NaN values\r\n",
    "\r\n",
    "df['Transaction'] = df['Transaction'].fillna('Expenditure')  # this allows you to now replace the NaN values with anything you want\r\n",
    "#df['modelchecker'].replace(NaN, \"\", inplace=True)\r\n",
    "\r\n",
    "#df['Match_Tester'] = df.apply(lambda errorDetector : df, axis = 1)\r\n",
    "print(df)"
   ],
   "outputs": [],
   "metadata": {}
  },
  {
   "cell_type": "code",
   "execution_count": null,
   "source": [
    "class ModifyMyDf:\r\n",
    "\r\n",
    "\r\n",
    "    #def__init__(self):\r\n",
    "\r\n",
    "\r\n",
    "\r\n",
    "    def errorDetector(row):\r\n",
    "    \r\n",
    "        if ((row.year == '2') or   #CHeck if the year is equal to 2\r\n",
    "        (row.make1.upper() == row.make2.upper() and row.model1.upper() == row.model2.upper()) or \r\n",
    "        (row.make1.upper() == row.model2.upper() and row.model1.upper() == row.make2.upper())):  # check if columns match in reverse\r\n",
    "        #if ((row.year == '2') or (row.make1.str.upper() == row.make2.str.upper() & row.model1 in (row.model2)))   \r\n",
    "            return \"Match\"\r\n",
    "    \r\n",
    "        else:\r\n",
    "            return \"No Match\"\r\n",
    "\r\n",
    "    #if (row.year == '2' | (row.make1.str.upper() == row.make2.str.upper() & row.model1.isin(row.model2)))\r\n",
    "\r\n",
    "    #(row.make1.upper() == row.model2.upper() and row.model1.upper() == row.make2.upper())\r\n",
    "\r\n",
    "    def runMyprogram():\r\n",
    "        #df.loc[:, 'Match Tester'] = df.apply(errorDetector, axis = 1)\r\n",
    "        df['Match_Tester'] = df.apply(lambda errorDetector : df, axis = 1)\r\n",
    "    #df['Discounted_Price'] = df.apply(fun)\r\n",
    "        print(df)\r\n",
    "    runMyprogram()\r\n",
    "\r\n",
    "ModifyMyDf()"
   ],
   "outputs": [],
   "metadata": {}
  },
  {
   "cell_type": "code",
   "execution_count": null,
   "source": [
    "#df['extrcolumn'] = df['model'].str.upper()\r\n",
    "#dftest1 = df.loc[(df['make1'] == 'honda')]\r\n",
    "#dftest1 = (df.loc[(df['make1'] == 'honda')] or df.loc[(df['model1'] == df['model2'])])\r\n",
    "#dftest1 = df['make1'] == 'honda'\r\n",
    "dftest1 = df.query('year == \"2\" or (make1.str.upper() == make2.str.upper() and model1.isin(model2))')\r\n",
    "\r\n",
    "\r\n",
    "\r\n",
    "print('\\n')\r\n",
    "print(dftest1)"
   ],
   "outputs": [],
   "metadata": {}
  },
  {
   "cell_type": "code",
   "execution_count": null,
   "source": [
    "# sum_integers_list.py\r\n",
    "def my_sum(my_integers):\r\n",
    "    result = 0\r\n",
    "    for x in my_integers:\r\n",
    "        result += x\r\n",
    "    return result\r\n",
    "\r\n",
    "list_of_integers = [1, 2, 3]\r\n",
    "print(my_sum(list_of_integers))"
   ],
   "outputs": [],
   "metadata": {}
  },
  {
   "cell_type": "code",
   "execution_count": null,
   "source": [
    "# sum_integers_args.py\r\n",
    "def my_sum(*args):\r\n",
    "    result = 0\r\n",
    "    # Iterating over the Python args tuple\r\n",
    "    for x in args:\r\n",
    "        result += x\r\n",
    "    return result\r\n",
    "\r\n",
    "print(my_sum(1, 2, 3))"
   ],
   "outputs": [],
   "metadata": {}
  },
  {
   "cell_type": "markdown",
   "source": [
    "## The  \"*args\" oprator allows you to enter an undetermined number of arguments to the funtion  \n",
    "The star(*) is known as the unpacking operator (*)  \n",
    "\n",
    "-Use cases adding a list of numbers which changes dynamically each time the function is called"
   ],
   "metadata": {}
  },
  {
   "cell_type": "code",
   "execution_count": null,
   "source": [
    "# sum of a list of integers :-\r\n",
    "def my_sum(*args):\r\n",
    "    result = 0\r\n",
    "    for x in args:\r\n",
    "        result += x\r\n",
    "    return result\r\n",
    "\r\n",
    "list1 = [1, 2, 3]\r\n",
    "list2 = [4, 5]\r\n",
    "list3 = [6, 7, 8, 9]\r\n",
    "\r\n",
    "print(my_sum(*list1, *list2, *list3))"
   ],
   "outputs": [],
   "metadata": {}
  },
  {
   "cell_type": "markdown",
   "source": [
    "## The \"**kwargs\" oprator allows you to enter an undetermined number of \"keyword/named\" arguments to the funtion"
   ],
   "metadata": {}
  },
  {
   "cell_type": "code",
   "execution_count": null,
   "source": [
    "# concatenate.py\r\n",
    "def concatenate(**kwargs):\r\n",
    "    result = \"\"\r\n",
    "    # Iterating over the Python kwargs dictionary\r\n",
    "    for arg in kwargs.values():\r\n",
    "        result += arg\r\n",
    "    return result\r\n",
    "\r\n",
    "print(concatenate(a=\"Real\", b=\"Python\", c=\"Is\", d=\"Great\", e=\"!\"))"
   ],
   "outputs": [],
   "metadata": {}
  },
  {
   "cell_type": "markdown",
   "source": [
    "## Generators *Advanced*\n",
    "- They are special functions that do not store contents in memory\n",
    "- Useful for optimizing the processing of large data sets\n",
    "- Instead of loading a file to memory it opens up the file then iterates while performing calculations then returns a results\n",
    "\n"
   ],
   "metadata": {}
  },
  {
   "cell_type": "code",
   "execution_count": null,
   "source": [
    "def csv_reader(file_name):\r\n",
    "    for row in open(file_name, \"r\"):\r\n",
    "        yield row "
   ],
   "outputs": [],
   "metadata": {}
  },
  {
   "cell_type": "code",
   "execution_count": null,
   "source": [
    "string1 = 'hector'\r\n",
    "string2 = 'HECTOR'\r\n",
    "\r\n",
    "if (string1.upper() == string2.upper()):\r\n",
    "     print('they are the same')\r\n",
    "     string1=string1.upper()\r\n",
    "     print(string1)\r\n",
    "else:\r\n",
    "    print('they are not the same')\r\n"
   ],
   "outputs": [],
   "metadata": {}
  },
  {
   "cell_type": "markdown",
   "source": [
    "## Argeparse  \n",
    "\n",
    "A python module for allowing your program to recieve arguemnts in the command line. The argparse module makes it easy to write user-friendly command-line interfaces. Think Linux command line\n"
   ],
   "metadata": {}
  },
  {
   "cell_type": "code",
   "execution_count": null,
   "source": [
    "from tkinter import *\r\n",
    "\r\n",
    "root = Tk()\r\n",
    "frame = Frame(root)\r\n",
    "frame.pack()\r\n",
    "\r\n",
    "bottomframe = Frame(root)\r\n",
    "bottomframe.pack( side = BOTTOM )\r\n",
    "\r\n",
    "redbutton = Button(frame, text=\"Red\", fg=\"red\")\r\n",
    "redbutton.pack( side = LEFT)\r\n",
    "\r\n",
    "greenbutton = Button(frame, text=\"Brown\", fg=\"brown\")\r\n",
    "greenbutton.pack( side = LEFT )\r\n",
    "\r\n",
    "bluebutton = Button(frame, text=\"Blue\", fg=\"blue\")\r\n",
    "bluebutton.pack( side = LEFT )\r\n",
    "\r\n",
    "blackbutton = Button(bottomframe, text=\"Black\", fg=\"black\")\r\n",
    "blackbutton.pack( side = BOTTOM)\r\n",
    "\r\n",
    "root.mainloop()"
   ],
   "outputs": [],
   "metadata": {}
  },
  {
   "cell_type": "code",
   "execution_count": null,
   "source": [
    "\r\n",
    "marks = {'Physics':67, 'Maths':87}\r\n",
    "internal_marks = {'Physics':68}\r\n",
    "\r\n",
    "#marks.update(internal_marks)\r\n",
    "marks['Physics'] +=1\r\n",
    "\r\n",
    "\r\n",
    "print(marks)\r\n",
    "\r\n",
    "# Output: {'Physics': 67, 'Maths': 87, 'Practical': 48}"
   ],
   "outputs": [],
   "metadata": {}
  },
  {
   "cell_type": "code",
   "execution_count": null,
   "source": [
    "def fun():\r\n",
    "    str = \"geeksforgeeks\"\r\n",
    "    x   = 20\r\n",
    "    return str, x;  # Return tuple, we could also\r\n",
    "                    # write (str, x)\r\n",
    "  \r\n",
    "# Driver code to test above method\r\n",
    "str, x = fun() # Assign returned tuple\r\n",
    "\r\n",
    "print(str)\r\n",
    "print(x)"
   ],
   "outputs": [],
   "metadata": {}
  },
  {
   "cell_type": "code",
   "execution_count": null,
   "source": [
    "def fun():  #- parameter\r\n",
    "    print(str,x)\r\n",
    "    str2 = \"geeksforgeeks\"\r\n",
    "    chinaAmountx   = 20\r\n",
    "    peruAmountx   = 70\r\n",
    "    print(str2,chinaAmountx,peruAmountx)\r\n",
    "    return str, chinaAmountx,peruAmountx;\r\n",
    "      # Return tuple, we could also\r\n",
    "                    # write (str, x)\r\n",
    "  \r\n",
    "# Driver code to test above method\r\n",
    "#str, x = fun() # Assign returned tuple\r\n",
    "#fun(\"james\", 5)#-- arguments\r\n",
    "fun()\r\n",
    "#print(str)\r\n",
    "#Sprint(x)"
   ],
   "outputs": [],
   "metadata": {}
  }
 ],
 "metadata": {
  "interpreter": {
   "hash": "106f8dd8e7b9f8bf7b5c7f9387976efaa64fd1db7ebf679a5786be21993f005a"
  },
  "kernelspec": {
   "name": "python3",
   "display_name": "Python 3.8.5 64-bit ('rwakiPythonEnv': conda)"
  },
  "language_info": {
   "codemirror_mode": {
    "name": "ipython",
    "version": 3
   },
   "file_extension": ".py",
   "mimetype": "text/x-python",
   "name": "python",
   "nbconvert_exporter": "python",
   "pygments_lexer": "ipython3",
   "version": "3.8.5"
  }
 },
 "nbformat": 4,
 "nbformat_minor": 2
}