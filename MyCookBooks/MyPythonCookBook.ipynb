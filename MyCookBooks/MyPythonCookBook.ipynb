{
 "cells": [
  {
   "cell_type": "markdown",
   "source": [
    "# Welcome to My Python CookBook\n",
    "\n",
    "## To run a cell use `ctrl+enter`  or `shift enter`  \n",
    "To use spell checker plugin use either:-  \n",
    "- ctrl+.  \n",
    "- click the lighbulb to see options  \n",
    "\n",
    "\n"
   ],
   "metadata": {
    "tags": []
   }
  },
  {
   "cell_type": "markdown",
   "source": [
    "\n",
    "## Using the windows \"tree command\"    \n",
    "NB: Using /f suffix shows the files within the folders too!!! BUT makes the tree very long!!   \n",
    "\n",
    "e.g for  C:\\Users\\Burudani\\Documents\\mainPythonFolder_v1  \n",
    "\n",
    "we type:-      \n",
    "\n",
    "`tree C:\\Users\\Burudani\\Documents\\mainPythonFolder_v1`  \n",
    "\n",
    "we get:-  \n",
    "\n",
    "```\n",
    "C:\\Users\\Burudani>tree C:\\Users\\Burudani\\Documents\\mainPythonFolder_v1\n",
    "Folder PATH listing\n",
    "Volume serial number is 00000068 4462:DDC7\n",
    "C:\\USERS\\BURUDANI\\DOCUMENTS\\MAINPYTHONFOLDER_V1\n",
    "├───.ipynb_checkpoints\n",
    "├───.vscode\n",
    "├───AWS Boto3\n",
    "├───dash-sample-apps\n",
    "├───Databases\n",
    "├───ExcelFiles\n",
    "├───MypythonPracticeFiles\n",
    "├───SalesForce\n",
    "├───Terraform\n",
    "│   ├───US-East-1\n",
    "│   │   ├───EC2\n",
    "│   │   ├───Elas\n",
    "│   │   └───VPC\n",
    "│   └───US-West-2\n",
    "└───__pycache__\n",
    "\n",
    "```\n",
    "\n",
    "\n"
   ],
   "metadata": {}
  },
  {
   "cell_type": "markdown",
   "source": [
    "using pip\n",
    "\n",
    "at cli type\n",
    "\n",
    "pip --version\n",
    "\n",
    "pip -- help\n"
   ],
   "metadata": {}
  },
  {
   "cell_type": "markdown",
   "source": [
    "## Strings"
   ],
   "metadata": {}
  },
  {
   "cell_type": "code",
   "execution_count": null,
   "source": [
    "var1 = 35\n",
    "var2 = 'jambo'\n",
    "#string .format() method to print string with variables!\n",
    "print('This is good way to combine a string and a variable e.g: {} and {} ty'.format(var1,var2))\n",
    "\n",
    "#using 'count' to see how many times a specified string occurs in a larger string\n",
    "myString = 'HeLLo, WorLd! 123'\n",
    "print(myString.count('L')) # ans will be 3\n",
    "\n",
    "s = 'python is pythonic'\n",
    "print(s.count('python')) # ans will be 2"
   ],
   "outputs": [],
   "metadata": {}
  },
  {
   "cell_type": "markdown",
   "source": [],
   "metadata": {}
  },
  {
   "cell_type": "markdown",
   "source": [
    "## F-Strings\n",
    " -Very efficient way to combine variables(ints or strings or bools etc) and strings in print statements"
   ],
   "metadata": {}
  },
  {
   "cell_type": "code",
   "execution_count": null,
   "source": [
    "name = 'eric'\n",
    "age = 23\n",
    "print(f\"Hello, {name}. You are {age}.\")"
   ],
   "outputs": [],
   "metadata": {}
  },
  {
   "cell_type": "markdown",
   "source": [
    "- Below is a <ins>much</ins> nicer example of f-string using the unpacking operator(**) to unpack a dictionary.In this example the variables are given names and are thus identified , which adds to readability\n",
    "\n",
    "- I like this method as it allows less typing , you don't have to repeat putting in variables, and it's much more explicit\n",
    "\n",
    "- NB:This method is preffered , because yo can very easily convert a JSON object to a dictionary , and use it immediately which makes it easier to  import values, i.e adds to code porability in case you need to obtain or store values from a database.\n"
   ],
   "metadata": {}
  },
  {
   "cell_type": "code",
   "execution_count": null,
   "source": [
    "\n",
    "person = {\n",
    "'name': 'Uncle David', \n",
    "'age': 56\n",
    "}\n",
    "print(\"Hello, {name}. You are {age}.\".format(**person))\n",
    "print(\"Hello, {name}. You are {age}.\".format(**person))\n",
    "print(\"Hello, {name}. You are {age}.\".format(**person))\n",
    "\n",
    "#TODO  Print from a nested dictionary or nested jsons, gogl e how to print these clearly"
   ],
   "outputs": [],
   "metadata": {}
  },
  {
   "cell_type": "code",
   "execution_count": null,
   "source": [
    "#Another nicer example of f-string using the unpacking operator(*) to unpack a list, However in this example, \n",
    "# we don't idemtify the variables and thus the variable list is considered \"dumb\"\n",
    "\n",
    "person = ['eric','74']\n",
    "print(\"Hello, {}. You are {}.\".format(*person))\n"
   ],
   "outputs": [],
   "metadata": {}
  },
  {
   "cell_type": "markdown",
   "source": [
    "## Writting to a file\n",
    "\n",
    "- Here is a link to the section on writting a config file [See Lists here](##Lists)\n",
    "- This style handles both the opening and the closing of the file \n",
    "- this can be also used to write configuration files with special information , like key-value pairs"
   ],
   "metadata": {}
  },
  {
   "cell_type": "code",
   "execution_count": null,
   "source": [
    "with open(file=r'C:\\Users\\Burudani\\Documents\\mainPythonFolder_v1\\TextFiles\\exampleTextFile.txt', mode='w+') as f:\n",
    "    f.write(\"This is some sample text\")\n",
    "\n",
    "# running this multiple times just overwrittes the text"
   ],
   "outputs": [],
   "metadata": {}
  },
  {
   "cell_type": "markdown",
   "source": [
    "## Writting a config file e.g an ini file\n",
    "<a id='Writting a config file'></a>\n",
    "\n",
    "- More on configparser  [More on configparser](https://zetcode.com/python/configparser/)  "
   ],
   "metadata": {}
  },
  {
   "cell_type": "code",
   "execution_count": null,
   "source": [
    "from configparser import ConfigParser\n",
    "\n",
    "# Initialize the Parser.\n",
    "config = ConfigParser()\n",
    "\n",
    "# Add the Section.\n",
    "config.add_section('Title of config file')\n",
    "\n",
    "# Set the Values.\n",
    "config.set('graph_api', 'client_id', '5025e394-54fb-4024-807d-c7bcf77cb9c8')\n",
    "config.set('graph_api', 'client_secret', '603d564c-6773-4bed-adea-9171d3f85643')\n",
    "config.set('graph_api', 'redirect_uri', 'https://localhost/graph_login')\n",
    "\n",
    "# Write the file, here you can also specify the extension of the file.\n",
    "with open(file=r'C:\\Users\\Burudani\\Documents\\mainPythonFolder_v1\\myExampleConfigFile.ini', mode='w+') as f:\n",
    "    config.write(f)\n",
    "\n",
    "\n"
   ],
   "outputs": [],
   "metadata": {}
  },
  {
   "cell_type": "markdown",
   "source": [
    "## Lists\n",
    "<a id='##Lists'></a>"
   ],
   "metadata": {}
  },
  {
   "cell_type": "code",
   "execution_count": null,
   "source": [
    "newList = [1,2,3,4,5]\n",
    "worList = ['james','brown','Harding']\n",
    "fruitList = [\"pear\",\"apple\",\"strawberry\",\"banana\",\"orange\"]\n",
    "\n",
    "#Quick way to sort lists alphabetically\n",
    "for f in sorted(fruitList):\n",
    "    print(f)\n",
    "print('\\n')\n",
    "#quick way to print a list as a column\n",
    "print(*worList, sep='\\n') # the '*' is called the unpacking operator and is demonstrated in detail, in it's section below"
   ],
   "outputs": [],
   "metadata": {}
  },
  {
   "cell_type": "markdown",
   "source": [
    "## Dunder   \n",
    "- Double underscore used before and after a function or method name, example below"
   ],
   "metadata": {}
  },
  {
   "cell_type": "code",
   "execution_count": null,
   "source": [
    "\n",
    "def __init__(self, parameter1: int,parameter2: str,parameter3: str ,parameter4: float ):  # init  here is reffered to as \"dunder init\"\n",
    "    self.number = parameter1  \n",
    "    self.string2 = parameter3\n",
    "    self.double = parameter4\n",
    "    self.process_data()\n",
    "\n",
    "if __name__ == '__main__':  # this is known as \"dunder main\"\n",
    "    functionA()\n",
    "    functionB()"
   ],
   "outputs": [],
   "metadata": {}
  },
  {
   "cell_type": "markdown",
   "source": [
    "## Docstrings  \n",
    "- They identify the function of a block of code\n"
   ],
   "metadata": {}
  },
  {
   "cell_type": "code",
   "execution_count": null,
   "source": [
    "def exampleFunction():\n",
    "    '''This describes what this function or class does'''\n",
    "    return 1+1\n",
    "\n",
    "\n",
    "\n",
    "print(exampleFunction.__doc__)   # this prints the docstring of the function  or class"
   ],
   "outputs": [],
   "metadata": {}
  },
  {
   "cell_type": "markdown",
   "source": [
    "## Help   \n",
    "- prints any helpful statements descrbing the fucntion of the code, may include examples"
   ],
   "metadata": {}
  },
  {
   "cell_type": "code",
   "execution_count": null,
   "source": [
    "def exampleFunction():\n",
    "    '''This describes what this function or class does'''\n",
    "    return 1+1\n",
    "\n",
    "help(exampleFunction)"
   ],
   "outputs": [],
   "metadata": {}
  },
  {
   "cell_type": "markdown",
   "source": [
    "# Timing your code  \n",
    " - `timeit` vs `time.time()` , use  `timeit`  \n",
    " - timeit produces time in seconds\n"
   ],
   "metadata": {}
  },
  {
   "cell_type": "code",
   "execution_count": null,
   "source": [
    "from timeit import default_timer as timer\n",
    "\n",
    "def func1():\n",
    "    return 500*600\n",
    "\n",
    "def func2():\n",
    "    return (5*6)\n",
    "\n",
    "\n",
    "\n",
    "# timing the first function\n",
    "start = timer()\n",
    "func1()\n",
    "end = timer()\n",
    "print('Your first code took ', end-start , ' Seconds')\n",
    "\n",
    "\n",
    "# timing the first function\n",
    "start = timer()\n",
    "func2()\n",
    "end = timer()\n",
    "print('Your second code took ', end-start ,' Seconds')\n"
   ],
   "outputs": [],
   "metadata": {}
  },
  {
   "cell_type": "markdown",
   "source": [
    "## Datetime Formating"
   ],
   "metadata": {}
  },
  {
   "cell_type": "code",
   "execution_count": null,
   "source": [
    "from datetime import datetime , timedelta\n",
    "\n",
    "#TODO more examples on time delta\n",
    "\n",
    "# datetime object containing current date and time\n",
    "now = datetime.now()\n",
    " \n",
    "print(\"now =\", now)\n",
    "\n",
    "# dd/mm/YY H:M:S\n",
    "dt_string1 = now.strftime(\"%d/%m/%Y %H:%M:%S\")\n",
    "dt_string2 = now.strftime(\"%d-%m-%Y %H:%M:%S\")\n",
    "\n",
    "print(\"date and time =\", dt_string2)\t\n",
    "\n",
    "\n",
    "years_to_subtract = 365  #one year\n",
    "datetime_new = now - timedelta(days = years_to_subtract)\n",
    "print(\"After subtracting years: \", datetime_new, \"\\n\")"
   ],
   "outputs": [],
   "metadata": {}
  },
  {
   "cell_type": "markdown",
   "source": [
    "## Data Types  \n",
    "You can convert bool to int and vice versa"
   ],
   "metadata": {}
  },
  {
   "cell_type": "code",
   "execution_count": null,
   "source": [
    "print(bool(1))\n",
    "print(bool(0))\n",
    "print(int(True))   #converts the bool to an integer\n",
    "print(int(False))\n"
   ],
   "outputs": [],
   "metadata": {}
  },
  {
   "cell_type": "code",
   "execution_count": null,
   "source": [
    "# More boolean tests\n",
    "3.0>3 #False\n",
    "3.0<3 #False as well, just because the other condition is false...does not make this one true\n",
    "\n",
    "3==3.0  #True"
   ],
   "outputs": [],
   "metadata": {}
  },
  {
   "cell_type": "markdown",
   "source": [
    "## Operators"
   ],
   "metadata": {}
  },
  {
   "cell_type": "code",
   "execution_count": null,
   "source": [
    "print (11/5)  # gives a float\n",
    "print(11//5)  # gives an integer result that is rounded down"
   ],
   "outputs": [],
   "metadata": {}
  },
  {
   "cell_type": "markdown",
   "source": [
    "## Numpy\n",
    "- NumPy aims to provide an array object that is up to 50x faster than traditional Python lists.\n",
    "- NumPy is meant for creating homogeneous n-dimensional arrays (n = 1..n). Unlike Python lists, all elements of a NumPy array should be of same type.\n",
    "- NumPy uses much less memory to store data"
   ],
   "metadata": {}
  },
  {
   "cell_type": "code",
   "execution_count": null,
   "source": [
    "import numpy as np\n",
    "z =  np.zeros(10)\n",
    "print(z)\n",
    "print('\\n')\n",
    "print(z.shape)\n",
    "print('\\n')\n",
    "z.shape = (10,1)\n",
    "print(z)\n",
    "y = np.ones(10)\n",
    "print('\\n')\n",
    "print(y)"
   ],
   "outputs": [],
   "metadata": {}
  },
  {
   "cell_type": "markdown",
   "source": [
    "## Functions"
   ],
   "metadata": {}
  },
  {
   "cell_type": "code",
   "execution_count": null,
   "source": [
    "# In this example a series of functions are applied to a single value/variable\n",
    "\n",
    "def f(x):\n",
    "    return x**2\n",
    "def g(x):\n",
    "    return x**4\n",
    "def h(x):\n",
    "    return x**8\n",
    "\n",
    "\n",
    "print([func(42) for func in (f,g,h)])"
   ],
   "outputs": [],
   "metadata": {}
  },
  {
   "cell_type": "code",
   "execution_count": null,
   "source": [
    "#In this example a series of variables are applied to a single function\n",
    "#TODO simplify this function to not use the *args feature\n",
    "\n",
    "# sum of a list of integers :-\n",
    "def my_sum(x):\n",
    "     print (x**2)\n",
    "\n",
    "list1 = [3,9,12]\n",
    "\n",
    "\n",
    "print([my_sum(x) for x in list1])"
   ],
   "outputs": [],
   "metadata": {}
  },
  {
   "cell_type": "code",
   "execution_count": null,
   "source": [
    "\n",
    "\n"
   ],
   "outputs": [],
   "metadata": {}
  },
  {
   "cell_type": "markdown",
   "source": [
    "## Dash Colors   \n",
    "- also recognized in css    \n",
    "\n",
    "aliceblue, antiquewhite, aqua, aquamarine, azure,\n",
    "                beige, bisque, black, blanchedalmond, blue,\n",
    "                blueviolet, brown, burlywood, cadetblue,\n",
    "                chartreuse, chocolate, coral, cornflowerblue,\n",
    "                cornsilk, crimson, cyan, darkblue, darkcyan,\n",
    "                darkgoldenrod, darkgray, darkgrey, darkgreen,\n",
    "                darkkhaki, darkmagenta, darkolivegreen, darkorange,\n",
    "                darkorchid, darkred, darksalmon, darkseagreen,\n",
    "                darkslateblue, darkslategray, darkslategrey,\n",
    "                darkturquoise, darkviolet, deeppink, deepskyblue,\n",
    "                dimgray, dimgrey, dodgerblue, firebrick,\n",
    "                floralwhite, forestgreen, fuchsia, gainsboro,\n",
    "                ghostwhite, gold, goldenrod, gray, grey, green,\n",
    "                greenyellow, honeydew, hotpink, indianred, indigo,\n",
    "                ivory, khaki, lavender, lavenderblush, lawngreen,\n",
    "                lemonchiffon, lightblue, lightcoral, lightcyan,\n",
    "                lightgoldenrodyellow, lightgray, lightgrey,\n",
    "                lightgreen, lightpink, lightsalmon, lightseagreen,\n",
    "                lightskyblue, lightslategray, lightslategrey,\n",
    "                lightsteelblue, lightyellow, lime, limegreen,\n",
    "                linen, magenta, maroon, mediumaquamarine,\n",
    "                mediumblue, mediumorchid, mediumpurple,\n",
    "                mediumseagreen, mediumslateblue, mediumspringgreen,\n",
    "                mediumturquoise, mediumvioletred, midnightblue,\n",
    "                mintcream, mistyrose, moccasin, navajowhite, navy,\n",
    "                oldlace, olive, olivedrab, orange, orangered,\n",
    "                orchid, palegoldenrod, palegreen, paleturquoise,\n",
    "                palevioletred, papayawhip, peachpuff, peru, pink,\n",
    "                plum, powderblue, purple, red, rosybrown,\n",
    "                royalblue, saddlebrown, salmon, sandybrown,\n",
    "                seagreen, seashell, sienna, silver, skyblue,\n",
    "                slateblue, slategray, slategrey, snow, springgreen,\n",
    "                steelblue, tan, teal, thistle, tomato, turquoise,\n",
    "                violet, wheat, white, whitesmoke, yellow,\n",
    "                yellowgreen"
   ],
   "metadata": {}
  },
  {
   "cell_type": "markdown",
   "source": [
    "## TUPLES"
   ],
   "metadata": {}
  },
  {
   "cell_type": "code",
   "execution_count": null,
   "source": [
    "'''FINAL ASSIGNMENT\n",
    "In this assignment Read data from  a text file, load it into python, \n",
    "parse through it line by line and  and if a line starts with 'From' ,\n",
    " then split it up by space, select the 5 string in the line, then split that by \n",
    " colon, then select the first part of that string then add it to a dictionary \n",
    " along with the number of times it shows up in the entire document,essentially \n",
    " creating a histogram'''\n",
    "\n",
    "counts = dict()\n",
    "#name = input(\"Enter file:\")\n",
    "#if len(name) < 1 : name = \"mbox-short.txt\"\n",
    "#handle = open(name)\n",
    "handle = open(\"mbox-short.txt\")\n",
    "for line in handle:\n",
    "    if line.startswith('From '):\n",
    "        selectedLine = line.split()\n",
    "        #print(selectedLine)\n",
    "        lineSelected = selectedLine[5]\n",
    "        hourSplit = lineSelected.split(':')\n",
    "        hourString = hourSplit[0]\n",
    "        #print(hourString)\n",
    "        counts[hourString] = counts.get(hourString, 0) + 1    # assigns a value to a dictionary\n",
    "\n",
    "#print(counts)\n",
    "#sortedString = (sorted ([(k,v)for k,v in counts.items()]))\n",
    "\n",
    "for k,v in sorted ([(k,v)for k,v in counts.items()]):\n",
    "    \n",
    "    print(k,v)\n"
   ],
   "outputs": [],
   "metadata": {}
  },
  {
   "cell_type": "code",
   "execution_count": null,
   "source": [
    "jack,jill = (1,2)\n",
    "print(jill)\n",
    "\n",
    "tupleList = [(1,2,3),(4,5,6)]\n",
    "print(tupleList)\n",
    "\n",
    "if (1,2,3) in tupleList:\n",
    "    print(True)"
   ],
   "outputs": [],
   "metadata": {}
  },
  {
   "cell_type": "markdown",
   "source": [
    "# Dictionaries\n"
   ],
   "metadata": {}
  },
  {
   "cell_type": "code",
   "execution_count": null,
   "source": [
    "\n",
    "'''Regular Dictionaries'''\n",
    "# Python dictionary method setdefault() is similar to get(), but will set dict[key]=default if key is not already in dict.\n",
    "\n",
    "nameDict = {'Name': 'Zara', 'Age': 7} # curley braces  [] () {}\n",
    "print (\"Value : %s\" %  nameDict.setdefault('Age', None) ) # age cannot be defaulted to #\"none\"  because it already has a value\n",
    "print (\"Value : %s\" %  nameDict.setdefault('Sex', None)) #sex does not exist in the dictionary, thus is created automatically\n",
    "\n",
    "nameDict['message'] = 'Welcome'  #adding new values to new keys in a dictionaries\n",
    "nameDict['Name'] = 'Thompson'\n",
    "\n",
    "\n",
    "print(nameDict)\n",
    "#NB:::: Default values in a dictionary can NEVER be changed  \n"
   ],
   "outputs": [],
   "metadata": {}
  },
  {
   "cell_type": "code",
   "execution_count": null,
   "source": [
    "exampledict = (dict(item = \"coke\",price = 8, qty = 2))\n",
    "\n",
    "print(exampledict)\n",
    "\n",
    "#creating a list of dictionaries\n",
    "\n",
    "cart = []\n",
    "cart.append(dict(item=\"Coke\", price=8, qty=2))\n",
    "cart.append(dict(item=\"Cake\", price=12, qty=1))\n",
    "cart.append(dict(item=\"Fish\", price=32, qty=4))\n",
    "\n",
    "print(\"Now printing a list of dictionaries\")\n",
    "print(cart)\n"
   ],
   "outputs": [],
   "metadata": {}
  },
  {
   "cell_type": "code",
   "execution_count": null,
   "source": [
    "'''Nested Dictionaries'''\n",
    "import json \n",
    "\n",
    "people = {1: {'name': 'John', 'age': '27', 'sex': 'Male'},\n",
    "          2: {'name': 'Marie', 'age': '22', 'sex': 'Female'}}\n",
    "\n",
    "#Actually looks like this:-\n",
    "'''\n",
    "{\n",
    "    \"1\": {\n",
    "        \"age\": \"27\",\n",
    "        \"name\": \"John\",\n",
    "        \"sex\": \"Male\"\n",
    "    },\n",
    "    \"2\": {\n",
    "        \"age\": \"22\",\n",
    "        \"name\": \"Marie\",\n",
    "        \"sex\": \"Female\"\n",
    "    }\n",
    "}\n",
    "\n",
    "'''\n",
    "#print(people)\n",
    "#print(people[1]['name'])  # prints John from Above\n",
    "\n",
    "print(json.dumps(people,sort_keys=True,default=str,indent=4))\n",
    "\n",
    "#sometimes\n",
    "\n",
    "\n",
    "# there is a way to prgrammatically iterate through all the dictionary keys and print all available values\n",
    "# add box brackets to the print statments so that they look like :-\n",
    "# response['Reservations'][3]['Instances'][0]['ImageId']"
   ],
   "outputs": [],
   "metadata": {}
  },
  {
   "cell_type": "markdown",
   "source": [
    "# CLASSES"
   ],
   "metadata": {}
  },
  {
   "cell_type": "code",
   "execution_count": null,
   "source": [
    "class ExampleClass:\n",
    "    '''This is a good template for allowing one to practice with classes'''\n",
    "    exampleVar1 = 32  # Class variable\n",
    "    exampleVar2 = 45\n",
    "    exampleVar3 = \"IamVariable\"\n",
    "    def __init__(self, parameter1: int,parameter2: str,parameter3: str ,parameter4: float ):   # any placeholder here in this constructor is called a parameter\n",
    "        self.number = parameter1   # self.name is an instance variable\n",
    "        self.string1 = parameter2\n",
    "        self.string2 = parameter3\n",
    "        self.double = parameter4\n",
    "        self.process_data()\n",
    "\n",
    "    def process_data(self):\n",
    "        '''Multiplies the Values of the class variables with  a vlaue of the instance variable'''\n",
    "        print(self.exampleVar1*self.exampleVar2*self.number)\n",
    "\n",
    "    def __str__(self):   # if you don't put this method then an actual instance memory point of the instance will be printed when you use \"print\"\n",
    "        return 'Your values are number {} with word {} and word {} and number {}.' .format(self.number,self.string1,self.string2,self.double)  \n",
    "\n",
    "                \n",
    "#We just randomly generate some values to feed into the class, these variables are refered to as \"arguaments\" if used in a function call/method call/class call\n",
    "argument1 = 1\n",
    "argument2 = 'Hello'\n",
    "argument3 = 'world'\n",
    "argument4 = 2.0\n",
    "\n",
    "ExampleInstance = ExampleClass(argument1,argument2,argument3,argument4)\n",
    "\n",
    "\n",
    "print(ExampleInstance)  # print the string in the method  \"__str__\""
   ],
   "outputs": [],
   "metadata": {}
  },
  {
   "cell_type": "markdown",
   "source": [
    "## Sorting using lambda"
   ],
   "metadata": {}
  },
  {
   "cell_type": "code",
   "execution_count": null,
   "source": [
    "#Recal this simple sorting example using lambda\n",
    "\n",
    "L = [\"Cherry\", \"Apple\", \"Blueberry\"]\n",
    "\n",
    "print(sorted(L, key=len))\n",
    "#alternative form using lambda, if you find that easier to understand\n",
    "print(sorted(L, key= lambda x: len(x)))\n"
   ],
   "outputs": [],
   "metadata": {}
  },
  {
   "cell_type": "markdown",
   "source": [],
   "metadata": {}
  },
  {
   "cell_type": "code",
   "execution_count": null,
   "source": [
    "import sys\n",
    "print (\"This is the name of the script: \", sys.argv[0])\n",
    "print (\"Number of arguments: \", len(sys.argv))\n",
    "print (\"The arguments are: \" , str(sys.argv))\n"
   ],
   "outputs": [],
   "metadata": {}
  },
  {
   "cell_type": "code",
   "execution_count": null,
   "source": [
    "import sys\n",
    "\n",
    "#test.py arg1 arg2 arg3 =  sys.argv\n",
    "#Number of arguments: 4 arguments.\n",
    "sys.argv = ['test.py', 'arg1', 'arg2', 'arg3']\n",
    "print (\"Number of arguments:\", len(sys.argv), \"arguments\")\n",
    "print (\"Argument List:\", str(sys.argv))"
   ],
   "outputs": [],
   "metadata": {}
  },
  {
   "cell_type": "markdown",
   "source": [
    "## Query Class Practice "
   ],
   "metadata": {}
  },
  {
   "cell_type": "code",
   "execution_count": null,
   "source": [
    "from pathlib import path\n",
    "import QueryDataToFile  # custom created library to \n",
    "\n",
    "Task1 = \"example pull_v1\"\n",
    "var1 =\n",
    "class PracticeQuery:\n",
    "    '''Main class invalid'''\n",
    "    def __init__(self):\n",
    "        self.query = 'SELECT column1, column2',\n",
    "        'column3',\n",
    "        'FROM myTable'\n",
    "        self.files = {'results': str(path.cwd())+ '\\\\results.csv',\n",
    "                      'procesedFile': str(path.cwd())+ '\\\\results.csv'}\n",
    "        self.tasks = [self.query_data,self.process_data]\n",
    "\n",
    "        self.query_data()\n",
    "\n",
    "        def query_data(self):\n",
    "            '''Pull data from  database'''\n",
    "            print(\"for \",Task1 \"Pulling data from \", var1\" Database\")\n",
    "            #put data into csv file in this line\n",
    "            def process_data(self):\n",
    "                '''Process the data'''\n",
    "                1+1\n",
    "\n",
    "\n",
    "        "
   ],
   "outputs": [],
   "metadata": {}
  },
  {
   "cell_type": "code",
   "execution_count": null,
   "source": [
    "\r\n",
    "def square(x):\r\n",
    "    '''raise x to the second power'''\r\n",
    "    return x*x\r\n",
    "\r\n",
    "\r\n",
    "import test\r\n",
    "print('testing square function')\r\n",
    "test.testEqual(square(9),100)\r\n"
   ],
   "outputs": [],
   "metadata": {}
  },
  {
   "cell_type": "code",
   "execution_count": null,
   "source": [
    "x = \"hello\"\r\n",
    "\r\n",
    "#if condition returns True, then nothing happens:\r\n",
    "assert x == \"hello\"\r\n",
    "\r\n",
    "#if condition returns False, AssertionError is raised:\r\n",
    "assert x == \"goodbye\""
   ],
   "outputs": [],
   "metadata": {}
  },
  {
   "cell_type": "code",
   "execution_count": null,
   "source": [
    "l= [1,2,3]\r\n",
    "\r\n",
    "for item in l:\r\n",
    "    print('haha')"
   ],
   "outputs": [],
   "metadata": {}
  },
  {
   "cell_type": "markdown",
   "source": [
    "## REGEX :Regular Expressions"
   ],
   "metadata": {}
  },
  {
   "cell_type": "code",
   "execution_count": null,
   "source": [
    "'j{1,3}'  # Match 1 to 3 values of j"
   ],
   "outputs": [],
   "metadata": {}
  },
  {
   "cell_type": "markdown",
   "source": [
    "## Exceptions  \r\n",
    "- Exceptions are often defined as being “errors” but this is not always the case. All errors in Python are dealt with using exceptions, \"but not all exceptions are errors\"."
   ],
   "metadata": {}
  },
  {
   "cell_type": "code",
   "execution_count": 1,
   "source": [
    "x = 10\r\n",
    "if x > 5:\r\n",
    "    raise Exception('x should not exceed 5. The value of x was: {}'.format(x))"
   ],
   "outputs": [
    {
     "output_type": "error",
     "ename": "Exception",
     "evalue": "x should not exceed 5. The value of x was: 10",
     "traceback": [
      "\u001b[1;31m---------------------------------------------------------------------------\u001b[0m",
      "\u001b[1;31mException\u001b[0m                                 Traceback (most recent call last)",
      "\u001b[1;32m<ipython-input-1-d5a026806fe9>\u001b[0m in \u001b[0;36m<module>\u001b[1;34m\u001b[0m\n\u001b[0;32m      1\u001b[0m \u001b[0mx\u001b[0m \u001b[1;33m=\u001b[0m \u001b[1;36m10\u001b[0m\u001b[1;33m\u001b[0m\u001b[1;33m\u001b[0m\u001b[0m\n\u001b[0;32m      2\u001b[0m \u001b[1;32mif\u001b[0m \u001b[0mx\u001b[0m \u001b[1;33m>\u001b[0m \u001b[1;36m5\u001b[0m\u001b[1;33m:\u001b[0m\u001b[1;33m\u001b[0m\u001b[1;33m\u001b[0m\u001b[0m\n\u001b[1;32m----> 3\u001b[1;33m     \u001b[1;32mraise\u001b[0m \u001b[0mException\u001b[0m\u001b[1;33m(\u001b[0m\u001b[1;34m'x should not exceed 5. The value of x was: {}'\u001b[0m\u001b[1;33m.\u001b[0m\u001b[0mformat\u001b[0m\u001b[1;33m(\u001b[0m\u001b[0mx\u001b[0m\u001b[1;33m)\u001b[0m\u001b[1;33m)\u001b[0m\u001b[1;33m\u001b[0m\u001b[1;33m\u001b[0m\u001b[0m\n\u001b[0m",
      "\u001b[1;31mException\u001b[0m: x should not exceed 5. The value of x was: 10"
     ]
    }
   ],
   "metadata": {}
  },
  {
   "cell_type": "markdown",
   "source": [
    "## Assertions vs Exceptions\r\n",
    "- Assertions are intended to be used solely as a means of detecting programming errors, aka bugs. By contrast, an exception can indicate other kinds of error or \"exceptional\" condition; e.g. invalid user input, missing files, heap full and so on.  "
   ],
   "metadata": {}
  },
  {
   "cell_type": "code",
   "execution_count": null,
   "source": [
    "gold = {\"US\":46, \"Fiji\":1, \"Great Britain\":27, \"Cuba\":5, \"Thailand\":2, \"China\":26, \"France\":10}\r\n",
    "country = [\"Fiji\", \"Chile\", \"Mexico\", \"France\", \"Norway\", \"US\"]\r\n",
    "country_gold = []\r\n",
    "\r\n",
    "for x in country:\r\n",
    "    country_gold.append(gold[x])\r\n",
    "    country_gold.append(\"Did not get gold\")\r\n"
   ],
   "outputs": [],
   "metadata": {}
  },
  {
   "cell_type": "code",
   "execution_count": null,
   "source": [
    "\r\n",
    "sport = [\"hockey\", \"basketball\", \"soccer\", \"tennis\", \"football\", \"baseball\"]\r\n",
    "\r\n",
    "ppl_play = {\"hockey\":4, \"soccer\": 10, \"football\": 15, \"tennis\": 8}\r\n",
    "\r\n",
    "for x in sport:\r\n",
    "    try:\r\n",
    "        raise Exception\r\n",
    "        print(ppl_play[x])\r\n",
    "    except Exception as e:\r\n",
    "        print('This is the exception raised ', e)\r\n",
    "        print(1)\r\n",
    "\r\n",
    "    \r\n",
    "\r\n"
   ],
   "outputs": [],
   "metadata": {}
  },
  {
   "cell_type": "markdown",
   "source": [
    "You can also force an exception to be printed by using  \n",
    "                raise Exception\n",
    "\n"
   ],
   "metadata": {}
  },
  {
   "cell_type": "code",
   "execution_count": null,
   "source": [
    "# Import Module\r\n",
    "from tkinter import *\r\n",
    " \r\n",
    "# create root window\r\n",
    "root = Tk()\r\n",
    " \r\n",
    "# root window title and dimension\r\n",
    "root.title(\"Welcome to GeekForGeeks\")\r\n",
    "# Set geometry (widthxheight)\r\n",
    "root.geometry('350x200')\r\n",
    " \r\n",
    "# all widgets will be here\r\n",
    "# Execute Tkinter\r\n",
    "root.mainloop()"
   ],
   "outputs": [],
   "metadata": {}
  },
  {
   "cell_type": "code",
   "execution_count": null,
   "source": [
    "from tkinter import *\n",
    "\n",
    "master = Tk()\n",
    "Label(master, text=\"First Name\").grid(row=0)\n",
    "Label(master, text=\"Last Name\").grid(row=1)\n",
    "\n",
    "e1 = Entry(master)\n",
    "e2 = Entry(master)\n",
    "\n",
    "e1.grid(row=0, column=1)\n",
    "e2.grid(row=1, column=1)\n",
    "\n",
    "mainloop( )"
   ],
   "outputs": [],
   "metadata": {}
  },
  {
   "cell_type": "markdown",
   "source": [
    "## Random Numbers"
   ],
   "metadata": {}
  },
  {
   "cell_type": "code",
   "execution_count": null,
   "source": [
    "import random\n",
    "\n",
    "rand_number = random.randint(1, 10)\n",
    "print('Random number between 1 and 10: {}'.format(rand_number))\n",
    "\n",
    "letters = [letter for letter in 'ABCDEFGHIJKLMNOPQRSTUVWXYZ'] #creates a list out of each letter provided\n",
    "rand_letter = random.choice(letters)  # random.choice() selects a random item from a list\n",
    "print('Random letter, from the list made up of letters: {}'.format(rand_letter))\n"
   ],
   "outputs": [],
   "metadata": {}
  },
  {
   "cell_type": "markdown",
   "source": [
    "## Class Final Project : Wheel of Fortune (To Be continued later....)"
   ],
   "metadata": {}
  },
  {
   "cell_type": "code",
   "execution_count": null,
   "source": [
    "VOWEL_COST = 250\n",
    "LETTERS = 'ABCDEFGHIJKLMNOPQRSTUVWXYZ'\n",
    "VOWELS = 'AEIOU'\n",
    "\n",
    "# Write the WOFPlayer class definition (part A) here\n",
    "\n",
    "class WOFPlayer:\n",
    "'''This is a  class that controls the  '''\n",
    "    boredom_decrement = 4\n",
    "    hunger_decrement = 6\n",
    "    boredom_threshold = 5\n",
    "    hunger_threshold = 10\n",
    "    sounds = ['Mrrp']\n",
    "    def __init__(self, name = \"Kitty\", pet_type=\"cat\"):\n",
    "    self.name = name\n",
    "    self.hunger = randrange(self.hunger_threshold)\n",
    "    self.boredom = randrange(self.boredom_threshold)\n",
    "\n",
    "# Write the WOFHumanPlayer class definition (part B) here\n",
    "\n",
    "# Write the WOFComputerPlayer class definition (part C) here\n",
    "\n"
   ],
   "outputs": [],
   "metadata": {}
  },
  {
   "cell_type": "markdown",
   "source": [
    "## Using Args\n",
    "Args are pretty much a way to pass in multiple arguments into a function"
   ],
   "metadata": {}
  },
  {
   "cell_type": "code",
   "execution_count": null,
   "source": [
    "def add(datatype, *args):\n",
    " \n",
    "    # if datatype is int\n",
    "    # initialize answer as 0\n",
    "    if datatype =='int':\n",
    "        answer = 0\n",
    "         \n",
    "    # if datatype is str\n",
    "    # initialize answer as ''\n",
    "    if datatype =='str':\n",
    "        answer =''\n",
    " \n",
    "    # Traverse through the arguments\n",
    "    for x in args:\n",
    " \n",
    "        # This will do addition if the \n",
    "        # arguments are int. Or concatenation \n",
    "        # if the arguments are str\n",
    "        answer = answer + x\n",
    " \n",
    "    print(answer)"
   ],
   "outputs": [],
   "metadata": {}
  },
  {
   "cell_type": "markdown",
   "source": [
    "## Method Overloading\n",
    "\n",
    "By Using Multiple Dispatch Decorator "
   ],
   "metadata": {}
  },
  {
   "cell_type": "code",
   "execution_count": null,
   "source": [
    "from multipledispatch import dispatch\n",
    " \n",
    "#passing one parameter\n",
    "@dispatch(int,int)\n",
    "def product(first,second):\n",
    "    result = first*second\n",
    "    print(result);\n",
    " \n",
    "#passing two parameters\n",
    "@dispatch(int,int,int)\n",
    "def product(first,second,third):\n",
    "    result  = first * second * third\n",
    "    print(result);\n",
    " \n",
    "#you can also pass data type of any value as per requirement\n",
    "@dispatch(float,float,float)\n",
    "def product(first,second,third):\n",
    "    result  = first * second * third\n",
    "    print(result);\n",
    " \n",
    " \n",
    "#calling product method with 2 arguments\n",
    "product(2,3,2) #this will give output of 12\n",
    "product(2.2,3.4,2.3) # this will give output of 17.985999999999997"
   ],
   "outputs": [],
   "metadata": {}
  },
  {
   "cell_type": "markdown",
   "source": [
    "## Map and List Comprehension\n",
    "Map: a way to attacha a function to a list  \n",
    "List Comprehension: A new way to do a for loop"
   ],
   "metadata": {}
  },
  {
   "cell_type": "code",
   "execution_count": null,
   "source": [
    "txns = [1.09, 23.56, 57.84, 4.56, 6.78]\n",
    "TAX_RATE = .08\n",
    "def get_price_with_tax(txn):\n",
    "     return txn * (1 + TAX_RATE)\n",
    "final_prices = map(get_price_with_tax, txns)\n",
    "print(list(final_prices))    # the \"list\" function needs to be used to ensure that the resultant  comes out looking correct"
   ],
   "outputs": [],
   "metadata": {}
  },
  {
   "cell_type": "code",
   "execution_count": null,
   "source": [
    "# Original for loop\n",
    "\n",
    "squares = []\n",
    "for i in range(10):\n",
    "     squares.append(i * i)\n",
    "print(squares)\n",
    "\n",
    "\n",
    "# For loop with list comprehension\n",
    "\n",
    "squares = [i * i for i in range(10)]  # perform multiplication for  each value of i in rang(10) i.e ...\n",
    "#new_list = [expression for member in iterable]\n",
    "\n",
    "print(squares)\n"
   ],
   "outputs": [],
   "metadata": {}
  },
  {
   "cell_type": "markdown",
   "source": [
    "## More List comprehension examples  \n",
    "The Syntax:-  \n",
    "newlist = [expression for item in iterable if condition == True]  \n",
    "\n"
   ],
   "metadata": {}
  },
  {
   "cell_type": "code",
   "execution_count": null,
   "source": [
    "txns = [1.09, 23.56, 57.84, 4.56, 6.78]\n",
    "TAX_RATE = .08\n",
    "def get_price_with_tax(txn):\n",
    "     return txn * (1 + TAX_RATE)\n",
    "final_prices = [get_price_with_tax(i) for i in txns]\n",
    "print(final_prices)"
   ],
   "outputs": [],
   "metadata": {}
  },
  {
   "cell_type": "code",
   "execution_count": null,
   "source": [
    "'''lists top iterate through'''\n",
    "fruits = [\"apple\", \"banana\", \"cherry\", \"kiwi\", \"mango\"]\n",
    "squares = []\n",
    "\n",
    "'''Multiple List comprehension example expressions'''\n",
    "squares = [i * i for i in range(10)]                   # Multiply i by itself for every numerical value from 0-9\n",
    "newlist1 = [x for x in fruits if \"a\" in x]             # produces all fruits with 'a' in the name\n",
    "newlist2 = [x for x in fruits if x != \"apple\"]         # produce all fruits that are not apple\n",
    "newlist3 = [x for x in fruits]                         # simply re-creates the original list\n",
    "number_list = [ x for x in range(20) if x % 2 == 0]    # For every value in range 0-19, if the remainder of the value when divided by two is zero(even number), then spit that out\n",
    "num_list = [y for y in range(100) if y % 2 == 0 if y % 5 == 0] # in a range of values from 0-99 produce a a list of values that are first divisible by 2 and then out of those, the one's divisible by 5\n",
    "newlist4 = [x for x in range(10) if x < 5]             # For every value from 0-9, produce a list of values less than 5 i.e 0-4\n",
    "\n",
    " \n",
    "'''Result of the List comprehension expressions above'''\n",
    "print(squares)\n",
    "print(newlist1)\n",
    "print(newlist2)\n",
    "print(newlist3)\n",
    "print(newlist4)\n",
    "print(number_list)\n",
    "print(num_list)\n"
   ],
   "outputs": [],
   "metadata": {}
  },
  {
   "cell_type": "markdown",
   "source": [
    "## JSON  in Python  \n",
    "It is currently agostic of any particluar programming langauge as we speak. It currently is used as a way to transport python dictionaries across different languages.There are other structures that can be tranlated back and forth from python from JSON.  \n",
    "\n",
    "                Python\t            JSON  \n",
    "                dict\t            object  \n",
    "                list,tuple\t            array    \n",
    "                str\t                    string    \n",
    "                int, long, float\t    number  \n",
    "                True\t            true  \n",
    "                False\t            false  \n",
    "                None\t            null  \n"
   ],
   "metadata": {}
  },
  {
   "cell_type": "markdown",
   "source": [
    "# Examples of a JSON Objects\n",
    "\n",
    "```\n",
    "{\n",
    "    \"people\": [\n",
    "        {\n",
    "            \"name\" : \"John Smith\",\n",
    "            \"phone\" : \"615-555-7164\",\n",
    "            \"emails\" : [\"johnsmith@bogusemail.com\",\"john.snmith@work-place.com\"],\n",
    "            \"has_license\": false\n",
    "        },\n",
    "        {\n",
    "            \"name\": \"Jane Doe\",\n",
    "            \"phone\": \"560-555-553\",\n",
    "            \"emails\": null,\n",
    "            \"has_license\": true\n",
    "        }\n",
    "    ]\n",
    "}\n",
    "```\n",
    "\n",
    "\n",
    "\n",
    "```\n",
    "{\n",
    "    \"people1\": [\n",
    "        {\n",
    "            \"name\" : \"Nikhil\",\n",
    "            \"website\" : \"gf.com\",\n",
    "            \"from\" : \"Delhi\"\n",
    "           \n",
    "        },\n",
    "        {\n",
    "            \"name\" : \"Abhinav\",\n",
    "            \"website\" : \"google.com\",\n",
    "            \"from\" : \"Mumbai\"\n",
    "        }\n",
    "    ],\n",
    "\n",
    "    \"people2\" : [\n",
    "        {\n",
    "            \"name\" : \"ansul\",\n",
    "            \"website\" : \"yahoo.com\",\n",
    "            \"from\" : \"Delaware\"\n",
    "        }\n",
    "    ]\n",
    "}\n",
    "```"
   ],
   "metadata": {}
  },
  {
   "cell_type": "markdown",
   "source": [
    "## JSON : Creating Dictionairies with JSON objects "
   ],
   "metadata": {}
  },
  {
   "cell_type": "code",
   "execution_count": null,
   "source": [
    "# In this example we created a psedo-JSON object, with  a python string\n",
    "\n",
    "import json\n",
    "\n",
    "people_string = '''\n",
    "\n",
    "{\n",
    "    \"people\": [\n",
    "        {\n",
    "            \"name\" : \"John Smith\",\n",
    "            \"phone\" : \"615-555-7164\",\n",
    "            \"emails\" : [\"johnsmith@bogusemail.com\",\"john.snmith@work-place.com\"],\n",
    "            \"has_license\": false\n",
    "        },\n",
    "        {\n",
    "            \"name\": \"Jane Doe\",\n",
    "            \"phone\": \"560-555-553\",\n",
    "            \"emails\": null,\n",
    "            \"has_license\": true\n",
    "        }\n",
    "    ]\n",
    "}\n",
    "'''\n",
    "\n",
    "data = json.loads(people_string) # this parses the JSON string into a dictionary\n",
    "\n",
    "print(data)\n",
    "print('data type is:-')\n",
    "print(type(data))\n",
    "\n",
    "#priting the dictionary :-\n",
    "\n",
    "print(json.dumps(data,sort_keys=True,default=str,indent=4))"
   ],
   "outputs": [],
   "metadata": {}
  },
  {
   "cell_type": "code",
   "execution_count": null,
   "source": [
    "## Another example\n",
    "import pandas as pd\n",
    "import json\n",
    "\n",
    "ExampleJSOnOnject = '''\n",
    "{\n",
    "    \"people0\": [\n",
    "        {\n",
    "            \"name\" : \"John Smith\",\n",
    "            \"phone\" : \"615-555-7164\",\n",
    "            \"emails\" : [\"johnsmith@bogusemail.com\",\"john.snmith@work-place.com\"],\n",
    "            \"has_license\": false\n",
    "        },\n",
    "        {\n",
    "            \"name\": \"Jane Doe\",\n",
    "            \"phone\": \"560-555-553\",\n",
    "            \"emails\": null,\n",
    "            \"has_license\": true\n",
    "        }\n",
    "    ],\n",
    "\n",
    "\n",
    "    \"people1\": [\n",
    "        {\n",
    "            \"name\" : \"Nikhil\",\n",
    "            \"website\" : \"gf.com\",\n",
    "            \"from\" : \"Delhi\"\n",
    "           \n",
    "        },\n",
    "        {\n",
    "            \"name\" : \"Abhinav\",\n",
    "            \"website\" : \"google.com\",\n",
    "            \"from\" : \"Mumbai\"\n",
    "        }\n",
    "    ],\n",
    "\n",
    "    \"people2\" : [\n",
    "        {\n",
    "            \"name\" : \"ansul\",\n",
    "            \"website\" : \"yahoo.com\",\n",
    "            \"from\" : \"Delaware\"\n",
    "        }\n",
    "    ]\n",
    "} \n",
    "'''\n",
    "data = json.loads(ExampleJSOnOnject)\n",
    "df = pd.(data)\n",
    "df\n"
   ],
   "outputs": [],
   "metadata": {}
  },
  {
   "cell_type": "code",
   "execution_count": null,
   "source": [
    "## Example 3\n",
    "import pandas as pd\n",
    "import plotly.express as px\n",
    "\n",
    "url = 'http://api.open-notify.org/iss-now.json'\n",
    "\n",
    "df = pd.read_json(url)\n",
    "df['latitude'] = df.loc['latitude', 'iss_position']\n",
    "df['longitude'] = df.loc['longitude', 'iss_position']\n",
    "df.reset_index(inplace = True)\n",
    "df = df.drop(['index','message'], axis = 1)\n",
    "fig = px.scatter_geo(df,lat = 'latitude',lon = 'longitude')\n",
    "fig.show()\n"
   ],
   "outputs": [],
   "metadata": {}
  },
  {
   "cell_type": "code",
   "execution_count": null,
   "source": [
    "# In this example we instead use a JSON object that has already been created for us\n",
    "\n",
    "import json\n",
    "\n",
    "with open(r'C:\\Users\\Burudani\\Documents\\mainPythonFolder_v1\\JSON\\dictData2.json') as json_file:\n",
    "    data = json.loads(json_file.read()) # this parses the JSON string, NB need to use the .read() method\n",
    "\n",
    "    print(data)\n",
    "    print('data type is:-')\n",
    "    print(type(data))\n",
    "\n",
    "# You can also print/extract specific pieces of data from the object\n",
    "    print(\"\\nPeople1:\", data['people1'])\n",
    "    print(\"\\nPeople2:\", data['people2'])"
   ],
   "outputs": [],
   "metadata": {}
  },
  {
   "cell_type": "code",
   "execution_count": null,
   "source": [
    "import pandas as pd\n",
    "import numpy as np\n",
    "# Pass a 2D numpy array - each row is the corresponding row required in the dataframe\n",
    "\n",
    "data = np.array([[1,\"toyota\",\"corolla\",\"TOYOTA\",\"corolla\"], \n",
    "                 [2,\"honda\",\"civic\",\"lamborghini\",\"sinata\"], \n",
    "                 [1,\"hyndai\",\"accent car\",\"hyndaisera\",\"accent car\"], \n",
    "                 [1,\"nissan\",\"sentra\",\"maserati\",\"dishenco\"],\n",
    "                 [2,\"honda\",\"Odessey\",\"porshe\",\"cayane\"],\n",
    "                 [1,\"Tesla\",\"model\",\"tesla mode3\",\"tesla\"]])   # testing reversal of data\n",
    "\n",
    "#TODO try using contains and test for backward macthes\n",
    "\n",
    "# pass column names in the columns parameter \n",
    "df = pd.DataFrame(data, columns = ['year', 'make1','model1','make2','model2'])\n",
    "\n",
    "print(df)\n",
    "#df['extrcolumn'] = df['model'].str.upper()\n",
    "#dftest1 = df.loc[(df['make1'] == 'honda')]\n",
    "#dftest1 = (df.loc[(df['make1'] == 'honda')] or df.loc[(df['model1'] == df['model2'])])\n",
    "#dftest1 = df['make1'] == 'honda'\n",
    "\n",
    "print('\\n')\n",
    "\n",
    "print(df[\"model2\"].str.split(\" \", n = 1, expand = False)==(df[\"model1\"].str.split(\" \", n = 1, expand = False)))"
   ],
   "outputs": [],
   "metadata": {}
  },
  {
   "cell_type": "code",
   "execution_count": null,
   "source": [
    "\n",
    "#df = df.assign(model2='Expenses')\n",
    "\n",
    "#df.loc[:,'model2'] = str('Expenses')\n",
    "\n",
    "\n",
    "#df['model2'] = 'Expenditure'\n",
    "checkList = ['toy','hyndai']\n",
    "checkListUppercase = [x.upper() for x in checkList]\n",
    "#if(row.make1.upper() in checkListUppercase):\n",
    "\n",
    "def NameReplacer(row):\n",
    "    \n",
    "    for item in checkListUppercase:\n",
    "        if(item in row.make1.upper()):\n",
    "\n",
    "            return item\n",
    "\n",
    "\n",
    "df.loc[:, 'Transaction'] = df.apply(NameReplacer, axis = 1)\n",
    "\n",
    "df.modelchecker.fillna(value=np.nan, inplace=True)   # replaces nNone values with NaN values\n",
    "\n",
    "df['Transaction'] = df['Transaction'].fillna('Expenditure')  # this allows you to now replace the NaN values with anything you want\n",
    "#df['modelchecker'].replace(NaN, \"\", inplace=True)\n",
    "\n",
    "#df['Match_Tester'] = df.apply(lambda errorDetector : df, axis = 1)\n",
    "print(df)"
   ],
   "outputs": [],
   "metadata": {}
  },
  {
   "cell_type": "code",
   "execution_count": null,
   "source": [
    "class ModifyMyDf:\n",
    "\n",
    "\n",
    "    #def__init__(self):\n",
    "\n",
    "\n",
    "\n",
    "    def errorDetector(row):\n",
    "    \n",
    "        if ((row.year == '2') or   #CHeck if the year is equal to 2\n",
    "        (row.make1.upper() == row.make2.upper() and row.model1.upper() == row.model2.upper()) or \n",
    "        (row.make1.upper() == row.model2.upper() and row.model1.upper() == row.make2.upper())):  # check if columns match in reverse\n",
    "        #if ((row.year == '2') or (row.make1.str.upper() == row.make2.str.upper() & row.model1 in (row.model2)))   \n",
    "            return \"Match\"\n",
    "    \n",
    "        else:\n",
    "            return \"No Match\"\n",
    "\n",
    "    #if (row.year == '2' | (row.make1.str.upper() == row.make2.str.upper() & row.model1.isin(row.model2)))\n",
    "\n",
    "    #(row.make1.upper() == row.model2.upper() and row.model1.upper() == row.make2.upper())\n",
    "\n",
    "    def runMyprogram():\n",
    "        #df.loc[:, 'Match Tester'] = df.apply(errorDetector, axis = 1)\n",
    "        df['Match_Tester'] = df.apply(lambda errorDetector : df, axis = 1)\n",
    "    #df['Discounted_Price'] = df.apply(fun)\n",
    "        print(df)\n",
    "    runMyprogram()\n",
    "\n",
    "ModifyMyDf()"
   ],
   "outputs": [],
   "metadata": {}
  },
  {
   "cell_type": "code",
   "execution_count": null,
   "source": [
    "#df['extrcolumn'] = df['model'].str.upper()\n",
    "#dftest1 = df.loc[(df['make1'] == 'honda')]\n",
    "#dftest1 = (df.loc[(df['make1'] == 'honda')] or df.loc[(df['model1'] == df['model2'])])\n",
    "#dftest1 = df['make1'] == 'honda'\n",
    "dftest1 = df.query('year == \"2\" or (make1.str.upper() == make2.str.upper() and model1.isin(model2))')\n",
    "\n",
    "\n",
    "\n",
    "print('\\n')\n",
    "print(dftest1)"
   ],
   "outputs": [],
   "metadata": {}
  },
  {
   "cell_type": "code",
   "execution_count": null,
   "source": [
    "# sum_integers_list.py\n",
    "def my_sum(my_integers):\n",
    "    result = 0\n",
    "    for x in my_integers:\n",
    "        result += x\n",
    "    return result\n",
    "\n",
    "list_of_integers = [1, 2, 3]\n",
    "print(my_sum(list_of_integers))"
   ],
   "outputs": [],
   "metadata": {}
  },
  {
   "cell_type": "code",
   "execution_count": null,
   "source": [
    "# sum_integers_args.py\n",
    "def my_sum(*args):\n",
    "    result = 0\n",
    "    # Iterating over the Python args tuple\n",
    "    for x in args:\n",
    "        result += x\n",
    "    return result\n",
    "\n",
    "print(my_sum(1, 2, 3))"
   ],
   "outputs": [],
   "metadata": {}
  },
  {
   "cell_type": "markdown",
   "source": [
    "## The  \"*args\" oprator allows you to enter an undetermined number of arguments to the funtion  \n",
    "The star(*) is known as the unpacking operator (*)  \n",
    "\n",
    "-Use cases adding a list of numbers which changes dynamically each time the function is called"
   ],
   "metadata": {}
  },
  {
   "cell_type": "code",
   "execution_count": null,
   "source": [
    "# sum of a list of integers :-\n",
    "def my_sum(*args):\n",
    "    result = 0\n",
    "    for x in args:\n",
    "        result += x\n",
    "    return result\n",
    "\n",
    "list1 = [1, 2, 3]\n",
    "list2 = [4, 5]\n",
    "list3 = [6, 7, 8, 9]\n",
    "\n",
    "print(my_sum(*list1, *list2, *list3))"
   ],
   "outputs": [],
   "metadata": {}
  },
  {
   "cell_type": "markdown",
   "source": [
    "## The \"**kwargs\" oprator allows you to enter an undetermined number of \"keyword/named\" arguments to the funtion"
   ],
   "metadata": {}
  },
  {
   "cell_type": "code",
   "execution_count": null,
   "source": [
    "# concatenate.py\n",
    "def concatenate(**kwargs):\n",
    "    result = \"\"\n",
    "    # Iterating over the Python kwargs dictionary\n",
    "    for arg in kwargs.values():\n",
    "        result += arg\n",
    "    return result\n",
    "\n",
    "print(concatenate(a=\"Real\", b=\"Python\", c=\"Is\", d=\"Great\", e=\"!\"))"
   ],
   "outputs": [],
   "metadata": {}
  },
  {
   "cell_type": "markdown",
   "source": [
    "## Generators *Advanced*\n",
    "- They are special functions that do not store contents in memory\n",
    "- Useful for optimizing the processing of large data sets\n",
    "- Instead of loading a file to memory it opens up the file then iterates while performing calculations then returns a results\n",
    "\n"
   ],
   "metadata": {}
  },
  {
   "cell_type": "code",
   "execution_count": null,
   "source": [
    "def csv_reader(file_name):\n",
    "    for row in open(file_name, \"r\"):\n",
    "        yield row "
   ],
   "outputs": [],
   "metadata": {}
  },
  {
   "cell_type": "code",
   "execution_count": null,
   "source": [
    "string1 = 'hector'\n",
    "string2 = 'HECTOR'\n",
    "\n",
    "if (string1.upper() == string2.upper()):\n",
    "     print('they are the same')\n",
    "     string1=string1.upper()\n",
    "     print(string1)\n",
    "else:\n",
    "    print('they are not the same')\n"
   ],
   "outputs": [],
   "metadata": {}
  },
  {
   "cell_type": "markdown",
   "source": [
    "## Argeparse  \n",
    "\n",
    "A python module for allowing your program to recieve arguemnts in the command line. The argparse module makes it easy to write user-friendly command-line interfaces. Think Linux command line\n"
   ],
   "metadata": {}
  },
  {
   "cell_type": "code",
   "execution_count": null,
   "source": [
    "from tkinter import *\n",
    "\n",
    "root = Tk()\n",
    "frame = Frame(root)\n",
    "frame.pack()\n",
    "\n",
    "bottomframe = Frame(root)\n",
    "bottomframe.pack( side = BOTTOM )\n",
    "\n",
    "redbutton = Button(frame, text=\"Red\", fg=\"red\")\n",
    "redbutton.pack( side = LEFT)\n",
    "\n",
    "greenbutton = Button(frame, text=\"Brown\", fg=\"brown\")\n",
    "greenbutton.pack( side = LEFT )\n",
    "\n",
    "bluebutton = Button(frame, text=\"Blue\", fg=\"blue\")\n",
    "bluebutton.pack( side = LEFT )\n",
    "\n",
    "blackbutton = Button(bottomframe, text=\"Black\", fg=\"black\")\n",
    "blackbutton.pack( side = BOTTOM)\n",
    "\n",
    "root.mainloop()"
   ],
   "outputs": [],
   "metadata": {}
  },
  {
   "cell_type": "code",
   "execution_count": null,
   "source": [
    "\n",
    "marks = {'Physics':67, 'Maths':87}\n",
    "internal_marks = {'Physics':68}\n",
    "\n",
    "#marks.update(internal_marks)\n",
    "marks['Physics'] +=1\n",
    "\n",
    "\n",
    "print(marks)\n",
    "\n",
    "# Output: {'Physics': 67, 'Maths': 87, 'Practical': 48}"
   ],
   "outputs": [],
   "metadata": {}
  }
 ],
 "metadata": {
  "interpreter": {
   "hash": "106f8dd8e7b9f8bf7b5c7f9387976efaa64fd1db7ebf679a5786be21993f005a"
  },
  "kernelspec": {
   "name": "python3",
   "display_name": "Python 3.8.5 64-bit ('rwakiPythonEnv': conda)"
  },
  "language_info": {
   "codemirror_mode": {
    "name": "ipython",
    "version": 3
   },
   "file_extension": ".py",
   "mimetype": "text/x-python",
   "name": "python",
   "nbconvert_exporter": "python",
   "pygments_lexer": "ipython3",
   "version": "3.8.5"
  }
 },
 "nbformat": 4,
 "nbformat_minor": 2
}