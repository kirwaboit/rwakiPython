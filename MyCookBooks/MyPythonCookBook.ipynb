{
 "cells": [
  {
   "cell_type": "markdown",
   "metadata": {
    "tags": []
   },
   "source": [
    "# Welcome to My Python CookBook\n",
    "---\n",
    "\n",
    "## To run a cell use `ctrl+enter`  or `shift enter`  \n",
    "To use spell checker plugin use either:-  \n",
    "- ctrl+.  \n",
    "- click the lighbulb to see options  \n",
    "\n",
    "\n"
   ]
  },
  {
   "cell_type": "markdown",
   "metadata": {},
   "source": [
    "## Best Practices and tricks\n",
    "- In Vscode you can compare two pieces of code side by side , and show what  has changed between the two pieces of code\n",
    "- Modularize your code, so you have small bite size chunks to deal with\n",
    "- As you modularize your code , add tests so that it does not break when servicing other programs it is used in\n",
    "- You CAN use a range of values in a list, helps reduce size of code e.g :-  \n",
    " `ListwithRange = [0,1,3 *range(4,9,1), 9,10,*range(11,15,1)]`"
   ]
  },
  {
   "cell_type": "markdown",
   "metadata": {},
   "source": [
    "\n",
    "## Using the windows \"tree command\"    \n",
    "NB: Using /f suffix shows the files within the folders too!!! BUT makes the tree very long!!   \n",
    "\n",
    "e.g for  C:\\Users\\Burudani\\Documents\\mainPythonFolder_v1  \n",
    "\n",
    "we type:-      \n",
    "\n",
    "`tree C:\\Users\\Burudani\\Documents\\mainPythonFolder_v1`  \n",
    "\n",
    "we get:-  \n",
    "\n",
    "```\n",
    "C:\\Users\\Burudani>tree C:\\Users\\Burudani\\Documents\\mainPythonFolder_v1\n",
    "Folder PATH listing\n",
    "Volume serial number is 00000068 4462:DDC7\n",
    "C:\\USERS\\BURUDANI\\DOCUMENTS\\MAINPYTHONFOLDER_V1\n",
    "├───.ipynb_checkpoints\n",
    "├───.vscode\n",
    "├───AWS Boto3\n",
    "├───dash-sample-apps\n",
    "├───Databases\n",
    "├───ExcelFiles\n",
    "├───MypythonPracticeFiles\n",
    "├───SalesForce\n",
    "├───Terraform\n",
    "│   ├───US-East-1\n",
    "│   │   ├───EC2\n",
    "│   │   ├───Elas\n",
    "│   │   └───VPC\n",
    "│   └───US-West-2\n",
    "└───__pycache__\n",
    "\n",
    "```\n",
    "\n",
    "\n"
   ]
  },
  {
   "cell_type": "markdown",
   "metadata": {},
   "source": [
    "## using pip\n",
    "\n",
    "at cli type\n",
    "\n",
    "pip --version\n",
    "\n",
    "pip -- help\n",
    "\n",
    "## updating pip  , based on your anaconda python install\n",
    "\n",
    "## updating a package in pip\n",
    "\n",
    "pip install plotly --upgrade\n",
    "pip install matplotlib --upgrade \n"
   ]
  },
  {
   "cell_type": "markdown",
   "metadata": {},
   "source": [
    "## Python REPL  \n",
    "\n",
    "Starting python starts an interactive <span style=\"color:green\">Read-Eval-Print Loop (REPL) environment</span> . That simply means starting up the interpreter and typing commands to it directly. \n"
   ]
  },
  {
   "cell_type": "markdown",
   "metadata": {},
   "source": [
    "\n",
    "- <span style=\"color:orange\">Reads</span> the command you enter\n",
    "- <span style=\"color:orange\">Evaluates</span> and executes the command\n",
    "- <span style=\"color:orange\">Prints</span> the output (if any) to the console\n",
    "- <span style=\"color:orange\">Loops</span> back and repeats the process  \n",
    "\n",
    "It typically opens up in command prompt(windows), or Terminal(Linux/Mac).It allows you to write python code, see output messages and error messages."
   ]
  },
  {
   "cell_type": "markdown",
   "metadata": {},
   "source": [
    "## The Zen of Python"
   ]
  },
  {
   "cell_type": "code",
   "execution_count": 1,
   "metadata": {},
   "outputs": [
    {
     "name": "stdout",
     "output_type": "stream",
     "text": [
      "The Zen of Python, by Tim Peters\n",
      "\n",
      "Beautiful is better than ugly.\n",
      "Explicit is better than implicit.\n",
      "Simple is better than complex.\n",
      "Complex is better than complicated.\n",
      "Flat is better than nested.\n",
      "Sparse is better than dense.\n",
      "Readability counts.\n",
      "Special cases aren't special enough to break the rules.\n",
      "Although practicality beats purity.\n",
      "Errors should never pass silently.\n",
      "Unless explicitly silenced.\n",
      "In the face of ambiguity, refuse the temptation to guess.\n",
      "There should be one-- and preferably only one --obvious way to do it.\n",
      "Although that way may not be obvious at first unless you're Dutch.\n",
      "Now is better than never.\n",
      "Although never is often better than *right* now.\n",
      "If the implementation is hard to explain, it's a bad idea.\n",
      "If the implementation is easy to explain, it may be a good idea.\n",
      "Namespaces are one honking great idea -- let's do more of those!\n"
     ]
    }
   ],
   "source": [
    "import this"
   ]
  },
  {
   "cell_type": "markdown",
   "metadata": {},
   "source": [
    "## Exiting in your code"
   ]
  },
  {
   "cell_type": "code",
   "execution_count": 2,
   "metadata": {},
   "outputs": [
    {
     "ename": "ValueError",
     "evalue": "Exitting code here for debugging purposes",
     "output_type": "error",
     "traceback": [
      "\u001b[1;31m---------------------------------------------------------------------------\u001b[0m",
      "\u001b[1;31mValueError\u001b[0m                                Traceback (most recent call last)",
      "\u001b[1;32m<ipython-input-2-e30b1a66a78f>\u001b[0m in \u001b[0;36m<module>\u001b[1;34m\u001b[0m\n\u001b[0;32m      1\u001b[0m \u001b[1;31m#simply use\u001b[0m\u001b[1;33m\u001b[0m\u001b[1;33m\u001b[0m\u001b[0m\n\u001b[0;32m      2\u001b[0m \u001b[1;33m\u001b[0m\u001b[0m\n\u001b[1;32m----> 3\u001b[1;33m \u001b[1;32mraise\u001b[0m \u001b[0mValueError\u001b[0m\u001b[1;33m(\u001b[0m\u001b[1;34m'Exitting code here for debugging purposes'\u001b[0m\u001b[1;33m)\u001b[0m\u001b[1;33m\u001b[0m\u001b[1;33m\u001b[0m\u001b[0m\n\u001b[0m\u001b[0;32m      4\u001b[0m \u001b[1;33m\u001b[0m\u001b[0m\n",
      "\u001b[1;31mValueError\u001b[0m: Exitting code here for debugging purposes"
     ]
    }
   ],
   "source": [
    "#simply use\n",
    "\n",
    "# this is good because it will NOT kill your Kernel\n",
    "\n",
    "raise ValueError('Exitting code here for debugging purposes')\n",
    "\n"
   ]
  },
  {
   "cell_type": "code",
   "execution_count": null,
   "metadata": {},
   "outputs": [],
   "source": [
    "columns = [0,1,3 *range(4,9,1), 9,10,*range(11,15,1)]"
   ]
  },
  {
   "cell_type": "markdown",
   "metadata": {},
   "source": [
    "## Strings"
   ]
  },
  {
   "cell_type": "code",
   "execution_count": 2,
   "metadata": {},
   "outputs": [
    {
     "name": "stdout",
     "output_type": "stream",
     "text": [
      "This is good way to combine a string and a variable e.g: 35 and jambo ty\n",
      "3\n",
      "2\n"
     ]
    }
   ],
   "source": [
    "var1 = 35\n",
    "var2 = 'jambo'\n",
    "#string .format() method to print string with variables!\n",
    "print('This is good way to combine a string and a variable e.g: {} and {} ty'.format(var1,var2))\n",
    "\n",
    "#using 'count' to see how many times a specified string occurs in a larger string\n",
    "myString = 'HeLLo, WorLd! 123'\n",
    "print(myString.count('L')) # ans will be 3\n",
    "\n",
    "s = 'python is pythonic'\n",
    "print(s.count('python')) # ans will be 2"
   ]
  },
  {
   "cell_type": "markdown",
   "metadata": {},
   "source": [
    "## F-Strings\n",
    " -Very efficient way to combine variables(ints or strings or bools etc) and strings in print statements"
   ]
  },
  {
   "cell_type": "code",
   "execution_count": null,
   "metadata": {},
   "outputs": [],
   "source": [
    "name = 'eric'\n",
    "age = 23\n",
    "print(f\"Hello, {name}. You are {age}.\")"
   ]
  },
  {
   "cell_type": "markdown",
   "metadata": {},
   "source": [
    "- Below is a <ins>much</ins> nicer example of f-string using the unpacking operator(**) to unpack a dictionary.In this example the variables are given names and are thus identified , which adds to readability\n",
    "\n",
    "- I like this method as it allows less typing , you don't have to repeat putting in variables, and it's much more explicit\n",
    "\n",
    "- NB:This method is preffered , because yo can very easily convert a JSON object to a dictionary , and use it immediately which makes it easier to  import values, i.e adds to code porability in case you need to obtain or store values from a database.\n"
   ]
  },
  {
   "cell_type": "code",
   "execution_count": 2,
   "metadata": {},
   "outputs": [
    {
     "name": "stdout",
     "output_type": "stream",
     "text": [
      "Hello, Uncle John, You are 56, and you live in Lewisville.\n",
      "Hello, Uncle John. You are 56.\n",
      "Hello, Uncle John. You are 56.\n"
     ]
    }
   ],
   "source": [
    "\n",
    "person = {\n",
    "'name': 'Uncle John', \n",
    "'age': 56,\n",
    "'town': 'Lewisville'\n",
    "}\n",
    "print(\"Hello, {name}, You are {age}, and you live in {town}.\".format(**person))\n",
    "print(\"Hello, {name}. You are {age}.\".format(**person))\n",
    "print(\"Hello, {name}. You are {age}.\".format(**person))\n",
    "\n",
    "#TODO  Print from a nested dictionary or nested jsons, google how to print these clearly"
   ]
  },
  {
   "cell_type": "code",
   "execution_count": null,
   "metadata": {},
   "outputs": [],
   "source": [
    "#Another nicer example of f-string using the unpacking operator(*) to unpack a list, However in this example, \n",
    "# we don't idemtify the variables and thus the variable list is considered \"dumb\"\n",
    "\n",
    "person = ['eric','74']\n",
    "print(\"Hello, {}. You are {}.\".format(*person))\n"
   ]
  },
  {
   "cell_type": "code",
   "execution_count": 17,
   "metadata": {},
   "outputs": [
    {
     "name": "stdout",
     "output_type": "stream",
     "text": [
      "comma,separated,words\n"
     ]
    }
   ],
   "source": [
    "#printing comma separated words\n",
    "\n",
    "print('comma', 'separated', 'words', sep=',')  # it is whitespace sensitive\n"
   ]
  },
  {
   "cell_type": "markdown",
   "metadata": {},
   "source": [
    "## Uppercase Lowercase and Swapping cases  \n",
    "    .upper()  \n",
    "    .lower()  \n",
    "    .swapcase()  "
   ]
  },
  {
   "cell_type": "code",
   "execution_count": 14,
   "metadata": {},
   "outputs": [
    {
     "name": "stdout",
     "output_type": "stream",
     "text": [
      "this will all be lowercase.\n",
      "tHiS sHoUlD bE mIxEd CaSeD.\n",
      "this will all be lowercase  again.\n"
     ]
    }
   ],
   "source": [
    "# example string\n",
    "string = \"THIS WILL ALL BE LOWERCASE.\"\n",
    "print(string.swapcase())\n",
    "\n",
    "string = \"ThIs ShOuLd Be MiXeD cAsEd.\"\n",
    "print(string.swapcase())\n",
    "\n",
    "string = \"THIS WILL ALL BE LOWERCASE  AGAIN.\"\n",
    "print(string.lower())"
   ]
  },
  {
   "cell_type": "markdown",
   "metadata": {},
   "source": [
    "## Writting to a file\n",
    "\n",
    "- Here is a link to the section on writting a config file [See Lists here](##Lists)\n",
    "- This style handles both the opening and the closing of the file \n",
    "- this can be also used to write configuration files with special information , like key-value pairs"
   ]
  },
  {
   "cell_type": "code",
   "execution_count": null,
   "metadata": {},
   "outputs": [],
   "source": [
    "''' WARNING:Does not work in jupyter notebooks for some reason'''\n",
    "with open(file=r'logging/example6.log', mode='w+') as f:\n",
    "    f.write(\"\")\n",
    "\n",
    "# running this multiple times just overwrites the text"
   ]
  },
  {
   "cell_type": "markdown",
   "metadata": {},
   "source": [
    "### Tip when writing files in python\n",
    "\n",
    "- it's better to save the file with a \"relative\" local location   e.g `'MyCookBooks\\newFile.txt'`\n",
    "- instead of an absolute location such as : `'C:\\Users\\Burudani\\Documents\\mainPythonFolder_v1\\TextFiles\\exampleTextFile.txt'`"
   ]
  },
  {
   "cell_type": "markdown",
   "metadata": {},
   "source": [
    "## Writting a config file e.g an ini file\n",
    "<a id='Writting a config file'></a>\n",
    "\n",
    "- More on configparser  [More on configparser](https://zetcode.com/python/configparser/)  "
   ]
  },
  {
   "cell_type": "code",
   "execution_count": null,
   "metadata": {},
   "outputs": [],
   "source": [
    "from configparser import ConfigParser\n",
    "\n",
    "# Initialize the Parser.\n",
    "config = ConfigParser()\n",
    "\n",
    "# Add the Section.\n",
    "config.add_section('Title of config file')\n",
    "\n",
    "# Set the Values.\n",
    "config.set('graph_api', 'client_id', '5025e394-54fb-4024-807d-c7bcf77cb9c8')\n",
    "config.set('graph_api', 'client_secret', '603d564c-6773-4bed-adea-9171d3f85643')\n",
    "config.set('graph_api', 'redirect_uri', 'https://localhost/graph_login')\n",
    "\n",
    "# Write the file, here you can also specify the extension of the file.\n",
    "with open(file=r'C:\\Users\\Burudani\\Documents\\mainPythonFolder_v1\\myExampleConfigFile.ini', mode='w+') as f:\n",
    "    config.write(f)\n",
    "\n",
    "\n"
   ]
  },
  {
   "cell_type": "markdown",
   "metadata": {},
   "source": [
    "## Lists\n",
    "<a id='##Lists'></a>"
   ]
  },
  {
   "cell_type": "code",
   "execution_count": 16,
   "metadata": {},
   "outputs": [
    {
     "name": "stdout",
     "output_type": "stream",
     "text": [
      "apple\n",
      "banana\n",
      "orange\n",
      "pear\n",
      "strawberry\n",
      "\n",
      "\n",
      "james\n",
      "brown\n",
      "Harding\n"
     ]
    }
   ],
   "source": [
    "newList = [1,2,3,4,5]\n",
    "worList = ['james','brown','Harding']\n",
    "fruitList = [\"pear\",\"apple\",\"strawberry\",\"banana\",\"orange\"]\n",
    "\n",
    "#Quick way to sort lists alphabetically\n",
    "for f in sorted(fruitList):\n",
    "    print(f)\n",
    "print('\\n')\n",
    "#quick way to print a list as a column\n",
    "print(*worList, sep='\\n') # the '*' is called the unpacking operator and is demonstrated in detail, in it's section below"
   ]
  },
  {
   "cell_type": "markdown",
   "metadata": {},
   "source": [
    "## Dunder   \n",
    "- Double underscore used before and after a function or method name, example below"
   ]
  },
  {
   "cell_type": "code",
   "execution_count": null,
   "metadata": {},
   "outputs": [],
   "source": [
    "\n",
    "def __init__(self, parameter1: int,parameter2: str,parameter3: str ,parameter4: float ):  # init  here is reffered to as \"dunder init\"\n",
    "    self.number = parameter1  \n",
    "    self.string2 = parameter3\n",
    "    self.double = parameter4\n",
    "    self.process_data()\n",
    "\n",
    "if __name__ == '__main__':  # this is known as \"dunder main\"\n",
    "    functionA()\n",
    "    functionB()"
   ]
  },
  {
   "cell_type": "markdown",
   "metadata": {},
   "source": [
    "## Docstrings  \n",
    "- They identify the function of a block of code\n"
   ]
  },
  {
   "cell_type": "code",
   "execution_count": null,
   "metadata": {},
   "outputs": [],
   "source": [
    "def exampleFunction():\n",
    "    '''This describes what this function or class does'''\n",
    "    return 1+1\n",
    "\n",
    "\n",
    "\n",
    "print(exampleFunction.__doc__)   # this prints the docstring of the function  or class"
   ]
  },
  {
   "cell_type": "markdown",
   "metadata": {},
   "source": [
    "## Help   \n",
    "- prints any helpful statements descrbing the fucntion of the code, may include examples"
   ]
  },
  {
   "cell_type": "code",
   "execution_count": null,
   "metadata": {},
   "outputs": [],
   "source": [
    "def exampleFunction():\n",
    "    '''This describes what this function or class does'''\n",
    "    return 1+1\n",
    "\n",
    "help(exampleFunction)"
   ]
  },
  {
   "cell_type": "markdown",
   "metadata": {},
   "source": [
    "# Timing your code  \n",
    " - `timeit` vs `time.time()` , use  `timeit`  \n",
    " - timeit produces time in seconds\n"
   ]
  },
  {
   "cell_type": "code",
   "execution_count": 1,
   "metadata": {},
   "outputs": [
    {
     "name": "stdout",
     "output_type": "stream",
     "text": [
      "Your first code took  3.7699996028095484e-05  Seconds\n",
      "Your second code took  3.360000846441835e-05  Seconds\n"
     ]
    }
   ],
   "source": [
    "from timeit import default_timer as timer\n",
    "\n",
    "def func1():\n",
    "    return 500*600\n",
    "\n",
    "def func2():\n",
    "    return (5*6)\n",
    "\n",
    "\n",
    "\n",
    "# timing the first function\n",
    "start = timer()\n",
    "func1()\n",
    "end = timer()\n",
    "print('Your first code took ', end-start , ' Seconds')\n",
    "\n",
    "\n",
    "# timing the first function\n",
    "start = timer()\n",
    "func2()\n",
    "end = timer()\n",
    "print('Your second code took ', end-start ,' Seconds')\n"
   ]
  },
  {
   "cell_type": "markdown",
   "metadata": {},
   "source": [
    "## Datetime Formating"
   ]
  },
  {
   "cell_type": "code",
   "execution_count": null,
   "metadata": {},
   "outputs": [],
   "source": [
    "from datetime import datetime , timedelta\n",
    "\n",
    "#TODO more examples on time delta\n",
    "\n",
    "# datetime object containing current date and time\n",
    "now = datetime.now()\n",
    " \n",
    "print(\"now =\", now)\n",
    "\n",
    "# dd/mm/YY H:M:S\n",
    "dt_string1 = now.strftime(\"%d/%m/%Y %H:%M:%S\")\n",
    "dt_string2 = now.strftime(\"%d-%m-%Y %H:%M:%S\")\n",
    "\n",
    "print(\"date and time =\", dt_string2)\t\n",
    "\n",
    "\n",
    "years_to_subtract = 365  #one year\n",
    "datetime_new = now - timedelta(days = years_to_subtract)\n",
    "print(\"After subtracting years: \", datetime_new, \"\\n\")"
   ]
  },
  {
   "cell_type": "markdown",
   "metadata": {},
   "source": [
    "## Data Types  \n",
    "You can convert bool to int and vice versa"
   ]
  },
  {
   "cell_type": "code",
   "execution_count": null,
   "metadata": {},
   "outputs": [],
   "source": [
    "print(bool(1))\n",
    "print(bool(0))\n",
    "print(int(True))   #converts the bool to an integer\n",
    "print(int(False))\n"
   ]
  },
  {
   "cell_type": "code",
   "execution_count": null,
   "metadata": {},
   "outputs": [],
   "source": [
    "# More boolean tests\n",
    "3.0>3 #False\n",
    "3.0<3 #False as well, just because the other condition is false...does not make this one true\n",
    "\n",
    "3==3.0  #True"
   ]
  },
  {
   "cell_type": "markdown",
   "metadata": {},
   "source": [
    "## Operators"
   ]
  },
  {
   "cell_type": "code",
   "execution_count": null,
   "metadata": {},
   "outputs": [],
   "source": [
    "print (11/5)  # gives a float\n",
    "print(11//5)  # gives an integer result that is rounded down"
   ]
  },
  {
   "cell_type": "markdown",
   "metadata": {},
   "source": [
    "## Numpy\n",
    "- NumPy aims to provide an array object that is up to 50x faster than traditional Python lists.\n",
    "- NumPy is meant for creating homogeneous n-dimensional arrays (n = 1..n). Unlike Python lists, all elements of a NumPy array should be of same type.\n",
    "- NumPy uses much less memory to store data"
   ]
  },
  {
   "cell_type": "code",
   "execution_count": null,
   "metadata": {},
   "outputs": [],
   "source": [
    "import numpy as np\n",
    "z =  np.zeros(10)\n",
    "print(z)\n",
    "print('\\n')\n",
    "print(z.shape)\n",
    "print('\\n')\n",
    "z.shape = (10,1)\n",
    "print(z)\n",
    "y = np.ones(10)\n",
    "print('\\n')\n",
    "print(y)"
   ]
  },
  {
   "cell_type": "markdown",
   "metadata": {},
   "source": [
    "## Functions"
   ]
  },
  {
   "cell_type": "code",
   "execution_count": null,
   "metadata": {},
   "outputs": [],
   "source": [
    "# In this example a series of functions are applied to a single value/variable\n",
    "\n",
    "def f(x):\n",
    "    return x**2\n",
    "def g(x):\n",
    "    return x**4\n",
    "def h(x):\n",
    "    return x**8\n",
    "\n",
    "\n",
    "print([func(42) for func in (f,g,h)])"
   ]
  },
  {
   "cell_type": "code",
   "execution_count": null,
   "metadata": {},
   "outputs": [],
   "source": [
    "#In this example a series of variables are applied to a single function\n",
    "#TODO simplify this function to not use the *args feature\n",
    "\n",
    "# sum of a list of integers :-\n",
    "def my_sum(x):\n",
    "     print (x**2)\n",
    "\n",
    "list1 = [3,9,12]\n",
    "\n",
    "\n",
    "print([my_sum(x) for x in list1])"
   ]
  },
  {
   "cell_type": "markdown",
   "metadata": {},
   "source": [
    "## The if__name__ == \"__main__\" template\n",
    "- Use if __name__ == \"__main__\" to Control the Execution of Your Code\n",
    "- see template below"
   ]
  },
  {
   "cell_type": "code",
   "execution_count": 10,
   "metadata": {},
   "outputs": [],
   "source": [
    "from time import sleep\n",
    "\n",
    "def function1(data):\n",
    "    '''This function does blah blah blah'''\n",
    "    #do stuff return result\n",
    "    \n",
    "\n",
    "def main():\n",
    "    '''Main function'''\n",
    "  \n",
    "    # call function1\n",
    "    \n",
    "\n",
    "if __name__ == \"__main__\":\n",
    "    main()\n"
   ]
  },
  {
   "cell_type": "code",
   "execution_count": null,
   "metadata": {},
   "outputs": [],
   "source": [
    "from time import sleep\n",
    "\n",
    "print(\"This is my file to demonstrate best practices.\")\n",
    "\n",
    "def process_data(data):\n",
    "    print(\"Beginning data processing...\")\n",
    "    modified_data = data + \" that has been modified\"\n",
    "    sleep(3)\n",
    "    print(\"Data processing finished.\")\n",
    "    return modified_data\n",
    "\n",
    "def main():\n",
    "    data = \"My data read from the Web\"\n",
    "    print(data)\n",
    "    modified_data = process_data(data)\n",
    "    print(modified_data)\n",
    "\n",
    "if __name__ == \"__main__\":\n",
    "    main()\n",
    "\n"
   ]
  },
  {
   "cell_type": "markdown",
   "metadata": {},
   "source": [
    "## Dash Colors   \n",
    "- also recognized in css    \n",
    "\n",
    "aliceblue, antiquewhite, aqua, aquamarine, azure,\n",
    "                beige, bisque, black, blanchedalmond, blue,\n",
    "                blueviolet, brown, burlywood, cadetblue,\n",
    "                chartreuse, chocolate, coral, cornflowerblue,\n",
    "                cornsilk, crimson, cyan, darkblue, darkcyan,\n",
    "                darkgoldenrod, darkgray, darkgrey, darkgreen,\n",
    "                darkkhaki, darkmagenta, darkolivegreen, darkorange,\n",
    "                darkorchid, darkred, darksalmon, darkseagreen,\n",
    "                darkslateblue, darkslategray, darkslategrey,\n",
    "                darkturquoise, darkviolet, deeppink, deepskyblue,\n",
    "                dimgray, dimgrey, dodgerblue, firebrick,\n",
    "                floralwhite, forestgreen, fuchsia, gainsboro,\n",
    "                ghostwhite, gold, goldenrod, gray, grey, green,\n",
    "                greenyellow, honeydew, hotpink, indianred, indigo,\n",
    "                ivory, khaki, lavender, lavenderblush, lawngreen,\n",
    "                lemonchiffon, lightblue, lightcoral, lightcyan,\n",
    "                lightgoldenrodyellow, lightgray, lightgrey,\n",
    "                lightgreen, lightpink, lightsalmon, lightseagreen,\n",
    "                lightskyblue, lightslategray, lightslategrey,\n",
    "                lightsteelblue, lightyellow, lime, limegreen,\n",
    "                linen, magenta, maroon, mediumaquamarine,\n",
    "                mediumblue, mediumorchid, mediumpurple,\n",
    "                mediumseagreen, mediumslateblue, mediumspringgreen,\n",
    "                mediumturquoise, mediumvioletred, midnightblue,\n",
    "                mintcream, mistyrose, moccasin, navajowhite, navy,\n",
    "                oldlace, olive, olivedrab, orange, orangered,\n",
    "                orchid, palegoldenrod, palegreen, paleturquoise,\n",
    "                palevioletred, papayawhip, peachpuff, peru, pink,\n",
    "                plum, powderblue, purple, red, rosybrown,\n",
    "                royalblue, saddlebrown, salmon, sandybrown,\n",
    "                seagreen, seashell, sienna, silver, skyblue,\n",
    "                slateblue, slategray, slategrey, snow, springgreen,\n",
    "                steelblue, tan, teal, thistle, tomato, turquoise,\n",
    "                violet, wheat, white, whitesmoke, yellow,\n",
    "                yellowgreen"
   ]
  },
  {
   "cell_type": "markdown",
   "metadata": {},
   "source": [
    "## TUPLES"
   ]
  },
  {
   "cell_type": "code",
   "execution_count": null,
   "metadata": {},
   "outputs": [],
   "source": [
    "'''EXAMPLE ASSIGNMENT\n",
    "In this assignment Read data from  a text file, load it into python, \n",
    "parse through it line by line and  and if a line starts with 'From' ,\n",
    " then split it up by space, select the 5 string in the line, then split that by \n",
    " colon, then select the first part of that string then add it to a dictionary \n",
    " along with the number of times it shows up in the entire document,essentially \n",
    " creating a histogram'''\n",
    "\n",
    "counts = dict()\n",
    "#name = input(\"Enter file:\")\n",
    "#if len(name) < 1 : name = \"mbox-short.txt\"\n",
    "#handle = open(name)\n",
    "handle = open(\"mbox-short.txt\")\n",
    "for line in handle:\n",
    "    if line.startswith('From '):\n",
    "        selectedLine = line.split()\n",
    "        #print(selectedLine)\n",
    "        lineSelected = selectedLine[5]\n",
    "        hourSplit = lineSelected.split(':')\n",
    "        hourString = hourSplit[0]\n",
    "        #print(hourString)\n",
    "        counts[hourString] = counts.get(hourString, 0) + 1    # assigns a value to a dictionary\n",
    "\n",
    "#print(counts)\n",
    "#sortedString = (sorted ([(k,v)for k,v in counts.items()]))\n",
    "\n",
    "for k,v in sorted ([(k,v)for k,v in counts.items()]):\n",
    "    \n",
    "    print(k,v)\n"
   ]
  },
  {
   "cell_type": "code",
   "execution_count": null,
   "metadata": {},
   "outputs": [],
   "source": [
    "jack,jill = (1,2)\n",
    "print(jill)\n",
    "\n",
    "tupleList = [(1,2,3),(4,5,6)]\n",
    "print(tupleList)\n",
    "\n",
    "if (1,2,3) in tupleList:\n",
    "    print(True)"
   ]
  },
  {
   "cell_type": "markdown",
   "metadata": {},
   "source": [
    "# Dictionaries\n"
   ]
  },
  {
   "cell_type": "code",
   "execution_count": null,
   "metadata": {},
   "outputs": [],
   "source": [
    "\n",
    "'''Regular Dictionaries'''\n",
    "# Python dictionary method setdefault() is similar to get(), but will set dict[key]=default if key is not already in dict.\n",
    "\n",
    "nameDict = {'Name': 'Zara', 'Age': 7} # curley braces  [] () {}\n",
    "print (\"Value : %s\" %  nameDict.setdefault('Age', None) ) # age cannot be defaulted to #\"none\"  because it already has a value\n",
    "print (\"Value : %s\" %  nameDict.setdefault('Sex', None)) #sex does not exist in the dictionary, thus is created automatically\n",
    "\n",
    "nameDict['message'] = 'Welcome'  #adding new values to new keys in a dictionaries\n",
    "nameDict['Name'] = 'Thompson'\n",
    "\n",
    "\n",
    "print(nameDict)\n",
    "#NB:::: Default values in a dictionary can NEVER be changed  \n"
   ]
  },
  {
   "cell_type": "code",
   "execution_count": null,
   "metadata": {},
   "outputs": [],
   "source": [
    "exampledict = (dict(item = \"coke\",price = 8, qty = 2))\n",
    "\n",
    "print(exampledict)\n",
    "\n",
    "#creating a list of dictionaries\n",
    "\n",
    "cart = []\n",
    "cart.append(dict(item=\"Coke\", price=8, qty=2))\n",
    "cart.append(dict(item=\"Cake\", price=12, qty=1))\n",
    "cart.append(dict(item=\"Fish\", price=32, qty=4))\n",
    "\n",
    "print(\"Now printing a list of dictionaries\")\n",
    "print(cart)\n"
   ]
  },
  {
   "cell_type": "markdown",
   "metadata": {},
   "source": [
    "## pretty printing a dictionary"
   ]
  },
  {
   "cell_type": "code",
   "execution_count": null,
   "metadata": {},
   "outputs": [],
   "source": [
    "print(json.dumps(my_dictionary, indent=4, sort_keys=True, default=str))"
   ]
  },
  {
   "cell_type": "code",
   "execution_count": null,
   "metadata": {},
   "outputs": [],
   "source": [
    "'''Nested Dictionaries'''\n",
    "import json \n",
    "\n",
    "people = {1: {'name': 'John', 'age': '27', 'sex': 'Male'},\n",
    "          2: {'name': 'Marie', 'age': '22', 'sex': 'Female'}}\n",
    "\n",
    "#Actually looks like this:-\n",
    "'''\n",
    "{\n",
    "    \"1\": {\n",
    "        \"age\": \"27\",\n",
    "        \"name\": \"John\",\n",
    "        \"sex\": \"Male\"\n",
    "    },\n",
    "    \"2\": {\n",
    "        \"age\": \"22\",\n",
    "        \"name\": \"Marie\",\n",
    "        \"sex\": \"Female\"\n",
    "    }\n",
    "}\n",
    "\n",
    "'''\n",
    "#print(people)\n",
    "#print(people[1]['name'])  # prints John from Above\n",
    "\n",
    "print(json.dumps(people,sort_keys=True,default=str,indent=4))\n",
    "\n",
    "#sometimes\n",
    "\n",
    "\n",
    "# there is a way to prgrammatically iterate through all the dictionary keys and print all available values\n",
    "# add box brackets to the print statments so that they look like :-\n",
    "# response['Reservations'][3]['Instances'][0]['ImageId']"
   ]
  },
  {
   "cell_type": "markdown",
   "metadata": {},
   "source": [
    "# CLASSES"
   ]
  },
  {
   "cell_type": "code",
   "execution_count": null,
   "metadata": {},
   "outputs": [],
   "source": [
    "class ExampleClass:\n",
    "    '''This is a good template for allowing one to practice with classes'''\n",
    "    exampleVar1 = 32  # Class variable\n",
    "    exampleVar2 = 45\n",
    "    exampleVar3 = \"IamVariable\"\n",
    "    def __init__(self, parameter1: int,parameter2: str,parameter3: str ,parameter4: float ):   # any placeholder here in this constructor is called a parameter\n",
    "        self.number = parameter1   # self.name is an instance variable\n",
    "        self.string1 = parameter2\n",
    "        self.string2 = parameter3\n",
    "        self.double = parameter4\n",
    "        self.process_data()\n",
    "\n",
    "    def process_data(self):\n",
    "        '''Multiplies the Values of the class variables with  a vlaue of the instance variable'''\n",
    "        print(self.exampleVar1*self.exampleVar2*self.number)\n",
    "\n",
    "    def __str__(self):   # if you don't put this method then an actual instance memory point of the instance will be printed when you use \"print\"\n",
    "        return 'Your values are number {} with word {} and word {} and number {}.' .format(self.number,self.string1,self.string2,self.double)  \n",
    "\n",
    "                \n",
    "#We just randomly generate some values to feed into the class, these variables are refered to as \"arguaments\" if used in a function call/method call/class call\n",
    "argument1 = 1\n",
    "argument2 = 'Hello'\n",
    "argument3 = 'world'\n",
    "argument4 = 2.0\n",
    "\n",
    "ExampleInstance = ExampleClass(argument1,argument2,argument3,argument4)\n",
    "\n",
    "\n",
    "print(ExampleInstance)  # print the string in the method  \"__str__\""
   ]
  },
  {
   "cell_type": "markdown",
   "metadata": {},
   "source": [
    "## Sorting using lambda"
   ]
  },
  {
   "cell_type": "code",
   "execution_count": null,
   "metadata": {},
   "outputs": [],
   "source": [
    "#Recal this simple sorting example using lambda\n",
    "\n",
    "L = [\"Cherry\", \"Apple\", \"Blueberry\"]\n",
    "\n",
    "print(sorted(L, key=len))\n",
    "#alternative form using lambda, if you find that easier to understand\n",
    "print(sorted(L, key= lambda x: len(x)))\n"
   ]
  },
  {
   "cell_type": "markdown",
   "metadata": {},
   "source": []
  },
  {
   "cell_type": "code",
   "execution_count": null,
   "metadata": {},
   "outputs": [],
   "source": [
    "import sys\n",
    "print (\"This is the name of the script: \", sys.argv[0])\n",
    "print (\"Number of arguments: \", len(sys.argv))\n",
    "print (\"The arguments are: \" , str(sys.argv))\n"
   ]
  },
  {
   "cell_type": "code",
   "execution_count": null,
   "metadata": {},
   "outputs": [],
   "source": [
    "import sys\n",
    "\n",
    "#test.py arg1 arg2 arg3 =  sys.argv\n",
    "#Number of arguments: 4 arguments.\n",
    "sys.argv = ['test.py', 'arg1', 'arg2', 'arg3']\n",
    "print (\"Number of arguments:\", len(sys.argv), \"arguments\")\n",
    "print (\"Argument List:\", str(sys.argv))"
   ]
  },
  {
   "cell_type": "markdown",
   "metadata": {},
   "source": [
    "## Query Class Practice "
   ]
  },
  {
   "cell_type": "code",
   "execution_count": null,
   "metadata": {},
   "outputs": [],
   "source": [
    "from pathlib import path\n",
    "import QueryDataToFile  # custom created library to \n",
    "\n",
    "Task1 = \"example pull_v1\"\n",
    "var1 =\n",
    "class PracticeQuery:\n",
    "    '''Main class invalid'''\n",
    "    def __init__(self):\n",
    "        self.query = 'SELECT column1, column2',\n",
    "        'column3',\n",
    "        'FROM myTable'\n",
    "        self.files = {'results': str(path.cwd())+ '\\\\results.csv',\n",
    "                      'procesedFile': str(path.cwd())+ '\\\\results.csv'}\n",
    "        self.tasks = [self.query_data,self.process_data]\n",
    "\n",
    "        self.query_data()\n",
    "\n",
    "        def query_data(self):\n",
    "            '''Pull data from  database'''\n",
    "            print(\"for \",Task1 \"Pulling data from \", var1\" Database\")\n",
    "            #put data into csv file in this line\n",
    "            def process_data(self):\n",
    "                '''Process the data'''\n",
    "                1+1\n",
    "\n",
    "\n",
    "        "
   ]
  },
  {
   "cell_type": "code",
   "execution_count": null,
   "metadata": {},
   "outputs": [],
   "source": [
    "\n",
    "def square(x):\n",
    "    '''raise x to the second power'''\n",
    "    return x*x\n",
    "\n",
    "\n",
    "import test\n",
    "print('testing square function')\n",
    "test.testEqual(square(9),100)\n"
   ]
  },
  {
   "cell_type": "code",
   "execution_count": null,
   "metadata": {},
   "outputs": [],
   "source": [
    "x = \"hello\"\n",
    "\n",
    "#if condition returns True, then nothing happens:\n",
    "assert x == \"hello\"\n",
    "\n",
    "#if condition returns False, AssertionError is raised:\n",
    "assert x == \"goodbye\""
   ]
  },
  {
   "cell_type": "code",
   "execution_count": null,
   "metadata": {},
   "outputs": [],
   "source": [
    "l= [1,2,3]\n",
    "\n",
    "for item in l:\n",
    "    print('haha')"
   ]
  },
  {
   "cell_type": "markdown",
   "metadata": {},
   "source": [
    "## REGEX :Regular Expressions"
   ]
  },
  {
   "cell_type": "code",
   "execution_count": null,
   "metadata": {},
   "outputs": [],
   "source": [
    "'j{1,3}'  # Match 1 to 3 values of j"
   ]
  },
  {
   "cell_type": "markdown",
   "metadata": {},
   "source": [
    "## Exceptions  \n",
    "- Exceptions are often defined as being “errors” but this is not always the case. All errors in Python are dealt with using exceptions, \"but not all exceptions are errors\"."
   ]
  },
  {
   "cell_type": "code",
   "execution_count": null,
   "metadata": {},
   "outputs": [],
   "source": [
    "x = 10\n",
    "if x > 5:\n",
    "    raise Exception('x should not exceed 5. The value of x was: {}'.format(x))"
   ]
  },
  {
   "cell_type": "markdown",
   "metadata": {},
   "source": [
    "## Assertions vs Exceptions\n",
    "- Assertions are intended to be used solely as a means of detecting programming errors, aka bugs. By contrast, an exception can indicate other kinds of error or \"exceptional\" condition; e.g. invalid user input, missing files, heap full and so on.  "
   ]
  },
  {
   "cell_type": "code",
   "execution_count": null,
   "metadata": {},
   "outputs": [],
   "source": [
    "gold = {\"US\":46, \"Fiji\":1, \"Great Britain\":27, \"Cuba\":5, \"Thailand\":2, \"China\":26, \"France\":10}\n",
    "country = [\"Fiji\", \"Chile\", \"Mexico\", \"France\", \"Norway\", \"US\"]\n",
    "country_gold = []\n",
    "\n",
    "for x in country:\n",
    "    country_gold.append(gold[x])\n",
    "    country_gold.append(\"Did not get gold\")\n"
   ]
  },
  {
   "cell_type": "code",
   "execution_count": null,
   "metadata": {},
   "outputs": [],
   "source": [
    "\n",
    "sport = [\"hockey\", \"basketball\", \"soccer\", \"tennis\", \"football\", \"baseball\"]\n",
    "\n",
    "ppl_play = {\"hockey\":4, \"soccer\": 10, \"football\": 15, \"tennis\": 8}\n",
    "\n",
    "for x in sport:\n",
    "    try:\n",
    "        raise Exception\n",
    "        print(ppl_play[x])\n",
    "    except Exception as e:\n",
    "        print('This is the exception raised ', e)\n",
    "        print(1)\n",
    "\n",
    "    \n",
    "\n"
   ]
  },
  {
   "cell_type": "markdown",
   "metadata": {},
   "source": [
    "You can also force an exception to be printed by using  \n",
    "                raise Exception\n",
    "\n"
   ]
  },
  {
   "cell_type": "code",
   "execution_count": null,
   "metadata": {},
   "outputs": [],
   "source": [
    "# Import Module\n",
    "from tkinter import *\n",
    " \n",
    "# create root window\n",
    "root = Tk()\n",
    " \n",
    "# root window title and dimension\n",
    "root.title(\"Welcome to GeekForGeeks\")\n",
    "# Set geometry (widthxheight)\n",
    "root.geometry('350x200')\n",
    " \n",
    "# all widgets will be here\n",
    "# Execute Tkinter\n",
    "root.mainloop()"
   ]
  },
  {
   "cell_type": "code",
   "execution_count": null,
   "metadata": {},
   "outputs": [],
   "source": [
    "from tkinter import *\n",
    "\n",
    "master = Tk()\n",
    "Label(master, text=\"First Name\").grid(row=0)\n",
    "Label(master, text=\"Last Name\").grid(row=1)\n",
    "\n",
    "e1 = Entry(master)\n",
    "e2 = Entry(master)\n",
    "\n",
    "e1.grid(row=0, column=1)\n",
    "e2.grid(row=1, column=1)\n",
    "\n",
    "mainloop( )"
   ]
  },
  {
   "cell_type": "markdown",
   "metadata": {},
   "source": [
    "## Random Numbers"
   ]
  },
  {
   "cell_type": "code",
   "execution_count": null,
   "metadata": {},
   "outputs": [],
   "source": [
    "import random\n",
    "\n",
    "rand_number = random.randint(1, 10)\n",
    "print('Random number between 1 and 10: {}'.format(rand_number))\n",
    "\n",
    "letters = [letter for letter in 'ABCDEFGHIJKLMNOPQRSTUVWXYZ'] #creates a list out of each letter provided\n",
    "rand_letter = random.choice(letters)  # random.choice() selects a random item from a list\n",
    "print('Random letter, from the list made up of letters: {}'.format(rand_letter))\n"
   ]
  },
  {
   "cell_type": "markdown",
   "metadata": {},
   "source": [
    "## Class Final Project : Wheel of Fortune (To Be continued later....)"
   ]
  },
  {
   "cell_type": "code",
   "execution_count": null,
   "metadata": {},
   "outputs": [],
   "source": [
    "VOWEL_COST = 250\n",
    "LETTERS = 'ABCDEFGHIJKLMNOPQRSTUVWXYZ'\n",
    "VOWELS = 'AEIOU'\n",
    "\n",
    "# Write the WOFPlayer class definition (part A) here\n",
    "\n",
    "class WOFPlayer:\n",
    "'''This is a  class that controls the  '''\n",
    "    boredom_decrement = 4\n",
    "    hunger_decrement = 6\n",
    "    boredom_threshold = 5\n",
    "    hunger_threshold = 10\n",
    "    sounds = ['Mrrp']\n",
    "    def __init__(self, name = \"Kitty\", pet_type=\"cat\"):\n",
    "    self.name = name\n",
    "    self.hunger = randrange(self.hunger_threshold)\n",
    "    self.boredom = randrange(self.boredom_threshold)\n",
    "\n",
    "# Write the WOFHumanPlayer class definition (part B) here\n",
    "\n",
    "# Write the WOFComputerPlayer class definition (part C) here\n",
    "\n"
   ]
  },
  {
   "cell_type": "markdown",
   "metadata": {},
   "source": [
    "## Using Args\n",
    "Args are pretty much a way to pass in multiple arguments into a function"
   ]
  },
  {
   "cell_type": "code",
   "execution_count": null,
   "metadata": {},
   "outputs": [],
   "source": [
    "def add(datatype, *args):\n",
    " \n",
    "    # if datatype is int\n",
    "    # initialize answer as 0\n",
    "    if datatype =='int':\n",
    "        answer = 0\n",
    "         \n",
    "    # if datatype is str\n",
    "    # initialize answer as ''\n",
    "    if datatype =='str':\n",
    "        answer =''\n",
    " \n",
    "    # Traverse through the arguments\n",
    "    for x in args:\n",
    " \n",
    "        # This will do addition if the \n",
    "        # arguments are int. Or concatenation \n",
    "        # if the arguments are str\n",
    "        answer = answer + x\n",
    " \n",
    "    print(answer)"
   ]
  },
  {
   "cell_type": "markdown",
   "metadata": {},
   "source": [
    "## Method Overloading\n",
    "\n",
    "By Using Multiple Dispatch Decorator "
   ]
  },
  {
   "cell_type": "code",
   "execution_count": null,
   "metadata": {},
   "outputs": [],
   "source": [
    "from multipledispatch import dispatch\n",
    " \n",
    "#passing one parameter\n",
    "@dispatch(int,int)\n",
    "def product(first,second):\n",
    "    result = first*second\n",
    "    print(result);\n",
    " \n",
    "#passing two parameters\n",
    "@dispatch(int,int,int)\n",
    "def product(first,second,third):\n",
    "    result  = first * second * third\n",
    "    print(result);\n",
    " \n",
    "#you can also pass data type of any value as per requirement\n",
    "@dispatch(float,float,float)\n",
    "def product(first,second,third):\n",
    "    result  = first * second * third\n",
    "    print(result);\n",
    " \n",
    " \n",
    "#calling product method with 2 arguments\n",
    "product(2,3,2) #this will give output of 12\n",
    "product(2.2,3.4,2.3) # this will give output of 17.985999999999997"
   ]
  },
  {
   "cell_type": "markdown",
   "metadata": {},
   "source": [
    "## Map and List Comprehension\n",
    "Map: a way to attacha a function to a list  \n",
    "List Comprehension: A new way to do a for loop"
   ]
  },
  {
   "cell_type": "code",
   "execution_count": null,
   "metadata": {},
   "outputs": [],
   "source": [
    "txns = [1.09, 23.56, 57.84, 4.56, 6.78]\n",
    "TAX_RATE = .08\n",
    "def get_price_with_tax(txn):\n",
    "     return txn * (1 + TAX_RATE)\n",
    "final_prices = map(get_price_with_tax, txns)\n",
    "print(list(final_prices))    # the \"list\" function needs to be used to ensure that the resultant  comes out looking correct"
   ]
  },
  {
   "cell_type": "code",
   "execution_count": null,
   "metadata": {},
   "outputs": [],
   "source": [
    "# Original for loop\n",
    "\n",
    "squares = []\n",
    "for i in range(10):\n",
    "     squares.append(i * i)\n",
    "print(squares)\n",
    "\n",
    "\n",
    "# For loop with list comprehension\n",
    "\n",
    "squares = [i * i for i in range(10)]  # perform multiplication for  each value of i in rang(10) i.e ...\n",
    "#new_list = [expression for member in iterable]\n",
    "\n",
    "print(squares)\n"
   ]
  },
  {
   "cell_type": "markdown",
   "metadata": {},
   "source": [
    "## More List comprehension examples  \n",
    "The Syntax:-  \n",
    "newlist = [expression for item in iterable if condition == True]  \n",
    "\n"
   ]
  },
  {
   "cell_type": "code",
   "execution_count": null,
   "metadata": {},
   "outputs": [],
   "source": [
    "txns = [1.09, 23.56, 57.84, 4.56, 6.78]\n",
    "TAX_RATE = .08\n",
    "def get_price_with_tax(txn):\n",
    "     return txn * (1 + TAX_RATE)\n",
    "final_prices = [get_price_with_tax(i) for i in txns]\n",
    "print(final_prices)"
   ]
  },
  {
   "cell_type": "code",
   "execution_count": null,
   "metadata": {},
   "outputs": [],
   "source": [
    "'''lists top iterate through'''\n",
    "fruits = [\"apple\", \"banana\", \"cherry\", \"kiwi\", \"mango\"]\n",
    "squares = []\n",
    "\n",
    "'''Multiple List comprehension example expressions'''\n",
    "squares = [i * i for i in range(10)]                   # Multiply i by itself for every numerical value from 0-9\n",
    "newlist1 = [x for x in fruits if \"a\" in x]             # produces all fruits with 'a' in the name\n",
    "newlist2 = [x for x in fruits if x != \"apple\"]         # produce all fruits that are not apple\n",
    "newlist3 = [x for x in fruits]                         # simply re-creates the original list\n",
    "number_list = [ x for x in range(20) if x % 2 == 0]    # For every value in range 0-19, if the remainder of the value when divided by two is zero(even number), then spit that out\n",
    "num_list = [y for y in range(100) if y % 2 == 0 if y % 5 == 0] # in a range of values from 0-99 produce a a list of values that are first divisible by 2 and then out of those, the one's divisible by 5\n",
    "newlist4 = [x for x in range(10) if x < 5]             # For every value from 0-9, produce a list of values less than 5 i.e 0-4\n",
    "\n",
    " \n",
    "'''Result of the List comprehension expressions above'''\n",
    "print(squares)\n",
    "print(newlist1)\n",
    "print(newlist2)\n",
    "print(newlist3)\n",
    "print(newlist4)\n",
    "print(number_list)\n",
    "print(num_list)\n"
   ]
  },
  {
   "cell_type": "markdown",
   "metadata": {},
   "source": [
    "## JSON  in Python  \n",
    "It is currently agostic of any particluar programming langauge as we speak. It currently is used as a way to transport python dictionaries across different languages.There are other structures that can be tranlated back and forth from python from JSON.  \n",
    "\n",
    "                Python\t            JSON  \n",
    "                dict\t            object  \n",
    "                list,tuple\t            array    \n",
    "                str\t                    string    \n",
    "                int, long, float\t    number  \n",
    "                True\t            true  \n",
    "                False\t            false  \n",
    "                None\t            null  \n"
   ]
  },
  {
   "cell_type": "markdown",
   "metadata": {},
   "source": [
    "# Examples of a JSON Objects\n",
    "\n",
    "```\n",
    "{\n",
    "    \"people\": [\n",
    "        {\n",
    "            \"name\" : \"John Smith\",\n",
    "            \"phone\" : \"615-555-7164\",\n",
    "            \"emails\" : [\"johnsmith@bogusemail.com\",\"john.snmith@work-place.com\"],\n",
    "            \"has_license\": false\n",
    "        },\n",
    "        {\n",
    "            \"name\": \"Jane Doe\",\n",
    "            \"phone\": \"560-555-553\",\n",
    "            \"emails\": null,\n",
    "            \"has_license\": true\n",
    "        }\n",
    "    ]\n",
    "}\n",
    "```\n",
    "\n",
    "\n",
    "\n",
    "```\n",
    "{\n",
    "    \"people1\": [\n",
    "        {\n",
    "            \"name\" : \"Nikhil\",\n",
    "            \"website\" : \"gf.com\",\n",
    "            \"from\" : \"Delhi\"\n",
    "           \n",
    "        },\n",
    "        {\n",
    "            \"name\" : \"Abhinav\",\n",
    "            \"website\" : \"google.com\",\n",
    "            \"from\" : \"Mumbai\"\n",
    "        }\n",
    "    ],\n",
    "\n",
    "    \"people2\" : [\n",
    "        {\n",
    "            \"name\" : \"ansul\",\n",
    "            \"website\" : \"yahoo.com\",\n",
    "            \"from\" : \"Delaware\"\n",
    "        }\n",
    "    ]\n",
    "}\n",
    "```"
   ]
  },
  {
   "cell_type": "markdown",
   "metadata": {},
   "source": [
    "## JSON : Creating Dictionairies with JSON objects "
   ]
  },
  {
   "cell_type": "code",
   "execution_count": null,
   "metadata": {},
   "outputs": [],
   "source": [
    "# In this example we created a psedo-JSON object, with  a python string\n",
    "\n",
    "import json\n",
    "\n",
    "people_string = '''\n",
    "\n",
    "{\n",
    "    \"people\": [\n",
    "        {\n",
    "            \"name\" : \"John Smith\",\n",
    "            \"phone\" : \"615-555-7164\",\n",
    "            \"emails\" : [\"johnsmith@bogusemail.com\",\"john.snmith@work-place.com\"],\n",
    "            \"has_license\": false\n",
    "        },\n",
    "        {\n",
    "            \"name\": \"Jane Doe\",\n",
    "            \"phone\": \"560-555-553\",\n",
    "            \"emails\": null,\n",
    "            \"has_license\": true\n",
    "        }\n",
    "    ]\n",
    "}\n",
    "'''\n",
    "\n",
    "data = json.loads(people_string) # this parses the JSON string into a dictionary\n",
    "\n",
    "print(data)\n",
    "print('data type is:-')\n",
    "print(type(data))\n",
    "\n",
    "#priting the dictionary :-\n",
    "\n",
    "print(json.dumps(data,sort_keys=True,default=str,indent=4))"
   ]
  },
  {
   "cell_type": "code",
   "execution_count": null,
   "metadata": {},
   "outputs": [],
   "source": [
    "## Another example\n",
    "import pandas as pd\n",
    "import json\n",
    "\n",
    "ExampleJSOnOnject = '''\n",
    "{\n",
    "    \"people0\": [\n",
    "        {\n",
    "            \"name\" : \"John Smith\",\n",
    "            \"phone\" : \"615-555-7164\",\n",
    "            \"emails\" : [\"johnsmith@bogusemail.com\",\"john.snmith@work-place.com\"],\n",
    "            \"has_license\": false\n",
    "        },\n",
    "        {\n",
    "            \"name\": \"Jane Doe\",\n",
    "            \"phone\": \"560-555-553\",\n",
    "            \"emails\": null,\n",
    "            \"has_license\": true\n",
    "        }\n",
    "    ],\n",
    "\n",
    "\n",
    "    \"people1\": [\n",
    "        {\n",
    "            \"name\" : \"Nikhil\",\n",
    "            \"website\" : \"gf.com\",\n",
    "            \"from\" : \"Delhi\"\n",
    "           \n",
    "        },\n",
    "        {\n",
    "            \"name\" : \"Abhinav\",\n",
    "            \"website\" : \"google.com\",\n",
    "            \"from\" : \"Mumbai\"\n",
    "        }\n",
    "    ],\n",
    "\n",
    "    \"people2\" : [\n",
    "        {\n",
    "            \"name\" : \"ansul\",\n",
    "            \"website\" : \"yahoo.com\",\n",
    "            \"from\" : \"Delaware\"\n",
    "        }\n",
    "    ]\n",
    "} \n",
    "'''\n",
    "data = json.loads(ExampleJSOnOnject)\n",
    "df = pd.(data)\n",
    "df\n"
   ]
  },
  {
   "cell_type": "code",
   "execution_count": null,
   "metadata": {},
   "outputs": [],
   "source": [
    "## Example 3\n",
    "import pandas as pd\n",
    "import plotly.express as px\n",
    "\n",
    "url = 'http://api.open-notify.org/iss-now.json'\n",
    "\n",
    "df = pd.read_json(url)\n",
    "df['latitude'] = df.loc['latitude', 'iss_position']\n",
    "df['longitude'] = df.loc['longitude', 'iss_position']\n",
    "df.reset_index(inplace = True)\n",
    "df = df.drop(['index','message'], axis = 1)\n",
    "fig = px.scatter_geo(df,lat = 'latitude',lon = 'longitude')\n",
    "fig.show()\n"
   ]
  },
  {
   "cell_type": "code",
   "execution_count": null,
   "metadata": {},
   "outputs": [],
   "source": [
    "# In this example we instead use a JSON object that has already been created for us\n",
    "\n",
    "import json\n",
    "\n",
    "with open(r'C:\\Users\\Burudani\\Documents\\mainPythonFolder_v1\\JSON\\dictData2.json') as json_file:\n",
    "    data = json.loads(json_file.read()) # this parses the JSON string, NB need to use the .read() method\n",
    "\n",
    "    print(data)\n",
    "    print('data type is:-')\n",
    "    print(type(data))\n",
    "\n",
    "# You can also print/extract specific pieces of data from the object\n",
    "    print(\"\\nPeople1:\", data['people1'])\n",
    "    print(\"\\nPeople2:\", data['people2'])"
   ]
  },
  {
   "cell_type": "code",
   "execution_count": 11,
   "metadata": {},
   "outputs": [
    {
     "name": "stdout",
     "output_type": "stream",
     "text": [
      "  year   make1      model1        make2      model2\n",
      "0    1  toyota     corolla       TOYOTA     corolla\n",
      "1    2   honda       civic  lamborghini      sinata\n",
      "2    1  hyndai  accent car   hyndaisera  accent car\n",
      "3    1  nissan      sentra     maserati    dishenco\n",
      "4    2   honda     Odessey       porshe      cayane\n",
      "5    1   Tesla       model  tesla mode3       tesla\n",
      "\n",
      "\n",
      "0     True\n",
      "1    False\n",
      "2     True\n",
      "3    False\n",
      "4    False\n",
      "5    False\n",
      "dtype: bool\n"
     ]
    }
   ],
   "source": [
    "import pandas as pd\n",
    "import numpy as np\n",
    "# Pass a 2D numpy array - each row is the corresponding row required in the dataframe\n",
    "\n",
    "data = np.array([[1,\"toyota\",\"corolla\",\"TOYOTA\",\"corolla\"], \n",
    "                 [2,\"honda\",\"civic\",\"lamborghini\",\"sinata\"], \n",
    "                 [1,\"hyndai\",\"accent car\",\"hyndaisera\",\"accent car\"], \n",
    "                 [1,\"nissan\",\"sentra\",\"maserati\",\"dishenco\"],\n",
    "                 [2,\"honda\",\"Odessey\",\"porshe\",\"cayane\"],\n",
    "                 [1,\"Tesla\",\"model\",\"tesla mode3\",\"tesla\"]])   # testing reversal of data\n",
    "\n",
    "#TODO try using contains and test for backward macthes\n",
    "\n",
    "# pass column names in the columns parameter \n",
    "df = pd.DataFrame(data, columns = ['year', 'make1','model1','make2','model2'])\n",
    "\n",
    "print(df)\n",
    "#df['extrcolumn'] = df['model'].str.upper()\n",
    "#dftest1 = df.loc[(df['make1'] == 'honda')]\n",
    "#dftest1 = (df.loc[(df['make1'] == 'honda')] or df.loc[(df['model1'] == df['model2'])])\n",
    "#dftest1 = df['make1'] == 'honda'\n",
    "\n",
    "print('\\n')\n",
    "\n",
    "print(df[\"model2\"].str.split(\" \", n = 1, expand = False)==(df[\"model1\"].str.split(\" \", n = 1, expand = False)))"
   ]
  },
  {
   "cell_type": "code",
   "execution_count": null,
   "metadata": {},
   "outputs": [],
   "source": [
    "\n",
    "#df = df.assign(model2='Expenses')\n",
    "\n",
    "#df.loc[:,'model2'] = str('Expenses')\n",
    "\n",
    "\n",
    "#df['model2'] = 'Expenditure'\n",
    "checkList = ['toy','hyndai']\n",
    "checkListUppercase = [x.upper() for x in checkList]\n",
    "#if(row.make1.upper() in checkListUppercase):\n",
    "\n",
    "def NameReplacer(row):\n",
    "    \n",
    "    for item in checkListUppercase:\n",
    "        if(item in row.make1.upper()):\n",
    "\n",
    "            return item\n",
    "\n",
    "\n",
    "df.loc[:, 'Transaction'] = df.apply(NameReplacer, axis = 1)\n",
    "\n",
    "df.modelchecker.fillna(value=np.nan, inplace=True)   # replaces nNone values with NaN values\n",
    "\n",
    "df['Transaction'] = df['Transaction'].fillna('Expenditure')  # this allows you to now replace the NaN values with anything you want\n",
    "#df['modelchecker'].replace(NaN, \"\", inplace=True)\n",
    "\n",
    "#df['Match_Tester'] = df.apply(lambda errorDetector : df, axis = 1)\n",
    "print(df)"
   ]
  },
  {
   "cell_type": "code",
   "execution_count": null,
   "metadata": {},
   "outputs": [],
   "source": [
    "class ModifyMyDf:\n",
    "\n",
    "\n",
    "    #def__init__(self):\n",
    "\n",
    "\n",
    "\n",
    "    def errorDetector(row):\n",
    "    \n",
    "        if ((row.year == '2') or   #CHeck if the year is equal to 2\n",
    "        (row.make1.upper() == row.make2.upper() and row.model1.upper() == row.model2.upper()) or \n",
    "        (row.make1.upper() == row.model2.upper() and row.model1.upper() == row.make2.upper())):  # check if columns match in reverse\n",
    "        #if ((row.year == '2') or (row.make1.str.upper() == row.make2.str.upper() & row.model1 in (row.model2)))   \n",
    "            return \"Match\"\n",
    "    \n",
    "        else:\n",
    "            return \"No Match\"\n",
    "\n",
    "    #if (row.year == '2' | (row.make1.str.upper() == row.make2.str.upper() & row.model1.isin(row.model2)))\n",
    "\n",
    "    #(row.make1.upper() == row.model2.upper() and row.model1.upper() == row.make2.upper())\n",
    "\n",
    "    def runMyprogram():\n",
    "        #df.loc[:, 'Match Tester'] = df.apply(errorDetector, axis = 1)\n",
    "        df['Match_Tester'] = df.apply(lambda errorDetector : df, axis = 1)\n",
    "    #df['Discounted_Price'] = df.apply(fun)\n",
    "        print(df)\n",
    "    runMyprogram()\n",
    "\n",
    "ModifyMyDf()"
   ]
  },
  {
   "cell_type": "code",
   "execution_count": null,
   "metadata": {},
   "outputs": [],
   "source": [
    "#df['extrcolumn'] = df['model'].str.upper()\n",
    "#dftest1 = df.loc[(df['make1'] == 'honda')]\n",
    "#dftest1 = (df.loc[(df['make1'] == 'honda')] or df.loc[(df['model1'] == df['model2'])])\n",
    "#dftest1 = df['make1'] == 'honda'\n",
    "dftest1 = df.query('year == \"2\" or (make1.str.upper() == make2.str.upper() and model1.isin(model2))')\n",
    "\n",
    "\n",
    "\n",
    "print('\\n')\n",
    "print(dftest1)"
   ]
  },
  {
   "cell_type": "markdown",
   "metadata": {},
   "source": [
    "## Keyword arguments\n",
    "- instead of regular unamed arguments : `GzipFile(None, 'wt', 9, output_file)`\n",
    "- You see the arguments named e.g : `GzipFile(fileobj=output_file, mode='wt', compresslevel=9)`\n",
    "\n",
    "### Benefits:-\n",
    "1. We can often leave out arguments that have default values\n",
    "2. We can rearrange arguments in a way that makes them most readable\n",
    "3. We call arguments by their names to make it more clear what they represent"
   ]
  },
  {
   "cell_type": "code",
   "execution_count": 5,
   "metadata": {},
   "outputs": [
    {
     "data": {
      "text/plain": [
       "(-0.03261259155885732, -2.9673874084411427)"
      ]
     },
     "execution_count": 5,
     "metadata": {},
     "output_type": "execute_result"
    }
   ],
   "source": [
    "from math import sqrt\n",
    "# or could have used  from numpy import sqrt, then e.g sqrt(9)\n",
    "def quadratic(a, b, c):\n",
    "    x1 = -b / (2*a)\n",
    "    x2 = sqrt(b**2 - 4*a*c) / (2*a)\n",
    "    return (x1 + x2), (x1 - x2)\n",
    "\n",
    "quadratic(31, 93, 62)  # without keyword arguments\n",
    "quadratic(a=31, b=93, c=62) # with keyword arguments based on the function\n",
    "\n",
    "def quadratic(a, b, c ,initial = 7):  #NB initial now has a default value\n",
    "    x1 = -b / (2*a)\n",
    "    x2 = sqrt(b**2 - 4*a*c) / (2*a)\n",
    "    return (x1 + x2), (x1 - x2)\n",
    "\n",
    "quadratic(31, 93, 62, )  # without keyword arguments\n",
    "quadratic(a=31, b=93, c= 3 ,initial =62) # with keyword arguments based on the function"
   ]
  },
  {
   "cell_type": "markdown",
   "metadata": {},
   "source": [
    "## The  \"*args\" oprator allows you to enter an undetermined number of arguments to the funtion  \n",
    "The star(*) is known as the unpacking operator (*)  \n",
    "\n",
    "-Use cases adding a list of numbers which changes dynamically each time the function is called"
   ]
  },
  {
   "cell_type": "code",
   "execution_count": null,
   "metadata": {},
   "outputs": [],
   "source": [
    "# sum_integers_list.py\n",
    "def my_sum(my_integers):\n",
    "    result = 0\n",
    "    for x in my_integers:\n",
    "        result += x\n",
    "    return result\n",
    "\n",
    "list_of_integers = [1, 2, 3]\n",
    "print(my_sum(list_of_integers))"
   ]
  },
  {
   "cell_type": "code",
   "execution_count": null,
   "metadata": {},
   "outputs": [],
   "source": [
    "# sum_integers_args.py\n",
    "def my_sum(*args):\n",
    "    result = 0\n",
    "    # Iterating over the Python args tuple\n",
    "    for x in args:\n",
    "        result += x\n",
    "    return result\n",
    "\n",
    "print(my_sum(1, 2, 3))"
   ]
  },
  {
   "cell_type": "code",
   "execution_count": null,
   "metadata": {},
   "outputs": [],
   "source": [
    "# sum of a list of integers :-\n",
    "def my_sum(*args):\n",
    "    result = 0\n",
    "    for x in args:\n",
    "        result += x\n",
    "    return result\n",
    "\n",
    "list1 = [1, 2, 3]\n",
    "list2 = [4, 5]\n",
    "list3 = [6, 7, 8, 9]\n",
    "\n",
    "print(my_sum(*list1, *list2, *list3))"
   ]
  },
  {
   "cell_type": "code",
   "execution_count": null,
   "metadata": {},
   "outputs": [],
   "source": [
    "def product(*numbers, initial=1):  # initial is specified at\n",
    "    total = initial\n",
    "    for n in numbers:\n",
    "        total *= n\n",
    "    return total\n",
    "\n",
    "product(4, 4) #numbers takes an unlimited number of arguments\n",
    "product(4, 5, 2, initial=3) # over here we specify with a keyword argument"
   ]
  },
  {
   "cell_type": "markdown",
   "metadata": {},
   "source": [
    "## The \"**kwargs\" oprator allows you to enter an undetermined number of \"keyword/named\" arguments to the function"
   ]
  },
  {
   "cell_type": "code",
   "execution_count": null,
   "metadata": {},
   "outputs": [],
   "source": [
    "# concatenate.py\n",
    "def concatenate(**kwargs):\n",
    "    result = \"\"\n",
    "    # Iterating over the Python kwargs dictionary\n",
    "    for arg in kwargs.values():\n",
    "        result += arg\n",
    "    return result\n",
    "\n",
    "print(concatenate(a=\"Real\", b=\"Python\", c=\"Is\", d=\"Great\", e=\"!\"))"
   ]
  },
  {
   "cell_type": "markdown",
   "metadata": {},
   "source": [
    "## Generators *Advanced*\n",
    "- They are special functions that do not store contents in memory\n",
    "- Useful for optimizing the processing of large data sets\n",
    "- Instead of loading a file to memory it opens up the file then iterates while performing calculations then returns a results\n",
    "\n"
   ]
  },
  {
   "cell_type": "code",
   "execution_count": null,
   "metadata": {},
   "outputs": [],
   "source": [
    "def csv_reader(file_name):\n",
    "    for row in open(file_name, \"r\"):\n",
    "        yield row "
   ]
  },
  {
   "cell_type": "code",
   "execution_count": null,
   "metadata": {},
   "outputs": [],
   "source": [
    "string1 = 'hector'\n",
    "string2 = 'HECTOR'\n",
    "\n",
    "if (string1.upper() == string2.upper()):\n",
    "     print('they are the same')\n",
    "     string1=string1.upper()\n",
    "     print(string1)\n",
    "else:\n",
    "    print('they are not the same')\n"
   ]
  },
  {
   "cell_type": "markdown",
   "metadata": {},
   "source": [
    "## Argeparse  \n",
    "\n",
    "A python module for allowing your program to recieve arguemnts in the command line. The argparse module makes it easy to write user-friendly command-line interfaces. Think Linux command line\n"
   ]
  },
  {
   "cell_type": "code",
   "execution_count": null,
   "metadata": {},
   "outputs": [],
   "source": [
    "from tkinter import *\n",
    "\n",
    "root = Tk()\n",
    "frame = Frame(root)\n",
    "frame.pack()\n",
    "\n",
    "bottomframe = Frame(root)\n",
    "bottomframe.pack( side = BOTTOM )\n",
    "\n",
    "redbutton = Button(frame, text=\"Red\", fg=\"red\")\n",
    "redbutton.pack( side = LEFT)\n",
    "\n",
    "greenbutton = Button(frame, text=\"Brown\", fg=\"brown\")\n",
    "greenbutton.pack( side = LEFT )\n",
    "\n",
    "bluebutton = Button(frame, text=\"Blue\", fg=\"blue\")\n",
    "bluebutton.pack( side = LEFT )\n",
    "\n",
    "blackbutton = Button(bottomframe, text=\"Black\", fg=\"black\")\n",
    "blackbutton.pack( side = BOTTOM)\n",
    "\n",
    "root.mainloop()"
   ]
  },
  {
   "cell_type": "code",
   "execution_count": null,
   "metadata": {},
   "outputs": [],
   "source": [
    "\n",
    "marks = {'Physics':67, 'Maths':87}\n",
    "internal_marks = {'Physics':68}\n",
    "\n",
    "#marks.update(internal_marks)\n",
    "marks['Physics'] +=1\n",
    "\n",
    "\n",
    "print(marks)\n",
    "\n",
    "# Output: {'Physics': 67, 'Maths': 87, 'Practical': 48}"
   ]
  },
  {
   "cell_type": "code",
   "execution_count": null,
   "metadata": {},
   "outputs": [],
   "source": [
    "def fun():\n",
    "    str = \"geeksforgeeks\"\n",
    "    x   = 20\n",
    "    return str, x;  # Return tuple, we could also\n",
    "                    # write (str, x)\n",
    "  \n",
    "# Driver code to test above method\n",
    "str, x = fun() # Assign returned tuple\n",
    "\n",
    "print(str)\n",
    "print(x)"
   ]
  },
  {
   "cell_type": "code",
   "execution_count": null,
   "metadata": {},
   "outputs": [],
   "source": [
    "def fun():  #- parameter\n",
    "    print(str,x)\n",
    "    str2 = \"geeksforgeeks\"\n",
    "    chinaAmountx   = 20\n",
    "    peruAmountx   = 70\n",
    "    print(str2,chinaAmountx,peruAmountx)\n",
    "    return str, chinaAmountx,peruAmountx;\n",
    "      # Return tuple, we could also\n",
    "                    # write (str, x)\n",
    "  \n",
    "# Driver code to test above method\n",
    "#str, x = fun() # Assign returned tuple\n",
    "#fun(\"james\", 5)#-- arguments\n",
    "fun()\n",
    "#print(str)\n",
    "#Sprint(x)"
   ]
  },
  {
   "cell_type": "markdown",
   "metadata": {},
   "source": [
    "## Python Testing\n",
    "You have just seen two types of tests:-  \n",
    "1. An <span style=\"color:orange\">integration test</span> checks that components in your application operate with each other.\n",
    "2. A <span style=\"color:orange\">unit test</span> checks a small component in your application."
   ]
  },
  {
   "cell_type": "code",
   "execution_count": 4,
   "metadata": {},
   "outputs": [
    {
     "ename": "AssertionError",
     "evalue": "Should be 6",
     "output_type": "error",
     "traceback": [
      "\u001b[1;31m---------------------------------------------------------------------------\u001b[0m",
      "\u001b[1;31mAssertionError\u001b[0m                            Traceback (most recent call last)",
      "\u001b[1;32m<ipython-input-4-fa10351dd942>\u001b[0m in \u001b[0;36m<module>\u001b[1;34m\u001b[0m\n\u001b[1;32m----> 1\u001b[1;33m \u001b[1;32massert\u001b[0m \u001b[0msum\u001b[0m\u001b[1;33m(\u001b[0m\u001b[1;33m[\u001b[0m\u001b[1;36m1\u001b[0m\u001b[1;33m,\u001b[0m \u001b[1;36m1\u001b[0m\u001b[1;33m,\u001b[0m \u001b[1;36m1\u001b[0m\u001b[1;33m]\u001b[0m\u001b[1;33m)\u001b[0m \u001b[1;33m==\u001b[0m \u001b[1;36m6\u001b[0m\u001b[1;33m,\u001b[0m \u001b[1;34m\"Should be 6\"\u001b[0m\u001b[1;33m\u001b[0m\u001b[1;33m\u001b[0m\u001b[0m\n\u001b[0m",
      "\u001b[1;31mAssertionError\u001b[0m: Should be 6"
     ]
    }
   ],
   "source": [
    "# simple test component\n",
    "\n",
    "assert sum([1, 1, 1]) == 6, \"Should be 6\""
   ]
  },
  {
   "cell_type": "code",
   "execution_count": 5,
   "metadata": {},
   "outputs": [
    {
     "name": "stdout",
     "output_type": "stream",
     "text": [
      "Everything passed\n"
     ]
    }
   ],
   "source": [
    "#simple test file\n",
    "\n",
    "def test_sum():\n",
    "    assert sum([1, 2, 3]) == 6, \"Should be 6\"\n",
    "\n",
    "if __name__ == \"__main__\":\n",
    "    test_sum()\n",
    "    print(\"Everything passed\")"
   ]
  },
  {
   "cell_type": "markdown",
   "metadata": {},
   "source": [
    "## unittest\n",
    "- An in built test frame work that requires certain syntax and interface elements contained the unittest module to test your code e.g taking the example above we:-\n",
    "\n",
    "1. Import unittest from the standard library\n",
    "2. Create a class called TestSum that inherits from the TestCase class\n",
    "3. Convert the test functions into methods by adding self as the first argument\n",
    "4. Change the assertions to use the self.assertEqual() method on the TestCase class\n",
    "5. Change the command-line entry point to call unittest.main()"
   ]
  },
  {
   "cell_type": "code",
   "execution_count": 6,
   "metadata": {},
   "outputs": [
    {
     "name": "stderr",
     "output_type": "stream",
     "text": [
      "usage: ipykernel_launcher.py [-h] [-v] [-q] [--locals] [-f] [-c] [-b]\n",
      "                             [-k TESTNAMEPATTERNS]\n",
      "                             [tests [tests ...]]\n",
      "ipykernel_launcher.py: error: argument -f/--failfast: ignored explicit argument 'C:\\\\Users\\\\Burudani\\\\AppData\\\\Local\\\\Temp\\\\tmp-16344P8As0YKMMq5L.json'\n",
      "ERROR:root:Internal Python error in the inspect module.\n",
      "Below is the traceback from this internal error.\n",
      "\n"
     ]
    },
    {
     "name": "stdout",
     "output_type": "stream",
     "text": [
      "Traceback (most recent call last):\n",
      "  File \"C:\\Users\\Burudani\\Anaconda3\\envs\\rwakiPythonEnv\\lib\\argparse.py\", line 1800, in parse_known_args\n",
      "    namespace, args = self._parse_known_args(args, namespace)\n",
      "  File \"C:\\Users\\Burudani\\Anaconda3\\envs\\rwakiPythonEnv\\lib\\argparse.py\", line 2006, in _parse_known_args\n",
      "    start_index = consume_optional(start_index)\n",
      "  File \"C:\\Users\\Burudani\\Anaconda3\\envs\\rwakiPythonEnv\\lib\\argparse.py\", line 1928, in consume_optional\n",
      "    raise ArgumentError(action, msg % explicit_arg)\n",
      "argparse.ArgumentError: argument -f/--failfast: ignored explicit argument 'C:\\\\Users\\\\Burudani\\\\AppData\\\\Local\\\\Temp\\\\tmp-16344P8As0YKMMq5L.json'\n",
      "\n",
      "During handling of the above exception, another exception occurred:\n",
      "\n",
      "Traceback (most recent call last):\n",
      "  File \"C:\\Users\\Burudani\\Anaconda3\\envs\\rwakiPythonEnv\\lib\\site-packages\\IPython\\core\\interactiveshell.py\", line 3427, in run_code\n",
      "    exec(code_obj, self.user_global_ns, self.user_ns)\n",
      "  File \"<ipython-input-6-e894ff2a565d>\", line 13, in <module>\n",
      "    unittest.main()\n",
      "  File \"C:\\Users\\Burudani\\Anaconda3\\envs\\rwakiPythonEnv\\lib\\unittest\\main.py\", line 100, in __init__\n",
      "    self.parseArgs(argv)\n",
      "  File \"C:\\Users\\Burudani\\Anaconda3\\envs\\rwakiPythonEnv\\lib\\unittest\\main.py\", line 133, in parseArgs\n",
      "    self._main_parser.parse_args(argv[1:], self)\n",
      "  File \"C:\\Users\\Burudani\\Anaconda3\\envs\\rwakiPythonEnv\\lib\\argparse.py\", line 1768, in parse_args\n",
      "    args, argv = self.parse_known_args(args, namespace)\n",
      "  File \"C:\\Users\\Burudani\\Anaconda3\\envs\\rwakiPythonEnv\\lib\\argparse.py\", line 1807, in parse_known_args\n",
      "    self.error(str(err))\n",
      "  File \"C:\\Users\\Burudani\\Anaconda3\\envs\\rwakiPythonEnv\\lib\\argparse.py\", line 2521, in error\n",
      "    self.exit(2, _('%(prog)s: error: %(message)s\\n') % args)\n",
      "  File \"C:\\Users\\Burudani\\Anaconda3\\envs\\rwakiPythonEnv\\lib\\argparse.py\", line 2508, in exit\n",
      "    _sys.exit(status)\n",
      "SystemExit: 2\n",
      "\n",
      "During handling of the above exception, another exception occurred:\n",
      "\n",
      "Traceback (most recent call last):\n",
      "  File \"C:\\Users\\Burudani\\Anaconda3\\envs\\rwakiPythonEnv\\lib\\site-packages\\IPython\\core\\ultratb.py\", line 1101, in get_records\n",
      "    return _fixed_getinnerframes(etb, number_of_lines_of_context, tb_offset)\n",
      "  File \"C:\\Users\\Burudani\\Anaconda3\\envs\\rwakiPythonEnv\\lib\\site-packages\\IPython\\core\\ultratb.py\", line 248, in wrapped\n",
      "    return f(*args, **kwargs)\n",
      "  File \"C:\\Users\\Burudani\\Anaconda3\\envs\\rwakiPythonEnv\\lib\\site-packages\\IPython\\core\\ultratb.py\", line 281, in _fixed_getinnerframes\n",
      "    records = fix_frame_records_filenames(inspect.getinnerframes(etb, context))\n",
      "  File \"C:\\Users\\Burudani\\Anaconda3\\envs\\rwakiPythonEnv\\lib\\inspect.py\", line 1503, in getinnerframes\n",
      "    frameinfo = (tb.tb_frame,) + getframeinfo(tb, context)\n",
      "AttributeError: 'tuple' object has no attribute 'tb_frame'\n"
     ]
    },
    {
     "ename": "TypeError",
     "evalue": "object of type 'NoneType' has no len()",
     "output_type": "error",
     "traceback": [
      "\u001b[1;31m---------------------------------------------------------------------------\u001b[0m",
      "\u001b[1;31mArgumentError\u001b[0m                             Traceback (most recent call last)",
      "\u001b[1;32m~\\Anaconda3\\envs\\rwakiPythonEnv\\lib\\argparse.py\u001b[0m in \u001b[0;36mparse_known_args\u001b[1;34m(self, args, namespace)\u001b[0m\n\u001b[0;32m   1799\u001b[0m         \u001b[1;32mtry\u001b[0m\u001b[1;33m:\u001b[0m\u001b[1;33m\u001b[0m\u001b[1;33m\u001b[0m\u001b[0m\n\u001b[1;32m-> 1800\u001b[1;33m             \u001b[0mnamespace\u001b[0m\u001b[1;33m,\u001b[0m \u001b[0margs\u001b[0m \u001b[1;33m=\u001b[0m \u001b[0mself\u001b[0m\u001b[1;33m.\u001b[0m\u001b[0m_parse_known_args\u001b[0m\u001b[1;33m(\u001b[0m\u001b[0margs\u001b[0m\u001b[1;33m,\u001b[0m \u001b[0mnamespace\u001b[0m\u001b[1;33m)\u001b[0m\u001b[1;33m\u001b[0m\u001b[1;33m\u001b[0m\u001b[0m\n\u001b[0m\u001b[0;32m   1801\u001b[0m             \u001b[1;32mif\u001b[0m \u001b[0mhasattr\u001b[0m\u001b[1;33m(\u001b[0m\u001b[0mnamespace\u001b[0m\u001b[1;33m,\u001b[0m \u001b[0m_UNRECOGNIZED_ARGS_ATTR\u001b[0m\u001b[1;33m)\u001b[0m\u001b[1;33m:\u001b[0m\u001b[1;33m\u001b[0m\u001b[1;33m\u001b[0m\u001b[0m\n",
      "\u001b[1;32m~\\Anaconda3\\envs\\rwakiPythonEnv\\lib\\argparse.py\u001b[0m in \u001b[0;36m_parse_known_args\u001b[1;34m(self, arg_strings, namespace)\u001b[0m\n\u001b[0;32m   2005\u001b[0m             \u001b[1;31m# consume the next optional and any arguments for it\u001b[0m\u001b[1;33m\u001b[0m\u001b[1;33m\u001b[0m\u001b[1;33m\u001b[0m\u001b[0m\n\u001b[1;32m-> 2006\u001b[1;33m             \u001b[0mstart_index\u001b[0m \u001b[1;33m=\u001b[0m \u001b[0mconsume_optional\u001b[0m\u001b[1;33m(\u001b[0m\u001b[0mstart_index\u001b[0m\u001b[1;33m)\u001b[0m\u001b[1;33m\u001b[0m\u001b[1;33m\u001b[0m\u001b[0m\n\u001b[0m\u001b[0;32m   2007\u001b[0m \u001b[1;33m\u001b[0m\u001b[0m\n",
      "\u001b[1;32m~\\Anaconda3\\envs\\rwakiPythonEnv\\lib\\argparse.py\u001b[0m in \u001b[0;36mconsume_optional\u001b[1;34m(start_index)\u001b[0m\n\u001b[0;32m   1927\u001b[0m                         \u001b[0mmsg\u001b[0m \u001b[1;33m=\u001b[0m \u001b[0m_\u001b[0m\u001b[1;33m(\u001b[0m\u001b[1;34m'ignored explicit argument %r'\u001b[0m\u001b[1;33m)\u001b[0m\u001b[1;33m\u001b[0m\u001b[1;33m\u001b[0m\u001b[0m\n\u001b[1;32m-> 1928\u001b[1;33m                         \u001b[1;32mraise\u001b[0m \u001b[0mArgumentError\u001b[0m\u001b[1;33m(\u001b[0m\u001b[0maction\u001b[0m\u001b[1;33m,\u001b[0m \u001b[0mmsg\u001b[0m \u001b[1;33m%\u001b[0m \u001b[0mexplicit_arg\u001b[0m\u001b[1;33m)\u001b[0m\u001b[1;33m\u001b[0m\u001b[1;33m\u001b[0m\u001b[0m\n\u001b[0m\u001b[0;32m   1929\u001b[0m \u001b[1;33m\u001b[0m\u001b[0m\n",
      "\u001b[1;31mArgumentError\u001b[0m: argument -f/--failfast: ignored explicit argument 'C:\\\\Users\\\\Burudani\\\\AppData\\\\Local\\\\Temp\\\\tmp-16344P8As0YKMMq5L.json'",
      "\nDuring handling of the above exception, another exception occurred:\n",
      "\u001b[1;31mSystemExit\u001b[0m                                Traceback (most recent call last)",
      "    \u001b[1;31m[... skipping hidden 1 frame]\u001b[0m\n",
      "\u001b[1;32m<ipython-input-6-e894ff2a565d>\u001b[0m in \u001b[0;36m<module>\u001b[1;34m\u001b[0m\n\u001b[0;32m     12\u001b[0m \u001b[1;32mif\u001b[0m \u001b[0m__name__\u001b[0m \u001b[1;33m==\u001b[0m \u001b[1;34m'__main__'\u001b[0m\u001b[1;33m:\u001b[0m\u001b[1;33m\u001b[0m\u001b[1;33m\u001b[0m\u001b[0m\n\u001b[1;32m---> 13\u001b[1;33m     \u001b[0munittest\u001b[0m\u001b[1;33m.\u001b[0m\u001b[0mmain\u001b[0m\u001b[1;33m(\u001b[0m\u001b[1;33m)\u001b[0m\u001b[1;33m\u001b[0m\u001b[1;33m\u001b[0m\u001b[0m\n\u001b[0m",
      "\u001b[1;32m~\\Anaconda3\\envs\\rwakiPythonEnv\\lib\\unittest\\main.py\u001b[0m in \u001b[0;36m__init__\u001b[1;34m(self, module, defaultTest, argv, testRunner, testLoader, exit, verbosity, failfast, catchbreak, buffer, warnings, tb_locals)\u001b[0m\n\u001b[0;32m     99\u001b[0m         \u001b[0mself\u001b[0m\u001b[1;33m.\u001b[0m\u001b[0mprogName\u001b[0m \u001b[1;33m=\u001b[0m \u001b[0mos\u001b[0m\u001b[1;33m.\u001b[0m\u001b[0mpath\u001b[0m\u001b[1;33m.\u001b[0m\u001b[0mbasename\u001b[0m\u001b[1;33m(\u001b[0m\u001b[0margv\u001b[0m\u001b[1;33m[\u001b[0m\u001b[1;36m0\u001b[0m\u001b[1;33m]\u001b[0m\u001b[1;33m)\u001b[0m\u001b[1;33m\u001b[0m\u001b[1;33m\u001b[0m\u001b[0m\n\u001b[1;32m--> 100\u001b[1;33m         \u001b[0mself\u001b[0m\u001b[1;33m.\u001b[0m\u001b[0mparseArgs\u001b[0m\u001b[1;33m(\u001b[0m\u001b[0margv\u001b[0m\u001b[1;33m)\u001b[0m\u001b[1;33m\u001b[0m\u001b[1;33m\u001b[0m\u001b[0m\n\u001b[0m\u001b[0;32m    101\u001b[0m         \u001b[0mself\u001b[0m\u001b[1;33m.\u001b[0m\u001b[0mrunTests\u001b[0m\u001b[1;33m(\u001b[0m\u001b[1;33m)\u001b[0m\u001b[1;33m\u001b[0m\u001b[1;33m\u001b[0m\u001b[0m\n",
      "\u001b[1;32m~\\Anaconda3\\envs\\rwakiPythonEnv\\lib\\unittest\\main.py\u001b[0m in \u001b[0;36mparseArgs\u001b[1;34m(self, argv)\u001b[0m\n\u001b[0;32m    132\u001b[0m         \u001b[1;32melse\u001b[0m\u001b[1;33m:\u001b[0m\u001b[1;33m\u001b[0m\u001b[1;33m\u001b[0m\u001b[0m\n\u001b[1;32m--> 133\u001b[1;33m             \u001b[0mself\u001b[0m\u001b[1;33m.\u001b[0m\u001b[0m_main_parser\u001b[0m\u001b[1;33m.\u001b[0m\u001b[0mparse_args\u001b[0m\u001b[1;33m(\u001b[0m\u001b[0margv\u001b[0m\u001b[1;33m[\u001b[0m\u001b[1;36m1\u001b[0m\u001b[1;33m:\u001b[0m\u001b[1;33m]\u001b[0m\u001b[1;33m,\u001b[0m \u001b[0mself\u001b[0m\u001b[1;33m)\u001b[0m\u001b[1;33m\u001b[0m\u001b[1;33m\u001b[0m\u001b[0m\n\u001b[0m\u001b[0;32m    134\u001b[0m \u001b[1;33m\u001b[0m\u001b[0m\n",
      "\u001b[1;32m~\\Anaconda3\\envs\\rwakiPythonEnv\\lib\\argparse.py\u001b[0m in \u001b[0;36mparse_args\u001b[1;34m(self, args, namespace)\u001b[0m\n\u001b[0;32m   1767\u001b[0m     \u001b[1;32mdef\u001b[0m \u001b[0mparse_args\u001b[0m\u001b[1;33m(\u001b[0m\u001b[0mself\u001b[0m\u001b[1;33m,\u001b[0m \u001b[0margs\u001b[0m\u001b[1;33m=\u001b[0m\u001b[1;32mNone\u001b[0m\u001b[1;33m,\u001b[0m \u001b[0mnamespace\u001b[0m\u001b[1;33m=\u001b[0m\u001b[1;32mNone\u001b[0m\u001b[1;33m)\u001b[0m\u001b[1;33m:\u001b[0m\u001b[1;33m\u001b[0m\u001b[1;33m\u001b[0m\u001b[0m\n\u001b[1;32m-> 1768\u001b[1;33m         \u001b[0margs\u001b[0m\u001b[1;33m,\u001b[0m \u001b[0margv\u001b[0m \u001b[1;33m=\u001b[0m \u001b[0mself\u001b[0m\u001b[1;33m.\u001b[0m\u001b[0mparse_known_args\u001b[0m\u001b[1;33m(\u001b[0m\u001b[0margs\u001b[0m\u001b[1;33m,\u001b[0m \u001b[0mnamespace\u001b[0m\u001b[1;33m)\u001b[0m\u001b[1;33m\u001b[0m\u001b[1;33m\u001b[0m\u001b[0m\n\u001b[0m\u001b[0;32m   1769\u001b[0m         \u001b[1;32mif\u001b[0m \u001b[0margv\u001b[0m\u001b[1;33m:\u001b[0m\u001b[1;33m\u001b[0m\u001b[1;33m\u001b[0m\u001b[0m\n",
      "\u001b[1;32m~\\Anaconda3\\envs\\rwakiPythonEnv\\lib\\argparse.py\u001b[0m in \u001b[0;36mparse_known_args\u001b[1;34m(self, args, namespace)\u001b[0m\n\u001b[0;32m   1806\u001b[0m             \u001b[0merr\u001b[0m \u001b[1;33m=\u001b[0m \u001b[0m_sys\u001b[0m\u001b[1;33m.\u001b[0m\u001b[0mexc_info\u001b[0m\u001b[1;33m(\u001b[0m\u001b[1;33m)\u001b[0m\u001b[1;33m[\u001b[0m\u001b[1;36m1\u001b[0m\u001b[1;33m]\u001b[0m\u001b[1;33m\u001b[0m\u001b[1;33m\u001b[0m\u001b[0m\n\u001b[1;32m-> 1807\u001b[1;33m             \u001b[0mself\u001b[0m\u001b[1;33m.\u001b[0m\u001b[0merror\u001b[0m\u001b[1;33m(\u001b[0m\u001b[0mstr\u001b[0m\u001b[1;33m(\u001b[0m\u001b[0merr\u001b[0m\u001b[1;33m)\u001b[0m\u001b[1;33m)\u001b[0m\u001b[1;33m\u001b[0m\u001b[1;33m\u001b[0m\u001b[0m\n\u001b[0m\u001b[0;32m   1808\u001b[0m \u001b[1;33m\u001b[0m\u001b[0m\n",
      "\u001b[1;32m~\\Anaconda3\\envs\\rwakiPythonEnv\\lib\\argparse.py\u001b[0m in \u001b[0;36merror\u001b[1;34m(self, message)\u001b[0m\n\u001b[0;32m   2520\u001b[0m         \u001b[0margs\u001b[0m \u001b[1;33m=\u001b[0m \u001b[1;33m{\u001b[0m\u001b[1;34m'prog'\u001b[0m\u001b[1;33m:\u001b[0m \u001b[0mself\u001b[0m\u001b[1;33m.\u001b[0m\u001b[0mprog\u001b[0m\u001b[1;33m,\u001b[0m \u001b[1;34m'message'\u001b[0m\u001b[1;33m:\u001b[0m \u001b[0mmessage\u001b[0m\u001b[1;33m}\u001b[0m\u001b[1;33m\u001b[0m\u001b[1;33m\u001b[0m\u001b[0m\n\u001b[1;32m-> 2521\u001b[1;33m         \u001b[0mself\u001b[0m\u001b[1;33m.\u001b[0m\u001b[0mexit\u001b[0m\u001b[1;33m(\u001b[0m\u001b[1;36m2\u001b[0m\u001b[1;33m,\u001b[0m \u001b[0m_\u001b[0m\u001b[1;33m(\u001b[0m\u001b[1;34m'%(prog)s: error: %(message)s\\n'\u001b[0m\u001b[1;33m)\u001b[0m \u001b[1;33m%\u001b[0m \u001b[0margs\u001b[0m\u001b[1;33m)\u001b[0m\u001b[1;33m\u001b[0m\u001b[1;33m\u001b[0m\u001b[0m\n\u001b[0m",
      "\u001b[1;32m~\\Anaconda3\\envs\\rwakiPythonEnv\\lib\\argparse.py\u001b[0m in \u001b[0;36mexit\u001b[1;34m(self, status, message)\u001b[0m\n\u001b[0;32m   2507\u001b[0m             \u001b[0mself\u001b[0m\u001b[1;33m.\u001b[0m\u001b[0m_print_message\u001b[0m\u001b[1;33m(\u001b[0m\u001b[0mmessage\u001b[0m\u001b[1;33m,\u001b[0m \u001b[0m_sys\u001b[0m\u001b[1;33m.\u001b[0m\u001b[0mstderr\u001b[0m\u001b[1;33m)\u001b[0m\u001b[1;33m\u001b[0m\u001b[1;33m\u001b[0m\u001b[0m\n\u001b[1;32m-> 2508\u001b[1;33m         \u001b[0m_sys\u001b[0m\u001b[1;33m.\u001b[0m\u001b[0mexit\u001b[0m\u001b[1;33m(\u001b[0m\u001b[0mstatus\u001b[0m\u001b[1;33m)\u001b[0m\u001b[1;33m\u001b[0m\u001b[1;33m\u001b[0m\u001b[0m\n\u001b[0m\u001b[0;32m   2509\u001b[0m \u001b[1;33m\u001b[0m\u001b[0m\n",
      "\u001b[1;31mSystemExit\u001b[0m: 2",
      "\nDuring handling of the above exception, another exception occurred:\n",
      "\u001b[1;31mTypeError\u001b[0m                                 Traceback (most recent call last)",
      "    \u001b[1;31m[... skipping hidden 1 frame]\u001b[0m\n",
      "\u001b[1;32m~\\Anaconda3\\envs\\rwakiPythonEnv\\lib\\site-packages\\IPython\\core\\interactiveshell.py\u001b[0m in \u001b[0;36mshowtraceback\u001b[1;34m(self, exc_tuple, filename, tb_offset, exception_only, running_compiled_code)\u001b[0m\n\u001b[0;32m   2045\u001b[0m                     stb = ['An exception has occurred, use %tb to see '\n\u001b[0;32m   2046\u001b[0m                            'the full traceback.\\n']\n\u001b[1;32m-> 2047\u001b[1;33m                     stb.extend(self.InteractiveTB.get_exception_only(etype,\n\u001b[0m\u001b[0;32m   2048\u001b[0m                                                                      value))\n\u001b[0;32m   2049\u001b[0m                 \u001b[1;32melse\u001b[0m\u001b[1;33m:\u001b[0m\u001b[1;33m\u001b[0m\u001b[1;33m\u001b[0m\u001b[0m\n",
      "\u001b[1;32m~\\Anaconda3\\envs\\rwakiPythonEnv\\lib\\site-packages\\IPython\\core\\ultratb.py\u001b[0m in \u001b[0;36mget_exception_only\u001b[1;34m(self, etype, value)\u001b[0m\n\u001b[0;32m    752\u001b[0m         \u001b[0mvalue\u001b[0m \u001b[1;33m:\u001b[0m \u001b[0mexception\u001b[0m \u001b[0mvalue\u001b[0m\u001b[1;33m\u001b[0m\u001b[1;33m\u001b[0m\u001b[0m\n\u001b[0;32m    753\u001b[0m         \"\"\"\n\u001b[1;32m--> 754\u001b[1;33m         \u001b[1;32mreturn\u001b[0m \u001b[0mListTB\u001b[0m\u001b[1;33m.\u001b[0m\u001b[0mstructured_traceback\u001b[0m\u001b[1;33m(\u001b[0m\u001b[0mself\u001b[0m\u001b[1;33m,\u001b[0m \u001b[0metype\u001b[0m\u001b[1;33m,\u001b[0m \u001b[0mvalue\u001b[0m\u001b[1;33m)\u001b[0m\u001b[1;33m\u001b[0m\u001b[1;33m\u001b[0m\u001b[0m\n\u001b[0m\u001b[0;32m    755\u001b[0m \u001b[1;33m\u001b[0m\u001b[0m\n\u001b[0;32m    756\u001b[0m     \u001b[1;32mdef\u001b[0m \u001b[0mshow_exception_only\u001b[0m\u001b[1;33m(\u001b[0m\u001b[0mself\u001b[0m\u001b[1;33m,\u001b[0m \u001b[0metype\u001b[0m\u001b[1;33m,\u001b[0m \u001b[0mevalue\u001b[0m\u001b[1;33m)\u001b[0m\u001b[1;33m:\u001b[0m\u001b[1;33m\u001b[0m\u001b[1;33m\u001b[0m\u001b[0m\n",
      "\u001b[1;32m~\\Anaconda3\\envs\\rwakiPythonEnv\\lib\\site-packages\\IPython\\core\\ultratb.py\u001b[0m in \u001b[0;36mstructured_traceback\u001b[1;34m(self, etype, evalue, etb, tb_offset, context)\u001b[0m\n\u001b[0;32m    627\u001b[0m             \u001b[0mchained_exceptions_tb_offset\u001b[0m \u001b[1;33m=\u001b[0m \u001b[1;36m0\u001b[0m\u001b[1;33m\u001b[0m\u001b[1;33m\u001b[0m\u001b[0m\n\u001b[0;32m    628\u001b[0m             out_list = (\n\u001b[1;32m--> 629\u001b[1;33m                 self.structured_traceback(\n\u001b[0m\u001b[0;32m    630\u001b[0m                     \u001b[0metype\u001b[0m\u001b[1;33m,\u001b[0m \u001b[0mevalue\u001b[0m\u001b[1;33m,\u001b[0m \u001b[1;33m(\u001b[0m\u001b[0metb\u001b[0m\u001b[1;33m,\u001b[0m \u001b[0mchained_exc_ids\u001b[0m\u001b[1;33m)\u001b[0m\u001b[1;33m,\u001b[0m\u001b[1;33m\u001b[0m\u001b[1;33m\u001b[0m\u001b[0m\n\u001b[0;32m    631\u001b[0m                     chained_exceptions_tb_offset, context)\n",
      "\u001b[1;32m~\\Anaconda3\\envs\\rwakiPythonEnv\\lib\\site-packages\\IPython\\core\\ultratb.py\u001b[0m in \u001b[0;36mstructured_traceback\u001b[1;34m(self, etype, value, tb, tb_offset, number_of_lines_of_context)\u001b[0m\n\u001b[0;32m   1365\u001b[0m         \u001b[1;32melse\u001b[0m\u001b[1;33m:\u001b[0m\u001b[1;33m\u001b[0m\u001b[1;33m\u001b[0m\u001b[0m\n\u001b[0;32m   1366\u001b[0m             \u001b[0mself\u001b[0m\u001b[1;33m.\u001b[0m\u001b[0mtb\u001b[0m \u001b[1;33m=\u001b[0m \u001b[0mtb\u001b[0m\u001b[1;33m\u001b[0m\u001b[1;33m\u001b[0m\u001b[0m\n\u001b[1;32m-> 1367\u001b[1;33m         return FormattedTB.structured_traceback(\n\u001b[0m\u001b[0;32m   1368\u001b[0m             self, etype, value, tb, tb_offset, number_of_lines_of_context)\n\u001b[0;32m   1369\u001b[0m \u001b[1;33m\u001b[0m\u001b[0m\n",
      "\u001b[1;32m~\\Anaconda3\\envs\\rwakiPythonEnv\\lib\\site-packages\\IPython\\core\\ultratb.py\u001b[0m in \u001b[0;36mstructured_traceback\u001b[1;34m(self, etype, value, tb, tb_offset, number_of_lines_of_context)\u001b[0m\n\u001b[0;32m   1265\u001b[0m         \u001b[1;32mif\u001b[0m \u001b[0mmode\u001b[0m \u001b[1;32min\u001b[0m \u001b[0mself\u001b[0m\u001b[1;33m.\u001b[0m\u001b[0mverbose_modes\u001b[0m\u001b[1;33m:\u001b[0m\u001b[1;33m\u001b[0m\u001b[1;33m\u001b[0m\u001b[0m\n\u001b[0;32m   1266\u001b[0m             \u001b[1;31m# Verbose modes need a full traceback\u001b[0m\u001b[1;33m\u001b[0m\u001b[1;33m\u001b[0m\u001b[1;33m\u001b[0m\u001b[0m\n\u001b[1;32m-> 1267\u001b[1;33m             return VerboseTB.structured_traceback(\n\u001b[0m\u001b[0;32m   1268\u001b[0m                 \u001b[0mself\u001b[0m\u001b[1;33m,\u001b[0m \u001b[0metype\u001b[0m\u001b[1;33m,\u001b[0m \u001b[0mvalue\u001b[0m\u001b[1;33m,\u001b[0m \u001b[0mtb\u001b[0m\u001b[1;33m,\u001b[0m \u001b[0mtb_offset\u001b[0m\u001b[1;33m,\u001b[0m \u001b[0mnumber_of_lines_of_context\u001b[0m\u001b[1;33m\u001b[0m\u001b[1;33m\u001b[0m\u001b[0m\n\u001b[0;32m   1269\u001b[0m             )\n",
      "\u001b[1;32m~\\Anaconda3\\envs\\rwakiPythonEnv\\lib\\site-packages\\IPython\\core\\ultratb.py\u001b[0m in \u001b[0;36mstructured_traceback\u001b[1;34m(self, etype, evalue, etb, tb_offset, number_of_lines_of_context)\u001b[0m\n\u001b[0;32m   1122\u001b[0m         \u001b[1;34m\"\"\"Return a nice text document describing the traceback.\"\"\"\u001b[0m\u001b[1;33m\u001b[0m\u001b[1;33m\u001b[0m\u001b[0m\n\u001b[0;32m   1123\u001b[0m \u001b[1;33m\u001b[0m\u001b[0m\n\u001b[1;32m-> 1124\u001b[1;33m         formatted_exception = self.format_exception_as_a_whole(etype, evalue, etb, number_of_lines_of_context,\n\u001b[0m\u001b[0;32m   1125\u001b[0m                                                                tb_offset)\n\u001b[0;32m   1126\u001b[0m \u001b[1;33m\u001b[0m\u001b[0m\n",
      "\u001b[1;32m~\\Anaconda3\\envs\\rwakiPythonEnv\\lib\\site-packages\\IPython\\core\\ultratb.py\u001b[0m in \u001b[0;36mformat_exception_as_a_whole\u001b[1;34m(self, etype, evalue, etb, number_of_lines_of_context, tb_offset)\u001b[0m\n\u001b[0;32m   1080\u001b[0m \u001b[1;33m\u001b[0m\u001b[0m\n\u001b[0;32m   1081\u001b[0m \u001b[1;33m\u001b[0m\u001b[0m\n\u001b[1;32m-> 1082\u001b[1;33m         \u001b[0mlast_unique\u001b[0m\u001b[1;33m,\u001b[0m \u001b[0mrecursion_repeat\u001b[0m \u001b[1;33m=\u001b[0m \u001b[0mfind_recursion\u001b[0m\u001b[1;33m(\u001b[0m\u001b[0morig_etype\u001b[0m\u001b[1;33m,\u001b[0m \u001b[0mevalue\u001b[0m\u001b[1;33m,\u001b[0m \u001b[0mrecords\u001b[0m\u001b[1;33m)\u001b[0m\u001b[1;33m\u001b[0m\u001b[1;33m\u001b[0m\u001b[0m\n\u001b[0m\u001b[0;32m   1083\u001b[0m \u001b[1;33m\u001b[0m\u001b[0m\n\u001b[0;32m   1084\u001b[0m         \u001b[0mframes\u001b[0m \u001b[1;33m=\u001b[0m \u001b[0mself\u001b[0m\u001b[1;33m.\u001b[0m\u001b[0mformat_records\u001b[0m\u001b[1;33m(\u001b[0m\u001b[0mrecords\u001b[0m\u001b[1;33m,\u001b[0m \u001b[0mlast_unique\u001b[0m\u001b[1;33m,\u001b[0m \u001b[0mrecursion_repeat\u001b[0m\u001b[1;33m)\u001b[0m\u001b[1;33m\u001b[0m\u001b[1;33m\u001b[0m\u001b[0m\n",
      "\u001b[1;32m~\\Anaconda3\\envs\\rwakiPythonEnv\\lib\\site-packages\\IPython\\core\\ultratb.py\u001b[0m in \u001b[0;36mfind_recursion\u001b[1;34m(etype, value, records)\u001b[0m\n\u001b[0;32m    380\u001b[0m     \u001b[1;31m# first frame (from in to out) that looks different.\u001b[0m\u001b[1;33m\u001b[0m\u001b[1;33m\u001b[0m\u001b[1;33m\u001b[0m\u001b[0m\n\u001b[0;32m    381\u001b[0m     \u001b[1;32mif\u001b[0m \u001b[1;32mnot\u001b[0m \u001b[0mis_recursion_error\u001b[0m\u001b[1;33m(\u001b[0m\u001b[0metype\u001b[0m\u001b[1;33m,\u001b[0m \u001b[0mvalue\u001b[0m\u001b[1;33m,\u001b[0m \u001b[0mrecords\u001b[0m\u001b[1;33m)\u001b[0m\u001b[1;33m:\u001b[0m\u001b[1;33m\u001b[0m\u001b[1;33m\u001b[0m\u001b[0m\n\u001b[1;32m--> 382\u001b[1;33m         \u001b[1;32mreturn\u001b[0m \u001b[0mlen\u001b[0m\u001b[1;33m(\u001b[0m\u001b[0mrecords\u001b[0m\u001b[1;33m)\u001b[0m\u001b[1;33m,\u001b[0m \u001b[1;36m0\u001b[0m\u001b[1;33m\u001b[0m\u001b[1;33m\u001b[0m\u001b[0m\n\u001b[0m\u001b[0;32m    383\u001b[0m \u001b[1;33m\u001b[0m\u001b[0m\n\u001b[0;32m    384\u001b[0m     \u001b[1;31m# Select filename, lineno, func_name to track frames with\u001b[0m\u001b[1;33m\u001b[0m\u001b[1;33m\u001b[0m\u001b[1;33m\u001b[0m\u001b[0m\n",
      "\u001b[1;31mTypeError\u001b[0m: object of type 'NoneType' has no len()"
     ]
    }
   ],
   "source": [
    "import unittest\n",
    "#this test does not run correctly here!, needs to be run in an actualy python i.e \".py\" file\n",
    "\n",
    "class TestSum(unittest.TestCase):\n",
    "\n",
    "    def test_sum(self):\n",
    "        self.assertEqual(sum([1, 2, 3]), 6, \"Should be 6\")\n",
    "\n",
    "    def test_sum_tuple(self):\n",
    "        self.assertEqual(sum((1, 2, 2)), 6, \"Should be 6\")\n",
    "\n",
    "if __name__ == '__main__':\n",
    "    unittest.main()\n",
    "\n",
    "\n",
    "\n",
    "#this test does not run correctly here!"
   ]
  },
  {
   "cell_type": "code",
   "execution_count": null,
   "metadata": {},
   "outputs": [],
   "source": [
    "#this test does not run correctly here!, needs to be run in an actualy python i.e \".py\" file\n",
    "\n",
    "class TestSum(unittest.TestCase):\n",
    "\n",
    "    def test_sum(self):\n",
    "        self.assertEqual(sum([1, 2, 3]), 6, \"Should be 6\")\n",
    "\n",
    "    def test_sum_tuple(self):\n",
    "        self.assertEqual(sum((1, 2, 2)), 6, \"Should be 6\")\n",
    "\n",
    "if __name__ == '__main__':\n",
    "    unittest.main()\n",
    "\n",
    "\n",
    "\n",
    "#this test does not run correctly here!"
   ]
  },
  {
   "cell_type": "markdown",
   "metadata": {},
   "source": [
    "## logs\n",
    "\"Each working data pipeline is designed like a log; each broken data pipeline is broken in its own way.\"—Count Leo Tolstoy (translation by the author) "
   ]
  }
 ],
 "metadata": {
  "interpreter": {
   "hash": "106f8dd8e7b9f8bf7b5c7f9387976efaa64fd1db7ebf679a5786be21993f005a"
  },
  "kernelspec": {
   "display_name": "Python 3.8.5 64-bit ('rwakiPythonEnv': conda)",
   "name": "python3"
  },
  "language_info": {
   "codemirror_mode": {
    "name": "ipython",
    "version": 3
   },
   "file_extension": ".py",
   "mimetype": "text/x-python",
   "name": "python",
   "nbconvert_exporter": "python",
   "pygments_lexer": "ipython3",
   "version": "3.9.7"
  }
 },
 "nbformat": 4,
 "nbformat_minor": 2
}
