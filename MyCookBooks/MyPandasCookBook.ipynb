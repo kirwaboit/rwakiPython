{
 "cells": [
  {
   "cell_type": "markdown",
   "metadata": {},
   "source": [
    "# Pandas Cookbook  "
   ]
  },
  {
   "cell_type": "markdown",
   "metadata": {},
   "source": [
    "## First a word on filepaths : Absolute vs Relative   \n",
    "\n",
    "- The Absolute path is the full path to some place on your computer.   \n",
    "- The Relative path is the path to some file with respect to your current working directory (PWD).    \n",
    "\n",
    "For example:-\n",
    "\n",
    "Absolute path: C:/users/admin/docs/stuff.txt  <-- use this always, don't be lazy!!!\n",
    "\n",
    "If my PWD is C:/users/admin/, then the relative path to stuff.txt would be: docs/stuff.txt  "
   ]
  },
  {
   "cell_type": "markdown",
   "metadata": {},
   "source": [
    "## Loading files\n",
    "- Warning makign column(s)!! an index, makes them immutable!! "
   ]
  },
  {
   "cell_type": "markdown",
   "metadata": {},
   "source": [
    "# Big list of Pandas Bugs and errors that will trip you up\n",
    "\n",
    "1. If you add a column to your data set, make sure you add it even when selecting a df subset of the columns\n",
    "- This issue caused no errors when refferencing non-existing columns in df subsets in loop itteration\n",
    "e.g \n",
    "\n",
    "```\n",
    "if you add a column : 'nuDataColumn' , make sure to add it to subset\n",
    "\n",
    "oldDataset = [['columns1','column3']]\n",
    "nuDataset = [['columns1','column3','nuDataset']]\n",
    "```"
   ]
  },
  {
   "cell_type": "code",
   "execution_count": 69,
   "metadata": {},
   "outputs": [],
   "source": [
    "import pandas as pd\n",
    "import xlrd\n",
    "from datetime import datetime\n",
    "\n",
    "'''Excel Files'''\n",
    "date_cols = ['date_cc']\n",
    "df_excel = pd.read_excel(r'C:\\Users\\Burudani\\Documents\\mainPythonFolder_v1\\SpreadsheetFiles\\Coffee_v1.xlsx',\n",
    "sheet_name='Coffee')\n",
    "# Specifying data types\n",
    "df_excel = pd.read_excel(r'C:\\Users\\Burudani\\Documents\\mainPythonFolder_v1\\SpreadsheetFiles\\Coffee_v1.xlsx',\n",
    "sheet_name='Coffee',\n",
    "dtype = {\"image\": str,\n",
    "         \"freq\": float})\n",
    "\n",
    "\n",
    "'''CSV Files'''\n",
    "date_cols = ['date_cc'] # Specifying columns to be treated as datetimes, and passing it to the pandas \n",
    "df_csv = pd.read_csv (r'C:\\Users\\Burudani\\Documents\\mainPythonFolder_v1\\SpreadsheetFiles\\climate_change.csv',parse_dates=date_cols,\n",
    "dtype={\"co2\": float,\n",
    "\"relative_temp\": float})\n",
    "\n",
    "# Specifying index column via column location\n",
    "medals = pd.read_csv(r'C:\\Users\\Burudani\\Documents\\mainPythonFolder_v1\\SpreadsheetFiles\\medals_by_country_2016.csv',index_col = 0)  \n",
    "\n",
    "# Specifying index column via column name\n",
    "\n",
    "indexColumns = ['ID','Name'] # should n be date columns as this allows you to parse through them easier\n",
    "summer2016 = pd.read_csv(r'C:\\Users\\Burudani\\Documents\\mainPythonFolder_v1\\SpreadsheetFiles\\summer2016.csv',index_col = indexColumns)  \n",
    "\n"
   ]
  },
  {
   "cell_type": "markdown",
   "metadata": {},
   "source": [
    "## Print columns as a list\n",
    "\n"
   ]
  },
  {
   "cell_type": "code",
   "execution_count": 57,
   "metadata": {},
   "outputs": [
    {
     "name": "stdout",
     "output_type": "stream",
     "text": [
      "These are the columns:- \n",
      " ['Bpn', 'name']\n"
     ]
    }
   ],
   "source": [
    "import pandas as Pd\n",
    "data2 = [['julian', 14], ['3096793G009', 33], ['3096793G9', 14]]\n",
    "\n",
    "# Create the pandas DataFrame\n",
    "df2 = pd.DataFrame(data2, columns = ['Bpn', 'name'])\n",
    "print('These are the columns:- \\n', list(df2.columns))"
   ]
  },
  {
   "cell_type": "markdown",
   "metadata": {},
   "source": [
    "## Find column type"
   ]
  },
  {
   "cell_type": "code",
   "execution_count": null,
   "metadata": {},
   "outputs": [],
   "source": [
    "print(df1.column.dtype)"
   ]
  },
  {
   "cell_type": "markdown",
   "metadata": {},
   "source": [
    "## Formatting Dates  \n",
    "\n",
    "### Common Errors  \n",
    "- AttributeError: 'datetime.datetime' object has no attribute 'days' :  for this use  \"day\" instead of \"days\".  Don't confuse this with timedelta objects which does have the attribute \"days\"\n"
   ]
  },
  {
   "cell_type": "code",
   "execution_count": 11,
   "metadata": {},
   "outputs": [
    {
     "name": "stdout",
     "output_type": "stream",
     "text": [
      "2015-10-06\n",
      "1980-01-01\n",
      "1980-01-01 00:00:00\n"
     ]
    }
   ],
   "source": [
    "# importing pandas as pd\n",
    "import pandas as pd\n",
    "  \n",
    "# Create the Timestamp object\n",
    "# ts = pd.Timestamp(year = 2015,  month = 10, day = 6,\n",
    "#            hour = 10, second = 49, tz = 'US/Central')\n",
    "ts = pd.Timestamp(year = 2015,  month = 10, day = 6)\n",
    "  \n",
    "# Print the Timestamp object\n",
    "print(ts.date())\n",
    "\n",
    "\n",
    "ts2 =pd.Timestamp(\"1980-01-01\")\n",
    "print(ts2.date())\n",
    "print(ts2)"
   ]
  },
  {
   "cell_type": "markdown",
   "metadata": {},
   "source": [
    "## Using condition on a dataframe"
   ]
  },
  {
   "cell_type": "code",
   "execution_count": 69,
   "metadata": {},
   "outputs": [
    {
     "name": "stdout",
     "output_type": "stream",
     "text": [
      "   Sex       Sport\n",
      "0    M  Gymnastics\n",
      "1    M  Gymnastics\n",
      "2    M  Gymnastics\n",
      "3    M  Gymnastics\n",
      "4    M  Gymnastics\n",
      "5    M  Gymnastics\n",
      "6    M  Gymnastics\n",
      "7    M  Gymnastics\n",
      "8    M  Gymnastics\n",
      "9    M  Gymnastics\n",
      "10   M  Gymnastics\n",
      "11   M  Gymnastics\n",
      "12   M  Gymnastics\n",
      "13   M  Gymnastics\n",
      "14   M  Gymnastics\n",
      "15   M  Gymnastics\n",
      "16   M  Gymnastics\n",
      "17   M  Gymnastics\n",
      "18   M  Gymnastics\n",
      "19   M  Gymnastics\n",
      "20   M  Gymnastics\n",
      "21   M  Gymnastics\n",
      "22   M  Gymnastics\n",
      "23   M  Gymnastics\n",
      "24   M  Gymnastics\n",
      "25   M  Gymnastics\n",
      "26   M  Gymnastics\n",
      "27   M  Gymnastics\n",
      "28   M  Gymnastics\n",
      "29   M  Gymnastics\n",
      "30   M  Gymnastics\n",
      "31   M  Gymnastics\n",
      "32   M  Gymnastics\n",
      "33   M  Gymnastics\n",
      "34   M  Gymnastics\n",
      "35   M  Gymnastics\n"
     ]
    }
   ],
   "source": [
    "# Creating a new Df cleanly using  a condition to get  males, and gymnasts, also specifying  what columns are needed\n",
    "\n",
    "date_cols = ['Year']\n",
    "summer2016 = pd.read_csv(r'C:\\Users\\Burudani\\Documents\\mainPythonFolder_v1\\SpreadsheetFiles\\summer2016.csv',parse_dates=date_cols)\n",
    "\n",
    "slicedDf = summer2016.loc[(summer2016.Sex == \"M\" ) & (summer2016.Sport == \"Gymnastics\" ),[\"Sex\",\"Sport\"]]\n",
    "\n",
    "#Reseting the index after obtaining the slice...mainly for ease of viewing\n",
    "slicedDf.reset_index(drop=True, inplace = True)\n",
    "\n",
    "print(slicedDf)\n",
    "\n",
    "\n"
   ]
  },
  {
   "cell_type": "markdown",
   "metadata": {},
   "source": [
    "## Applying a date condition to a dataframe\n",
    "\n",
    "- Workign with dates can ve EXTREMELY tricky, and is often one of if not the most trickiest prt to deal with when processing dataframes\n",
    "- These are the best practices for when dealing with dates in dataframes :-  \n",
    "    1. make sure ALL date columns are converted to and are recognized as dates by using the \"parse dates function\" when creating the DF\n",
    "    2. Ensure that all dates that are to be used in the condition are in PROPER -US Timestamp format i.e YYYY-MM-DD \n",
    "    "
   ]
  },
  {
   "cell_type": "code",
   "execution_count": 56,
   "metadata": {},
   "outputs": [
    {
     "name": "stdout",
     "output_type": "stream",
     "text": [
      "2017-01-26 12:00:00\n"
     ]
    }
   ],
   "source": [
    "# US Timestamp format example\n",
    "import pandas as pd \n",
    "exampleFormat = pd.Timestamp(year=2017, month=1, day=26, hour=12)\n",
    "print(exampleFormat)"
   ]
  },
  {
   "cell_type": "code",
   "execution_count": 71,
   "metadata": {},
   "outputs": [
    {
     "name": "stdout",
     "output_type": "stream",
     "text": [
      "       date_cc     co2  relative_temp\n",
      "0   1980-02-06  338.34           0.42\n",
      "1   1980-03-06  340.01           0.29\n",
      "2   1980-04-06  340.93           0.32\n",
      "3   1980-05-06  341.48           0.34\n",
      "4   1980-06-06  341.33           0.16\n",
      "..         ...     ...            ...\n",
      "114 1989-08-06  351.81           0.36\n",
      "115 1989-09-06  350.05           0.37\n",
      "116 1989-10-06  350.25           0.32\n",
      "117 1989-11-06  351.49           0.21\n",
      "118 1989-12-06  352.85           0.37\n",
      "\n",
      "[119 rows x 3 columns]\n"
     ]
    }
   ],
   "source": [
    "#Parsing dates -  letting python know the date column is made up of \"actual dates\"\n",
    "date_cols =  ['date_cc']\n",
    "df_climateChange = pd.read_csv (r'C:\\Users\\Burudani\\Documents\\mainPythonFolder_v1\\SpreadsheetFiles\\climate_change.csv',\n",
    "parse_dates=date_cols)\n",
    "\n",
    "#applying a date condition to slice the data and provide a new dataframe\n",
    "df_eighties = df_climateChange[(df_climateChange.date_cc > '1980-01-06') & (df_climateChange.date_cc <= '1989-12-31')]\n",
    "\n",
    "#Reseting the index after obtaining the slice...mainly for ease of viewing\n",
    "df_eighties.reset_index(drop=True, inplace = True)\n",
    "\n",
    "print(df_eighties)\n",
    "\n",
    "\n"
   ]
  },
  {
   "cell_type": "markdown",
   "metadata": {},
   "source": [
    "## Assigning and Re-assigning dataframes  \n",
    "\n",
    "- Use the \"in place\" command e.g \n",
    "- Otherwise you may have to re-assign the dataframe to avoid duplication issues"
   ]
  },
  {
   "cell_type": "markdown",
   "metadata": {},
   "source": [
    "## Deleting(dropping) and adding columns"
   ]
  },
  {
   "cell_type": "code",
   "execution_count": null,
   "metadata": {},
   "outputs": [],
   "source": [
    "\n",
    "df = df.drop(df.columns[[0, 1, 3]], axis=1)  # df.columns is zero-based pd.Index\n",
    "\n",
    "\n",
    "'''This can be done more elegantly below :- '''\n",
    "\n",
    "columns = ['Col1', 'Col2', ...]\n",
    "df.drop(columns, inplace=True, axis=1)\n",
    "\n",
    "# or using indices\n",
    "\n",
    "columns = [0,3, ...]\n",
    "df.drop(columns, inplace=True, axis=1)\n",
    "\n",
    "\n"
   ]
  },
  {
   "cell_type": "markdown",
   "metadata": {},
   "source": [
    "## Using groupby\n",
    "-  Note: groupby creates a groupby object and NOT a new dataframe"
   ]
  },
  {
   "cell_type": "code",
   "execution_count": 6,
   "metadata": {},
   "outputs": [
    {
     "name": "stdout",
     "output_type": "stream",
     "text": [
      "<pandas.core.groupby.generic.DataFrameGroupBy object at 0x00000299E2C24EE0>\n"
     ]
    }
   ],
   "source": [
    "import pandas as pd\n",
    "\n",
    "\n",
    "df = pd.read_csv(r\"SpreadsheetFiles\\nba.csv\")\n",
    "# First grouping based on \"Team\"\n",
    "# Within each team we are grouping based on \"Position\"\n",
    "gkk = df.groupby(['Team', 'Position'])\n",
    "  \n",
    "# Print the first value in each group\n",
    "print(gkk)\n",
    "#gkk.first()\n"
   ]
  },
  {
   "cell_type": "code",
   "execution_count": null,
   "metadata": {},
   "outputs": [],
   "source": [
    "import pandas as pd\n",
    "import re\n",
    " \n",
    "# initialize list of lists\n",
    "#data1 = [['john', 14],['3096793G9', 'dd'], ['nick', 15], ['juli', 14]]\n",
    "data1 = [['john', 14],['3096793G9', 33], ['nick', 15], ['juli', 14]] \n",
    "# Create the pandas DataFrame\n",
    "df1 = pd.DataFrame(data1, columns = ['Dpn', 'name'])\n",
    " \n",
    "# initialize list of lists\n",
    "#data2 = [['jilian', 14], ['3096793G009', 'bb'], ['barbra', 14]]\n",
    "data2 = [['jilian', 14], ['3096793G009', 33], ['3096793G9', 14]]\n",
    " \n",
    "# Create the pandas DataFrame\n",
    "df2 = pd.DataFrame(data2, columns = ['Bpn', 'name'])\n",
    "\n",
    "\n",
    "#easy way to print columns\n",
    "print('These are the columns:- \\n', list(df2.columns))\n",
    "\n",
    "# print dataframe.\n",
    "#print(df2)\n",
    "\n",
    "\n",
    "print('-x-x-x-x-x-x-x-x-x-x-x-x-x-x-x-x-x-x-x-x-x-x-x-x-x-x-x-x-')\n",
    "\n",
    "for index2, row2 in df2.iterrows(): #rep\n",
    "    for index1, row1 in df1.iterrows(): #dc  dp is goign to change\n",
    "        #if row1['Dpn'].re.match('\\w[0]{0,2}\\d')== row2['Bpn'] :\n",
    "      \n",
    "        testword = (row1['Dpn'][:7])+'\\w[0]{0,2}\\d'\n",
    "        #print(testword, 'testing match with',row2['Bpn'] )\n",
    "        jimmy = re.match((row1['Dpn'][:7])+'\\w[0]{0,2}\\d',row2['Bpn'])\n",
    "        #print('*******************************************')\n",
    "     \n",
    "        #print(row1['Dpn'],row2['Bpn'])\n",
    "        if jimmy:\n",
    "            #print('Match found',jimmy.group(0))\n",
    "            matchTester = 'Match Exists'\n",
    "        else:\n",
    "            matchTester = 'Match Does not Exists'\n",
    "        print(testword, 'testing match with',row2['Bpn'],matchTester )\n",
    "\n",
    "\n"
   ]
  },
  {
   "cell_type": "code",
   "execution_count": 2,
   "metadata": {},
   "outputs": [
    {
     "name": "stdout",
     "output_type": "stream",
     "text": [
      "['Name', 'oname', 'cname', 'dname', 'Lname', 'Age']\n",
      "   Name     oname    cname dname      Lname   Age                Nucolumn\n",
      "0   tom     james  bucanon                   10.0    tom;james;bucanon;;;\n",
      "1  nick             cbambe            harry          nick;;cbambe;;harry;\n",
      "2        jumwlale                 belafonte  14.0  ;jumwlale;;;belafonte;\n",
      "   Name     oname    cname   Age             Nucolumn\n",
      "0   tom     james  bucanon  10.0   tom;james;bucanon;\n",
      "1  nick             cbambe         nick;cbambe;harry;\n",
      "2        jumwlale           14.0  jumwlale;belafonte;\n"
     ]
    }
   ],
   "source": [
    "import pandas as pd\n",
    " \n",
    "\n",
    "df = pd.read_excel(r'C:\\Users\\Burudani\\Documents\\testerDoc.xlsx',\n",
    "sheet_name='Sheet1')\n",
    "# initialize list of lists\n",
    "\n",
    "#df[df.columns[0:4]].fillna(value=0, inplace=True)\n",
    "\n",
    "#gapminder[gapminder.columns[0:2]].head()\n",
    "\n",
    "str_cols = ['Name','oname', 'cname','dname','Lname','Age']\n",
    "columns2drop = ['dname', 'Lname']\n",
    " \n",
    "print(str_cols)\n",
    "df[str_cols] = df[str_cols].fillna('')\n",
    "\n",
    "#df.oname.fillna(value = 'N/A',inplace = True)\n",
    "\n",
    "# def concatColumns(stringColumnList):\n",
    "#     nucombinedColumn = []\n",
    "#     for column in stringColumnList:\n",
    "#         nucombinedColumn.append('df['+'\"'+column +'\"'+']'+ ';')\n",
    "#     print (nucombinedColumn)\n",
    "\n",
    "# concatColumns(str_cols)\n",
    " \n",
    "# for columns str_cols:\n",
    "#     df['Nucolumn'] = \n",
    "\n",
    "\n",
    "df['Nucolumn'] = df['Name'] +';'\\\n",
    "+ df['oname']+';'\\\n",
    "+ df['cname']+';'\\\n",
    "+ df['dname']+';'\\\n",
    "+ df['Lname']+';'\n",
    "\n",
    "#TODO strip spaces from final column output hint*** USE REGEX\n",
    "print(df)\n",
    "#df.Nucolumn = df.Nucolumn.apply(lambda x : (x.replace(';{1,3}','x',False)))\n",
    "df.Nucolumn = df.Nucolumn.replace(to_replace=';{1,9}|^;{1}', value=';', regex=True)\n",
    "df.Nucolumn = df.Nucolumn.replace(to_replace=';{1,9}|^;{1}', value=';', regex=True)\n",
    "df.Nucolumn = df.Nucolumn.replace(to_replace='^;{1}', value='', regex=True)\n",
    "\n",
    "df.drop(columns = columns2drop, inplace = True)\n",
    "\n",
    "print(df)\n",
    "#print(newdf)"
   ]
  },
  {
   "cell_type": "code",
   "execution_count": null,
   "metadata": {},
   "outputs": [],
   "source": [
    "import pandas as pd\n",
    "import plotly.express as px\n",
    "\n",
    "# data\n",
    "df = pd.DataFrame({'A': {0: 34, 1: 34, 2: 34, 3: 34, 4: 56, 5: 56, 6: 78},\n",
    "                     'B': {0: 34, 1: 223, 2: 56, 3: 86, 4: 86, 5: 43, 6: 34},\n",
    "                     'C': {0: -12, 1: -12, 2: -12, 3: -12, 4: -12, 5: -12, 6: -12}})\n",
    "\n",
    "colors = px.colors.qualitative.T10\n",
    "\n",
    "# plotly\n",
    "fig = px.bar(df, \n",
    "             x = df.index,\n",
    "             y = [c for c in df.columns],\n",
    "             template = 'plotly_dark',\n",
    "             color_discrete_sequence = colors,\n",
    "             title = 'Stacked bar chart using px.bar()', \n",
    "             )\n",
    "\n",
    "fig.show()\n",
    "print('hello world')"
   ]
  },
  {
   "cell_type": "code",
   "execution_count": null,
   "metadata": {},
   "outputs": [],
   "source": [
    "# imports\n",
    "import plotly\n",
    "import cufflinks as cf\n",
    "from plotly.offline import download_plotlyjs, init_notebook_mode, plot, iplot\n",
    "import pandas as pd\n",
    "import numpy as np\n",
    "\n",
    "# setup\n",
    "init_notebook_mode(connected=True)\n",
    "np.random.seed(123)\n",
    "cf.set_config_file(theme='pearl')\n",
    "\n",
    "# qtconsole for debugging\n",
    "#%qtconsole --style vim #src# https://qtconsole.readthedocs.io/en/stable/\n",
    "\n",
    "# Random data using cufflinks\n",
    "df = cf.datagen.lines()\n",
    "df = df[['UUN.XY', 'MJF.XV', 'XBB.AO']].head(50)\n",
    "df=np.abs(df)\n",
    "\n",
    "# make figure\n",
    "fig = df.iplot(asFigure=True, kind='bar', barmode = 'stack',\n",
    "               xTitle='Dates',yTitle='Returns',title='Returns')\n",
    "\n",
    "# plot figure\n",
    "iplot(fig)"
   ]
  },
  {
   "cell_type": "code",
   "execution_count": null,
   "metadata": {},
   "outputs": [],
   "source": [
    "data = [['Ravi',21,67],['Kiran',24,61],['Anita',18,46],['Smita',20,78],['Sunil',17,90]]\n",
    "df = pd.DataFrame(data,columns = ['name','age','marks'],dtype = float)\n",
    "trace = go.Bar(x = df.name, y = df.marks)\n",
    "fig = go.Figure(data = [trace])\n",
    "iplot(fig)"
   ]
  },
  {
   "cell_type": "code",
   "execution_count": null,
   "metadata": {},
   "outputs": [],
   "source": [
    "data = [['Ravi',21,67],['Kiran',24,61],['Anita',18,46],['Smita',20,78],['Sunil',17,90]]\n",
    "df = pd.DataFrame(data,columns = ['name','age','marks'],dtype = float)\n",
    "df.iplot(kind = 'bar', x = 'name', y = 'marks')"
   ]
  },
  {
   "cell_type": "code",
   "execution_count": null,
   "metadata": {},
   "outputs": [],
   "source": [
    "import pandas as pd\n",
    "import numpy as np\n",
    "import matplotlib\n",
    "\n",
    "#Bring in original Data sheet\n",
    "df1 = pd.read_excel(r\"C:\\Users\\Burudani\\Documents\\Finance_Trending\\Checking_Jan1st2021_March10th2021.xlsx\")  \n",
    "#df1.columns = ['Date','Amount','Description']\n",
    "print(df1.head())\n",
    "\n",
    "\n",
    "# Bring in the excell sheet that you will use to create the final column\n",
    "df2 = pd.read_excel(r\"C:\\Users\\Burudani\\Documents\\Finance_Trending\\bank_amount_guide.xlsx\") \n",
    "\n",
    "\n",
    "\n",
    "\n",
    "#df = df.assign(model2='Expenses')\n",
    "\n",
    "#df.loc[:,'model2'] = str('Expenses')\n",
    "\n",
    "\n",
    "#df['model2'] = 'Expenditure'\n",
    "checkList = [\"BANANA REPUBLIC PAYMENT\",\"CHECK\",\"DE POST PAID DET BILL PAY \",\"GEICO PREM COLL \",\"JPMorgan Chase Ext Trnsfr\",\"CHASE CREDIT CRD AUTOPAY \",\"LOCKHEED MARTIN DIR DEP\",\"MACYS PAYMENT\",\"MONEY TRANSFER\",\"NELNET LOAN\",\"NORDSTROM PAYMENT\",\"OVERDRAFT FEE\",\"PAYPAL INST XFER\",\"Amazon Digit\",\"Amazon web service\",\"Amazon Prime\",\"wal-mart\",\"tom thumb\",\"7-eleven\",\"aero café\",\"goody goody\",\"wave\",\"txtag\",\"Prime Video\",\"cash app\",\"mcdonald\",\"cortland\",\"apple\",\"35413\",\"uber eats\",\"uber\",\"netflix\",\"at&t\",\"Linux Academy\",\"medium\",\"hour fitness\",\"Zelle from\"]\n",
    "checkListUppercase = [x.upper() for x in checkList]\n",
    "#if(row.make1.upper() in checkListUppercase):\n",
    "\n",
    "def NameReplacer(row):\n",
    "    '''This Function replaces the long version of the transactional data with a short form version of it'''\n",
    "    \n",
    "    for item in checkListUppercase:\n",
    "        if(item in row.Description.upper()):\n",
    "\n",
    "            return item\n",
    "\n",
    "\n",
    "df1.loc[:, 'Transaction'] = df1.apply(NameReplacer, axis = 1)\n",
    "\n",
    "df1.Transaction.fillna(value=np.nan, inplace=True)   # replaces None values with NaN values\n",
    "\n",
    "df1['Transaction'] = df1['Transaction'].fillna('EXPENDITURE')  # this allows you to now replace the NaN values with anything you want\n",
    "#df['modelchecker'].replace(NaN, \"\", inplace=True)\n",
    "\n",
    "#df['Match_Tester'] = df.apply(lambda errorDetector : df, axis = 1)\n",
    "print(df1)\n",
    "\n",
    "#df1.groupby(['Transaction']).sum()\n",
    "\n",
    "df1=df1.groupby([(df1.index.Transaction)]).sum()\n",
    "df2 = df1.drop(['index','Description'], axis = 1)\n",
    "\n",
    "df2.to_excel(r\"C:\\Users\\Burudani\\Documents\\Finance_Trending\\Checking_Jan1st2021_March10th2021_results3.xlsx\", index = False)\n",
    "\n",
    "df1.to_csv(r\"C:\\Users\\Burudani\\Documents\\Finance_Trending\\Checking_Jan1st2021_March10th2021_results4.xlsx\")"
   ]
  }
 ],
 "metadata": {
  "interpreter": {
   "hash": "106f8dd8e7b9f8bf7b5c7f9387976efaa64fd1db7ebf679a5786be21993f005a"
  },
  "kernelspec": {
   "display_name": "Python 3.8.5 64-bit ('rwakiPythonEnv': conda)",
   "name": "python3"
  },
  "language_info": {
   "codemirror_mode": {
    "name": "ipython",
    "version": 3
   },
   "file_extension": ".py",
   "mimetype": "text/x-python",
   "name": "python",
   "nbconvert_exporter": "python",
   "pygments_lexer": "ipython3",
   "version": "3.8.5"
  },
  "orig_nbformat": 4
 },
 "nbformat": 4,
 "nbformat_minor": 2
}
