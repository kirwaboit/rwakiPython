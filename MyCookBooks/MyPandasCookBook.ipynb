{
 "cells": [
  {
   "cell_type": "markdown",
   "source": [
    "# Pandas Cookbook  "
   ],
   "metadata": {}
  },
  {
   "cell_type": "markdown",
   "source": [
    "## First a word on filepaths : Absolute vs Relative   \n",
    "\n",
    "- The Absolute path is the full path to some place on your computer.   \n",
    "- The Relative path is the path to some file with respect to your current working directory (PWD).    \n",
    "\n",
    "For example:-\n",
    "\n",
    "Absolute path: C:/users/admin/docs/stuff.txt  <-- use this always, don't be lazy!!!\n",
    "\n",
    "If my PWD is C:/users/admin/, then the relative path to stuff.txt would be: docs/stuff.txt  "
   ],
   "metadata": {}
  },
  {
   "cell_type": "markdown",
   "source": [
    "## Loading files\r\n",
    "- Warning makign column(s)!! an index, makes them immutable!! "
   ],
   "metadata": {}
  },
  {
   "cell_type": "code",
   "execution_count": 2,
   "source": [
    "import pandas as pd\r\n",
    "import xlrd\r\n",
    "from datetime import datetime\r\n",
    "\r\n",
    "'''Excel Files'''\r\n",
    "date_cols = ['date_cc']\r\n",
    "df_excel = pd.read_excel(r'C:\\Users\\Burudani\\Documents\\mainPythonFolder_v1\\SpreadsheetFiles\\Coffee_v1.xlsx',\r\n",
    "sheet_name='Coffee')\r\n",
    "# Specifying data types\r\n",
    "df_excel = pd.read_excel(r'C:\\Users\\Burudani\\Documents\\mainPythonFolder_v1\\SpreadsheetFiles\\Coffee_v1.xlsx',\r\n",
    "sheet_name='Coffee',\r\n",
    "dtype = {\"image\": str,\r\n",
    "         \"freq\": float})\r\n",
    "\r\n",
    "\r\n",
    "'''CSV Files'''\r\n",
    "date_cols = ['date_cc'] # Specifying columns to be treated as datetimes, and passing it to the pandas \r\n",
    "df_csv = pd.read_csv (r'C:\\Users\\Burudani\\Documents\\mainPythonFolder_v1\\SpreadsheetFiles\\climate_change.csv',parse_dates=date_cols,\r\n",
    "dtype={\"co2\": float,\r\n",
    "\"relative_temp\": float})\r\n",
    "\r\n",
    "# Specifying index column via column location\r\n",
    "medals = pd.read_csv(r'C:\\Users\\Burudani\\Documents\\mainPythonFolder_v1\\SpreadsheetFiles\\medals_by_country_2016.csv',index_col = 0)  \r\n",
    "\r\n",
    "# Specifying index column via column name\r\n",
    "\r\n",
    "indexColumns = ['ID','Name'] # should n be date columns as this allows you to parse through them easier\r\n",
    "summer2016 = pd.read_csv(r'C:\\Users\\Burudani\\Documents\\mainPythonFolder_v1\\SpreadsheetFiles\\summer2016.csv',index_col = indexColumns)  \r\n",
    "\r\n"
   ],
   "outputs": [],
   "metadata": {}
  },
  {
   "cell_type": "markdown",
   "source": [
    "## Formatting Dates  \r\n",
    "\r\n",
    "### Common Errors  \r\n",
    "- AttributeError: 'datetime.datetime' object has no attribute 'days' :  for this use  \"day\" instead of \"days\".  Don't confuse this with timedelta objects which does have the attribute \"days\"\r\n"
   ],
   "metadata": {}
  },
  {
   "cell_type": "code",
   "execution_count": 11,
   "source": [
    "# importing pandas as pd\r\n",
    "import pandas as pd\r\n",
    "  \r\n",
    "# Create the Timestamp object\r\n",
    "# ts = pd.Timestamp(year = 2015,  month = 10, day = 6,\r\n",
    "#            hour = 10, second = 49, tz = 'US/Central')\r\n",
    "ts = pd.Timestamp(year = 2015,  month = 10, day = 6)\r\n",
    "  \r\n",
    "# Print the Timestamp object\r\n",
    "print(ts.date())\r\n",
    "\r\n",
    "\r\n",
    "ts2 =pd.Timestamp(\"1980-01-01\")\r\n",
    "print(ts2.date())\r\n",
    "print(ts2)"
   ],
   "outputs": [
    {
     "output_type": "stream",
     "name": "stdout",
     "text": [
      "2015-10-06\n",
      "1980-01-01\n",
      "1980-01-01 00:00:00\n"
     ]
    }
   ],
   "metadata": {}
  },
  {
   "cell_type": "markdown",
   "source": [
    "## Using condition on a dataframe"
   ],
   "metadata": {}
  },
  {
   "cell_type": "code",
   "execution_count": 69,
   "source": [
    "# Creating a new Df cleanly using  a condition to get  males, and gymnasts, also specifying  what columns are needed\r\n",
    "\r\n",
    "date_cols = ['Year']\r\n",
    "summer2016 = pd.read_csv(r'C:\\Users\\Burudani\\Documents\\mainPythonFolder_v1\\SpreadsheetFiles\\summer2016.csv',parse_dates=date_cols)\r\n",
    "\r\n",
    "slicedDf = summer2016.loc[(summer2016.Sex == \"M\" ) & (summer2016.Sport == \"Gymnastics\" ),[\"Sex\",\"Sport\"]]\r\n",
    "\r\n",
    "#Reseting the index after obtaining the slice...mainly for ease of viewing\r\n",
    "slicedDf.reset_index(drop=True, inplace = True)\r\n",
    "\r\n",
    "print(slicedDf)\r\n",
    "\r\n",
    "\r\n"
   ],
   "outputs": [
    {
     "output_type": "stream",
     "name": "stdout",
     "text": [
      "   Sex       Sport\n",
      "0    M  Gymnastics\n",
      "1    M  Gymnastics\n",
      "2    M  Gymnastics\n",
      "3    M  Gymnastics\n",
      "4    M  Gymnastics\n",
      "5    M  Gymnastics\n",
      "6    M  Gymnastics\n",
      "7    M  Gymnastics\n",
      "8    M  Gymnastics\n",
      "9    M  Gymnastics\n",
      "10   M  Gymnastics\n",
      "11   M  Gymnastics\n",
      "12   M  Gymnastics\n",
      "13   M  Gymnastics\n",
      "14   M  Gymnastics\n",
      "15   M  Gymnastics\n",
      "16   M  Gymnastics\n",
      "17   M  Gymnastics\n",
      "18   M  Gymnastics\n",
      "19   M  Gymnastics\n",
      "20   M  Gymnastics\n",
      "21   M  Gymnastics\n",
      "22   M  Gymnastics\n",
      "23   M  Gymnastics\n",
      "24   M  Gymnastics\n",
      "25   M  Gymnastics\n",
      "26   M  Gymnastics\n",
      "27   M  Gymnastics\n",
      "28   M  Gymnastics\n",
      "29   M  Gymnastics\n",
      "30   M  Gymnastics\n",
      "31   M  Gymnastics\n",
      "32   M  Gymnastics\n",
      "33   M  Gymnastics\n",
      "34   M  Gymnastics\n",
      "35   M  Gymnastics\n"
     ]
    }
   ],
   "metadata": {}
  },
  {
   "cell_type": "markdown",
   "source": [
    "## Applying a date condition to a dataframe\r\n",
    "\r\n",
    "- Workign with dates can ve EXTREMELY tricky, and is often one of if not the most trickiest prt to deal with when processing dataframes\r\n",
    "- These are the best practices for when dealing with dates in dataframes :-  \r\n",
    "    1. make sure ALL date columns are converted to and are recognized as dates by using the \"parse dates function\" when creating the DF\r\n",
    "    2. Ensure that all dates that are to be used in the condition are in PROPER -US Timestamp format i.e YYYY-MM-DD \r\n",
    "    "
   ],
   "metadata": {}
  },
  {
   "cell_type": "code",
   "execution_count": 56,
   "source": [
    "# US Timestamp format example\r\n",
    "import pandas as pd \r\n",
    "exampleFormat = pd.Timestamp(year=2017, month=1, day=26, hour=12)\r\n",
    "print(exampleFormat)"
   ],
   "outputs": [
    {
     "output_type": "stream",
     "name": "stdout",
     "text": [
      "2017-01-26 12:00:00\n"
     ]
    }
   ],
   "metadata": {}
  },
  {
   "cell_type": "code",
   "execution_count": 71,
   "source": [
    "#Parsing dates -  letting python know the date column is made up of \"actual dates\"\r\n",
    "date_cols =  ['date_cc']\r\n",
    "df_climateChange = pd.read_csv (r'C:\\Users\\Burudani\\Documents\\mainPythonFolder_v1\\SpreadsheetFiles\\climate_change.csv',\r\n",
    "parse_dates=date_cols)\r\n",
    "\r\n",
    "#applying a date condition to slice the data and provide a new dataframe\r\n",
    "df_eighties = df_climateChange[(df_climateChange.date_cc > '1980-01-06') & (df_climateChange.date_cc <= '1989-12-31')]\r\n",
    "\r\n",
    "#Reseting the index after obtaining the slice...mainly for ease of viewing\r\n",
    "df_eighties.reset_index(drop=True, inplace = True)\r\n",
    "\r\n",
    "print(df_eighties)\r\n",
    "\r\n",
    "\r\n"
   ],
   "outputs": [
    {
     "output_type": "stream",
     "name": "stdout",
     "text": [
      "       date_cc     co2  relative_temp\n",
      "0   1980-02-06  338.34           0.42\n",
      "1   1980-03-06  340.01           0.29\n",
      "2   1980-04-06  340.93           0.32\n",
      "3   1980-05-06  341.48           0.34\n",
      "4   1980-06-06  341.33           0.16\n",
      "..         ...     ...            ...\n",
      "114 1989-08-06  351.81           0.36\n",
      "115 1989-09-06  350.05           0.37\n",
      "116 1989-10-06  350.25           0.32\n",
      "117 1989-11-06  351.49           0.21\n",
      "118 1989-12-06  352.85           0.37\n",
      "\n",
      "[119 rows x 3 columns]\n"
     ]
    }
   ],
   "metadata": {}
  },
  {
   "cell_type": "markdown",
   "source": [
    "## Assigning and Re-assigning dataframes  \r\n",
    "\r\n",
    "- Use the \"in place\" command e.g \r\n",
    "- Otherwise you may have to re-assign the dataframe to avoid duplication issues"
   ],
   "metadata": {}
  },
  {
   "cell_type": "markdown",
   "source": [
    "## Deleting(dropping) and adding columns"
   ],
   "metadata": {}
  },
  {
   "cell_type": "code",
   "execution_count": null,
   "source": [
    "\r\n",
    "df = df.drop(df.columns[[0, 1, 3]], axis=1)  # df.columns is zero-based pd.Index\r\n",
    "\r\n",
    "\r\n",
    "'''This can be done more elegantly below :- '''\r\n",
    "\r\n",
    "columns = ['Col1', 'Col2', ...]\r\n",
    "df.drop(columns, inplace=True, axis=1)\r\n",
    "\r\n",
    "# or using indices\r\n",
    "\r\n",
    "columns = [0,3, ...]\r\n",
    "df.drop(columns, inplace=True, axis=1)\r\n",
    "\r\n",
    "\r\n"
   ],
   "outputs": [],
   "metadata": {}
  },
  {
   "cell_type": "markdown",
   "source": [
    "## Using groupby\r\n",
    "-  Note: groupby creates a groupby object and NOT a new dataframe"
   ],
   "metadata": {}
  },
  {
   "cell_type": "code",
   "execution_count": 6,
   "source": [
    "import pandas as pd\r\n",
    "\r\n",
    "\r\n",
    "df = pd.read_csv(r\"SpreadsheetFiles\\nba.csv\")\r\n",
    "# First grouping based on \"Team\"\r\n",
    "# Within each team we are grouping based on \"Position\"\r\n",
    "gkk = df.groupby(['Team', 'Position'])\r\n",
    "  \r\n",
    "# Print the first value in each group\r\n",
    "print(gkk)\r\n",
    "#gkk.first()\r\n"
   ],
   "outputs": [
    {
     "output_type": "stream",
     "name": "stdout",
     "text": [
      "<pandas.core.groupby.generic.DataFrameGroupBy object at 0x00000299E2C24EE0>\n"
     ]
    }
   ],
   "metadata": {}
  }
 ],
 "metadata": {
  "interpreter": {
   "hash": "106f8dd8e7b9f8bf7b5c7f9387976efaa64fd1db7ebf679a5786be21993f005a"
  },
  "kernelspec": {
   "display_name": "Python 3.8.5 64-bit ('rwakiPythonEnv': conda)",
   "name": "python3"
  },
  "language_info": {
   "name": "python",
   "version": ""
  },
  "orig_nbformat": 4
 },
 "nbformat": 4,
 "nbformat_minor": 2
}