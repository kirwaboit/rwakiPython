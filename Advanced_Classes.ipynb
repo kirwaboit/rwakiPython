{
 "metadata": {
  "language_info": {
   "codemirror_mode": {
    "name": "ipython",
    "version": 3
   },
   "file_extension": ".py",
   "mimetype": "text/x-python",
   "name": "python",
   "nbconvert_exporter": "python",
   "pygments_lexer": "ipython3",
   "version": "3.8.5-final"
  },
  "orig_nbformat": 2,
  "kernelspec": {
   "name": "python3",
   "display_name": "Python 3",
   "language": "python"
  }
 },
 "nbformat": 4,
 "nbformat_minor": 2,
 "cells": [
  {
   "source": [
    "# Python Classes : Simple To Advanced\n"
   ],
   "cell_type": "markdown",
   "metadata": {}
  },
  {
   "cell_type": "code",
   "execution_count": 11,
   "metadata": {},
   "outputs": [
    {
     "output_type": "stream",
     "name": "stdout",
     "text": [
      "Your values are number 1 with word 3 and word world and number 2.0.\n"
     ]
    }
   ],
   "source": [
    "class ExampleClass:\n",
    "            exampleVar1 = 32  # Class variable\n",
    "            exampleVar2 = 45\n",
    "            exampleVar3 = \"IamVariable\"\n",
    "            def __init__(self, parameter1: int,parameter2: str,parameter3: str ,parameter4: float ):   # any placeholder here in this constructor is called a parameter\n",
    "                self.number = parameter1   # self.name is an instance variable\n",
    "                self.string1 = parameter2\n",
    "                self.string2 = parameter3\n",
    "                self.double = parameter4\n",
    "            \n",
    "            def process_data(self):\n",
    "                return self.exampleVar1*self.exampleVar2\n",
    "\n",
    "            def __str__(self):  #this method allows us to create the \n",
    "                return 'Your values are number {} with word {} and word {} and number {}.' .format(self.number,self.string1,self.string2,self.double)  \n",
    "                \n",
    "                \n",
    "#We just randomly generate some values to feed into the class, these variables are refered to as \"arguaments\" if used in a function call/method call/class call\n",
    "argument1 = 1\n",
    "argument2 = 'Hello'\n",
    "argument3 = 'world'\n",
    "argument4 = 2.0\n",
    "\n",
    "ExampleInstance = ExampleClass(argument1,argument2,argument3,argument4)\n",
    "\n",
    "\n",
    "print(ExampleInstance)  # print the string in the method  \"__str__\""
   ]
  },
  {
   "source": [
    "## Final Project: Wheel of Fortune"
   ],
   "cell_type": "markdown",
   "metadata": {}
  },
  {
   "cell_type": "code",
   "execution_count": null,
   "metadata": {},
   "outputs": [],
   "source": [
    "VOWEL_COST = 250\n",
    "LETTERS = 'ABCDEFGHIJKLMNOPQRSTUVWXYZ'\n",
    "VOWELS = 'AEIOU'\n",
    "\n",
    "# Write the WOFPlayer class definition (part A) here\n",
    "\n",
    "# Write the WOFHumanPlayer class definition (part B) here\n",
    "\n",
    "# Write the WOFComputerPlayer class definition (part C) here\n",
    "\n"
   ]
  },
  {
   "source": [
    "## Pulling from a database"
   ],
   "cell_type": "markdown",
   "metadata": {}
  },
  {
   "cell_type": "code",
   "execution_count": null,
   "metadata": {},
   "outputs": [],
   "source": [
    "from pathlib import path\n",
    "import QueryDataToFile  # custom created library to pull\n",
    "\n",
    "Task1 = \"example pull_v1\"\n",
    "var1 = 23\n",
    "class PracticeQuery:\n",
    "    '''Main class invalid'''\n",
    "    def __init__(self):\n",
    "        self.query = 'SELECT column1, column2',\n",
    "        'column3',\n",
    "        'FROM myTable'\n",
    "        self.files = {'results': str(path.cwd())+ '\\\\results.csv',\n",
    "                      'procesedFile': str(path.cwd())+ '\\\\results.csv'}\n",
    "        self.tasks = [self.query_data,self.process_data]\n",
    "\n",
    "        for task in self.tasks:   #TODO use list comprehension here\n",
    "            task()\n",
    "        \n",
    "        \n",
    "\n",
    "    def query_data(self):\n",
    "        '''Pull data from  database'''\n",
    "        print(\"for \",Task1 \"Pulling data from \", var1\" Database\")\n",
    "        #put data into csv file in this line\n",
    "    def process_data(self):\n",
    "            '''Process the data'''\n",
    "            1+1"
   ]
  }
 ]
}