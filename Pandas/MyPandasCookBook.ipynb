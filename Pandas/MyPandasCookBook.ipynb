{
 "cells": [
  {
   "cell_type": "markdown",
   "metadata": {},
   "source": [
    "# Welcome to My Pandas Cookbook  "
   ]
  },
  {
   "cell_type": "markdown",
   "metadata": {},
   "source": [
    "## Best Practices"
   ]
  },
  {
   "cell_type": "code",
   "execution_count": null,
   "metadata": {},
   "outputs": [],
   "source": [
    "# Explicitly declare date values as \"datetime\" values e.g\n",
    "gold_df['Date'] = pd.to_datetime(gold_df['Date'])\n",
    "\n",
    "# When Doing a date difference condition ALWAYS bring out  a datediff column, it will help clear up any erroneous results you might get\n",
    "\n",
    "# If you have multiple values to convert to datetime\n",
    "\n",
    "cols = ['Total Break Time','col1','col2']\n",
    "df[cols] = df[cols].apply(pd.to_datetime)"
   ]
  },
  {
   "cell_type": "markdown",
   "metadata": {},
   "source": [
    "## List of stuff to know :- \n",
    "---  \n",
    "\n",
    "### Absolute vs Relative \n",
    "- The Absolute path is the full path to some place on your computer.   \n",
    "- The Relative path is the path to some file with respect to your current working directory (PWD).    \n",
    "\n",
    "For example:-\n",
    "\n",
    "Absolute path: C:/users/admin/docs/stuff.txt  <-- use this always, don't be lazy!!!\n",
    "\n",
    "If my PWD is C:/users/admin/, then the relative path to stuff.txt would be: docs/stuff.txt\n",
    "\n",
    "### Ascend and Descending sorting formats\n",
    "- Ascend format is from A-Z, or smallest number to largest number, or oldest date to Newest Date\n",
    "- Descend format is from Z-A, or largest  number to smallest number, or Newest date to Oldest Date\n"
   ]
  },
  {
   "cell_type": "markdown",
   "metadata": {},
   "source": [
    "# Big list of Pandas Bugs and errors that will trip you up\n",
    "---\n",
    "\n",
    "1. If you add a column to your data set, make sure you add it even when selecting a df subset of the columns\n",
    "- This issue caused no errors when refferencing non-existing columns in df subsets in loop itteration\n",
    "e.g \n",
    "\n",
    "```\n",
    "if you add a column : 'nuDataColumn' , make sure to add it to subset\n",
    "\n",
    "oldDataset = [['columns1','column3']]\n",
    "nuDataset = [['columns1','column3','nuDataset']]\n",
    "```\n",
    "\n",
    "2. Warning making column(s)!! an index, makes them immutable!! \n",
    "\n",
    "3. datetime differences CAN and WILL give you negative values. So unless you want to avoid seeing negative date values, use `datetime>0` condition"
   ]
  },
  {
   "cell_type": "code",
   "execution_count": null,
   "metadata": {},
   "outputs": [],
   "source": [
    "import pandas as pd\n",
    "import xlrd\n",
    "from datetime import datetime\n",
    "\n",
    "'''Excel Files'''\n",
    "date_cols = ['date_cc']\n",
    "df_excel = pd.read_excel(r'C:\\Users\\Burudani\\Documents\\mainPythonFolder_v1\\SpreadsheetFiles\\Coffee_v1.xlsx',\n",
    "sheet_name='Coffee')\n",
    "# Specifying data types\n",
    "df_excel = pd.read_excel(r'C:\\Users\\Burudani\\Documents\\mainPythonFolder_v1\\SpreadsheetFiles\\Coffee_v1.xlsx',\n",
    "sheet_name='Coffee',\n",
    "dtype = {\"image\": str,\n",
    "         \"freq\": float})\n",
    "\n",
    "\n",
    "'''CSV Files'''\n",
    "date_cols = ['date_cc'] # Specifying columns to be treated as datetimes, and passing it to the pandas \n",
    "df_csv = pd.read_csv (r'C:\\Users\\Burudani\\Documents\\mainPythonFolder_v1\\SpreadsheetFiles\\climate_change.csv',parse_dates=date_cols,\n",
    "dtype={\"co2\": float,\n",
    "\"relative_temp\": float})\n",
    "\n",
    "# Specifying index column via column location\n",
    "medals = pd.read_csv(r'C:\\Users\\Burudani\\Documents\\mainPythonFolder_v1\\SpreadsheetFiles\\medals_by_country_2016.csv',index_col = 0)  \n",
    "\n",
    "# Specifying index column via column name\n",
    "\n",
    "indexColumns = ['ID','Name'] # should n be date columns as this allows you to parse through them easier\n",
    "summer2016 = pd.read_csv(r'C:\\Users\\Burudani\\Documents\\mainPythonFolder_v1\\SpreadsheetFiles\\summer2016.csv',index_col = indexColumns)  \n",
    "\n"
   ]
  },
  {
   "cell_type": "markdown",
   "metadata": {},
   "source": [
    "## Print columns as a list\n",
    "\n"
   ]
  },
  {
   "cell_type": "code",
   "execution_count": null,
   "metadata": {},
   "outputs": [],
   "source": [
    "import pandas as Pd\n",
    "data2 = [['julian', 14], ['3096793G009', 33], ['3096793G9', 14]]\n",
    "\n",
    "# Create the pandas DataFrame\n",
    "df2 = pd.DataFrame(data2, columns = ['Bpn', 'name'])\n",
    "print('These are the columns:- \\n', list(df2.columns))"
   ]
  },
  {
   "cell_type": "markdown",
   "metadata": {},
   "source": [
    "## Find column type"
   ]
  },
  {
   "cell_type": "code",
   "execution_count": null,
   "metadata": {},
   "outputs": [],
   "source": [
    "print(df1.column.dtype)"
   ]
  },
  {
   "cell_type": "markdown",
   "metadata": {},
   "source": [
    "## Formatting Dates  \n",
    "\n",
    "### Common Errors  \n",
    "- AttributeError: 'datetime.datetime' object has no attribute 'days' :  for this use  \"day\" instead of \"days\".  Don't confuse this with timedelta objects which does have the attribute \"days\"\n"
   ]
  },
  {
   "cell_type": "code",
   "execution_count": null,
   "metadata": {},
   "outputs": [],
   "source": [
    "# importing pandas as pd\n",
    "import pandas as pd\n",
    "  \n",
    "# Create the Timestamp object\n",
    "# ts = pd.Timestamp(year = 2015,  month = 10, day = 6,\n",
    "#            hour = 10, second = 49, tz = 'US/Central')\n",
    "ts = pd.Timestamp(year = 2015,  month = 10, day = 6)\n",
    "  \n",
    "# Print the Timestamp object\n",
    "print(ts.date())\n",
    "\n",
    "\n",
    "ts2 =pd.Timestamp(\"1980-01-01\")\n",
    "print(ts2.date())\n",
    "print(ts2)\n",
    "\n",
    "\n",
    "#convert datetime value to simply year-month format e.g  2021-10\n",
    "df1['DATE'] = df1['DATE'].dt.to_period('M')\n"
   ]
  },
  {
   "cell_type": "markdown",
   "metadata": {},
   "source": [
    "## Using condition on a dataframe"
   ]
  },
  {
   "cell_type": "code",
   "execution_count": null,
   "metadata": {},
   "outputs": [],
   "source": [
    "# Creating a new Df cleanly using  a condition to get  males, and gymnasts, also specifying  what columns are needed\n",
    "\n",
    "date_cols = ['Year']\n",
    "summer2016 = pd.read_csv(r'C:\\Users\\Burudani\\Documents\\mainPythonFolder_v1\\SpreadsheetFiles\\summer2016.csv',parse_dates=date_cols)\n",
    "\n",
    "slicedDf = summer2016.loc[(summer2016.Sex == \"M\" ) & (summer2016.Sport == \"Gymnastics\" ),[\"Sex\",\"Sport\"]]\n",
    "\n",
    "#Reseting the index after obtaining the slice...mainly for ease of viewing\n",
    "slicedDf.reset_index(drop=True, inplace = True)\n",
    "\n",
    "print(slicedDf)\n",
    "\n",
    "\n"
   ]
  },
  {
   "cell_type": "markdown",
   "metadata": {},
   "source": [
    "## Applying a date condition to a dataframe\n",
    "\n",
    "- Workign with dates can ve EXTREMELY tricky, and is often one of if not the most trickiest prt to deal with when processing dataframes\n",
    "- These are the best practices for when dealing with dates in dataframes :-  \n",
    "    1. make sure ALL date columns are converted to and are recognized as dates by using the \"parse dates function\" when creating the DF\n",
    "    2. Ensure that all dates that are to be used in the condition are in PROPER -US Timestamp format i.e YYYY-MM-DD \n",
    "    "
   ]
  },
  {
   "cell_type": "code",
   "execution_count": null,
   "metadata": {},
   "outputs": [],
   "source": [
    "# US Timestamp format example\n",
    "import pandas as pd \n",
    "exampleFormat = pd.Timestamp(year=2017, month=1, day=26, hour=12)\n",
    "print(exampleFormat)"
   ]
  },
  {
   "cell_type": "code",
   "execution_count": null,
   "metadata": {},
   "outputs": [],
   "source": [
    "#Parsing dates -  letting python know the date column is made up of \"actual dates\"\n",
    "date_cols =  ['date_cc']\n",
    "df_climateChange = pd.read_csv (r'C:\\Users\\Burudani\\Documents\\mainPythonFolder_v1\\SpreadsheetFiles\\climate_change.csv',\n",
    "parse_dates=date_cols)\n",
    "\n",
    "#applying a date condition to slice the data and provide a new dataframe\n",
    "df_eighties = df_climateChange[(df_climateChange.date_cc > '1980-01-06') & (df_climateChange.date_cc <= '1989-12-31')]\n",
    "\n",
    "#Reseting the index after obtaining the slice...mainly for ease of viewing\n",
    "df_eighties.reset_index(drop=True, inplace = True)\n",
    "\n",
    "print(df_eighties)\n",
    "\n",
    "\n"
   ]
  },
  {
   "cell_type": "markdown",
   "metadata": {},
   "source": [
    "## Assigning and Re-assigning dataframes  \n",
    "\n",
    "- Use the \"in place\" command e.g \n",
    "- Otherwise you may have to re-assign the dataframe to avoid duplication issues"
   ]
  },
  {
   "cell_type": "markdown",
   "metadata": {},
   "source": [
    "## Deleting(dropping) and adding columns"
   ]
  },
  {
   "cell_type": "code",
   "execution_count": null,
   "metadata": {},
   "outputs": [],
   "source": [
    "\n",
    "df = df.drop(df.columns[[0, 1, 3]], axis=1)  # df.columns is zero-based pd.Index\n",
    "\n",
    "\n",
    "'''This can be done more elegantly below :- '''\n",
    "\n",
    "columns = ['Col1', 'Col2', ...]\n",
    "df.drop(columns, inplace=True, axis=1)\n",
    "\n",
    "# or using indices\n",
    "\n",
    "columns = [0,3, ...]\n",
    "df.drop(columns, inplace=True, axis=1)\n",
    "\n",
    "'''Getting a list of columns to see which one to drop'''\n",
    "\n",
    "columnNumber = 0\n",
    "for col in df.columns:\n",
    "    print('Column Number: ', columnNumber, 'Column Name: ',col )\n",
    "    columnNumber = columnNumber + 1\n",
    "\n",
    "\n",
    "\n",
    "'''Dropping  a range of columns in a list '''\n",
    "\n",
    "# NB range(3,6,1)  it means numbers 3 to 5 , with a step of 1\n",
    "\n",
    "columns = [0,1,3 *range(4,9,1), 9,10,*range(11,15,1)]\n",
    "df.drop(columns, inplace=True, axis=1)"
   ]
  },
  {
   "cell_type": "markdown",
   "metadata": {},
   "source": [
    "## Dropping rows based on a condition\n",
    "\n"
   ]
  },
  {
   "cell_type": "code",
   "execution_count": null,
   "metadata": {},
   "outputs": [],
   "source": [
    "\n",
    "# The \":\", means keep all columns\n",
    "df = df.loc[~((df['col_1'] == 1.0) & (df['col_2'] == 0.0)),:]"
   ]
  },
  {
   "cell_type": "markdown",
   "metadata": {},
   "source": [
    "## Using groupby\n",
    "-  Note: groupby creates a groupby object and NOT a new dataframe"
   ]
  },
  {
   "cell_type": "code",
   "execution_count": null,
   "metadata": {},
   "outputs": [],
   "source": [
    "import pandas as pd\n",
    "\n",
    "\n",
    "df = pd.read_csv(r\"SpreadsheetFiles\\nba.csv\")\n",
    "# First grouping based on \"Team\"\n",
    "# Within each team we are grouping based on \"Position\"\n",
    "gkk = df.groupby(['Team', 'Position'])\n",
    "  \n",
    "# Print the first value in each group\n",
    "print(gkk)\n",
    "#gkk.first()\n"
   ]
  },
  {
   "cell_type": "code",
   "execution_count": null,
   "metadata": {},
   "outputs": [],
   "source": [
    "import pandas as pd\n",
    "import re\n",
    " \n",
    "# initialize list of lists\n",
    "#data1 = [['john', 14],['3096793G9', 'dd'], ['nick', 15], ['juli', 14]]\n",
    "data1 = [['john', 14],['3096793G9', 33], ['nick', 15], ['juli', 14]] \n",
    "# Create the pandas DataFrame\n",
    "df1 = pd.DataFrame(data1, columns = ['Dpn', 'name'])\n",
    " \n",
    "# initialize list of lists\n",
    "#data2 = [['jilian', 14], ['3096793G009', 'bb'], ['barbra', 14]]\n",
    "data2 = [['jilian', 14], ['3096793G009', 33], ['3096793G9', 14]]\n",
    " \n",
    "# Create the pandas DataFrame\n",
    "df2 = pd.DataFrame(data2, columns = ['Bpn', 'name'])\n",
    "\n",
    "\n",
    "#easy way to print columns\n",
    "print('These are the columns:- \\n', list(df2.columns))\n",
    "\n",
    "# print dataframe.\n",
    "#print(df2)\n",
    "\n",
    "\n",
    "print('-x-x-x-x-x-x-x-x-x-x-x-x-x-x-x-x-x-x-x-x-x-x-x-x-x-x-x-x-')\n",
    "\n",
    "for index2, row2 in df2.iterrows(): #rep\n",
    "    for index1, row1 in df1.iterrows(): #dc  dp is goign to change\n",
    "        #if row1['Dpn'].re.match('\\w[0]{0,2}\\d')== row2['Bpn'] :\n",
    "      \n",
    "        testword = (row1['Dpn'][:7])+'\\w[0]{0,2}\\d'\n",
    "        #print(testword, 'testing match with',row2['Bpn'] )\n",
    "        jimmy = re.match((row1['Dpn'][:7])+'\\w[0]{0,2}\\d',row2['Bpn'])\n",
    "        #print('*******************************************')\n",
    "     \n",
    "        #print(row1['Dpn'],row2['Bpn'])\n",
    "        if jimmy:\n",
    "            #print('Match found',jimmy.group(0))\n",
    "            matchTester = 'Match Exists'\n",
    "        else:\n",
    "            matchTester = 'Match Does not Exists'\n",
    "        print(testword, 'testing match with',row2['Bpn'],matchTester )\n",
    "\n",
    "\n"
   ]
  },
  {
   "cell_type": "code",
   "execution_count": null,
   "metadata": {},
   "outputs": [],
   "source": [
    "import pandas as pd\n",
    " \n",
    "\n",
    "df = pd.read_excel(r'C:\\Users\\Burudani\\Documents\\testerDoc.xlsx',\n",
    "sheet_name='Sheet1')\n",
    "# initialize list of lists\n",
    "\n",
    "#df[df.columns[0:4]].fillna(value=0, inplace=True)\n",
    "\n",
    "#gapminder[gapminder.columns[0:2]].head()\n",
    "\n",
    "str_cols = ['Name','oname', 'cname','dname','Lname','Age']\n",
    "columns2drop = ['dname', 'Lname']\n",
    " \n",
    "print(str_cols)\n",
    "df[str_cols] = df[str_cols].fillna('')\n",
    "\n",
    "#df.oname.fillna(value = 'N/A',inplace = True)\n",
    "\n",
    "# def concatColumns(stringColumnList):\n",
    "#     nucombinedColumn = []\n",
    "#     for column in stringColumnList:\n",
    "#         nucombinedColumn.append('df['+'\"'+column +'\"'+']'+ ';')\n",
    "#     print (nucombinedColumn)\n",
    "\n",
    "# concatColumns(str_cols)\n",
    " \n",
    "# for columns str_cols:\n",
    "#     df['Nucolumn'] = \n",
    "\n",
    "\n",
    "df['Nucolumn'] = df['Name'] +';'\\\n",
    "+ df['oname']+';'\\\n",
    "+ df['cname']+';'\\\n",
    "+ df['dname']+';'\\\n",
    "+ df['Lname']+';'\n",
    "\n",
    "#TODO strip spaces from final column output hint*** USE REGEX\n",
    "print(df)\n",
    "#df.Nucolumn = df.Nucolumn.apply(lambda x : (x.replace(';{1,3}','x',False)))\n",
    "df.Nucolumn = df.Nucolumn.replace(to_replace=';{1,9}|^;{1}', value=';', regex=True)\n",
    "df.Nucolumn = df.Nucolumn.replace(to_replace=';{1,9}|^;{1}', value=';', regex=True)\n",
    "df.Nucolumn = df.Nucolumn.replace(to_replace='^;{1}', value='', regex=True)\n",
    "\n",
    "df.drop(columns = columns2drop, inplace = True)\n",
    "\n",
    "print(df)\n",
    "#print(newdf)"
   ]
  },
  {
   "cell_type": "code",
   "execution_count": 15,
   "metadata": {},
   "outputs": [
    {
     "ename": "ModuleNotFoundError",
     "evalue": "No module named 'plotly'",
     "output_type": "error",
     "traceback": [
      "\u001b[1;31m---------------------------------------------------------------------------\u001b[0m",
      "\u001b[1;31mModuleNotFoundError\u001b[0m                       Traceback (most recent call last)",
      "Cell \u001b[1;32mIn[15], line 2\u001b[0m\n\u001b[0;32m      1\u001b[0m \u001b[39mimport\u001b[39;00m \u001b[39mpandas\u001b[39;00m \u001b[39mas\u001b[39;00m \u001b[39mpd\u001b[39;00m\n\u001b[1;32m----> 2\u001b[0m \u001b[39mimport\u001b[39;00m \u001b[39mplotly\u001b[39;00m\u001b[39m.\u001b[39;00m\u001b[39mexpress\u001b[39;00m \u001b[39mas\u001b[39;00m \u001b[39mpx\u001b[39;00m\n\u001b[0;32m      4\u001b[0m \u001b[39m# data\u001b[39;00m\n\u001b[0;32m      5\u001b[0m df \u001b[39m=\u001b[39m pd\u001b[39m.\u001b[39mDataFrame({\u001b[39m'\u001b[39m\u001b[39mA\u001b[39m\u001b[39m'\u001b[39m: {\u001b[39m0\u001b[39m: \u001b[39m34\u001b[39m, \u001b[39m1\u001b[39m: \u001b[39m34\u001b[39m, \u001b[39m2\u001b[39m: \u001b[39m34\u001b[39m, \u001b[39m3\u001b[39m: \u001b[39m34\u001b[39m, \u001b[39m4\u001b[39m: \u001b[39m56\u001b[39m, \u001b[39m5\u001b[39m: \u001b[39m56\u001b[39m, \u001b[39m6\u001b[39m: \u001b[39m78\u001b[39m},\n\u001b[0;32m      6\u001b[0m                      \u001b[39m'\u001b[39m\u001b[39mB\u001b[39m\u001b[39m'\u001b[39m: {\u001b[39m0\u001b[39m: \u001b[39m34\u001b[39m, \u001b[39m1\u001b[39m: \u001b[39m223\u001b[39m, \u001b[39m2\u001b[39m: \u001b[39m56\u001b[39m, \u001b[39m3\u001b[39m: \u001b[39m86\u001b[39m, \u001b[39m4\u001b[39m: \u001b[39m86\u001b[39m, \u001b[39m5\u001b[39m: \u001b[39m43\u001b[39m, \u001b[39m6\u001b[39m: \u001b[39m34\u001b[39m},\n\u001b[0;32m      7\u001b[0m                      \u001b[39m'\u001b[39m\u001b[39mC\u001b[39m\u001b[39m'\u001b[39m: {\u001b[39m0\u001b[39m: \u001b[39m-\u001b[39m\u001b[39m12\u001b[39m, \u001b[39m1\u001b[39m: \u001b[39m-\u001b[39m\u001b[39m12\u001b[39m, \u001b[39m2\u001b[39m: \u001b[39m-\u001b[39m\u001b[39m12\u001b[39m, \u001b[39m3\u001b[39m: \u001b[39m-\u001b[39m\u001b[39m12\u001b[39m, \u001b[39m4\u001b[39m: \u001b[39m-\u001b[39m\u001b[39m12\u001b[39m, \u001b[39m5\u001b[39m: \u001b[39m-\u001b[39m\u001b[39m12\u001b[39m, \u001b[39m6\u001b[39m: \u001b[39m-\u001b[39m\u001b[39m12\u001b[39m}})\n",
      "\u001b[1;31mModuleNotFoundError\u001b[0m: No module named 'plotly'"
     ]
    }
   ],
   "source": [
    "import pandas as pd\n",
    "import plotly.express as px\n",
    "\n",
    "# data\n",
    "df = pd.DataFrame({'A': {0: 34, 1: 34, 2: 34, 3: 34, 4: 56, 5: 56, 6: 78},\n",
    "                     'B': {0: 34, 1: 223, 2: 56, 3: 86, 4: 86, 5: 43, 6: 34},\n",
    "                     'C': {0: -12, 1: -12, 2: -12, 3: -12, 4: -12, 5: -12, 6: -12}})\n",
    "\n",
    "colors = px.colors.qualitative.T10\n",
    "\n",
    "# plotly\n",
    "fig = px.bar(df, \n",
    "             x = df.index,\n",
    "             y = [c for c in df.columns],\n",
    "             template = 'plotly_dark',\n",
    "             color_discrete_sequence = colors,\n",
    "             title = 'Stacked bar chart using px.bar()', \n",
    "             )\n",
    "\n",
    "fig.show()\n",
    "print('hello world')"
   ]
  },
  {
   "cell_type": "code",
   "execution_count": 16,
   "metadata": {},
   "outputs": [
    {
     "ename": "ModuleNotFoundError",
     "evalue": "No module named 'plotly'",
     "output_type": "error",
     "traceback": [
      "\u001b[1;31m---------------------------------------------------------------------------\u001b[0m",
      "\u001b[1;31mModuleNotFoundError\u001b[0m                       Traceback (most recent call last)",
      "Cell \u001b[1;32mIn[16], line 2\u001b[0m\n\u001b[0;32m      1\u001b[0m \u001b[39m# imports\u001b[39;00m\n\u001b[1;32m----> 2\u001b[0m \u001b[39mimport\u001b[39;00m \u001b[39mplotly\u001b[39;00m\n\u001b[0;32m      3\u001b[0m \u001b[39mimport\u001b[39;00m \u001b[39mcufflinks\u001b[39;00m \u001b[39mas\u001b[39;00m \u001b[39mcf\u001b[39;00m\n\u001b[0;32m      4\u001b[0m \u001b[39mfrom\u001b[39;00m \u001b[39mplotly\u001b[39;00m\u001b[39m.\u001b[39;00m\u001b[39moffline\u001b[39;00m \u001b[39mimport\u001b[39;00m download_plotlyjs, init_notebook_mode, plot, iplot\n",
      "\u001b[1;31mModuleNotFoundError\u001b[0m: No module named 'plotly'"
     ]
    }
   ],
   "source": [
    "# imports\n",
    "import plotly\n",
    "import cufflinks as cf\n",
    "from plotly.offline import download_plotlyjs, init_notebook_mode, plot, iplot\n",
    "import pandas as pd\n",
    "import numpy as np\n",
    "\n",
    "# setup\n",
    "init_notebook_mode(connected=True)\n",
    "np.random.seed(123)\n",
    "cf.set_config_file(theme='pearl')\n",
    "\n",
    "# qtconsole for debugging\n",
    "#%qtconsole --style vim #src# https://qtconsole.readthedocs.io/en/stable/\n",
    "\n",
    "# Random data using cufflinks\n",
    "df = cf.datagen.lines()\n",
    "df = df[['UUN.XY', 'MJF.XV', 'XBB.AO']].head(50)\n",
    "df=np.abs(df)\n",
    "\n",
    "# make figure\n",
    "fig = df.iplot(asFigure=True, kind='bar', barmode = 'stack',\n",
    "               xTitle='Dates',yTitle='Returns',title='Returns')\n",
    "\n",
    "# plot figure\n",
    "iplot(fig)"
   ]
  },
  {
   "cell_type": "code",
   "execution_count": null,
   "metadata": {},
   "outputs": [],
   "source": [
    "data = [['Ravi',21,67],['Kiran',24,61],['Anita',18,46],['Smita',20,78],['Sunil',17,90]]\n",
    "df = pd.DataFrame(data,columns = ['name','age','marks'],dtype = float)\n",
    "trace = go.Bar(x = df.name, y = df.marks)\n",
    "fig = go.Figure(data = [trace])\n",
    "iplot(fig)"
   ]
  },
  {
   "cell_type": "code",
   "execution_count": null,
   "metadata": {},
   "outputs": [],
   "source": [
    "data = [['Ravi',21,67],['Kiran',24,61],['Anita',18,46],['Smita',20,78],['Sunil',17,90]]\n",
    "df = pd.DataFrame(data,columns = ['name','age','marks'],dtype = float)\n",
    "df.iplot(kind = 'bar', x = 'name', y = 'marks')"
   ]
  },
  {
   "cell_type": "code",
   "execution_count": null,
   "metadata": {},
   "outputs": [],
   "source": [
    "import pandas as pd\n",
    "import numpy as np\n",
    "import matplotlib\n",
    "\n",
    "#Bring in original Data sheet\n",
    "df1 = pd.read_excel(r\"C:\\Users\\Burudani\\Documents\\Finance_Trending\\Checking_Jan1st2021_March10th2021.xlsx\")  \n",
    "#df1.columns = ['Date','Amount','Description']\n",
    "print(df1.head())\n",
    "\n",
    "\n",
    "# Bring in the excell sheet that you will use to create the final column\n",
    "df2 = pd.read_excel(r\"C:\\Users\\Burudani\\Documents\\Finance_Trending\\bank_amount_guide.xlsx\") \n",
    "\n",
    "\n",
    "\n",
    "\n",
    "#df = df.assign(model2='Expenses')\n",
    "\n",
    "#df.loc[:,'model2'] = str('Expenses')\n",
    "\n",
    "\n",
    "#df['model2'] = 'Expenditure'\n",
    "checkList = [\"BANANA REPUBLIC PAYMENT\",\"CHECK\",\"DE POST PAID DET BILL PAY \",\"GEICO PREM COLL \",\"JPMorgan Chase Ext Trnsfr\",\"CHASE CREDIT CRD AUTOPAY \",\"LOCKHEED MARTIN DIR DEP\",\"MACYS PAYMENT\",\"MONEY TRANSFER\",\"NELNET LOAN\",\"NORDSTROM PAYMENT\",\"OVERDRAFT FEE\",\"PAYPAL INST XFER\",\"Amazon Digit\",\"Amazon web service\",\"Amazon Prime\",\"wal-mart\",\"tom thumb\",\"7-eleven\",\"aero café\",\"goody goody\",\"wave\",\"txtag\",\"Prime Video\",\"cash app\",\"mcdonald\",\"cortland\",\"apple\",\"35413\",\"uber eats\",\"uber\",\"netflix\",\"at&t\",\"Linux Academy\",\"medium\",\"hour fitness\",\"Zelle from\"]\n",
    "checkListUppercase = [x.upper() for x in checkList]\n",
    "#if(row.make1.upper() in checkListUppercase):\n",
    "\n",
    "def NameReplacer(row):\n",
    "    '''This Function replaces the long version of the transactional data with a short form version of it'''\n",
    "    \n",
    "    for item in checkListUppercase:\n",
    "        if(item in row.Description.upper()):\n",
    "\n",
    "            return item\n",
    "\n",
    "\n",
    "df1.loc[:, 'Transaction'] = df1.apply(NameReplacer, axis = 1)\n",
    "\n",
    "df1.Transaction.fillna(value=np.nan, inplace=True)   # replaces None values with NaN values\n",
    "\n",
    "df1['Transaction'] = df1['Transaction'].fillna('EXPENDITURE')  # this allows you to now replace the NaN values with anything you want\n",
    "#df['modelchecker'].replace(NaN, \"\", inplace=True)\n",
    "\n",
    "#df['Match_Tester'] = df.apply(lambda errorDetector : df, axis = 1)\n",
    "print(df1)\n",
    "\n",
    "#df1.groupby(['Transaction']).sum()\n",
    "\n",
    "df1=df1.groupby([(df1.index.Transaction)]).sum()\n",
    "df2 = df1.drop(['index','Description'], axis = 1)\n",
    "\n",
    "df2.to_excel(r\"C:\\Users\\Burudani\\Documents\\Finance_Trending\\Checking_Jan1st2021_March10th2021_results3.xlsx\", index = False)\n",
    "\n",
    "df1.to_csv(r\"C:\\Users\\Burudani\\Documents\\Finance_Trending\\Checking_Jan1st2021_March10th2021_results4.xlsx\")"
   ]
  },
  {
   "cell_type": "markdown",
   "metadata": {},
   "source": [
    "## Applying Functions to dataframes\n",
    "1. Applying a function to search for  a specific pattern in a cell , then create a new column based on the pattern in those cells "
   ]
  },
  {
   "cell_type": "code",
   "execution_count": null,
   "metadata": {},
   "outputs": [],
   "source": [
    "#basic syntax\n",
    "def rowStatus(row):\n",
    "    '''This function searches for a match in a first column then creates a new column with a result to that match'''\n",
    "    if re.match(r'^[A-Z]{3};[A-Z]{3}\\d{10}',row):\n",
    "        return 'pattern match found'\n",
    "    else:\n",
    "        return 'No match here'\n"
   ]
  },
  {
   "cell_type": "code",
   "execution_count": null,
   "metadata": {},
   "outputs": [],
   "source": [
    "import pandas as pd\n",
    "import numpy as np\n",
    "import re\n",
    "\n",
    "\n",
    "'''Creating a new row from an existing dataframe'''\n",
    "\n",
    "def rowStatus(row):\n",
    "    '''This function searches for a match in a first column then creates a new column with a result to that match'''\n",
    "   # if row.make1.upper()=='HONDA':\n",
    "    #if re.match(row.make1,r'^[A-Z]{3};[A-Z]{3}\\d{10}'):\n",
    "    if re.match(r'^[A-Z]{3};[A-Z]{3}\\d{10}',row):\n",
    "        return 'serial match found'\n",
    "    else:\n",
    "        return 'No match here'\n",
    "    \n",
    "\n",
    "def main():\n",
    "    '''Main function to create simple dataframe'''\n",
    "    data = np.array([[1,\"JAB;TKO1234567899\",\"corolla\",\"TOYOTA\",\"corolla\"], \n",
    "                 [2,\"honda\",\"civic\",\"lamborghini\",\"sinata\"], \n",
    "                 [1,\"hyndai\",\"accent car\",\"hyndaisera\",\"accent car\"], \n",
    "                 [1,\"nissan\",\"sentra\",\"maserati\",\"dishenco\"],\n",
    "                 [2,\"honda\",\"Odessey\",\"porshe\",\"cayane\"],\n",
    "                 [1,\"Tesla\",\"model\",\"tesla mode3\",\"tesla\"]]) \n",
    "\n",
    "    df1 = pd.DataFrame(data, columns = ['year', 'make1','model1','make2','model2'])\n",
    "    print(df1) \n",
    "    \n",
    "    print('\\n')\n",
    "\n",
    "    #df1.loc[:, 'Foundit'] = df1.apply(rowStatus, axis = 1)\n",
    "    #df1.loc[:, 'Foundit'] = df1['make1'].apply(rowStatus)\n",
    "    df1['Foundit'] = df1['make1'].apply(rowStatus)\n",
    "    #df1.loc[:, 'Foundit'] = df1.map(rowStatus, axis = 1)\n",
    "    print(df1)   \n",
    "    print(df1)   \n",
    "    print(df1)   \n",
    "    print(df1)  \n",
    "  \n",
    "   \n",
    "    \n",
    "\n",
    "if __name__ == \"__main__\":\n",
    "    main()\n"
   ]
  },
  {
   "cell_type": "code",
   "execution_count": null,
   "metadata": {},
   "outputs": [],
   "source": [
    "df['column'].head() \n",
    "# or as you used loc    \n",
    "df.loc[:,'column'].head()"
   ]
  },
  {
   "cell_type": "code",
   "execution_count": null,
   "metadata": {},
   "outputs": [],
   "source": [
    "# Import seaborn\n",
    "import seaborn as sns\n",
    "\n",
    "# Apply the default theme\n",
    "sns.set_theme()\n",
    "\n",
    "# Load an example dataset\n",
    "tips = sns.load_dataset(\"tips\")\n",
    "\n",
    "# Create a visualization\n",
    "sns.relplot(\n",
    "    data=tips,\n",
    "    x=\"total_bill\", y=\"tip\", col=\"time\",\n",
    "    hue=\"smoker\", style=\"smoker\", size=\"size\",\n",
    ")"
   ]
  },
  {
   "cell_type": "markdown",
   "metadata": {},
   "source": [
    "# Iterating through a dataframe while "
   ]
  },
  {
   "cell_type": "code",
   "execution_count": 1,
   "metadata": {},
   "outputs": [
    {
     "data": {
      "image/png": "[encoded data removed]",
      "text/plain": [
       "<Figure size 640x480 with 1 Axes>"
      ]
     },
     "metadata": {},
     "output_type": "display_data"
    }
   ],
   "source": [
    "import seaborn as sns\n",
    "import matplotlib.pyplot as plt\n",
    "\n",
    "# sample data\n",
    "data = {'fruit': ['apple', 'banana', 'cherry', 'dates'],\n",
    "        'count': [10, 20, 30, 40]}\n",
    "\n",
    "# create a bar chart using seaborn\n",
    "sns.barplot(x='fruit', y='count', data=data)\n",
    "\n",
    "# add labels and title\n",
    "plt.xlabel('Fruit Name')\n",
    "plt.ylabel('Count')\n",
    "plt.title('Fruit Count')\n",
    "\n",
    "# show plot\n",
    "plt.show()"
   ]
  },
  {
   "cell_type": "code",
   "execution_count": null,
   "metadata": {},
   "outputs": [],
   "source": [
    "import seaborn as sns\n",
    "import matplotlib.pyplot as plt\n",
    "\n",
    "# sample data\n",
    "x = ['A', 'B', 'C', 'D', 'E']\n",
    "y = [10, 20, 15, 30, 25]\n",
    "\n",
    "# create bar chart using Seaborn\n",
    "sns.barplot(x=x, y=y)\n",
    "\n",
    "# set chart title and labels\n",
    "plt.title('Sample Bar Chart')\n",
    "plt.xlabel('Categories')\n",
    "plt.ylabel('Values')\n",
    "\n",
    "# display chart\n",
    "plt.show()"
   ]
  },
  {
   "attachments": {},
   "cell_type": "markdown",
   "metadata": {},
   "source": [
    "# Code to convert cell for another based on json"
   ]
  },
  {
   "cell_type": "code",
   "execution_count": null,
   "metadata": {},
   "outputs": [],
   "source": [
    "\n",
    "import pandas as pd\n",
    "import json\n",
    "\n",
    "# Define the Pandas DataFrame\n",
    "df = pd.DataFrame({\n",
    "    'name': ['John', 'Mary', 'Bob', 'Alice'],\n",
    "    'age': [25, 30, 35, 40],\n",
    "    'gender': ['M', 'F', 'M', 'F']\n",
    "})\n",
    "\n",
    "# Define the JSON dictionary to map the gender values\n",
    "gender_map = {\n",
    "    'M': 'Male',\n",
    "    'F': 'Female'\n",
    "}\n",
    "\n",
    "# Define a function to apply the mapping to the gender column\n",
    "def map_gender(gender):\n",
    "    return gender_map.get(gender, gender)\n",
    "\n",
    "# Apply the function to the gender column and assign the result to a new column\n",
    "df['gender_mapped'] = df['gender'].apply(map_gender)\n",
    "\n",
    "# Print the original and mapped DataFrames\n",
    "print('Original DataFrame:')\n",
    "print(df)\n",
    "\n",
    "print('\\nMapped DataFrame:')\n",
    "print(df[['name', 'age', 'gender_mapped']])"
   ]
  },
  {
   "attachments": {},
   "cell_type": "markdown",
   "metadata": {},
   "source": [
    "## write a python pandas code checking a cell value in  a specific column in excel file with \"if contains\" substring from a json, then a create a new column in the excel file for replaced value from the json look up table"
   ]
  },
  {
   "cell_type": "code",
   "execution_count": 4,
   "metadata": {},
   "outputs": [
    {
     "name": "stdout",
     "output_type": "stream",
     "text": [
      "Done\n"
     ]
    }
   ],
   "source": [
    "import pandas as pd\n",
    "import openpyxl\n",
    "import json\n",
    "import tkinter as tk\n",
    "from tkinter import filedialog\n",
    "import datetime as dt\n",
    "\n",
    "# Load the lookup table from the JSON file\n",
    "with open(r'C:\\Users\\Burudani\\Documents\\mainPythonFolder_v1\\JSON\\payDescriptionConverter.json', 'r') as f:\n",
    "    lookup_table = json.load(f)\n",
    "\n",
    "# Create a tkinter root window\n",
    "root = tk.Tk()\n",
    "\n",
    "# Hide the root window\n",
    "root.withdraw()\n",
    "\n",
    "# Open a file dialog window to select the CSV file\n",
    "file_path = filedialog.askopenfilename(filetypes=[('CSV files', '*.csv')])\n",
    "\n",
    "# Load the CSV file into a pandas dataframe\n",
    "df = pd.read_csv(file_path)\n",
    "# Load the Excel file into a Pandas dataframe\n",
    "#df = pd.read_excel(r\"G:\\My Drive\\Finances\\Latest_Statement_April_2023.xlsx\")\n",
    "\n",
    "# Delete the unwanted 3rd and 4th columns (they have unecessary information in them)\n",
    "df.drop(df.columns[[2, 3]], axis=1, inplace=True)\n",
    "\n",
    "\n",
    "# Rename the remaining columns with new headers\n",
    "df.columns = ['date', 'amount', 'Description']\n",
    "\n",
    "# Define the column to search and the column to create\n",
    "search_col = 'Description'\n",
    "create_col = 'Category'\n",
    "\n",
    "\n",
    "# Loop through the rows of the DataFrame and apply the lookup\n",
    "for index, row in df.iterrows():\n",
    "    for key in lookup_table.keys():\n",
    "        if key in str(row[search_col]):\n",
    "            df.loc[index, create_col] = lookup_table[key]\n",
    "            break\n",
    "    else:\n",
    "        df.loc[index, create_col] = \"NO CATEGORY\"\n",
    "# Get the current date in the format YYYY-MM-DD\n",
    "current_date = dt.datetime.now().strftime('%Y-%m-%d')\n",
    "\n",
    "# Create the new file name with the current date\n",
    "new_file_name = 'Latest_Financial_Expenditure_Statement_' + current_date + '.xlsx'\n",
    "\n",
    "# Save the dataframe to the new file name and location\n",
    "df.to_excel(r\"G:/My Drive/Finances/\" + new_file_name, index=False)\n",
    "# Save the updated dataframe to the Excel file\n",
    "#df.to_excel(r\"G:\\My Drive\\Finances\\Latest_Statement_March_2023_edited.xlsx\", sheet_name='Sheet1',index=False)\n",
    "print (\"Done\")"
   ]
  },
  {
   "cell_type": "code",
   "execution_count": 2,
   "metadata": {},
   "outputs": [
    {
     "name": "stdout",
     "output_type": "stream",
     "text": [
      "     04/10/2023  -141.77  *  Unnamed: 3  \\\n",
      "0    04/10/2023   -29.74  *         NaN   \n",
      "1    04/10/2023   -20.32  *         NaN   \n",
      "2    04/10/2023  -126.57  *         NaN   \n",
      "3    04/10/2023   -17.98  *         NaN   \n",
      "4    04/10/2023   -19.20  *         NaN   \n",
      "..          ...      ... ..         ...   \n",
      "525  01/03/2023    -0.68  *         NaN   \n",
      "526  01/03/2023   -22.95  *         NaN   \n",
      "527  01/03/2023   -20.00  *         NaN   \n",
      "528  01/03/2023    -0.54  *         NaN   \n",
      "529  01/03/2023   -18.13  *         NaN   \n",
      "\n",
      "        GEICO PREM COLL 230408 1457370084 KIRWA A BOIT  \n",
      "0    PURCHASE AUTHORIZED ON 04/09 FANDANGO 86685751...  \n",
      "1    PURCHASE AUTHORIZED ON 04/08 TST* GOOD VIEW BA...  \n",
      "2    PURCHASE AUTHORIZED ON 04/08 SPECS #16 2416 S ...  \n",
      "3    PURCHASE AUTHORIZED ON 04/08 REGAL BUFFET LEWI...  \n",
      "4    PURCHASE AUTHORIZED ON 04/08 WAFFLE HOUSE 1585...  \n",
      "..                                                 ...  \n",
      "525             INTERNATIONAL PURCHASE TRANSACTION FEE  \n",
      "526  PURCHASE INTL AUTHORIZED ON 12/31 NAIROBI JAVA...  \n",
      "527  PURCHASE AUTHORIZED ON 12/31 TXTAG 888 468 982...  \n",
      "528             INTERNATIONAL PURCHASE TRANSACTION FEE  \n",
      "529  PURCHASE INTL AUTHORIZED ON 12/29 CHANDARAN EL...  \n",
      "\n",
      "[530 rows x 5 columns]\n"
     ]
    }
   ],
   "source": [
    "import pandas as pd\n",
    "import tkinter as tk\n",
    "from tkinter import filedialog\n",
    "\n",
    "# Create a tkinter root window\n",
    "root = tk.Tk()\n",
    "\n",
    "# Hide the root window\n",
    "root.withdraw()\n",
    "\n",
    "# Open a file dialog window to select the CSV file\n",
    "file_path = filedialog.askopenfilename(filetypes=[('CSV files', '*.csv')])\n",
    "\n",
    "# Load the CSV file into a pandas dataframe\n",
    "df = pd.read_csv(file_path)\n",
    "\n",
    "# Print the dataframe\n",
    "print(df)"
   ]
  },
  {
   "cell_type": "code",
   "execution_count": 2,
   "metadata": {},
   "outputs": [
    {
     "name": "stdout",
     "output_type": "stream",
     "text": [
      "                 date amount       category\n",
      "0 2022-01-01 00:00:00     61      fast-food\n",
      "1 2022-01-31 00:00:00     62  entertainment\n",
      "2 2022-01-31 00:00:00     65           rent\n",
      "3 2022-02-14 12:00:00     38      fast-food\n",
      "4 2022-02-14 12:00:00     31  entertainment\n",
      "5 2022-02-14 12:00:00    100           rent\n",
      "6 2022-03-01 00:00:00     93      fast-food\n",
      "7 2022-03-16 00:00:00     63  entertainment\n",
      "8 2022-03-16 00:00:00     66           rent\n"
     ]
    },
    {
     "name": "stderr",
     "output_type": "stream",
     "text": [
      "C:\\Users\\Burudani\\AppData\\Local\\Temp\\ipykernel_45468\\327881418.py:20: FutureWarning: The frame.append method is deprecated and will be removed from pandas in a future version. Use pandas.concat instead.\n",
      "  df = df.append({'date': date, 'amount': amount, 'category': category}, ignore_index=True)\n",
      "C:\\Users\\Burudani\\AppData\\Local\\Temp\\ipykernel_45468\\327881418.py:20: FutureWarning: The frame.append method is deprecated and will be removed from pandas in a future version. Use pandas.concat instead.\n",
      "  df = df.append({'date': date, 'amount': amount, 'category': category}, ignore_index=True)\n",
      "C:\\Users\\Burudani\\AppData\\Local\\Temp\\ipykernel_45468\\327881418.py:20: FutureWarning: The frame.append method is deprecated and will be removed from pandas in a future version. Use pandas.concat instead.\n",
      "  df = df.append({'date': date, 'amount': amount, 'category': category}, ignore_index=True)\n",
      "C:\\Users\\Burudani\\AppData\\Local\\Temp\\ipykernel_45468\\327881418.py:20: FutureWarning: The frame.append method is deprecated and will be removed from pandas in a future version. Use pandas.concat instead.\n",
      "  df = df.append({'date': date, 'amount': amount, 'category': category}, ignore_index=True)\n",
      "C:\\Users\\Burudani\\AppData\\Local\\Temp\\ipykernel_45468\\327881418.py:20: FutureWarning: The frame.append method is deprecated and will be removed from pandas in a future version. Use pandas.concat instead.\n",
      "  df = df.append({'date': date, 'amount': amount, 'category': category}, ignore_index=True)\n",
      "C:\\Users\\Burudani\\AppData\\Local\\Temp\\ipykernel_45468\\327881418.py:20: FutureWarning: The frame.append method is deprecated and will be removed from pandas in a future version. Use pandas.concat instead.\n",
      "  df = df.append({'date': date, 'amount': amount, 'category': category}, ignore_index=True)\n",
      "C:\\Users\\Burudani\\AppData\\Local\\Temp\\ipykernel_45468\\327881418.py:20: FutureWarning: The frame.append method is deprecated and will be removed from pandas in a future version. Use pandas.concat instead.\n",
      "  df = df.append({'date': date, 'amount': amount, 'category': category}, ignore_index=True)\n",
      "C:\\Users\\Burudani\\AppData\\Local\\Temp\\ipykernel_45468\\327881418.py:20: FutureWarning: The frame.append method is deprecated and will be removed from pandas in a future version. Use pandas.concat instead.\n",
      "  df = df.append({'date': date, 'amount': amount, 'category': category}, ignore_index=True)\n",
      "C:\\Users\\Burudani\\AppData\\Local\\Temp\\ipykernel_45468\\327881418.py:20: FutureWarning: The frame.append method is deprecated and will be removed from pandas in a future version. Use pandas.concat instead.\n",
      "  df = df.append({'date': date, 'amount': amount, 'category': category}, ignore_index=True)\n"
     ]
    }
   ],
   "source": [
    "import pandas as pd\n",
    "import numpy as np\n",
    "\n",
    "# Create a list of 9 random dates for January, February and March respectively\n",
    "jan_dates = pd.date_range(start='2022-01-01', end='2022-01-31', periods=3)\n",
    "feb_dates = pd.date_range(start='2022-02-01', end='2022-02-28', periods=3)\n",
    "mar_dates = pd.date_range(start='2022-03-01', end='2022-03-31', periods=3)\n",
    "\n",
    "# Create a list of categories\n",
    "categories = ['fast-food', 'entertainment', 'rent']\n",
    "\n",
    "# Create an empty DataFrame with the required columns\n",
    "df = pd.DataFrame(columns=['date', 'amount', 'category'])\n",
    "\n",
    "# Populate the DataFrame with random data\n",
    "for date_list in [jan_dates, feb_dates, mar_dates]:\n",
    "    for category in categories:\n",
    "        date = np.random.choice(date_list)\n",
    "        amount = np.random.randint(10, 101)\n",
    "        df = df.append({'date': date, 'amount': amount, 'category': category}, ignore_index=True)\n",
    "\n",
    "# Print the DataFrame\n",
    "print(df)"
   ]
  },
  {
   "cell_type": "code",
   "execution_count": 4,
   "metadata": {},
   "outputs": [
    {
     "name": "stderr",
     "output_type": "stream",
     "text": [
      "C:\\Users\\Burudani\\AppData\\Local\\Temp\\ipykernel_45468\\916661303.py:18: FutureWarning: The frame.append method is deprecated and will be removed from pandas in a future version. Use pandas.concat instead.\n",
      "  df = df.append({'date': date, 'amount': amount, 'category': category}, ignore_index=True)\n",
      "C:\\Users\\Burudani\\AppData\\Local\\Temp\\ipykernel_45468\\916661303.py:18: FutureWarning: The frame.append method is deprecated and will be removed from pandas in a future version. Use pandas.concat instead.\n",
      "  df = df.append({'date': date, 'amount': amount, 'category': category}, ignore_index=True)\n",
      "C:\\Users\\Burudani\\AppData\\Local\\Temp\\ipykernel_45468\\916661303.py:18: FutureWarning: The frame.append method is deprecated and will be removed from pandas in a future version. Use pandas.concat instead.\n",
      "  df = df.append({'date': date, 'amount': amount, 'category': category}, ignore_index=True)\n",
      "C:\\Users\\Burudani\\AppData\\Local\\Temp\\ipykernel_45468\\916661303.py:18: FutureWarning: The frame.append method is deprecated and will be removed from pandas in a future version. Use pandas.concat instead.\n",
      "  df = df.append({'date': date, 'amount': amount, 'category': category}, ignore_index=True)\n",
      "C:\\Users\\Burudani\\AppData\\Local\\Temp\\ipykernel_45468\\916661303.py:18: FutureWarning: The frame.append method is deprecated and will be removed from pandas in a future version. Use pandas.concat instead.\n",
      "  df = df.append({'date': date, 'amount': amount, 'category': category}, ignore_index=True)\n",
      "C:\\Users\\Burudani\\AppData\\Local\\Temp\\ipykernel_45468\\916661303.py:18: FutureWarning: The frame.append method is deprecated and will be removed from pandas in a future version. Use pandas.concat instead.\n",
      "  df = df.append({'date': date, 'amount': amount, 'category': category}, ignore_index=True)\n",
      "C:\\Users\\Burudani\\AppData\\Local\\Temp\\ipykernel_45468\\916661303.py:18: FutureWarning: The frame.append method is deprecated and will be removed from pandas in a future version. Use pandas.concat instead.\n",
      "  df = df.append({'date': date, 'amount': amount, 'category': category}, ignore_index=True)\n",
      "C:\\Users\\Burudani\\AppData\\Local\\Temp\\ipykernel_45468\\916661303.py:18: FutureWarning: The frame.append method is deprecated and will be removed from pandas in a future version. Use pandas.concat instead.\n",
      "  df = df.append({'date': date, 'amount': amount, 'category': category}, ignore_index=True)\n",
      "C:\\Users\\Burudani\\AppData\\Local\\Temp\\ipykernel_45468\\916661303.py:18: FutureWarning: The frame.append method is deprecated and will be removed from pandas in a future version. Use pandas.concat instead.\n",
      "  df = df.append({'date': date, 'amount': amount, 'category': category}, ignore_index=True)\n"
     ]
    },
    {
     "data": {
      "image/png": "[encoded data removed]",
      "text/plain": [
       "<Figure size 640x480 with 1 Axes>"
      ]
     },
     "metadata": {},
     "output_type": "display_data"
    }
   ],
   "source": [
    "import pandas as pd\n",
    "import matplotlib.pyplot as plt\n",
    "import seaborn as sns\n",
    "\n",
    "# Create the DataFrame with random data\n",
    "jan_dates = pd.date_range(start='2022-01-01', end='2022-01-31', periods=3)\n",
    "feb_dates = pd.date_range(start='2022-02-01', end='2022-02-28', periods=3)\n",
    "mar_dates = pd.date_range(start='2022-03-01', end='2022-03-31', periods=3)\n",
    "\n",
    "categories = ['fast-food', 'entertainment', 'rent']\n",
    "\n",
    "df = pd.DataFrame(columns=['date', 'amount', 'category'])\n",
    "\n",
    "for date_list in [jan_dates, feb_dates, mar_dates]:\n",
    "    for category in categories:\n",
    "        date = np.random.choice(date_list)\n",
    "        amount = np.random.randint(10, 101)\n",
    "        df = df.append({'date': date, 'amount': amount, 'category': category}, ignore_index=True)\n",
    "\n",
    "# Group the data by month and category and compute the mean of the amount column\n",
    "grouped_data = df.groupby(['date', 'category'])['amount'].mean().reset_index()\n",
    "\n",
    "# Create the bar chart\n",
    "sns.set_style(\"whitegrid\")\n",
    "sns.set_palette(\"bright\")\n",
    "sns.barplot(x=grouped_data['date'].dt.strftime('%b'), y=\"amount\", hue=\"category\", data=grouped_data)\n",
    "\n",
    "# Set the plot title and labels\n",
    "plt.title(\"Grouped Bar Chart of Data by Month and Category\")\n",
    "plt.xlabel(\"Month\")\n",
    "plt.ylabel(\"Amount\")\n",
    "\n",
    "# Show the plot\n",
    "plt.show()"
   ]
  },
  {
   "cell_type": "code",
   "execution_count": 6,
   "metadata": {},
   "outputs": [
    {
     "name": "stderr",
     "output_type": "stream",
     "text": [
      "C:\\Users\\Burudani\\AppData\\Local\\Temp\\ipykernel_45468\\1514785907.py:19: FutureWarning: The frame.append method is deprecated and will be removed from pandas in a future version. Use pandas.concat instead.\n",
      "  df = df.append({'date': date, 'amount': amount, 'category': category}, ignore_index=True)\n",
      "C:\\Users\\Burudani\\AppData\\Local\\Temp\\ipykernel_45468\\1514785907.py:19: FutureWarning: The frame.append method is deprecated and will be removed from pandas in a future version. Use pandas.concat instead.\n",
      "  df = df.append({'date': date, 'amount': amount, 'category': category}, ignore_index=True)\n",
      "C:\\Users\\Burudani\\AppData\\Local\\Temp\\ipykernel_45468\\1514785907.py:19: FutureWarning: The frame.append method is deprecated and will be removed from pandas in a future version. Use pandas.concat instead.\n",
      "  df = df.append({'date': date, 'amount': amount, 'category': category}, ignore_index=True)\n",
      "C:\\Users\\Burudani\\AppData\\Local\\Temp\\ipykernel_45468\\1514785907.py:19: FutureWarning: The frame.append method is deprecated and will be removed from pandas in a future version. Use pandas.concat instead.\n",
      "  df = df.append({'date': date, 'amount': amount, 'category': category}, ignore_index=True)\n",
      "C:\\Users\\Burudani\\AppData\\Local\\Temp\\ipykernel_45468\\1514785907.py:19: FutureWarning: The frame.append method is deprecated and will be removed from pandas in a future version. Use pandas.concat instead.\n",
      "  df = df.append({'date': date, 'amount': amount, 'category': category}, ignore_index=True)\n",
      "C:\\Users\\Burudani\\AppData\\Local\\Temp\\ipykernel_45468\\1514785907.py:19: FutureWarning: The frame.append method is deprecated and will be removed from pandas in a future version. Use pandas.concat instead.\n",
      "  df = df.append({'date': date, 'amount': amount, 'category': category}, ignore_index=True)\n",
      "C:\\Users\\Burudani\\AppData\\Local\\Temp\\ipykernel_45468\\1514785907.py:19: FutureWarning: The frame.append method is deprecated and will be removed from pandas in a future version. Use pandas.concat instead.\n",
      "  df = df.append({'date': date, 'amount': amount, 'category': category}, ignore_index=True)\n",
      "C:\\Users\\Burudani\\AppData\\Local\\Temp\\ipykernel_45468\\1514785907.py:19: FutureWarning: The frame.append method is deprecated and will be removed from pandas in a future version. Use pandas.concat instead.\n",
      "  df = df.append({'date': date, 'amount': amount, 'category': category}, ignore_index=True)\n",
      "C:\\Users\\Burudani\\AppData\\Local\\Temp\\ipykernel_45468\\1514785907.py:19: FutureWarning: The frame.append method is deprecated and will be removed from pandas in a future version. Use pandas.concat instead.\n",
      "  df = df.append({'date': date, 'amount': amount, 'category': category}, ignore_index=True)\n"
     ]
    },
    {
     "data": {
      "image/png": "[encoded data removed]",
      "text/plain": [
       "<Figure size 640x480 with 1 Axes>"
      ]
     },
     "metadata": {},
     "output_type": "display_data"
    }
   ],
   "source": [
    "import pandas as pd\n",
    "import numpy as np\n",
    "import matplotlib.pyplot as plt\n",
    "import seaborn as sns\n",
    "\n",
    "# Create the DataFrame with random data\n",
    "jan_dates = pd.date_range(start='2022-01-01', end='2022-01-31', periods=3)\n",
    "feb_dates = pd.date_range(start='2022-02-01', end='2022-02-28', periods=3)\n",
    "mar_dates = pd.date_range(start='2022-03-01', end='2022-03-31', periods=3)\n",
    "\n",
    "categories = ['fast-food', 'entertainment', 'rent']\n",
    "\n",
    "df = pd.DataFrame(columns=['date', 'amount', 'category'])\n",
    "\n",
    "for date_list in [jan_dates, feb_dates, mar_dates]:\n",
    "    for category in categories:\n",
    "        date = np.random.choice(date_list)\n",
    "        amount = np.random.randint(10, 101)\n",
    "        df = df.append({'date': date, 'amount': amount, 'category': category}, ignore_index=True)\n",
    "\n",
    "# Group the data by month and category and compute the mean of the amount column\n",
    "grouped_data = df.groupby(['date', 'category'])['amount'].mean().reset_index()\n",
    "\n",
    "# Create the bar chart\n",
    "sns.set_style(\"whitegrid\")\n",
    "sns.set_palette(\"bright\")\n",
    "ax = sns.barplot(x=grouped_data['date'].dt.strftime('%b'), y=\"amount\", hue=\"category\", data=grouped_data)\n",
    "\n",
    "# Define the function to format the toolbar text when hovering over a data point\n",
    "def format_coord(x, y):\n",
    "    x_date = pd.to_datetime(ax.get_xticklabels()[int(x)].get_text() + ' 2022')\n",
    "    y_amount = round(y, 2)\n",
    "    return f\"{x_date:%b}: ${y_amount}\"\n",
    "\n",
    "# Set the plot title and labels\n",
    "plt.title(\"Grouped Bar Chart of Data by Month and Category\")\n",
    "plt.xlabel(\"Month\")\n",
    "plt.ylabel(\"Amount\")\n",
    "\n",
    "# Set the format_coord function as the format cursor function\n",
    "ax.format_coord = format_coord\n",
    "\n",
    "# Show the plot\n",
    "plt.show()"
   ]
  },
  {
   "cell_type": "code",
   "execution_count": 9,
   "metadata": {},
   "outputs": [
    {
     "ename": "IndexError",
     "evalue": "list index out of range",
     "output_type": "error",
     "traceback": [
      "\u001b[1;31m---------------------------------------------------------------------------\u001b[0m",
      "\u001b[1;31mIndexError\u001b[0m                                Traceback (most recent call last)",
      "Cell \u001b[1;32mIn[9], line 19\u001b[0m\n\u001b[0;32m     17\u001b[0m \u001b[39mfor\u001b[39;00m i, cat \u001b[39min\u001b[39;00m \u001b[39menumerate\u001b[39m(top5[\u001b[39m'\u001b[39m\u001b[39mcategory\u001b[39m\u001b[39m'\u001b[39m]\u001b[39m.\u001b[39munique()):\n\u001b[0;32m     18\u001b[0m     data \u001b[39m=\u001b[39m top5[top5[\u001b[39m'\u001b[39m\u001b[39mcategory\u001b[39m\u001b[39m'\u001b[39m] \u001b[39m==\u001b[39m cat]\n\u001b[1;32m---> 19\u001b[0m     ax\u001b[39m.\u001b[39mbar(data[\u001b[39m'\u001b[39m\u001b[39mdate\u001b[39m\u001b[39m'\u001b[39m]\u001b[39m.\u001b[39mdt\u001b[39m.\u001b[39mstrftime(\u001b[39m'\u001b[39m\u001b[39m%\u001b[39m\u001b[39mb\u001b[39m\u001b[39m'\u001b[39m), data[\u001b[39m'\u001b[39m\u001b[39mamount\u001b[39m\u001b[39m'\u001b[39m], color\u001b[39m=\u001b[39mcolors[i], label\u001b[39m=\u001b[39mcat)\n\u001b[0;32m     21\u001b[0m \u001b[39m# Set the plot title and labels\u001b[39;00m\n\u001b[0;32m     22\u001b[0m plt\u001b[39m.\u001b[39mtitle(\u001b[39m\"\u001b[39m\u001b[39mTop 5 Categories by amount per Month\u001b[39m\u001b[39m\"\u001b[39m)\n",
      "\u001b[1;31mIndexError\u001b[0m: list index out of range"
     ]
    },
    {
     "data": {
      "image/png": "[encoded data removed]",
      "text/plain": [
       "<Figure size 1000x600 with 1 Axes>"
      ]
     },
     "metadata": {},
     "output_type": "display_data"
    }
   ],
   "source": [
    "import pandas as pd\n",
    "import matplotlib.pyplot as plt\n",
    "\n",
    "# Load the data from an Excel file\n",
    "df = pd.read_excel(\"G:\\My Drive\\Finances\\Latest_Statement_March_2023_edited.xlsx\", sheet_name='Sheet1')\n",
    "\n",
    "# Group the data by month and category and compute the mean of the amount column\n",
    "df['date'] = pd.to_datetime(df['date'])  # Convert date column to datetime format\n",
    "grouped_data = df.groupby(['date', 'category'])['amount'].mean().reset_index()\n",
    "\n",
    "# Get the top 5 categories by amount for each month\n",
    "top5 = grouped_data.groupby('date').apply(lambda x: x.nlargest(5, 'amount')).reset_index(drop=True)\n",
    "\n",
    "# Create the bar chart\n",
    "fig, ax = plt.subplots(figsize=(10, 6))\n",
    "colors = ['tab:blue', 'tab:orange', 'tab:green', 'tab:red', 'tab:purple']\n",
    "for i, cat in enumerate(top5['category'].unique()):\n",
    "    data = top5[top5['category'] == cat]\n",
    "    ax.bar(data['date'].dt.strftime('%b'), data['amount'], color=colors[i], label=cat)\n",
    "\n",
    "# Set the plot title and labels\n",
    "plt.title(\"Top 5 Categories by amount per Month\")\n",
    "plt.xlabel(\"Month\")\n",
    "plt.ylabel(\"amount\")\n",
    "plt.legend()\n",
    "\n",
    "# Invert the y-axis to invert the positive and negative values\n",
    "ax.invert_yaxis()\n",
    "\n",
    "# Format the tooltip to show the amount and category\n",
    "def format_tooltip(x, y):\n",
    "    return f\"{y:.2f}\"\n",
    "\n",
    "plt.gca().format_ydata = format_tooltip\n",
    "\n",
    "# Show the plot\n",
    "plt.show()"
   ]
  },
  {
   "attachments": {},
   "cell_type": "markdown",
   "metadata": {},
   "source": [
    "## Chatgpt Question prompt"
   ]
  }
 ],
 "metadata": {
  "kernelspec": {
   "display_name": "Python 3.9.7 ('rwaki')",
   "language": "python",
   "name": "python3"
  },
  "language_info": {
   "codemirror_mode": {
    "name": "ipython",
    "version": 3
   },
   "file_extension": ".py",
   "mimetype": "text/x-python",
   "name": "python",
   "nbconvert_exporter": "python",
   "pygments_lexer": "ipython3",
   "version": "3.9.7"
  },
  "orig_nbformat": 4,
  "vscode": {
   "interpreter": {
    "hash": "f009ebe961abe9f04d17665023306971fb006dda60c851628c5c45f15912b39a"
   }
  }
 },
 "nbformat": 4,
 "nbformat_minor": 2
}
