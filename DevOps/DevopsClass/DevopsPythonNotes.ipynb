{
 "cells": [
  {
   "cell_type": "markdown",
   "metadata": {},
   "source": [
    "# Python for Devops\n",
    "- This class will cover various useful code snippets for devops"
   ]
  },
  {
   "cell_type": "markdown",
   "metadata": {},
   "source": [
    "## Stuff to remember:-\n",
    "- Everything in python is an object\n",
    "- a variable is a store for a value, be it a string, a number or boolean, or as a result of a calculation or operation\n",
    "- Variables usually exist on the  left side of the equal sign"
   ]
  },
  {
   "cell_type": "code",
   "execution_count": 1,
   "metadata": {},
   "outputs": [
    {
     "name": "stdout",
     "output_type": "stream",
     "text": [
      "hello world\n"
     ]
    }
   ],
   "source": [
    "print(\"hello world\")  # this is a string"
   ]
  },
  {
   "cell_type": "markdown",
   "metadata": {},
   "source": [
    "## Assignments and variable and types\n"
   ]
  },
  {
   "cell_type": "code",
   "execution_count": 12,
   "metadata": {},
   "outputs": [],
   "source": [
    "a = 5\n",
    "b = 8\n",
    "x = \"name string\"\n",
    "h = 'name sake'\n",
    "j = True\n",
    "k = False\n"
   ]
  },
  {
   "cell_type": "markdown",
   "metadata": {},
   "source": [
    "## variable naming cases"
   ]
  },
  {
   "cell_type": "code",
   "execution_count": null,
   "metadata": {},
   "outputs": [],
   "source": [
    "camelCase = \"camel case\"\n",
    "alexBoit = \"camel case\"\n",
    "janveieve_barbs_odhiambo =\"snake case\"\n",
    "his_excellency_president_republic_of_kenya = \"uhuru muigai kenyatta\""
   ]
  },
  {
   "cell_type": "markdown",
   "metadata": {},
   "source": [
    "## Data structures\n",
    "- Lists   --one dimensional\n",
    "- Dictionary   -- used to map keys to values, \"key-value-pairs\"\n",
    "- Array   --- can be multi dimensional lists"
   ]
  },
  {
   "cell_type": "code",
   "execution_count": 1,
   "metadata": {},
   "outputs": [
    {
     "name": "stdout",
     "output_type": "stream",
     "text": [
      "{'brand': 'Ford', 'model': 'Mustang', 'year': 1964}\n"
     ]
    }
   ],
   "source": [
    "fruit_list = [\"apple\",\"pineapple\",\"banana\",\"strawberry\",\"kiwi\"]  # this  alist of fruits\n",
    "car_dict = {\n",
    "  \"brand\": \"Ford\",\n",
    "  \"model\": \"Mustang\",\n",
    "  \"year\": 1964\n",
    "}\n",
    "fruit_tuple = (\"apple\",\"pineapple\",\"banana\",\"strawberry\",\"kiwi\") # tuples are immutable, cannot be added to, or subtracted from\n",
    "print(car_dict)"
   ]
  },
  {
   "cell_type": "markdown",
   "metadata": {},
   "source": [
    "## Conditions  and indentation"
   ]
  },
  {
   "cell_type": "code",
   "execution_count": 17,
   "metadata": {},
   "outputs": [
    {
     "name": "stdout",
     "output_type": "stream",
     "text": [
      "the statments were false\n"
     ]
    }
   ],
   "source": [
    "if a < 3:\n",
    "    print(\"the statement is correct\")\n",
    "\n",
    "elif j == False:\n",
    "    print(\"J is True\")   \n",
    "else:\n",
    "    print(\"the statments were false\")"
   ]
  },
  {
   "cell_type": "markdown",
   "metadata": {},
   "source": [
    "## Different Types Of Conditions\n",
    "- While loop\n",
    "- for loop"
   ]
  },
  {
   "cell_type": "code",
   "execution_count": 3,
   "metadata": {},
   "outputs": [
    {
     "name": "stdout",
     "output_type": "stream",
     "text": [
      "The sum is 10 the ioterator value is 11\n"
     ]
    }
   ],
   "source": [
    "# While loop\n",
    "# program to do start and cpntinue doing a service  , until a condition is met \n",
    "# number of iterations \n",
    " \n",
    "\n",
    " \n",
    "n = 10\n",
    "\n",
    "\n",
    " # initialize the sum and counter  for the while loop\n",
    "\n",
    "sum = 0\n",
    "i = 1       # iterative variable\n",
    "\n",
    "\n",
    "while i <=n:    # testing for truth of the statement\n",
    "    sum = sum +1\n",
    "    i = i+1   \n",
    "\n",
    "# print the  sum\n",
    "print( \"The sum is\", sum, \"the iterator value is\", i)"
   ]
  },
  {
   "cell_type": "code",
   "execution_count": 4,
   "metadata": {},
   "outputs": [
    {
     "name": "stdout",
     "output_type": "stream",
     "text": [
      "The sum is 25\n"
     ]
    }
   ],
   "source": [
    "# For loop, for best for iterating through lists\n",
    "\n",
    "num_list = [ 7,9,4,5]\n",
    "\n",
    "sum = 0\n",
    "\n",
    "\n",
    "for val in num_list:\n",
    "    sum = sum + val\n",
    "\n",
    "\n",
    "print(\"The sum is\", sum)\n"
   ]
  },
  {
   "cell_type": "markdown",
   "metadata": {},
   "source": [
    "## Continue and Break, Pass Statements"
   ]
  },
  {
   "cell_type": "markdown",
   "metadata": {},
   "source": [
    "### Break"
   ]
  },
  {
   "cell_type": "code",
   "execution_count": 3,
   "metadata": {},
   "outputs": [
    {
     "name": "stdout",
     "output_type": "stream",
     "text": [
      "0\n",
      "7\n",
      "16\n",
      "The final sum is 16\n"
     ]
    }
   ],
   "source": [
    "# For loop, for best for iterating through lists, using a break statement to exit upon observing a certain condition\n",
    "\n",
    "num_list = [7,9,\"yahoo\",4,5]\n",
    "\n",
    "sum = 0\n",
    "\n",
    "\n",
    "for val in num_list:\n",
    "    print(sum)\n",
    "    if val == \"yahoo\":\n",
    "        break\n",
    "    sum = sum + val\n",
    "    \n",
    "\n",
    "\n",
    "print(\"The final sum is\", sum)\n"
   ]
  },
  {
   "cell_type": "markdown",
   "metadata": {},
   "source": [
    "### Continue"
   ]
  },
  {
   "cell_type": "code",
   "execution_count": 5,
   "metadata": {},
   "outputs": [
    {
     "name": "stdout",
     "output_type": "stream",
     "text": [
      "0\n",
      "7\n",
      "16\n",
      "16\n",
      "The final sum is 21\n"
     ]
    }
   ],
   "source": [
    "# For loop, for best for iterating through lists. Also utlizing a continue statement. \n",
    "# Continue means skip the statements below in the loop, and start from the top, AND also with the next value in the list\n",
    "\n",
    "num_list = [ 7,9,4,5]\n",
    "\n",
    "sum = 0\n",
    "\n",
    "\n",
    "for val in num_list:\n",
    "    print(sum)\n",
    "    if val == 4:\n",
    "        continue\n",
    "    sum = sum + val\n",
    "\n",
    "\n",
    "print(\"The final sum is\", sum)\n"
   ]
  },
  {
   "cell_type": "markdown",
   "metadata": {},
   "source": [
    "### Pass Statement"
   ]
  },
  {
   "cell_type": "code",
   "execution_count": 9,
   "metadata": {},
   "outputs": [
    {
     "name": "stdout",
     "output_type": "stream",
     "text": [
      "0\n",
      "7\n",
      "16\n",
      "found the value  '4' \n",
      "20\n",
      "The final sum is 25\n"
     ]
    }
   ],
   "source": [
    "# For loop, for best for iterating through lists. Also utlizing a pass statement. \n",
    "# Pass is used as a placeholder, it does nothing\n",
    "\n",
    "num_list = [ 7,9,4,5]\n",
    "\n",
    "sum = 0\n",
    "\n",
    "\n",
    "for val in num_list:\n",
    "    print(sum)\n",
    "    if val == 4:\n",
    "        print(\"found the value  '4' \")\n",
    "        pass\n",
    " \n",
    "    sum = sum + val\n",
    "\n",
    "\n",
    "print(\"The final sum is\", sum)"
   ]
  },
  {
   "cell_type": "markdown",
   "metadata": {},
   "source": [
    "## Functions"
   ]
  },
  {
   "cell_type": "code",
   "execution_count": 14,
   "metadata": {},
   "outputs": [
    {
     "name": "stdout",
     "output_type": "stream",
     "text": [
      "Hello, wendy. Good morning!\n",
      "80\n",
      "4900\n"
     ]
    }
   ],
   "source": [
    "\"\"\"This is 'code' to demonstrate functions\"\"\"\n",
    "'''This is code to \"demonstrate\" functions'''\n",
    "\"\"\"The choice to use single or double quotes is left to the discretion of the team , or Leaders at a company\"\"\"\n",
    "\n",
    "#Variables\n",
    "var1 = 3899\n",
    "var2 = 1001\n",
    "\n",
    "#Functions\n",
    "def template_function_name(parameters):\n",
    "\t\"\"\"docstring\"\"\"\n",
    "\t#statements go here\n",
    "\n",
    "def greet(name):\n",
    "    \"\"\"\n",
    "    This function posts a greeting to\n",
    "    the person passed in as a parameter\n",
    "    \"\"\"\n",
    "    print(\"Hello, \" + name + \". Good morning!\")\n",
    "\n",
    "def summation(par1,par2):\n",
    "\t\"\"\"adds two given values\"\"\"\n",
    "\tsum = par1 + par2\n",
    "\tprint(sum)\n",
    "\t#statements go here\n",
    "\n",
    "\n",
    "\n",
    "greet(\"wendy\")\n",
    "summation(4,76)\n",
    "summation(var1,var2)\n",
    "\n",
    "\n",
    "\n"
   ]
  },
  {
   "cell_type": "markdown",
   "metadata": {},
   "source": [
    "DRY - Do Not Repeat Yourself  \n",
    "KISS - keep it stupid simple"
   ]
  },
  {
   "cell_type": "markdown",
   "metadata": {},
   "source": [
    "## Classes   \n",
    "- This is the heart and soul of OOP ( Object Oriented Programming)"
   ]
  },
  {
   "cell_type": "code",
   "execution_count": 3,
   "metadata": {},
   "outputs": [
    {
     "name": "stdout",
     "output_type": "stream",
     "text": [
      "The customer rating for this bicycle is: 3.1\n"
     ]
    }
   ],
   "source": [
    "class Bike():\n",
    "    '''This class produces a bike and its corresponding color and price'''\n",
    "    def __init__(self,color,price,type,cr):  # these are parameters\n",
    "        self.color = color   # attributes of this class\n",
    "        self.price = price\n",
    "        self.type = type\n",
    "        self.customer_rating = cr  # customer rating out of 10\n",
    "\n",
    "\n",
    "bike1 = Bike('blue',89.99,'professional',8.1) # sometimes than can be called an \"instance\" of the Bike class\n",
    "bike2 = Bike('purple', 25.0, 'consumer',3.1)\n",
    "\n",
    "\n",
    "print('The customer rating for this bicycle is:',bike2.customer_rating)"
   ]
  },
  {
   "cell_type": "markdown",
   "metadata": {},
   "source": [
    "## Inputs\n",
    "- Taking responses from the user"
   ]
  },
  {
   "cell_type": "code",
   "execution_count": 1,
   "metadata": {},
   "outputs": [
    {
     "name": "stdout",
     "output_type": "stream",
     "text": [
      "kenya\n",
      "5.11\n"
     ]
    }
   ],
   "source": [
    "name = input('What is your country? \\n')   # it prompts the user for a wrtitten response, then saves the response to a variable\n",
    "height = input('What is your height? \\n')   # it prompts the user for a wrtitten response, then saves the response to a variable\n",
    "print(name) \n",
    "print (height)                      "
   ]
  },
  {
   "cell_type": "markdown",
   "metadata": {},
   "source": [
    "## Inputs from a file"
   ]
  },
  {
   "cell_type": "markdown",
   "metadata": {},
   "source": [
    "## Example 1 "
   ]
  },
  {
   "cell_type": "code",
   "execution_count": 8,
   "metadata": {},
   "outputs": [
    {
     "name": "stdout",
     "output_type": "stream",
     "text": [
      "++++++++++++++++++++++++++++++++++++++++++++++++++++++++++++\n",
      "This program parses through data in a txt file\n",
      "++++++++++++++++++++++++++++++++++++++++++++++++++++++++++++\n",
      "8.405692\n",
      "1.070835\n",
      "0.760488\n",
      "0.760488\n",
      "2.237937\n",
      "1.086126\n",
      "591.4077\n",
      "6.143665\n",
      "21.09312\n",
      "5.640121\n",
      "0.760488\n",
      "0.760488\n",
      "0.760488\n",
      "0.760488\n",
      "0.760488\n",
      "7.750659\n",
      "239.2141\n",
      "116.928\n",
      "60.53497\n",
      "0.760488\n",
      "3.575005\n",
      "0.760488\n",
      "104.182\n",
      "1013.056\n",
      "0.284485\n",
      "13.08679\n",
      "0.760488\n",
      "1.1929\n",
      "6.187769\n",
      "102.5065\n",
      "2.847159\n",
      "43.48437\n",
      "3.201264\n",
      "0.760488\n",
      "3.344094\n",
      "37.17437\n",
      "3.750675\n",
      "1.248927\n",
      "0.760488\n",
      "10.66882\n",
      "0.760488\n",
      "6.982663\n",
      "0.917854\n",
      "29.91087\n",
      "31.97966\n",
      "3.673087\n",
      "12.83265\n",
      "0.602288\n",
      "1.0\n"
     ]
    }
   ],
   "source": [
    "x = 0\n",
    "\n",
    "def readFile():\n",
    "    with open(r\"C:\\Users\\Burudani\\Documents\\mainPythonFolder_v1\\Helen_Python\\exchange-rate.txt\",'r') as infile:\n",
    "        countries= [line.rstrip() for line in infile]  # now has one continuous line of values\n",
    "                                  \n",
    "        #print(countries)                                # this prints the elements(strings)from the  list variable known as \"countries\"\n",
    "        #print(*countries)                              # has been unpacks the list  variable to one long string without spaces and quotation marks\n",
    "        print(*countries, sep = '\\n')                      \n",
    "        \n",
    "    \n",
    "    for i in range(len(countries)):                     # this code converts the numbers in the log to real numbers\n",
    "        countries[i] = countries[i].split(\",\")\n",
    "        '''convert numeric looking strings to numeric values'''  #doc string describing a function\n",
    "        countries[i][2] = float(countries[i][2])\n",
    "        print (countries[i][2])\n",
    "    return countries\n",
    "\n",
    "\n",
    "   \n",
    "        \n",
    "        \n",
    "def main ():\n",
    "    print(\"++++++++++++++++++++++++++++++++++++++++++++++++++++++++++++\")\n",
    "    print(\"This program parses through data in a txt file\")\n",
    "    print(\"++++++++++++++++++++++++++++++++++++++++++++++++++++++++++++\")\n",
    "    tempList = []\n",
    "    amount=0\n",
    "    countries = readFile()\n",
    "  \n",
    "   \n",
    "\n",
    "main() \n"
   ]
  },
  {
   "cell_type": "markdown",
   "metadata": {},
   "source": [
    "# Modularisation of Example 1\n",
    "Modularisation is for:-\n",
    "- portability\n",
    "- maintains DRY(Do not Repeat Yourself)"
   ]
  },
  {
   "cell_type": "code",
   "execution_count": 12,
   "metadata": {},
   "outputs": [
    {
     "ename": "SyntaxError",
     "evalue": "(unicode error) 'unicodeescape' codec can't decode bytes in position 2-3: truncated \\UXXXXXXXX escape (290988471.py, line 7)",
     "output_type": "error",
     "traceback": [
      "\u001b[1;36m  Input \u001b[1;32mIn [12]\u001b[1;36m\u001b[0m\n\u001b[1;33m    filePath = \"r\"+\"C:\\Users\\Burudani\\Documents\\mainPythonFolder_v1\\Helen_Python\\exchange-rate.txt\"\u001b[0m\n\u001b[1;37m                                                                                                   ^\u001b[0m\n\u001b[1;31mSyntaxError\u001b[0m\u001b[1;31m:\u001b[0m (unicode error) 'unicodeescape' codec can't decode bytes in position 2-3: truncated \\UXXXXXXXX escape\n"
     ]
    }
   ],
   "source": [
    "'''\n",
    "#####################################################\n",
    "LOG FILE PARSER :\n",
    "This code allows one to parse through a given log file\n",
    "#####################################################\n",
    "'''\n",
    "\n",
    "'''IMPORTS'''\n",
    "\n",
    "'''VARIABLES'''  \n",
    "x = 0\n",
    "tempList = []\n",
    "amount=0\n",
    "filePath = r\"C:\\Users\\Burudani\\Documents\\mainPythonFolder_v1\\Helen_Python\\exchange-rate.txt\"   #TODO: make this variable without the \"r\"\n",
    "\n",
    "'''FUNCTIONS'''\n",
    "def readFile():\n",
    "    with open(filePath,'r') as infile:\n",
    "        countries= [line.rstrip() for line in infile]  # now has one continuous line of values\n",
    "                                  \n",
    "        #print(countries)                                # this prints the elements(strings)from the  list variable known as \"countries\"\n",
    "        #print(*countries)                              # has been unpacks the list  variable to one long string without spaces and quotation marks\n",
    "        print(*countries, sep = '\\n')                      \n",
    "        \n",
    "    \n",
    "    for i in range(len(countries)):                     # this code converts the numbers in the log to real numbers\n",
    "        countries[i] = countries[i].split(\",\")\n",
    "        '''convert numeric looking strings to numeric values'''  #doc string describing a function\n",
    "        countries[i][2] = float(countries[i][2])\n",
    "        #print (countries[i][2])\n",
    "    return countries\n",
    "\n",
    "\n",
    "   \n",
    "        \n",
    "       \n",
    "def main ():\n",
    "    print(\"++++++++++++++++++++++++++++++++++++++++++++++++++++++++++++\")\n",
    "    print(\"This program parses through data in a txt file\")\n",
    "    print(\"++++++++++++++++++++++++++++++++++++++++++++++++++++++++++++\")\n",
    "    \n",
    "    countries = readFile()\n",
    "  \n",
    "   \n",
    "'''MAIN CODE''' \n",
    "main() \n"
   ]
  },
  {
   "cell_type": "markdown",
   "metadata": {},
   "source": [
    "## Example 2"
   ]
  },
  {
   "cell_type": "code",
   "execution_count": 18,
   "metadata": {},
   "outputs": [
    {
     "name": "stdout",
     "output_type": "stream",
     "text": [
      "['2021-10-26 10:26:44 ', ' https://website.com/home ', ' SUCCESS ', ' Message\\n']\n",
      "['2021-10-26 10:26:54 ', ' https://website.com/about ', ' SUCCESS ', ' Message\\n']\n",
      "['2021-10-26 10:27:01 ', ' https://website.com/page ', ' ERROR ', ' Message\\n']\n",
      "['2021-10-26 10:27:03 ', ' https://website.com/user/me ', ' SUCCESS ', ' Message\\n']\n",
      "['2021-10-26 10:27:04 ', ' https://website.com/settings/ ', ' ERROR ', ' Message']\n"
     ]
    }
   ],
   "source": [
    "\n",
    "\n",
    "import json\n",
    "\n",
    "\n",
    "file_name = \"log.txt\"\n",
    "file = open(file_name,\"r\")\n",
    "data = []\n",
    "order = [\"date\",\"url\",\"type\",\"message\"]\n",
    "\n",
    "for line in file.readlines():\n",
    "    details = line.split(\"|\")     # split up each log line accordign to vertical line spacers\n",
    "    print(details)\n",
    "    details = [x.strip() for x in details]     # strip all spaces\n",
    "    structure = {key:value for key,value in zip(order,details)}  # turn each line into a single ( key:value) dictionary element\n",
    "    data.append(structure)  # list of dictionaries\n",
    "\n",
    "#print(data)\n",
    "#raise ValueError('testing detail variable to see what it has')\n",
    "#pretty print\n",
    "\n",
    "for entry in data:\n",
    "    pass\n",
    "    print(json.dumps(entry, indent = 4))\n"
   ]
  },
  {
   "cell_type": "code",
   "execution_count": null,
   "metadata": {},
   "outputs": [],
   "source": []
  }
 ],
 "metadata": {
  "kernelspec": {
   "display_name": "Python 3.9.7 ('rwaki')",
   "language": "python",
   "name": "python3"
  },
  "language_info": {
   "codemirror_mode": {
    "name": "ipython",
    "version": 3
   },
   "file_extension": ".py",
   "mimetype": "text/x-python",
   "name": "python",
   "nbconvert_exporter": "python",
   "pygments_lexer": "ipython3",
   "version": "3.9.7"
  },
  "orig_nbformat": 4,
  "vscode": {
   "interpreter": {
    "hash": "f009ebe961abe9f04d17665023306971fb006dda60c851628c5c45f15912b39a"
   }
  }
 },
 "nbformat": 4,
 "nbformat_minor": 2
}
